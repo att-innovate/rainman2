{
 "cells": [
  {
   "cell_type": "code",
   "execution_count": 1,
   "metadata": {},
   "outputs": [
    {
     "data": {
      "text/html": [
       "<script>requirejs.config({paths: { 'plotly': ['https://cdn.plot.ly/plotly-latest.min']},});if(!window.Plotly) {{require(['plotly'],function(plotly) {window.Plotly=plotly;});}}</script>"
      ],
      "text/vnd.plotly.v1+html": [
       "<script>requirejs.config({paths: { 'plotly': ['https://cdn.plot.ly/plotly-latest.min']},});if(!window.Plotly) {{require(['plotly'],function(plotly) {window.Plotly=plotly;});}}</script>"
      ]
     },
     "metadata": {},
     "output_type": "display_data"
    }
   ],
   "source": [
    "import plotly\n",
    "import plotly.graph_objs as go\n",
    "from IPython.display import display, HTML\n",
    "plotly.offline.init_notebook_mode(connected=True)"
   ]
  },
  {
   "cell_type": "code",
   "execution_count": 2,
   "metadata": {},
   "outputs": [
    {
     "name": "stdout",
     "output_type": "stream",
     "text": [
      "Rainman2's logging has been configured!\n"
     ]
    },
    {
     "name": "stderr",
     "output_type": "stream",
     "text": [
      "Using TensorFlow backend.\n"
     ]
    }
   ],
   "source": [
    "from rainman2 import RAINMAN2"
   ]
  },
  {
   "cell_type": "markdown",
   "metadata": {},
   "source": [
    "\n",
    "#### Normal case: Start with 30% Random actions (explore) and rest 70% fetch max actions (exploit)\n"
   ]
  },
  {
   "cell_type": "code",
   "execution_count": 3,
   "metadata": {},
   "outputs": [],
   "source": [
    "# Server profile: num_ues=200, APs=16, Scale=200.0, explore_radius=1\n",
    "from collections import OrderedDict\n",
    "ALGORITHM_CONFIG = OrderedDict(\n",
    "    EPISODES=400,\n",
    "    ALPHA=0.2,\n",
    "    GAMMA=0.9,\n",
    "    EPSILON=0.3,\n",
    "    EPSILON_DECAY=0.99,\n",
    "    EPSILON_MIN=0.01,\n",
    "    VERBOSE=True,\n",
    "    L1_HIDDEN_UNITS=13,\n",
    "    L2_HIDDEN_UNITS=13,\n",
    "    L1_ACTIVATION='relu',\n",
    "    L2_ACTIVATION='relu',\n",
    "    LOSS_FUNCTION='mean_squared_error',\n",
    "    OPTIMIZER='Adam',\n",
    ")\n",
    "\n",
    "CELLULAR_MODEL_CONFIG = OrderedDict(\n",
    "    NAME='Cellular',\n",
    "    TYPE='Dev',\n",
    "    SERVER='0.0.0.0',\n",
    "    SERVER_PORT='8000',\n",
    "    VERBOSE=True,\n",
    ")\n"
   ]
  },
  {
   "cell_type": "code",
   "execution_count": 4,
   "metadata": {},
   "outputs": [],
   "source": [
    "RAINMAN2.algorithm_config = ALGORITHM_CONFIG\n",
    "RAINMAN2.environment_config = CELLULAR_MODEL_CONFIG"
   ]
  },
  {
   "cell_type": "code",
   "execution_count": 5,
   "metadata": {
    "scrolled": true
   },
   "outputs": [
    {
     "name": "stderr",
     "output_type": "stream",
     "text": [
      "2018-04-30 14:00:19,088 Aris-MacBook-Pro.local Rainman2[85869] INFO Starting experiment!\n",
      "2018-04-30 14:00:19,090 Aris-MacBook-Pro.local Rainman2[85869] INFO Building Environment instance: Cellular\n",
      "2018-04-30 14:00:19,091 Aris-MacBook-Pro.local rainman2.lib.environment.cellular.base[85869] INFO Instantiating Cellular client: Dev\n",
      "2018-04-30 14:00:19,092 Aris-MacBook-Pro.local QCellularAgent[85869] INFO Configuration used for the QCellular Agent:\n",
      "2018-04-30 14:00:19,093 Aris-MacBook-Pro.local QCellularAgent[85869] INFO episodes: 400\n",
      "2018-04-30 14:00:19,094 Aris-MacBook-Pro.local QCellularAgent[85869] INFO alpha: 0.2\n",
      "2018-04-30 14:00:19,095 Aris-MacBook-Pro.local QCellularAgent[85869] INFO gamma: 0.9\n",
      "2018-04-30 14:00:19,096 Aris-MacBook-Pro.local QCellularAgent[85869] INFO epsilon: 0.3\n",
      "2018-04-30 14:00:19,097 Aris-MacBook-Pro.local QCellularAgent[85869] INFO epsilon_decay: 0.99\n",
      "2018-04-30 14:00:19,097 Aris-MacBook-Pro.local QCellularAgent[85869] INFO epsilon_min: 0.01\n",
      "2018-04-30 14:00:19,098 Aris-MacBook-Pro.local QController[85869] INFO Agent: Naive is successfully instantiated!\n",
      "2018-04-30 14:00:19,099 Aris-MacBook-Pro.local QController[85869] INFO Qlearning instance: QlearningForCellular is successfully instantiated!\n",
      "2018-04-30 14:00:19,100 Aris-MacBook-Pro.local QlearningForCellular[85869] INFO Running Qlearning for Cellular Networks!\n",
      "2018-04-30 14:03:50,881 Aris-MacBook-Pro.local QlearningForCellular[85869] INFO Episodes stats\n",
      "2018-04-30 14:03:50,885 Aris-MacBook-Pro.local QlearningForCellular[85869] INFO Rewards: [331.75 353.25 340.5  358.5  330.   322.75 325.25 336.   341.75 359.\n",
      " 352.   344.5  348.5  346.   349.   351.25 354.   341.25 318.25 324.25\n",
      " 334.25 346.5  353.5  334.5  343.5  342.25 338.5  373.25 359.75 352.5\n",
      " 366.75 358.25 363.75 355.   351.25 355.5  366.25 359.25 351.75 365.\n",
      " 367.75 358.5  364.25 369.75 358.25 361.   362.5  362.75 364.25 368.5\n",
      " 349.   364.25 368.25 382.   373.75 379.75 369.   373.   362.25 356.25\n",
      " 359.25 358.75 357.25 349.5  360.5  346.   352.25 334.   336.25 321.5\n",
      " 326.75 305.5  323.75 325.   326.75 348.75 348.5  348.5  343.25 347.5\n",
      " 309.5  306.75 317.75 330.75 333.25 338.5  320.25 319.   311.5  320.5\n",
      " 310.75 323.   322.25 329.   324.25 315.25 327.   325.25 331.5  352.5\n",
      " 348.75 349.25 326.   316.25 323.   316.25 326.75 331.   354.   341.\n",
      " 336.5  342.   336.   329.   336.   340.75 335.25 343.5  349.75 350.75\n",
      " 352.75 354.   346.25 345.25 341.75 339.   332.   339.75 331.5  336.75\n",
      " 342.25 339.75 334.75 337.75 324.75 330.   337.25 348.75 324.75 330.5\n",
      " 336.75 342.75 338.5  319.25 317.5  325.75 323.5  319.5  329.   335.5\n",
      " 331.25 324.   324.75 321.75 299.25 300.75 313.5  323.   311.25 313.25\n",
      " 311.25 317.75 330.75 322.   320.   325.75 323.   331.25 330.75 321.75\n",
      " 361.   353.25 351.   339.25 353.25 375.75 367.5  391.   390.25 371.75\n",
      " 380.25 375.25 376.   376.25 371.   368.   361.25 364.   349.5  362.5\n",
      " 357.75 368.5  362.25 352.5  367.5  357.75 361.5  341.25 348.75 354.25\n",
      " 357.5  354.75 339.25 344.75 342.5  324.75 360.   357.   355.   395.5\n",
      " 390.5  379.75 376.5  386.   380.25 389.5  367.5  378.   363.5  376.25\n",
      " 379.5  372.   368.75 373.25 380.75 387.   372.5  391.   388.   381.75\n",
      " 391.5  397.   371.25 374.75 345.75 359.   348.25 348.5  352.   324.5\n",
      " 331.25 379.5  374.5  370.   362.5  359.   364.75 352.25 358.5  362.5\n",
      " 357.   367.75 357.75 369.75 365.75 390.75 385.   397.75 399.25 404.25\n",
      " 381.   390.75 384.25 374.25 377.75 376.5  361.75 363.   355.5  372.5\n",
      " 386.5  383.25 392.25 375.5  364.   371.   370.25 371.25 348.   343.\n",
      " 353.   334.25 330.   349.25 335.   350.5  345.25 342.75 362.   355.25\n",
      " 359.   359.25 349.25 372.75 341.75 335.75 348.75 351.5  352.   341.5\n",
      " 342.   388.5  360.25 358.5  356.25 323.   320.75 322.   345.5  337.25\n",
      " 343.   321.25 349.75 359.25 338.25 359.25 362.   347.25 367.25 363.\n",
      " 364.75 366.75 347.   324.5  338.75 338.5  336.75 330.25 321.25 339.25\n",
      " 357.75 343.75 343.75 349.   344.   358.5  325.5  348.25 362.25 364.25\n",
      " 342.25 354.25 376.   367.25 351.   350.5  372.   361.25 342.   323.\n",
      " 351.25 357.   351.   353.   355.25 345.   341.25 348.25 347.25 340.5\n",
      " 337.   337.75 355.25 387.75 389.5  365.75 363.75 359.5  372.25 385.5\n",
      " 406.5  396.75 401.25 392.25 403.5  396.75 390.5  401.25 407.5  396.25\n",
      " 380.25 396.25 379.25 397.   377.75 401.   391.75 385.75 382.75 399.75\n",
      " 385.   396.25 393.5  398.   396.75 409.   399.25 395.25 398.   380.25]\n",
      "2018-04-30 14:03:50,889 Aris-MacBook-Pro.local QlearningForCellular[85869] INFO Handoffs: [13. 13. 12.  6.  8.  5.  9. 10. 11.  8.  6.  6.  6.  8.  4.  5.  4.  5.\n",
      "  5.  9.  9.  6.  6.  6.  6.  5.  6.  5.  5.  8.  3.  5.  5.  6.  5.  6.\n",
      "  5.  7. 11.  4.  3.  6.  3.  3.  5.  4.  6.  7.  7. 10. 12.  5.  5.  4.\n",
      "  7.  3.  4.  4.  5.  5.  3.  3.  5.  6.  2.  6.  5.  6.  5.  6. 11. 10.\n",
      "  7. 12.  7.  3.  2.  6.  5.  2.  6. 11.  7.  7.  5.  2.  5.  4.  6.  6.\n",
      "  3.  4.  5.  4.  9.  5.  4.  9.  6.  6.  9.  5.  8.  9.  4.  9.  3. 12.\n",
      "  4.  8.  6.  4.  4.  8.  8.  9.  9.  6.  3.  3.  3.  4.  5.  1.  3.  4.\n",
      "  4.  3.  6.  3.  1.  3.  3.  3.  7.  4.  5.  3.  7.  6.  7.  7.  8.  9.\n",
      "  6.  3.  6.  6.  4.  6.  5.  4.  3.  3.  5.  3.  2.  4.  5.  5.  5.  3.\n",
      "  3.  4.  6.  3.  6.  5.  3. 11.  8.  9.  4.  9.  5.  3.  6.  4.  5.  7.\n",
      "  5.  7.  8.  5.  6.  4.  5.  4. 10.  6.  7.  2.  5.  6.  2.  7.  8.  5.\n",
      "  7.  5.  6.  7.  7.  7.  6. 11.  8.  4.  8.  6.  6.  7.  6.  4.  5.  2.\n",
      "  6.  4.  6.  5.  6.  8.  7.  5.  7.  4.  8.  4.  4.  7.  2.  0.  5.  3.\n",
      "  7.  4.  5.  6.  4.  6.  9.  4.  6.  6.  4.  6.  5.  5.  2.  2.  6.  7.\n",
      "  5.  3.  7.  5.  4.  3.  3.  1.  4.  7.  5.  5.  7.  6.  5.  4.  8.  8.\n",
      "  2.  5.  3.  6.  8.  4.  5.  5.  8.  4.  8.  9.  6.  5.  4.  2.  5.  7.\n",
      "  4.  5.  4.  5.  7.  3.  7.  7.  3.  2.  4.  6. 12.  2.  5.  6.  5.  8.\n",
      "  7.  4.  2.  5.  0.  9.  3.  5.  9.  5.  4.  9.  5.  6.  3.  7.  4. 10.\n",
      "  3.  2.  3.  5.  9.  7.  3.  3.  5.  8.  4.  6.  6.  5.  5.  5.  9.  9.\n",
      "  2.  5.  4.  6.  0.  5.  4.  8.  5.  4.  6.  4.  5.  8.  5.  5.  3.  6.\n",
      "  4.  3.  9.  5.  2.  7.  3.  6.  5.  6.  2.  3.  5.  5.  2.  3.  6.  5.\n",
      "  2.  5.  5.  1.  5.  4.  5.  2.  3.  7.  5.  3.  4.  3.  6.  4.  3.  4.\n",
      "  7.  5.  4.  5.]\n",
      "2018-04-30 14:03:50,894 Aris-MacBook-Pro.local QlearningForCellular[85869] INFO UEs SLA Stats: [179. 176. 177. 177. 177. 176. 176. 176. 177. 178. 179. 180. 180. 180.\n",
      " 180. 180. 181. 181. 181. 180. 180. 179. 180. 181. 181. 181. 182. 181.\n",
      " 182. 181. 180. 180. 180. 180. 180. 180. 181. 181. 181. 180. 180. 180.\n",
      " 180. 180. 180. 179. 179. 179. 179. 179. 180. 180. 180. 180. 180. 180.\n",
      " 180. 180. 179. 179. 179. 179. 179. 179. 178. 178. 179. 180. 180. 179.\n",
      " 179. 180. 179. 179. 179. 179. 179. 179. 180. 180. 179. 178. 179. 179.\n",
      " 179. 179. 179. 179. 179. 179. 179. 178. 178. 177. 177. 178. 178. 179.\n",
      " 179. 179. 180. 181. 181. 180. 180. 180. 180. 180. 181. 181. 181. 181.\n",
      " 181. 181. 181. 181. 181. 181. 180. 180. 180. 180. 180. 180. 180. 180.\n",
      " 180. 179. 179. 179. 179. 179. 179. 179. 179. 178. 178. 179. 180. 178.\n",
      " 178. 178. 178. 179. 178. 178. 178. 179. 179. 179. 180. 180. 180. 180.\n",
      " 180. 179. 179. 179. 180. 180. 180. 180. 180. 180. 180. 180. 179. 180.\n",
      " 180. 180. 180. 183. 183. 183. 183. 182. 183. 183. 184. 186. 186. 186.\n",
      " 186. 186. 185. 185. 185. 184. 184. 183. 183. 183. 183. 183. 182. 182.\n",
      " 182. 182. 181. 182. 182. 182. 182. 182. 182. 182. 182. 183. 183. 184.\n",
      " 186. 186. 186. 186. 186. 186. 186. 186. 187. 186. 187. 187. 187. 187.\n",
      " 187. 187. 187. 187. 187. 187. 187. 187. 187. 186. 185. 185. 185. 183.\n",
      " 183. 182. 182. 182. 183. 183. 183. 183. 183. 184. 184. 184. 183. 183.\n",
      " 185. 186. 186. 186. 186. 186. 187. 187. 187. 186. 187. 187. 187. 187.\n",
      " 186. 186. 185. 185. 187. 187. 187. 187. 186. 186. 185. 185. 185. 184.\n",
      " 182. 183. 183. 183. 183. 183. 183. 184. 184. 185. 185. 186. 186. 186.\n",
      " 186. 185. 186. 186. 186. 186. 186. 186. 186. 184. 184. 183. 182. 182.\n",
      " 182. 183. 182. 182. 183. 183. 184. 184. 184. 184. 183. 183. 183. 183.\n",
      " 183. 183. 183. 183. 183. 183. 183. 183. 183. 183. 183. 183. 184. 183.\n",
      " 184. 184. 183. 183. 183. 183. 183. 183. 183. 184. 184. 184. 184. 184.\n",
      " 184. 184. 184. 184. 184. 184. 184. 184. 184. 184. 184. 184. 183. 185.\n",
      " 185. 185. 184. 184. 184. 185. 187. 187. 186. 186. 186. 186. 186. 186.\n",
      " 187. 187. 187. 187. 187. 186. 187. 187. 187. 187. 187. 187. 187. 187.\n",
      " 187. 186. 186. 186. 187. 187. 187. 187.]\n",
      "2018-04-30 14:03:50,896 Aris-MacBook-Pro.local QlearningForCellular[85869] INFO Total number of states encountered: 2595\n"
     ]
    },
    {
     "name": "stdout",
     "output_type": "stream",
     "text": [
      "Module: run_experiment took: 203.35272899999998s\n"
     ]
    },
    {
     "name": "stderr",
     "output_type": "stream",
     "text": [
      "[========================================================================] 100%\r\n"
     ]
    }
   ],
   "source": [
    "result = RAINMAN2.run_experiment(\"Cellular\", \"Qlearning\", \"Naive\")"
   ]
  },
  {
   "cell_type": "code",
   "execution_count": 6,
   "metadata": {},
   "outputs": [
    {
     "name": "stdout",
     "output_type": "stream",
     "text": [
      "Number of states encountered: 2595\n"
     ]
    }
   ],
   "source": [
    "print(\"Number of states encountered: {}\".format(len(result.Q)))"
   ]
  },
  {
   "cell_type": "code",
   "execution_count": 7,
   "metadata": {},
   "outputs": [
    {
     "name": "stdout",
     "output_type": "stream",
     "text": [
      "Number of q_ap_states encountered: 894\n"
     ]
    }
   ],
   "source": [
    "print(\"Number of q_ap_states encountered: {}\".format(len(result.Q_ap)))"
   ]
  },
  {
   "cell_type": "code",
   "execution_count": null,
   "metadata": {},
   "outputs": [],
   "source": [
    "print(result.Q)"
   ]
  },
  {
   "cell_type": "code",
   "execution_count": null,
   "metadata": {
    "scrolled": false
   },
   "outputs": [],
   "source": [
    "print(result.Q_ap)"
   ]
  },
  {
   "cell_type": "code",
   "execution_count": null,
   "metadata": {
    "scrolled": true
   },
   "outputs": [],
   "source": [
    "print(result.UE_AP_LIST)"
   ]
  },
  {
   "cell_type": "code",
   "execution_count": null,
   "metadata": {},
   "outputs": [],
   "source": []
  },
  {
   "cell_type": "code",
   "execution_count": 8,
   "metadata": {
    "scrolled": false
   },
   "outputs": [
    {
     "data": {
      "application/vnd.plotly.v1+json": {
       "data": [
        {
         "line": {
          "color": "green",
          "width": 2
         },
         "mode": "lines",
         "type": "scatter",
         "x": [
          1400,
          1222
         ],
         "y": [
          1000,
          1090
         ]
        },
        {
         "line": {
          "color": "green",
          "width": 2
         },
         "mode": "lines",
         "type": "scatter",
         "x": [
          1000,
          1356
         ],
         "y": [
          1000,
          1139
         ]
        },
        {
         "line": {
          "color": "green",
          "width": 2
         },
         "mode": "lines",
         "type": "scatter",
         "x": [
          600,
          920
         ],
         "y": [
          200,
          590
         ]
        },
        {
         "line": {
          "color": "green",
          "width": 2
         },
         "mode": "lines",
         "type": "scatter",
         "x": [
          1000,
          904
         ],
         "y": [
          1000,
          940
         ]
        },
        {
         "line": {
          "color": "red",
          "width": 2
         },
         "mode": "lines",
         "type": "scatter",
         "x": [
          600,
          975
         ],
         "y": [
          600,
          970
         ]
        },
        {
         "line": {
          "color": "green",
          "width": 2
         },
         "mode": "lines",
         "type": "scatter",
         "x": [
          1000,
          773
         ],
         "y": [
          1000,
          967
         ]
        },
        {
         "line": {
          "color": "green",
          "width": 2
         },
         "mode": "lines",
         "type": "scatter",
         "x": [
          600,
          278
         ],
         "y": [
          600,
          209
         ]
        },
        {
         "line": {
          "color": "green",
          "width": 2
         },
         "mode": "lines",
         "type": "scatter",
         "x": [
          1000,
          1014
         ],
         "y": [
          200,
          583
         ]
        },
        {
         "line": {
          "color": "green",
          "width": 2
         },
         "mode": "lines",
         "type": "scatter",
         "x": [
          1000,
          972
         ],
         "y": [
          600,
          824
         ]
        },
        {
         "line": {
          "color": "green",
          "width": 2
         },
         "mode": "lines",
         "type": "scatter",
         "x": [
          1000,
          718
         ],
         "y": [
          1000,
          719
         ]
        },
        {
         "line": {
          "color": "red",
          "width": 2
         },
         "mode": "lines",
         "type": "scatter",
         "x": [
          1000,
          984
         ],
         "y": [
          600,
          955
         ]
        },
        {
         "line": {
          "color": "green",
          "width": 2
         },
         "mode": "lines",
         "type": "scatter",
         "x": [
          1000,
          660
         ],
         "y": [
          1400,
          1424
         ]
        },
        {
         "line": {
          "color": "green",
          "width": 2
         },
         "mode": "lines",
         "type": "scatter",
         "x": [
          1400,
          1257
         ],
         "y": [
          600,
          779
         ]
        },
        {
         "line": {
          "color": "green",
          "width": 2
         },
         "mode": "lines",
         "type": "scatter",
         "x": [
          600,
          867
         ],
         "y": [
          1400,
          1125
         ]
        },
        {
         "line": {
          "color": "green",
          "width": 2
         },
         "mode": "lines",
         "type": "scatter",
         "x": [
          1000,
          668
         ],
         "y": [
          1000,
          654
         ]
        },
        {
         "line": {
          "color": "green",
          "width": 2
         },
         "mode": "lines",
         "type": "scatter",
         "x": [
          600,
          984
         ],
         "y": [
          1000,
          944
         ]
        },
        {
         "line": {
          "color": "green",
          "width": 2
         },
         "mode": "lines",
         "type": "scatter",
         "x": [
          1400,
          1535
         ],
         "y": [
          200,
          203
         ]
        },
        {
         "line": {
          "color": "green",
          "width": 2
         },
         "mode": "lines",
         "type": "scatter",
         "x": [
          200,
          600
         ],
         "y": [
          200,
          533
         ]
        },
        {
         "line": {
          "color": "green",
          "width": 2
         },
         "mode": "lines",
         "type": "scatter",
         "x": [
          200,
          132
         ],
         "y": [
          600,
          238
         ]
        },
        {
         "line": {
          "color": "green",
          "width": 2
         },
         "mode": "lines",
         "type": "scatter",
         "x": [
          600,
          900
         ],
         "y": [
          200,
          268
         ]
        },
        {
         "line": {
          "color": "green",
          "width": 2
         },
         "mode": "lines",
         "type": "scatter",
         "x": [
          200,
          153
         ],
         "y": [
          1400,
          1462
         ]
        },
        {
         "line": {
          "color": "red",
          "width": 2
         },
         "mode": "lines",
         "type": "scatter",
         "x": [
          1000,
          979
         ],
         "y": [
          1000,
          913
         ]
        },
        {
         "line": {
          "color": "green",
          "width": 2
         },
         "mode": "lines",
         "type": "scatter",
         "x": [
          1400,
          1548
         ],
         "y": [
          600,
          688
         ]
        },
        {
         "line": {
          "color": "green",
          "width": 2
         },
         "mode": "lines",
         "type": "scatter",
         "x": [
          1000,
          975
         ],
         "y": [
          200,
          339
         ]
        },
        {
         "line": {
          "color": "green",
          "width": 2
         },
         "mode": "lines",
         "type": "scatter",
         "x": [
          1400,
          1425
         ],
         "y": [
          1000,
          1146
         ]
        },
        {
         "line": {
          "color": "green",
          "width": 2
         },
         "mode": "lines",
         "type": "scatter",
         "x": [
          600,
          472
         ],
         "y": [
          200,
          138
         ]
        },
        {
         "line": {
          "color": "green",
          "width": 2
         },
         "mode": "lines",
         "type": "scatter",
         "x": [
          200,
          358
         ],
         "y": [
          200,
          295
         ]
        },
        {
         "line": {
          "color": "green",
          "width": 2
         },
         "mode": "lines",
         "type": "scatter",
         "x": [
          600,
          612
         ],
         "y": [
          1400,
          1089
         ]
        },
        {
         "line": {
          "color": "green",
          "width": 2
         },
         "mode": "lines",
         "type": "scatter",
         "x": [
          1000,
          1306
         ],
         "y": [
          200,
          556
         ]
        },
        {
         "line": {
          "color": "green",
          "width": 2
         },
         "mode": "lines",
         "type": "scatter",
         "x": [
          1000,
          620
         ],
         "y": [
          1000,
          707
         ]
        },
        {
         "line": {
          "color": "green",
          "width": 2
         },
         "mode": "lines",
         "type": "scatter",
         "x": [
          600,
          687
         ],
         "y": [
          600,
          936
         ]
        },
        {
         "line": {
          "color": "green",
          "width": 2
         },
         "mode": "lines",
         "type": "scatter",
         "x": [
          1000,
          874
         ],
         "y": [
          200,
          412
         ]
        },
        {
         "line": {
          "color": "green",
          "width": 2
         },
         "mode": "lines",
         "type": "scatter",
         "x": [
          200,
          190
         ],
         "y": [
          600,
          933
         ]
        },
        {
         "line": {
          "color": "green",
          "width": 2
         },
         "mode": "lines",
         "type": "scatter",
         "x": [
          200,
          529
         ],
         "y": [
          1000,
          956
         ]
        },
        {
         "line": {
          "color": "green",
          "width": 2
         },
         "mode": "lines",
         "type": "scatter",
         "x": [
          1000,
          636
         ],
         "y": [
          1400,
          1469
         ]
        },
        {
         "line": {
          "color": "green",
          "width": 2
         },
         "mode": "lines",
         "type": "scatter",
         "x": [
          1000,
          679
         ],
         "y": [
          200,
          508
         ]
        },
        {
         "line": {
          "color": "green",
          "width": 2
         },
         "mode": "lines",
         "type": "scatter",
         "x": [
          600,
          857
         ],
         "y": [
          1400,
          1426
         ]
        },
        {
         "line": {
          "color": "green",
          "width": 2
         },
         "mode": "lines",
         "type": "scatter",
         "x": [
          600,
          708
         ],
         "y": [
          1400,
          1143
         ]
        },
        {
         "line": {
          "color": "green",
          "width": 2
         },
         "mode": "lines",
         "type": "scatter",
         "x": [
          1400,
          1510
         ],
         "y": [
          200,
          398
         ]
        },
        {
         "line": {
          "color": "green",
          "width": 2
         },
         "mode": "lines",
         "type": "scatter",
         "x": [
          200,
          505
         ],
         "y": [
          200,
          568
         ]
        },
        {
         "line": {
          "color": "green",
          "width": 2
         },
         "mode": "lines",
         "type": "scatter",
         "x": [
          1000,
          1207
         ],
         "y": [
          1400,
          1493
         ]
        },
        {
         "line": {
          "color": "green",
          "width": 2
         },
         "mode": "lines",
         "type": "scatter",
         "x": [
          600,
          811
         ],
         "y": [
          600,
          969
         ]
        },
        {
         "line": {
          "color": "green",
          "width": 2
         },
         "mode": "lines",
         "type": "scatter",
         "x": [
          1000,
          965
         ],
         "y": [
          200,
          143
         ]
        },
        {
         "line": {
          "color": "green",
          "width": 2
         },
         "mode": "lines",
         "type": "scatter",
         "x": [
          200,
          528
         ],
         "y": [
          1000,
          921
         ]
        },
        {
         "line": {
          "color": "green",
          "width": 2
         },
         "mode": "lines",
         "type": "scatter",
         "x": [
          1000,
          1019
         ],
         "y": [
          1000,
          1372
         ]
        },
        {
         "line": {
          "color": "green",
          "width": 2
         },
         "mode": "lines",
         "type": "scatter",
         "x": [
          200,
          242
         ],
         "y": [
          600,
          204
         ]
        },
        {
         "line": {
          "color": "green",
          "width": 2
         },
         "mode": "lines",
         "type": "scatter",
         "x": [
          1000,
          805
         ],
         "y": [
          200,
          566
         ]
        },
        {
         "line": {
          "color": "green",
          "width": 2
         },
         "mode": "lines",
         "type": "scatter",
         "x": [
          600,
          343
         ],
         "y": [
          600,
          338
         ]
        },
        {
         "line": {
          "color": "green",
          "width": 2
         },
         "mode": "lines",
         "type": "scatter",
         "x": [
          1000,
          983
         ],
         "y": [
          1000,
          909
         ]
        },
        {
         "line": {
          "color": "green",
          "width": 2
         },
         "mode": "lines",
         "type": "scatter",
         "x": [
          1400,
          1464
         ],
         "y": [
          600,
          307
         ]
        },
        {
         "line": {
          "color": "green",
          "width": 2
         },
         "mode": "lines",
         "type": "scatter",
         "x": [
          1400,
          1114
         ],
         "y": [
          600,
          834
         ]
        },
        {
         "line": {
          "color": "green",
          "width": 2
         },
         "mode": "lines",
         "type": "scatter",
         "x": [
          1400,
          1542
         ],
         "y": [
          600,
          418
         ]
        },
        {
         "line": {
          "color": "green",
          "width": 2
         },
         "mode": "lines",
         "type": "scatter",
         "x": [
          600,
          981
         ],
         "y": [
          200,
          571
         ]
        },
        {
         "line": {
          "color": "red",
          "width": 2
         },
         "mode": "lines",
         "type": "scatter",
         "x": [
          600,
          847
         ],
         "y": [
          1000,
          914
         ]
        },
        {
         "line": {
          "color": "green",
          "width": 2
         },
         "mode": "lines",
         "type": "scatter",
         "x": [
          600,
          958
         ],
         "y": [
          1400,
          1117
         ]
        },
        {
         "line": {
          "color": "green",
          "width": 2
         },
         "mode": "lines",
         "type": "scatter",
         "x": [
          200,
          543
         ],
         "y": [
          1000,
          654
         ]
        },
        {
         "line": {
          "color": "green",
          "width": 2
         },
         "mode": "lines",
         "type": "scatter",
         "x": [
          200,
          512
         ],
         "y": [
          1400,
          1046
         ]
        },
        {
         "line": {
          "color": "red",
          "width": 2
         },
         "mode": "lines",
         "type": "scatter",
         "x": [
          600,
          899
         ],
         "y": [
          1000,
          615
         ]
        },
        {
         "line": {
          "color": "green",
          "width": 2
         },
         "mode": "lines",
         "type": "scatter",
         "x": [
          1400,
          1221
         ],
         "y": [
          1000,
          1026
         ]
        },
        {
         "line": {
          "color": "green",
          "width": 2
         },
         "mode": "lines",
         "type": "scatter",
         "x": [
          600,
          807
         ],
         "y": [
          600,
          835
         ]
        },
        {
         "line": {
          "color": "green",
          "width": 2
         },
         "mode": "lines",
         "type": "scatter",
         "x": [
          600,
          642
         ],
         "y": [
          1400,
          1025
         ]
        },
        {
         "line": {
          "color": "green",
          "width": 2
         },
         "mode": "lines",
         "type": "scatter",
         "x": [
          1400,
          1247
         ],
         "y": [
          200,
          23
         ]
        },
        {
         "line": {
          "color": "green",
          "width": 2
         },
         "mode": "lines",
         "type": "scatter",
         "x": [
          1000,
          874
         ],
         "y": [
          600,
          801
         ]
        },
        {
         "line": {
          "color": "green",
          "width": 2
         },
         "mode": "lines",
         "type": "scatter",
         "x": [
          200,
          571
         ],
         "y": [
          1000,
          845
         ]
        },
        {
         "line": {
          "color": "green",
          "width": 2
         },
         "mode": "lines",
         "type": "scatter",
         "x": [
          600,
          822
         ],
         "y": [
          600,
          952
         ]
        },
        {
         "line": {
          "color": "green",
          "width": 2
         },
         "mode": "lines",
         "type": "scatter",
         "x": [
          1000,
          940
         ],
         "y": [
          600,
          781
         ]
        },
        {
         "line": {
          "color": "green",
          "width": 2
         },
         "mode": "lines",
         "type": "scatter",
         "x": [
          1000,
          782
         ],
         "y": [
          600,
          895
         ]
        },
        {
         "line": {
          "color": "green",
          "width": 2
         },
         "mode": "lines",
         "type": "scatter",
         "x": [
          1400,
          1468
         ],
         "y": [
          1000,
          956
         ]
        },
        {
         "line": {
          "color": "green",
          "width": 2
         },
         "mode": "lines",
         "type": "scatter",
         "x": [
          600,
          925
         ],
         "y": [
          1000,
          801
         ]
        },
        {
         "line": {
          "color": "green",
          "width": 2
         },
         "mode": "lines",
         "type": "scatter",
         "x": [
          200,
          180
         ],
         "y": [
          600,
          503
         ]
        },
        {
         "line": {
          "color": "green",
          "width": 2
         },
         "mode": "lines",
         "type": "scatter",
         "x": [
          200,
          20
         ],
         "y": [
          1000,
          1136
         ]
        },
        {
         "line": {
          "color": "green",
          "width": 2
         },
         "mode": "lines",
         "type": "scatter",
         "x": [
          1000,
          1114
         ],
         "y": [
          600,
          915
         ]
        },
        {
         "line": {
          "color": "green",
          "width": 2
         },
         "mode": "lines",
         "type": "scatter",
         "x": [
          200,
          551
         ],
         "y": [
          600,
          971
         ]
        },
        {
         "line": {
          "color": "green",
          "width": 2
         },
         "mode": "lines",
         "type": "scatter",
         "x": [
          1000,
          617
         ],
         "y": [
          200,
          345
         ]
        },
        {
         "line": {
          "color": "green",
          "width": 2
         },
         "mode": "lines",
         "type": "scatter",
         "x": [
          200,
          10
         ],
         "y": [
          200,
          167
         ]
        },
        {
         "line": {
          "color": "green",
          "width": 2
         },
         "mode": "lines",
         "type": "scatter",
         "x": [
          200,
          244
         ],
         "y": [
          1400,
          1185
         ]
        },
        {
         "line": {
          "color": "green",
          "width": 2
         },
         "mode": "lines",
         "type": "scatter",
         "x": [
          200,
          118
         ],
         "y": [
          200,
          169
         ]
        },
        {
         "line": {
          "color": "green",
          "width": 2
         },
         "mode": "lines",
         "type": "scatter",
         "x": [
          200,
          208
         ],
         "y": [
          200,
          503
         ]
        },
        {
         "line": {
          "color": "green",
          "width": 2
         },
         "mode": "lines",
         "type": "scatter",
         "x": [
          600,
          885
         ],
         "y": [
          1400,
          1037
         ]
        },
        {
         "line": {
          "color": "green",
          "width": 2
         },
         "mode": "lines",
         "type": "scatter",
         "x": [
          200,
          575
         ],
         "y": [
          1000,
          614
         ]
        },
        {
         "line": {
          "color": "green",
          "width": 2
         },
         "mode": "lines",
         "type": "scatter",
         "x": [
          1000,
          691
         ],
         "y": [
          1400,
          1543
         ]
        },
        {
         "line": {
          "color": "green",
          "width": 2
         },
         "mode": "lines",
         "type": "scatter",
         "x": [
          1000,
          1095
         ],
         "y": [
          1400,
          1147
         ]
        },
        {
         "line": {
          "color": "green",
          "width": 2
         },
         "mode": "lines",
         "type": "scatter",
         "x": [
          1400,
          1402
         ],
         "y": [
          600,
          726
         ]
        },
        {
         "line": {
          "color": "green",
          "width": 2
         },
         "mode": "lines",
         "type": "scatter",
         "x": [
          200,
          357
         ],
         "y": [
          1400,
          1522
         ]
        },
        {
         "line": {
          "color": "green",
          "width": 2
         },
         "mode": "lines",
         "type": "scatter",
         "x": [
          200,
          592
         ],
         "y": [
          600,
          703
         ]
        },
        {
         "line": {
          "color": "green",
          "width": 2
         },
         "mode": "lines",
         "type": "scatter",
         "x": [
          1000,
          1016
         ],
         "y": [
          1400,
          1324
         ]
        },
        {
         "line": {
          "color": "red",
          "width": 2
         },
         "mode": "lines",
         "type": "scatter",
         "x": [
          1400,
          1031
         ],
         "y": [
          600,
          951
         ]
        },
        {
         "line": {
          "color": "green",
          "width": 2
         },
         "mode": "lines",
         "type": "scatter",
         "x": [
          1400,
          1582
         ],
         "y": [
          1000,
          1030
         ]
        },
        {
         "line": {
          "color": "green",
          "width": 2
         },
         "mode": "lines",
         "type": "scatter",
         "x": [
          1400,
          1152
         ],
         "y": [
          1400,
          1563
         ]
        },
        {
         "line": {
          "color": "green",
          "width": 2
         },
         "mode": "lines",
         "type": "scatter",
         "x": [
          1400,
          1198
         ],
         "y": [
          600,
          994
         ]
        },
        {
         "line": {
          "color": "green",
          "width": 2
         },
         "mode": "lines",
         "type": "scatter",
         "x": [
          600,
          216
         ],
         "y": [
          1000,
          1092
         ]
        },
        {
         "line": {
          "color": "green",
          "width": 2
         },
         "mode": "lines",
         "type": "scatter",
         "x": [
          200,
          514
         ],
         "y": [
          600,
          657
         ]
        },
        {
         "line": {
          "color": "green",
          "width": 2
         },
         "mode": "lines",
         "type": "scatter",
         "x": [
          1000,
          1267
         ],
         "y": [
          200,
          59
         ]
        },
        {
         "line": {
          "color": "green",
          "width": 2
         },
         "mode": "lines",
         "type": "scatter",
         "x": [
          1000,
          1381
         ],
         "y": [
          600,
          590
         ]
        },
        {
         "line": {
          "color": "green",
          "width": 2
         },
         "mode": "lines",
         "type": "scatter",
         "x": [
          1000,
          691
         ],
         "y": [
          600,
          993
         ]
        },
        {
         "line": {
          "color": "green",
          "width": 2
         },
         "mode": "lines",
         "type": "scatter",
         "x": [
          200,
          580
         ],
         "y": [
          600,
          903
         ]
        },
        {
         "line": {
          "color": "green",
          "width": 2
         },
         "mode": "lines",
         "type": "scatter",
         "x": [
          600,
          766
         ],
         "y": [
          1400,
          1400
         ]
        },
        {
         "line": {
          "color": "green",
          "width": 2
         },
         "mode": "lines",
         "type": "scatter",
         "x": [
          600,
          929
         ],
         "y": [
          200,
          89
         ]
        },
        {
         "line": {
          "color": "green",
          "width": 2
         },
         "mode": "lines",
         "type": "scatter",
         "x": [
          200,
          75
         ],
         "y": [
          600,
          906
         ]
        },
        {
         "line": {
          "color": "green",
          "width": 2
         },
         "mode": "lines",
         "type": "scatter",
         "x": [
          1000,
          618
         ],
         "y": [
          1400,
          1025
         ]
        },
        {
         "line": {
          "color": "green",
          "width": 2
         },
         "mode": "lines",
         "type": "scatter",
         "x": [
          1400,
          1452
         ],
         "y": [
          600,
          889
         ]
        },
        {
         "line": {
          "color": "green",
          "width": 2
         },
         "mode": "lines",
         "type": "scatter",
         "x": [
          200,
          321
         ],
         "y": [
          200,
          357
         ]
        },
        {
         "line": {
          "color": "green",
          "width": 2
         },
         "mode": "lines",
         "type": "scatter",
         "x": [
          200,
          97
         ],
         "y": [
          600,
          916
         ]
        },
        {
         "line": {
          "color": "green",
          "width": 2
         },
         "mode": "lines",
         "type": "scatter",
         "x": [
          200,
          86
         ],
         "y": [
          1400,
          1173
         ]
        },
        {
         "line": {
          "color": "red",
          "width": 2
         },
         "mode": "lines",
         "type": "scatter",
         "x": [
          600,
          629
         ],
         "y": [
          1000,
          1000
         ]
        },
        {
         "line": {
          "color": "green",
          "width": 2
         },
         "mode": "lines",
         "type": "scatter",
         "x": [
          200,
          209
         ],
         "y": [
          1000,
          765
         ]
        },
        {
         "line": {
          "color": "green",
          "width": 2
         },
         "mode": "lines",
         "type": "scatter",
         "x": [
          200,
          591
         ],
         "y": [
          1400,
          1493
         ]
        },
        {
         "line": {
          "color": "green",
          "width": 2
         },
         "mode": "lines",
         "type": "scatter",
         "x": [
          200,
          117
         ],
         "y": [
          200,
          50
         ]
        },
        {
         "line": {
          "color": "green",
          "width": 2
         },
         "mode": "lines",
         "type": "scatter",
         "x": [
          600,
          624
         ],
         "y": [
          600,
          675
         ]
        },
        {
         "line": {
          "color": "red",
          "width": 2
         },
         "mode": "lines",
         "type": "scatter",
         "x": [
          1000,
          678
         ],
         "y": [
          1000,
          773
         ]
        },
        {
         "line": {
          "color": "green",
          "width": 2
         },
         "mode": "lines",
         "type": "scatter",
         "x": [
          1400,
          1060
         ],
         "y": [
          600,
          857
         ]
        },
        {
         "line": {
          "color": "green",
          "width": 2
         },
         "mode": "lines",
         "type": "scatter",
         "x": [
          600,
          570
         ],
         "y": [
          200,
          138
         ]
        },
        {
         "line": {
          "color": "green",
          "width": 2
         },
         "mode": "lines",
         "type": "scatter",
         "x": [
          600,
          630
         ],
         "y": [
          1000,
          1309
         ]
        },
        {
         "line": {
          "color": "green",
          "width": 2
         },
         "mode": "lines",
         "type": "scatter",
         "x": [
          200,
          1
         ],
         "y": [
          1400,
          1422
         ]
        },
        {
         "line": {
          "color": "green",
          "width": 2
         },
         "mode": "lines",
         "type": "scatter",
         "x": [
          600,
          766
         ],
         "y": [
          1400,
          1258
         ]
        },
        {
         "line": {
          "color": "green",
          "width": 2
         },
         "mode": "lines",
         "type": "scatter",
         "x": [
          1000,
          704
         ],
         "y": [
          600,
          723
         ]
        },
        {
         "line": {
          "color": "green",
          "width": 2
         },
         "mode": "lines",
         "type": "scatter",
         "x": [
          1400,
          1420
         ],
         "y": [
          600,
          657
         ]
        },
        {
         "line": {
          "color": "green",
          "width": 2
         },
         "mode": "lines",
         "type": "scatter",
         "x": [
          600,
          731
         ],
         "y": [
          600,
          663
         ]
        },
        {
         "line": {
          "color": "green",
          "width": 2
         },
         "mode": "lines",
         "type": "scatter",
         "x": [
          600,
          743
         ],
         "y": [
          200,
          385
         ]
        },
        {
         "line": {
          "color": "green",
          "width": 2
         },
         "mode": "lines",
         "type": "scatter",
         "x": [
          200,
          525
         ],
         "y": [
          1000,
          1393
         ]
        },
        {
         "line": {
          "color": "green",
          "width": 2
         },
         "mode": "lines",
         "type": "scatter",
         "x": [
          1000,
          772
         ],
         "y": [
          1400,
          1097
         ]
        },
        {
         "line": {
          "color": "green",
          "width": 2
         },
         "mode": "lines",
         "type": "scatter",
         "x": [
          200,
          333
         ],
         "y": [
          600,
          539
         ]
        },
        {
         "line": {
          "color": "green",
          "width": 2
         },
         "mode": "lines",
         "type": "scatter",
         "x": [
          200,
          519
         ],
         "y": [
          600,
          928
         ]
        },
        {
         "line": {
          "color": "green",
          "width": 2
         },
         "mode": "lines",
         "type": "scatter",
         "x": [
          600,
          524
         ],
         "y": [
          600,
          343
         ]
        },
        {
         "line": {
          "color": "green",
          "width": 2
         },
         "mode": "lines",
         "type": "scatter",
         "x": [
          600,
          727
         ],
         "y": [
          600,
          284
         ]
        },
        {
         "line": {
          "color": "green",
          "width": 2
         },
         "mode": "lines",
         "type": "scatter",
         "x": [
          1400,
          1520
         ],
         "y": [
          200,
          386
         ]
        },
        {
         "line": {
          "color": "red",
          "width": 2
         },
         "mode": "lines",
         "type": "scatter",
         "x": [
          600,
          670
         ],
         "y": [
          600,
          660
         ]
        },
        {
         "line": {
          "color": "green",
          "width": 2
         },
         "mode": "lines",
         "type": "scatter",
         "x": [
          200,
          382
         ],
         "y": [
          1400,
          1364
         ]
        },
        {
         "line": {
          "color": "green",
          "width": 2
         },
         "mode": "lines",
         "type": "scatter",
         "x": [
          600,
          442
         ],
         "y": [
          1000,
          982
         ]
        },
        {
         "line": {
          "color": "green",
          "width": 2
         },
         "mode": "lines",
         "type": "scatter",
         "x": [
          200,
          549
         ],
         "y": [
          600,
          697
         ]
        },
        {
         "line": {
          "color": "green",
          "width": 2
         },
         "mode": "lines",
         "type": "scatter",
         "x": [
          1000,
          1112
         ],
         "y": [
          1000,
          864
         ]
        },
        {
         "line": {
          "color": "green",
          "width": 2
         },
         "mode": "lines",
         "type": "scatter",
         "x": [
          600,
          230
         ],
         "y": [
          1000,
          1178
         ]
        },
        {
         "line": {
          "color": "green",
          "width": 2
         },
         "mode": "lines",
         "type": "scatter",
         "x": [
          200,
          518
         ],
         "y": [
          600,
          954
         ]
        },
        {
         "line": {
          "color": "green",
          "width": 2
         },
         "mode": "lines",
         "type": "scatter",
         "x": [
          200,
          2
         ],
         "y": [
          1400,
          1562
         ]
        },
        {
         "line": {
          "color": "green",
          "width": 2
         },
         "mode": "lines",
         "type": "scatter",
         "x": [
          1400,
          1484
         ],
         "y": [
          1400,
          1007
         ]
        },
        {
         "line": {
          "color": "green",
          "width": 2
         },
         "mode": "lines",
         "type": "scatter",
         "x": [
          200,
          154
         ],
         "y": [
          1400,
          1504
         ]
        },
        {
         "line": {
          "color": "red",
          "width": 2
         },
         "mode": "lines",
         "type": "scatter",
         "x": [
          1000,
          846
         ],
         "y": [
          1000,
          764
         ]
        },
        {
         "line": {
          "color": "green",
          "width": 2
         },
         "mode": "lines",
         "type": "scatter",
         "x": [
          1000,
          871
         ],
         "y": [
          1400,
          1564
         ]
        },
        {
         "line": {
          "color": "green",
          "width": 2
         },
         "mode": "lines",
         "type": "scatter",
         "x": [
          1400,
          1022
         ],
         "y": [
          600,
          778
         ]
        },
        {
         "line": {
          "color": "green",
          "width": 2
         },
         "mode": "lines",
         "type": "scatter",
         "x": [
          600,
          897
         ],
         "y": [
          1400,
          1048
         ]
        },
        {
         "line": {
          "color": "red",
          "width": 2
         },
         "mode": "lines",
         "type": "scatter",
         "x": [
          1000,
          945
         ],
         "y": [
          1000,
          831
         ]
        },
        {
         "line": {
          "color": "green",
          "width": 2
         },
         "mode": "lines",
         "type": "scatter",
         "x": [
          600,
          324
         ],
         "y": [
          1000,
          1158
         ]
        },
        {
         "line": {
          "color": "green",
          "width": 2
         },
         "mode": "lines",
         "type": "scatter",
         "x": [
          1000,
          911
         ],
         "y": [
          1000,
          1189
         ]
        },
        {
         "line": {
          "color": "green",
          "width": 2
         },
         "mode": "lines",
         "type": "scatter",
         "x": [
          1000,
          649
         ],
         "y": [
          600,
          733
         ]
        },
        {
         "line": {
          "color": "green",
          "width": 2
         },
         "mode": "lines",
         "type": "scatter",
         "x": [
          1000,
          1238
         ],
         "y": [
          200,
          467
         ]
        },
        {
         "line": {
          "color": "green",
          "width": 2
         },
         "mode": "lines",
         "type": "scatter",
         "x": [
          200,
          438
         ],
         "y": [
          1000,
          853
         ]
        },
        {
         "line": {
          "color": "green",
          "width": 2
         },
         "mode": "lines",
         "type": "scatter",
         "x": [
          600,
          714
         ],
         "y": [
          1000,
          786
         ]
        },
        {
         "line": {
          "color": "green",
          "width": 2
         },
         "mode": "lines",
         "type": "scatter",
         "x": [
          1400,
          1320
         ],
         "y": [
          1400,
          1125
         ]
        },
        {
         "line": {
          "color": "green",
          "width": 2
         },
         "mode": "lines",
         "type": "scatter",
         "x": [
          1000,
          1184
         ],
         "y": [
          1400,
          1485
         ]
        },
        {
         "line": {
          "color": "red",
          "width": 2
         },
         "mode": "lines",
         "type": "scatter",
         "x": [
          1000,
          883
         ],
         "y": [
          1000,
          752
         ]
        },
        {
         "line": {
          "color": "green",
          "width": 2
         },
         "mode": "lines",
         "type": "scatter",
         "x": [
          1400,
          1382
         ],
         "y": [
          200,
          286
         ]
        },
        {
         "line": {
          "color": "green",
          "width": 2
         },
         "mode": "lines",
         "type": "scatter",
         "x": [
          1400,
          1101
         ],
         "y": [
          200,
          455
         ]
        },
        {
         "line": {
          "color": "green",
          "width": 2
         },
         "mode": "lines",
         "type": "scatter",
         "x": [
          600,
          251
         ],
         "y": [
          200,
          252
         ]
        },
        {
         "line": {
          "color": "green",
          "width": 2
         },
         "mode": "lines",
         "type": "scatter",
         "x": [
          600,
          866
         ],
         "y": [
          200,
          576
         ]
        },
        {
         "line": {
          "color": "green",
          "width": 2
         },
         "mode": "lines",
         "type": "scatter",
         "x": [
          200,
          514
         ],
         "y": [
          1400,
          1074
         ]
        },
        {
         "line": {
          "color": "green",
          "width": 2
         },
         "mode": "lines",
         "type": "scatter",
         "x": [
          1400,
          1588
         ],
         "y": [
          1400,
          1455
         ]
        },
        {
         "line": {
          "color": "red",
          "width": 2
         },
         "mode": "lines",
         "type": "scatter",
         "x": [
          600,
          948
         ],
         "y": [
          1400,
          1038
         ]
        },
        {
         "line": {
          "color": "green",
          "width": 2
         },
         "mode": "lines",
         "type": "scatter",
         "x": [
          200,
          66
         ],
         "y": [
          1000,
          1235
         ]
        },
        {
         "line": {
          "color": "green",
          "width": 2
         },
         "mode": "lines",
         "type": "scatter",
         "x": [
          1400,
          1402
         ],
         "y": [
          200,
          407
         ]
        },
        {
         "line": {
          "color": "green",
          "width": 2
         },
         "mode": "lines",
         "type": "scatter",
         "x": [
          1400,
          1069
         ],
         "y": [
          200,
          545
         ]
        },
        {
         "line": {
          "color": "green",
          "width": 2
         },
         "mode": "lines",
         "type": "scatter",
         "x": [
          1000,
          1345
         ],
         "y": [
          200,
          0
         ]
        },
        {
         "line": {
          "color": "green",
          "width": 2
         },
         "mode": "lines",
         "type": "scatter",
         "x": [
          600,
          718
         ],
         "y": [
          1400,
          1163
         ]
        },
        {
         "line": {
          "color": "green",
          "width": 2
         },
         "mode": "lines",
         "type": "scatter",
         "x": [
          200,
          593
         ],
         "y": [
          600,
          938
         ]
        },
        {
         "line": {
          "color": "green",
          "width": 2
         },
         "mode": "lines",
         "type": "scatter",
         "x": [
          1400,
          1017
         ],
         "y": [
          1000,
          1000
         ]
        },
        {
         "line": {
          "color": "red",
          "width": 2
         },
         "mode": "lines",
         "type": "scatter",
         "x": [
          1000,
          1062
         ],
         "y": [
          1000,
          906
         ]
        },
        {
         "line": {
          "color": "green",
          "width": 2
         },
         "mode": "lines",
         "type": "scatter",
         "x": [
          1400,
          1415
         ],
         "y": [
          1000,
          898
         ]
        },
        {
         "line": {
          "color": "green",
          "width": 2
         },
         "mode": "lines",
         "type": "scatter",
         "x": [
          600,
          871
         ],
         "y": [
          200,
          215
         ]
        },
        {
         "line": {
          "color": "green",
          "width": 2
         },
         "mode": "lines",
         "type": "scatter",
         "x": [
          1000,
          851
         ],
         "y": [
          200,
          568
         ]
        },
        {
         "line": {
          "color": "green",
          "width": 2
         },
         "mode": "lines",
         "type": "scatter",
         "x": [
          200,
          395
         ],
         "y": [
          1400,
          1425
         ]
        },
        {
         "line": {
          "color": "green",
          "width": 2
         },
         "mode": "lines",
         "type": "scatter",
         "x": [
          1000,
          1331
         ],
         "y": [
          200,
          525
         ]
        },
        {
         "line": {
          "color": "green",
          "width": 2
         },
         "mode": "lines",
         "type": "scatter",
         "x": [
          1400,
          1492
         ],
         "y": [
          200,
          470
         ]
        },
        {
         "line": {
          "color": "green",
          "width": 2
         },
         "mode": "lines",
         "type": "scatter",
         "x": [
          1400,
          1544
         ],
         "y": [
          600,
          691
         ]
        },
        {
         "line": {
          "color": "green",
          "width": 2
         },
         "mode": "lines",
         "type": "scatter",
         "x": [
          600,
          369
         ],
         "y": [
          200,
          165
         ]
        },
        {
         "line": {
          "color": "green",
          "width": 2
         },
         "mode": "lines",
         "type": "scatter",
         "x": [
          1400,
          1526
         ],
         "y": [
          600,
          859
         ]
        },
        {
         "line": {
          "color": "green",
          "width": 2
         },
         "mode": "lines",
         "type": "scatter",
         "x": [
          600,
          713
         ],
         "y": [
          1000,
          799
         ]
        },
        {
         "line": {
          "color": "green",
          "width": 2
         },
         "mode": "lines",
         "type": "scatter",
         "x": [
          1400,
          1189
         ],
         "y": [
          1000,
          1111
         ]
        },
        {
         "line": {
          "color": "green",
          "width": 2
         },
         "mode": "lines",
         "type": "scatter",
         "x": [
          200,
          524
         ],
         "y": [
          1400,
          1363
         ]
        },
        {
         "line": {
          "color": "green",
          "width": 2
         },
         "mode": "lines",
         "type": "scatter",
         "x": [
          1000,
          1102
         ],
         "y": [
          1000,
          1036
         ]
        },
        {
         "line": {
          "color": "green",
          "width": 2
         },
         "mode": "lines",
         "type": "scatter",
         "x": [
          1000,
          787
         ],
         "y": [
          200,
          526
         ]
        },
        {
         "line": {
          "color": "green",
          "width": 2
         },
         "mode": "lines",
         "type": "scatter",
         "x": [
          200,
          518
         ],
         "y": [
          1000,
          712
         ]
        },
        {
         "line": {
          "color": "green",
          "width": 2
         },
         "mode": "lines",
         "type": "scatter",
         "x": [
          600,
          718
         ],
         "y": [
          1400,
          1399
         ]
        },
        {
         "line": {
          "color": "green",
          "width": 2
         },
         "mode": "lines",
         "type": "scatter",
         "x": [
          1400,
          1041
         ],
         "y": [
          200,
          84
         ]
        },
        {
         "line": {
          "color": "green",
          "width": 2
         },
         "mode": "lines",
         "type": "scatter",
         "x": [
          600,
          838
         ],
         "y": [
          1000,
          858
         ]
        },
        {
         "line": {
          "color": "green",
          "width": 2
         },
         "mode": "lines",
         "type": "scatter",
         "x": [
          1400,
          1184
         ],
         "y": [
          200,
          157
         ]
        },
        {
         "line": {
          "color": "green",
          "width": 2
         },
         "mode": "lines",
         "type": "scatter",
         "x": [
          1000,
          939
         ],
         "y": [
          1400,
          1085
         ]
        },
        {
         "line": {
          "color": "green",
          "width": 2
         },
         "mode": "lines",
         "type": "scatter",
         "x": [
          600,
          888
         ],
         "y": [
          600,
          646
         ]
        },
        {
         "line": {
          "color": "green",
          "width": 2
         },
         "mode": "lines",
         "type": "scatter",
         "x": [
          600,
          512
         ],
         "y": [
          1000,
          1134
         ]
        },
        {
         "line": {
          "color": "green",
          "width": 2
         },
         "mode": "lines",
         "type": "scatter",
         "x": [
          1400,
          1162
         ],
         "y": [
          1000,
          1131
         ]
        },
        {
         "line": {
          "color": "green",
          "width": 2
         },
         "mode": "lines",
         "type": "scatter",
         "x": [
          200,
          60
         ],
         "y": [
          1000,
          1033
         ]
        },
        {
         "line": {
          "color": "green",
          "width": 2
         },
         "mode": "lines",
         "type": "scatter",
         "x": [
          600,
          280
         ],
         "y": [
          600,
          904
         ]
        },
        {
         "line": {
          "color": "green",
          "width": 2
         },
         "mode": "lines",
         "type": "scatter",
         "x": [
          1000,
          1366
         ],
         "y": [
          600,
          603
         ]
        },
        {
         "line": {
          "color": "green",
          "width": 2
         },
         "mode": "lines",
         "type": "scatter",
         "x": [
          1400,
          1004
         ],
         "y": [
          1000,
          855
         ]
        },
        {
         "line": {
          "color": "green",
          "width": 2
         },
         "mode": "lines",
         "type": "scatter",
         "x": [
          600,
          945
         ],
         "y": [
          600,
          773
         ]
        },
        {
         "line": {
          "color": "green",
          "width": 2
         },
         "mode": "lines",
         "type": "scatter",
         "x": [
          1000,
          951
         ],
         "y": [
          1000,
          951
         ]
        },
        {
         "line": {
          "color": "green",
          "width": 2
         },
         "mode": "lines",
         "type": "scatter",
         "x": [
          600,
          560
         ],
         "y": [
          1000,
          679
         ]
        },
        {
         "line": {
          "color": "green",
          "width": 2
         },
         "mode": "lines",
         "type": "scatter",
         "x": [
          1000,
          1391
         ],
         "y": [
          200,
          406
         ]
        },
        {
         "line": {
          "color": "green",
          "width": 2
         },
         "mode": "lines",
         "type": "scatter",
         "x": [
          1400,
          1125
         ],
         "y": [
          1000,
          1227
         ]
        },
        {
         "line": {
          "color": "green",
          "width": 2
         },
         "mode": "lines",
         "type": "scatter",
         "x": [
          1000,
          933
         ],
         "y": [
          1400,
          1280
         ]
        },
        {
         "line": {
          "color": "green",
          "width": 2
         },
         "mode": "lines",
         "type": "scatter",
         "x": [
          600,
          859
         ],
         "y": [
          600,
          532
         ]
        },
        {
         "line": {
          "color": "green",
          "width": 2
         },
         "mode": "lines",
         "type": "scatter",
         "x": [
          600,
          344
         ],
         "y": [
          200,
          526
         ]
        },
        {
         "marker": {
          "color": [
           "black",
           "black",
           "black",
           "black",
           "black",
           "black",
           "black",
           "black",
           "black",
           "black",
           "black",
           "black",
           "black",
           "black",
           "black",
           "black",
           "magenta",
           "magenta",
           "blue",
           "blue",
           "blue",
           "blue",
           "magenta",
           "blue",
           "magenta",
           "blue",
           "blue",
           "magenta",
           "magenta",
           "magenta",
           "blue",
           "blue",
           "magenta",
           "blue",
           "magenta",
           "magenta",
           "magenta",
           "blue",
           "magenta",
           "magenta",
           "magenta",
           "magenta",
           "magenta",
           "blue",
           "magenta",
           "magenta",
           "blue",
           "magenta",
           "magenta",
           "blue",
           "magenta",
           "blue",
           "magenta",
           "magenta",
           "magenta",
           "magenta",
           "magenta",
           "blue",
           "magenta",
           "blue",
           "magenta",
           "magenta",
           "blue",
           "magenta",
           "blue",
           "magenta",
           "magenta",
           "magenta",
           "blue",
           "blue",
           "magenta",
           "blue",
           "blue",
           "blue",
           "magenta",
           "blue",
           "blue",
           "magenta",
           "magenta",
           "blue",
           "magenta",
           "magenta",
           "magenta",
           "magenta",
           "blue",
           "magenta",
           "magenta",
           "magenta",
           "blue",
           "magenta",
           "magenta",
           "magenta",
           "magenta",
           "magenta",
           "blue",
           "blue",
           "magenta",
           "magenta",
           "magenta",
           "magenta",
           "blue",
           "magenta",
           "blue",
           "magenta",
           "magenta",
           "magenta",
           "magenta",
           "blue",
           "magenta",
           "magenta",
           "magenta",
           "magenta",
           "magenta",
           "magenta",
           "magenta",
           "blue",
           "magenta",
           "magenta",
           "magenta",
           "magenta",
           "blue",
           "magenta",
           "magenta",
           "magenta",
           "magenta",
           "blue",
           "blue",
           "magenta",
           "magenta",
           "magenta",
           "magenta",
           "blue",
           "magenta",
           "magenta",
           "magenta",
           "magenta",
           "blue",
           "magenta",
           "magenta",
           "magenta",
           "magenta",
           "magenta",
           "blue",
           "magenta",
           "magenta",
           "blue",
           "magenta",
           "magenta",
           "blue",
           "magenta",
           "magenta",
           "magenta",
           "blue",
           "magenta",
           "blue",
           "blue",
           "blue",
           "magenta",
           "magenta",
           "blue",
           "magenta",
           "magenta",
           "magenta",
           "magenta",
           "magenta",
           "blue",
           "magenta",
           "magenta",
           "magenta",
           "blue",
           "blue",
           "magenta",
           "blue",
           "magenta",
           "magenta",
           "blue",
           "magenta",
           "magenta",
           "blue",
           "blue",
           "blue",
           "magenta",
           "magenta",
           "blue",
           "magenta",
           "magenta",
           "magenta",
           "magenta",
           "magenta",
           "magenta",
           "magenta",
           "magenta",
           "magenta",
           "magenta",
           "blue",
           "blue",
           "magenta",
           "magenta",
           "blue",
           "magenta",
           "blue",
           "blue",
           "magenta",
           "magenta",
           "magenta",
           "magenta",
           "magenta",
           "blue",
           "magenta",
           "blue",
           "magenta",
           "magenta",
           "magenta",
           "magenta",
           "magenta",
           "magenta"
          ],
          "size": 8
         },
         "mode": "markers",
         "type": "scatter",
         "x": [
          200,
          200,
          200,
          200,
          600,
          600,
          600,
          600,
          1000,
          1000,
          1000,
          1000,
          1400,
          1400,
          1400,
          1400,
          1222,
          1356,
          920,
          904,
          975,
          773,
          278,
          1014,
          972,
          718,
          984,
          660,
          1257,
          867,
          668,
          984,
          1535,
          600,
          132,
          900,
          153,
          979,
          1548,
          975,
          1425,
          472,
          358,
          612,
          1306,
          620,
          687,
          874,
          190,
          529,
          636,
          679,
          857,
          708,
          1510,
          505,
          1207,
          811,
          965,
          528,
          1019,
          242,
          805,
          343,
          983,
          1464,
          1114,
          1542,
          981,
          847,
          958,
          543,
          512,
          899,
          1221,
          807,
          642,
          1247,
          874,
          571,
          822,
          940,
          782,
          1468,
          925,
          180,
          20,
          1114,
          551,
          617,
          10,
          244,
          118,
          208,
          885,
          575,
          691,
          1095,
          1402,
          357,
          592,
          1016,
          1031,
          1582,
          1152,
          1198,
          216,
          514,
          1267,
          1381,
          691,
          580,
          766,
          929,
          75,
          618,
          1452,
          321,
          97,
          86,
          629,
          209,
          591,
          117,
          624,
          678,
          1060,
          570,
          630,
          1,
          766,
          704,
          1420,
          731,
          743,
          525,
          772,
          333,
          519,
          524,
          727,
          1520,
          670,
          382,
          442,
          549,
          1112,
          230,
          518,
          2,
          1484,
          154,
          846,
          871,
          1022,
          897,
          945,
          324,
          911,
          649,
          1238,
          438,
          714,
          1320,
          1184,
          883,
          1382,
          1101,
          251,
          866,
          514,
          1588,
          948,
          66,
          1402,
          1069,
          1345,
          718,
          593,
          1017,
          1062,
          1415,
          871,
          851,
          395,
          1331,
          1492,
          1544,
          369,
          1526,
          713,
          1189,
          524,
          1102,
          787,
          518,
          718,
          1041,
          838,
          1184,
          939,
          888,
          512,
          1162,
          60,
          280,
          1366,
          1004,
          945,
          951,
          560,
          1391,
          1125,
          933,
          859,
          344
         ],
         "y": [
          200,
          600,
          1000,
          1400,
          200,
          600,
          1000,
          1400,
          200,
          600,
          1000,
          1400,
          200,
          600,
          1000,
          1400,
          1090,
          1139,
          590,
          940,
          970,
          967,
          209,
          583,
          824,
          719,
          955,
          1424,
          779,
          1125,
          654,
          944,
          203,
          533,
          238,
          268,
          1462,
          913,
          688,
          339,
          1146,
          138,
          295,
          1089,
          556,
          707,
          936,
          412,
          933,
          956,
          1469,
          508,
          1426,
          1143,
          398,
          568,
          1493,
          969,
          143,
          921,
          1372,
          204,
          566,
          338,
          909,
          307,
          834,
          418,
          571,
          914,
          1117,
          654,
          1046,
          615,
          1026,
          835,
          1025,
          23,
          801,
          845,
          952,
          781,
          895,
          956,
          801,
          503,
          1136,
          915,
          971,
          345,
          167,
          1185,
          169,
          503,
          1037,
          614,
          1543,
          1147,
          726,
          1522,
          703,
          1324,
          951,
          1030,
          1563,
          994,
          1092,
          657,
          59,
          590,
          993,
          903,
          1400,
          89,
          906,
          1025,
          889,
          357,
          916,
          1173,
          1000,
          765,
          1493,
          50,
          675,
          773,
          857,
          138,
          1309,
          1422,
          1258,
          723,
          657,
          663,
          385,
          1393,
          1097,
          539,
          928,
          343,
          284,
          386,
          660,
          1364,
          982,
          697,
          864,
          1178,
          954,
          1562,
          1007,
          1504,
          764,
          1564,
          778,
          1048,
          831,
          1158,
          1189,
          733,
          467,
          853,
          786,
          1125,
          1485,
          752,
          286,
          455,
          252,
          576,
          1074,
          1455,
          1038,
          1235,
          407,
          545,
          0,
          1163,
          938,
          1000,
          906,
          898,
          215,
          568,
          1425,
          525,
          470,
          691,
          165,
          859,
          799,
          1111,
          1363,
          1036,
          526,
          712,
          1399,
          84,
          858,
          157,
          1085,
          646,
          1134,
          1131,
          1033,
          904,
          603,
          855,
          773,
          951,
          679,
          406,
          1227,
          1280,
          532,
          526
         ]
        }
       ],
       "layout": {
        "height": 600,
        "showlegend": false,
        "title": "UE and AP Distribution in the grid",
        "width": 800,
        "xaxis": {
         "range": [
          0,
          1600
         ],
         "title": "x"
        },
        "yaxis": {
         "range": [
          0,
          1600
         ],
         "title": "y"
        }
       }
      },
      "text/html": [
       "<div id=\"15f018ec-a670-4513-9b63-2e7dc755d784\" style=\"height: 600px; width: 800px;\" class=\"plotly-graph-div\"></div><script type=\"text/javascript\">require([\"plotly\"], function(Plotly) { window.PLOTLYENV=window.PLOTLYENV || {};window.PLOTLYENV.BASE_URL=\"https://plot.ly\";Plotly.newPlot(\"15f018ec-a670-4513-9b63-2e7dc755d784\", [{\"type\": \"scatter\", \"x\": [1400.0, 1222], \"y\": [1000.0, 1090], \"mode\": \"lines\", \"line\": {\"width\": 2, \"color\": \"green\"}}, {\"type\": \"scatter\", \"x\": [1000.0, 1356], \"y\": [1000.0, 1139], \"mode\": \"lines\", \"line\": {\"width\": 2, \"color\": \"green\"}}, {\"type\": \"scatter\", \"x\": [600.0, 920], \"y\": [200.0, 590], \"mode\": \"lines\", \"line\": {\"width\": 2, \"color\": \"green\"}}, {\"type\": \"scatter\", \"x\": [1000.0, 904], \"y\": [1000.0, 940], \"mode\": \"lines\", \"line\": {\"width\": 2, \"color\": \"green\"}}, {\"type\": \"scatter\", \"x\": [600.0, 975], \"y\": [600.0, 970], \"mode\": \"lines\", \"line\": {\"width\": 2, \"color\": \"red\"}}, {\"type\": \"scatter\", \"x\": [1000.0, 773], \"y\": [1000.0, 967], \"mode\": \"lines\", \"line\": {\"width\": 2, \"color\": \"green\"}}, {\"type\": \"scatter\", \"x\": [600.0, 278], \"y\": [600.0, 209], \"mode\": \"lines\", \"line\": {\"width\": 2, \"color\": \"green\"}}, {\"type\": \"scatter\", \"x\": [1000.0, 1014], \"y\": [200.0, 583], \"mode\": \"lines\", \"line\": {\"width\": 2, \"color\": \"green\"}}, {\"type\": \"scatter\", \"x\": [1000.0, 972], \"y\": [600.0, 824], \"mode\": \"lines\", \"line\": {\"width\": 2, \"color\": \"green\"}}, {\"type\": \"scatter\", \"x\": [1000.0, 718], \"y\": [1000.0, 719], \"mode\": \"lines\", \"line\": {\"width\": 2, \"color\": \"green\"}}, {\"type\": \"scatter\", \"x\": [1000.0, 984], \"y\": [600.0, 955], \"mode\": \"lines\", \"line\": {\"width\": 2, \"color\": \"red\"}}, {\"type\": \"scatter\", \"x\": [1000.0, 660], \"y\": [1400.0, 1424], \"mode\": \"lines\", \"line\": {\"width\": 2, \"color\": \"green\"}}, {\"type\": \"scatter\", \"x\": [1400.0, 1257], \"y\": [600.0, 779], \"mode\": \"lines\", \"line\": {\"width\": 2, \"color\": \"green\"}}, {\"type\": \"scatter\", \"x\": [600.0, 867], \"y\": [1400.0, 1125], \"mode\": \"lines\", \"line\": {\"width\": 2, \"color\": \"green\"}}, {\"type\": \"scatter\", \"x\": [1000.0, 668], \"y\": [1000.0, 654], \"mode\": \"lines\", \"line\": {\"width\": 2, \"color\": \"green\"}}, {\"type\": \"scatter\", \"x\": [600.0, 984], \"y\": [1000.0, 944], \"mode\": \"lines\", \"line\": {\"width\": 2, \"color\": \"green\"}}, {\"type\": \"scatter\", \"x\": [1400.0, 1535], \"y\": [200.0, 203], \"mode\": \"lines\", \"line\": {\"width\": 2, \"color\": \"green\"}}, {\"type\": \"scatter\", \"x\": [200.0, 600], \"y\": [200.0, 533], \"mode\": \"lines\", \"line\": {\"width\": 2, \"color\": \"green\"}}, {\"type\": \"scatter\", \"x\": [200.0, 132], \"y\": [600.0, 238], \"mode\": \"lines\", \"line\": {\"width\": 2, \"color\": \"green\"}}, {\"type\": \"scatter\", \"x\": [600.0, 900], \"y\": [200.0, 268], \"mode\": \"lines\", \"line\": {\"width\": 2, \"color\": \"green\"}}, {\"type\": \"scatter\", \"x\": [200.0, 153], \"y\": [1400.0, 1462], \"mode\": \"lines\", \"line\": {\"width\": 2, \"color\": \"green\"}}, {\"type\": \"scatter\", \"x\": [1000.0, 979], \"y\": [1000.0, 913], \"mode\": \"lines\", \"line\": {\"width\": 2, \"color\": \"red\"}}, {\"type\": \"scatter\", \"x\": [1400.0, 1548], \"y\": [600.0, 688], \"mode\": \"lines\", \"line\": {\"width\": 2, \"color\": \"green\"}}, {\"type\": \"scatter\", \"x\": [1000.0, 975], \"y\": [200.0, 339], \"mode\": \"lines\", \"line\": {\"width\": 2, \"color\": \"green\"}}, {\"type\": \"scatter\", \"x\": [1400.0, 1425], \"y\": [1000.0, 1146], \"mode\": \"lines\", \"line\": {\"width\": 2, \"color\": \"green\"}}, {\"type\": \"scatter\", \"x\": [600.0, 472], \"y\": [200.0, 138], \"mode\": \"lines\", \"line\": {\"width\": 2, \"color\": \"green\"}}, {\"type\": \"scatter\", \"x\": [200.0, 358], \"y\": [200.0, 295], \"mode\": \"lines\", \"line\": {\"width\": 2, \"color\": \"green\"}}, {\"type\": \"scatter\", \"x\": [600.0, 612], \"y\": [1400.0, 1089], \"mode\": \"lines\", \"line\": {\"width\": 2, \"color\": \"green\"}}, {\"type\": \"scatter\", \"x\": [1000.0, 1306], \"y\": [200.0, 556], \"mode\": \"lines\", \"line\": {\"width\": 2, \"color\": \"green\"}}, {\"type\": \"scatter\", \"x\": [1000.0, 620], \"y\": [1000.0, 707], \"mode\": \"lines\", \"line\": {\"width\": 2, \"color\": \"green\"}}, {\"type\": \"scatter\", \"x\": [600.0, 687], \"y\": [600.0, 936], \"mode\": \"lines\", \"line\": {\"width\": 2, \"color\": \"green\"}}, {\"type\": \"scatter\", \"x\": [1000.0, 874], \"y\": [200.0, 412], \"mode\": \"lines\", \"line\": {\"width\": 2, \"color\": \"green\"}}, {\"type\": \"scatter\", \"x\": [200.0, 190], \"y\": [600.0, 933], \"mode\": \"lines\", \"line\": {\"width\": 2, \"color\": \"green\"}}, {\"type\": \"scatter\", \"x\": [200.0, 529], \"y\": [1000.0, 956], \"mode\": \"lines\", \"line\": {\"width\": 2, \"color\": \"green\"}}, {\"type\": \"scatter\", \"x\": [1000.0, 636], \"y\": [1400.0, 1469], \"mode\": \"lines\", \"line\": {\"width\": 2, \"color\": \"green\"}}, {\"type\": \"scatter\", \"x\": [1000.0, 679], \"y\": [200.0, 508], \"mode\": \"lines\", \"line\": {\"width\": 2, \"color\": \"green\"}}, {\"type\": \"scatter\", \"x\": [600.0, 857], \"y\": [1400.0, 1426], \"mode\": \"lines\", \"line\": {\"width\": 2, \"color\": \"green\"}}, {\"type\": \"scatter\", \"x\": [600.0, 708], \"y\": [1400.0, 1143], \"mode\": \"lines\", \"line\": {\"width\": 2, \"color\": \"green\"}}, {\"type\": \"scatter\", \"x\": [1400.0, 1510], \"y\": [200.0, 398], \"mode\": \"lines\", \"line\": {\"width\": 2, \"color\": \"green\"}}, {\"type\": \"scatter\", \"x\": [200.0, 505], \"y\": [200.0, 568], \"mode\": \"lines\", \"line\": {\"width\": 2, \"color\": \"green\"}}, {\"type\": \"scatter\", \"x\": [1000.0, 1207], \"y\": [1400.0, 1493], \"mode\": \"lines\", \"line\": {\"width\": 2, \"color\": \"green\"}}, {\"type\": \"scatter\", \"x\": [600.0, 811], \"y\": [600.0, 969], \"mode\": \"lines\", \"line\": {\"width\": 2, \"color\": \"green\"}}, {\"type\": \"scatter\", \"x\": [1000.0, 965], \"y\": [200.0, 143], \"mode\": \"lines\", \"line\": {\"width\": 2, \"color\": \"green\"}}, {\"type\": \"scatter\", \"x\": [200.0, 528], \"y\": [1000.0, 921], \"mode\": \"lines\", \"line\": {\"width\": 2, \"color\": \"green\"}}, {\"type\": \"scatter\", \"x\": [1000.0, 1019], \"y\": [1000.0, 1372], \"mode\": \"lines\", \"line\": {\"width\": 2, \"color\": \"green\"}}, {\"type\": \"scatter\", \"x\": [200.0, 242], \"y\": [600.0, 204], \"mode\": \"lines\", \"line\": {\"width\": 2, \"color\": \"green\"}}, {\"type\": \"scatter\", \"x\": [1000.0, 805], \"y\": [200.0, 566], \"mode\": \"lines\", \"line\": {\"width\": 2, \"color\": \"green\"}}, {\"type\": \"scatter\", \"x\": [600.0, 343], \"y\": [600.0, 338], \"mode\": \"lines\", \"line\": {\"width\": 2, \"color\": \"green\"}}, {\"type\": \"scatter\", \"x\": [1000.0, 983], \"y\": [1000.0, 909], \"mode\": \"lines\", \"line\": {\"width\": 2, \"color\": \"green\"}}, {\"type\": \"scatter\", \"x\": [1400.0, 1464], \"y\": [600.0, 307], \"mode\": \"lines\", \"line\": {\"width\": 2, \"color\": \"green\"}}, {\"type\": \"scatter\", \"x\": [1400.0, 1114], \"y\": [600.0, 834], \"mode\": \"lines\", \"line\": {\"width\": 2, \"color\": \"green\"}}, {\"type\": \"scatter\", \"x\": [1400.0, 1542], \"y\": [600.0, 418], \"mode\": \"lines\", \"line\": {\"width\": 2, \"color\": \"green\"}}, {\"type\": \"scatter\", \"x\": [600.0, 981], \"y\": [200.0, 571], \"mode\": \"lines\", \"line\": {\"width\": 2, \"color\": \"green\"}}, {\"type\": \"scatter\", \"x\": [600.0, 847], \"y\": [1000.0, 914], \"mode\": \"lines\", \"line\": {\"width\": 2, \"color\": \"red\"}}, {\"type\": \"scatter\", \"x\": [600.0, 958], \"y\": [1400.0, 1117], \"mode\": \"lines\", \"line\": {\"width\": 2, \"color\": \"green\"}}, {\"type\": \"scatter\", \"x\": [200.0, 543], \"y\": [1000.0, 654], \"mode\": \"lines\", \"line\": {\"width\": 2, \"color\": \"green\"}}, {\"type\": \"scatter\", \"x\": [200.0, 512], \"y\": [1400.0, 1046], \"mode\": \"lines\", \"line\": {\"width\": 2, \"color\": \"green\"}}, {\"type\": \"scatter\", \"x\": [600.0, 899], \"y\": [1000.0, 615], \"mode\": \"lines\", \"line\": {\"width\": 2, \"color\": \"red\"}}, {\"type\": \"scatter\", \"x\": [1400.0, 1221], \"y\": [1000.0, 1026], \"mode\": \"lines\", \"line\": {\"width\": 2, \"color\": \"green\"}}, {\"type\": \"scatter\", \"x\": [600.0, 807], \"y\": [600.0, 835], \"mode\": \"lines\", \"line\": {\"width\": 2, \"color\": \"green\"}}, {\"type\": \"scatter\", \"x\": [600.0, 642], \"y\": [1400.0, 1025], \"mode\": \"lines\", \"line\": {\"width\": 2, \"color\": \"green\"}}, {\"type\": \"scatter\", \"x\": [1400.0, 1247], \"y\": [200.0, 23], \"mode\": \"lines\", \"line\": {\"width\": 2, \"color\": \"green\"}}, {\"type\": \"scatter\", \"x\": [1000.0, 874], \"y\": [600.0, 801], \"mode\": \"lines\", \"line\": {\"width\": 2, \"color\": \"green\"}}, {\"type\": \"scatter\", \"x\": [200.0, 571], \"y\": [1000.0, 845], \"mode\": \"lines\", \"line\": {\"width\": 2, \"color\": \"green\"}}, {\"type\": \"scatter\", \"x\": [600.0, 822], \"y\": [600.0, 952], \"mode\": \"lines\", \"line\": {\"width\": 2, \"color\": \"green\"}}, {\"type\": \"scatter\", \"x\": [1000.0, 940], \"y\": [600.0, 781], \"mode\": \"lines\", \"line\": {\"width\": 2, \"color\": \"green\"}}, {\"type\": \"scatter\", \"x\": [1000.0, 782], \"y\": [600.0, 895], \"mode\": \"lines\", \"line\": {\"width\": 2, \"color\": \"green\"}}, {\"type\": \"scatter\", \"x\": [1400.0, 1468], \"y\": [1000.0, 956], \"mode\": \"lines\", \"line\": {\"width\": 2, \"color\": \"green\"}}, {\"type\": \"scatter\", \"x\": [600.0, 925], \"y\": [1000.0, 801], \"mode\": \"lines\", \"line\": {\"width\": 2, \"color\": \"green\"}}, {\"type\": \"scatter\", \"x\": [200.0, 180], \"y\": [600.0, 503], \"mode\": \"lines\", \"line\": {\"width\": 2, \"color\": \"green\"}}, {\"type\": \"scatter\", \"x\": [200.0, 20], \"y\": [1000.0, 1136], \"mode\": \"lines\", \"line\": {\"width\": 2, \"color\": \"green\"}}, {\"type\": \"scatter\", \"x\": [1000.0, 1114], \"y\": [600.0, 915], \"mode\": \"lines\", \"line\": {\"width\": 2, \"color\": \"green\"}}, {\"type\": \"scatter\", \"x\": [200.0, 551], \"y\": [600.0, 971], \"mode\": \"lines\", \"line\": {\"width\": 2, \"color\": \"green\"}}, {\"type\": \"scatter\", \"x\": [1000.0, 617], \"y\": [200.0, 345], \"mode\": \"lines\", \"line\": {\"width\": 2, \"color\": \"green\"}}, {\"type\": \"scatter\", \"x\": [200.0, 10], \"y\": [200.0, 167], \"mode\": \"lines\", \"line\": {\"width\": 2, \"color\": \"green\"}}, {\"type\": \"scatter\", \"x\": [200.0, 244], \"y\": [1400.0, 1185], \"mode\": \"lines\", \"line\": {\"width\": 2, \"color\": \"green\"}}, {\"type\": \"scatter\", \"x\": [200.0, 118], \"y\": [200.0, 169], \"mode\": \"lines\", \"line\": {\"width\": 2, \"color\": \"green\"}}, {\"type\": \"scatter\", \"x\": [200.0, 208], \"y\": [200.0, 503], \"mode\": \"lines\", \"line\": {\"width\": 2, \"color\": \"green\"}}, {\"type\": \"scatter\", \"x\": [600.0, 885], \"y\": [1400.0, 1037], \"mode\": \"lines\", \"line\": {\"width\": 2, \"color\": \"green\"}}, {\"type\": \"scatter\", \"x\": [200.0, 575], \"y\": [1000.0, 614], \"mode\": \"lines\", \"line\": {\"width\": 2, \"color\": \"green\"}}, {\"type\": \"scatter\", \"x\": [1000.0, 691], \"y\": [1400.0, 1543], \"mode\": \"lines\", \"line\": {\"width\": 2, \"color\": \"green\"}}, {\"type\": \"scatter\", \"x\": [1000.0, 1095], \"y\": [1400.0, 1147], \"mode\": \"lines\", \"line\": {\"width\": 2, \"color\": \"green\"}}, {\"type\": \"scatter\", \"x\": [1400.0, 1402], \"y\": [600.0, 726], \"mode\": \"lines\", \"line\": {\"width\": 2, \"color\": \"green\"}}, {\"type\": \"scatter\", \"x\": [200.0, 357], \"y\": [1400.0, 1522], \"mode\": \"lines\", \"line\": {\"width\": 2, \"color\": \"green\"}}, {\"type\": \"scatter\", \"x\": [200.0, 592], \"y\": [600.0, 703], \"mode\": \"lines\", \"line\": {\"width\": 2, \"color\": \"green\"}}, {\"type\": \"scatter\", \"x\": [1000.0, 1016], \"y\": [1400.0, 1324], \"mode\": \"lines\", \"line\": {\"width\": 2, \"color\": \"green\"}}, {\"type\": \"scatter\", \"x\": [1400.0, 1031], \"y\": [600.0, 951], \"mode\": \"lines\", \"line\": {\"width\": 2, \"color\": \"red\"}}, {\"type\": \"scatter\", \"x\": [1400.0, 1582], \"y\": [1000.0, 1030], \"mode\": \"lines\", \"line\": {\"width\": 2, \"color\": \"green\"}}, {\"type\": \"scatter\", \"x\": [1400.0, 1152], \"y\": [1400.0, 1563], \"mode\": \"lines\", \"line\": {\"width\": 2, \"color\": \"green\"}}, {\"type\": \"scatter\", \"x\": [1400.0, 1198], \"y\": [600.0, 994], \"mode\": \"lines\", \"line\": {\"width\": 2, \"color\": \"green\"}}, {\"type\": \"scatter\", \"x\": [600.0, 216], \"y\": [1000.0, 1092], \"mode\": \"lines\", \"line\": {\"width\": 2, \"color\": \"green\"}}, {\"type\": \"scatter\", \"x\": [200.0, 514], \"y\": [600.0, 657], \"mode\": \"lines\", \"line\": {\"width\": 2, \"color\": \"green\"}}, {\"type\": \"scatter\", \"x\": [1000.0, 1267], \"y\": [200.0, 59], \"mode\": \"lines\", \"line\": {\"width\": 2, \"color\": \"green\"}}, {\"type\": \"scatter\", \"x\": [1000.0, 1381], \"y\": [600.0, 590], \"mode\": \"lines\", \"line\": {\"width\": 2, \"color\": \"green\"}}, {\"type\": \"scatter\", \"x\": [1000.0, 691], \"y\": [600.0, 993], \"mode\": \"lines\", \"line\": {\"width\": 2, \"color\": \"green\"}}, {\"type\": \"scatter\", \"x\": [200.0, 580], \"y\": [600.0, 903], \"mode\": \"lines\", \"line\": {\"width\": 2, \"color\": \"green\"}}, {\"type\": \"scatter\", \"x\": [600.0, 766], \"y\": [1400.0, 1400], \"mode\": \"lines\", \"line\": {\"width\": 2, \"color\": \"green\"}}, {\"type\": \"scatter\", \"x\": [600.0, 929], \"y\": [200.0, 89], \"mode\": \"lines\", \"line\": {\"width\": 2, \"color\": \"green\"}}, {\"type\": \"scatter\", \"x\": [200.0, 75], \"y\": [600.0, 906], \"mode\": \"lines\", \"line\": {\"width\": 2, \"color\": \"green\"}}, {\"type\": \"scatter\", \"x\": [1000.0, 618], \"y\": [1400.0, 1025], \"mode\": \"lines\", \"line\": {\"width\": 2, \"color\": \"green\"}}, {\"type\": \"scatter\", \"x\": [1400.0, 1452], \"y\": [600.0, 889], \"mode\": \"lines\", \"line\": {\"width\": 2, \"color\": \"green\"}}, {\"type\": \"scatter\", \"x\": [200.0, 321], \"y\": [200.0, 357], \"mode\": \"lines\", \"line\": {\"width\": 2, \"color\": \"green\"}}, {\"type\": \"scatter\", \"x\": [200.0, 97], \"y\": [600.0, 916], \"mode\": \"lines\", \"line\": {\"width\": 2, \"color\": \"green\"}}, {\"type\": \"scatter\", \"x\": [200.0, 86], \"y\": [1400.0, 1173], \"mode\": \"lines\", \"line\": {\"width\": 2, \"color\": \"green\"}}, {\"type\": \"scatter\", \"x\": [600.0, 629], \"y\": [1000.0, 1000], \"mode\": \"lines\", \"line\": {\"width\": 2, \"color\": \"red\"}}, {\"type\": \"scatter\", \"x\": [200.0, 209], \"y\": [1000.0, 765], \"mode\": \"lines\", \"line\": {\"width\": 2, \"color\": \"green\"}}, {\"type\": \"scatter\", \"x\": [200.0, 591], \"y\": [1400.0, 1493], \"mode\": \"lines\", \"line\": {\"width\": 2, \"color\": \"green\"}}, {\"type\": \"scatter\", \"x\": [200.0, 117], \"y\": [200.0, 50], \"mode\": \"lines\", \"line\": {\"width\": 2, \"color\": \"green\"}}, {\"type\": \"scatter\", \"x\": [600.0, 624], \"y\": [600.0, 675], \"mode\": \"lines\", \"line\": {\"width\": 2, \"color\": \"green\"}}, {\"type\": \"scatter\", \"x\": [1000.0, 678], \"y\": [1000.0, 773], \"mode\": \"lines\", \"line\": {\"width\": 2, \"color\": \"red\"}}, {\"type\": \"scatter\", \"x\": [1400.0, 1060], \"y\": [600.0, 857], \"mode\": \"lines\", \"line\": {\"width\": 2, \"color\": \"green\"}}, {\"type\": \"scatter\", \"x\": [600.0, 570], \"y\": [200.0, 138], \"mode\": \"lines\", \"line\": {\"width\": 2, \"color\": \"green\"}}, {\"type\": \"scatter\", \"x\": [600.0, 630], \"y\": [1000.0, 1309], \"mode\": \"lines\", \"line\": {\"width\": 2, \"color\": \"green\"}}, {\"type\": \"scatter\", \"x\": [200.0, 1], \"y\": [1400.0, 1422], \"mode\": \"lines\", \"line\": {\"width\": 2, \"color\": \"green\"}}, {\"type\": \"scatter\", \"x\": [600.0, 766], \"y\": [1400.0, 1258], \"mode\": \"lines\", \"line\": {\"width\": 2, \"color\": \"green\"}}, {\"type\": \"scatter\", \"x\": [1000.0, 704], \"y\": [600.0, 723], \"mode\": \"lines\", \"line\": {\"width\": 2, \"color\": \"green\"}}, {\"type\": \"scatter\", \"x\": [1400.0, 1420], \"y\": [600.0, 657], \"mode\": \"lines\", \"line\": {\"width\": 2, \"color\": \"green\"}}, {\"type\": \"scatter\", \"x\": [600.0, 731], \"y\": [600.0, 663], \"mode\": \"lines\", \"line\": {\"width\": 2, \"color\": \"green\"}}, {\"type\": \"scatter\", \"x\": [600.0, 743], \"y\": [200.0, 385], \"mode\": \"lines\", \"line\": {\"width\": 2, \"color\": \"green\"}}, {\"type\": \"scatter\", \"x\": [200.0, 525], \"y\": [1000.0, 1393], \"mode\": \"lines\", \"line\": {\"width\": 2, \"color\": \"green\"}}, {\"type\": \"scatter\", \"x\": [1000.0, 772], \"y\": [1400.0, 1097], \"mode\": \"lines\", \"line\": {\"width\": 2, \"color\": \"green\"}}, {\"type\": \"scatter\", \"x\": [200.0, 333], \"y\": [600.0, 539], \"mode\": \"lines\", \"line\": {\"width\": 2, \"color\": \"green\"}}, {\"type\": \"scatter\", \"x\": [200.0, 519], \"y\": [600.0, 928], \"mode\": \"lines\", \"line\": {\"width\": 2, \"color\": \"green\"}}, {\"type\": \"scatter\", \"x\": [600.0, 524], \"y\": [600.0, 343], \"mode\": \"lines\", \"line\": {\"width\": 2, \"color\": \"green\"}}, {\"type\": \"scatter\", \"x\": [600.0, 727], \"y\": [600.0, 284], \"mode\": \"lines\", \"line\": {\"width\": 2, \"color\": \"green\"}}, {\"type\": \"scatter\", \"x\": [1400.0, 1520], \"y\": [200.0, 386], \"mode\": \"lines\", \"line\": {\"width\": 2, \"color\": \"green\"}}, {\"type\": \"scatter\", \"x\": [600.0, 670], \"y\": [600.0, 660], \"mode\": \"lines\", \"line\": {\"width\": 2, \"color\": \"red\"}}, {\"type\": \"scatter\", \"x\": [200.0, 382], \"y\": [1400.0, 1364], \"mode\": \"lines\", \"line\": {\"width\": 2, \"color\": \"green\"}}, {\"type\": \"scatter\", \"x\": [600.0, 442], \"y\": [1000.0, 982], \"mode\": \"lines\", \"line\": {\"width\": 2, \"color\": \"green\"}}, {\"type\": \"scatter\", \"x\": [200.0, 549], \"y\": [600.0, 697], \"mode\": \"lines\", \"line\": {\"width\": 2, \"color\": \"green\"}}, {\"type\": \"scatter\", \"x\": [1000.0, 1112], \"y\": [1000.0, 864], \"mode\": \"lines\", \"line\": {\"width\": 2, \"color\": \"green\"}}, {\"type\": \"scatter\", \"x\": [600.0, 230], \"y\": [1000.0, 1178], \"mode\": \"lines\", \"line\": {\"width\": 2, \"color\": \"green\"}}, {\"type\": \"scatter\", \"x\": [200.0, 518], \"y\": [600.0, 954], \"mode\": \"lines\", \"line\": {\"width\": 2, \"color\": \"green\"}}, {\"type\": \"scatter\", \"x\": [200.0, 2], \"y\": [1400.0, 1562], \"mode\": \"lines\", \"line\": {\"width\": 2, \"color\": \"green\"}}, {\"type\": \"scatter\", \"x\": [1400.0, 1484], \"y\": [1400.0, 1007], \"mode\": \"lines\", \"line\": {\"width\": 2, \"color\": \"green\"}}, {\"type\": \"scatter\", \"x\": [200.0, 154], \"y\": [1400.0, 1504], \"mode\": \"lines\", \"line\": {\"width\": 2, \"color\": \"green\"}}, {\"type\": \"scatter\", \"x\": [1000.0, 846], \"y\": [1000.0, 764], \"mode\": \"lines\", \"line\": {\"width\": 2, \"color\": \"red\"}}, {\"type\": \"scatter\", \"x\": [1000.0, 871], \"y\": [1400.0, 1564], \"mode\": \"lines\", \"line\": {\"width\": 2, \"color\": \"green\"}}, {\"type\": \"scatter\", \"x\": [1400.0, 1022], \"y\": [600.0, 778], \"mode\": \"lines\", \"line\": {\"width\": 2, \"color\": \"green\"}}, {\"type\": \"scatter\", \"x\": [600.0, 897], \"y\": [1400.0, 1048], \"mode\": \"lines\", \"line\": {\"width\": 2, \"color\": \"green\"}}, {\"type\": \"scatter\", \"x\": [1000.0, 945], \"y\": [1000.0, 831], \"mode\": \"lines\", \"line\": {\"width\": 2, \"color\": \"red\"}}, {\"type\": \"scatter\", \"x\": [600.0, 324], \"y\": [1000.0, 1158], \"mode\": \"lines\", \"line\": {\"width\": 2, \"color\": \"green\"}}, {\"type\": \"scatter\", \"x\": [1000.0, 911], \"y\": [1000.0, 1189], \"mode\": \"lines\", \"line\": {\"width\": 2, \"color\": \"green\"}}, {\"type\": \"scatter\", \"x\": [1000.0, 649], \"y\": [600.0, 733], \"mode\": \"lines\", \"line\": {\"width\": 2, \"color\": \"green\"}}, {\"type\": \"scatter\", \"x\": [1000.0, 1238], \"y\": [200.0, 467], \"mode\": \"lines\", \"line\": {\"width\": 2, \"color\": \"green\"}}, {\"type\": \"scatter\", \"x\": [200.0, 438], \"y\": [1000.0, 853], \"mode\": \"lines\", \"line\": {\"width\": 2, \"color\": \"green\"}}, {\"type\": \"scatter\", \"x\": [600.0, 714], \"y\": [1000.0, 786], \"mode\": \"lines\", \"line\": {\"width\": 2, \"color\": \"green\"}}, {\"type\": \"scatter\", \"x\": [1400.0, 1320], \"y\": [1400.0, 1125], \"mode\": \"lines\", \"line\": {\"width\": 2, \"color\": \"green\"}}, {\"type\": \"scatter\", \"x\": [1000.0, 1184], \"y\": [1400.0, 1485], \"mode\": \"lines\", \"line\": {\"width\": 2, \"color\": \"green\"}}, {\"type\": \"scatter\", \"x\": [1000.0, 883], \"y\": [1000.0, 752], \"mode\": \"lines\", \"line\": {\"width\": 2, \"color\": \"red\"}}, {\"type\": \"scatter\", \"x\": [1400.0, 1382], \"y\": [200.0, 286], \"mode\": \"lines\", \"line\": {\"width\": 2, \"color\": \"green\"}}, {\"type\": \"scatter\", \"x\": [1400.0, 1101], \"y\": [200.0, 455], \"mode\": \"lines\", \"line\": {\"width\": 2, \"color\": \"green\"}}, {\"type\": \"scatter\", \"x\": [600.0, 251], \"y\": [200.0, 252], \"mode\": \"lines\", \"line\": {\"width\": 2, \"color\": \"green\"}}, {\"type\": \"scatter\", \"x\": [600.0, 866], \"y\": [200.0, 576], \"mode\": \"lines\", \"line\": {\"width\": 2, \"color\": \"green\"}}, {\"type\": \"scatter\", \"x\": [200.0, 514], \"y\": [1400.0, 1074], \"mode\": \"lines\", \"line\": {\"width\": 2, \"color\": \"green\"}}, {\"type\": \"scatter\", \"x\": [1400.0, 1588], \"y\": [1400.0, 1455], \"mode\": \"lines\", \"line\": {\"width\": 2, \"color\": \"green\"}}, {\"type\": \"scatter\", \"x\": [600.0, 948], \"y\": [1400.0, 1038], \"mode\": \"lines\", \"line\": {\"width\": 2, \"color\": \"red\"}}, {\"type\": \"scatter\", \"x\": [200.0, 66], \"y\": [1000.0, 1235], \"mode\": \"lines\", \"line\": {\"width\": 2, \"color\": \"green\"}}, {\"type\": \"scatter\", \"x\": [1400.0, 1402], \"y\": [200.0, 407], \"mode\": \"lines\", \"line\": {\"width\": 2, \"color\": \"green\"}}, {\"type\": \"scatter\", \"x\": [1400.0, 1069], \"y\": [200.0, 545], \"mode\": \"lines\", \"line\": {\"width\": 2, \"color\": \"green\"}}, {\"type\": \"scatter\", \"x\": [1000.0, 1345], \"y\": [200.0, 0], \"mode\": \"lines\", \"line\": {\"width\": 2, \"color\": \"green\"}}, {\"type\": \"scatter\", \"x\": [600.0, 718], \"y\": [1400.0, 1163], \"mode\": \"lines\", \"line\": {\"width\": 2, \"color\": \"green\"}}, {\"type\": \"scatter\", \"x\": [200.0, 593], \"y\": [600.0, 938], \"mode\": \"lines\", \"line\": {\"width\": 2, \"color\": \"green\"}}, {\"type\": \"scatter\", \"x\": [1400.0, 1017], \"y\": [1000.0, 1000], \"mode\": \"lines\", \"line\": {\"width\": 2, \"color\": \"green\"}}, {\"type\": \"scatter\", \"x\": [1000.0, 1062], \"y\": [1000.0, 906], \"mode\": \"lines\", \"line\": {\"width\": 2, \"color\": \"red\"}}, {\"type\": \"scatter\", \"x\": [1400.0, 1415], \"y\": [1000.0, 898], \"mode\": \"lines\", \"line\": {\"width\": 2, \"color\": \"green\"}}, {\"type\": \"scatter\", \"x\": [600.0, 871], \"y\": [200.0, 215], \"mode\": \"lines\", \"line\": {\"width\": 2, \"color\": \"green\"}}, {\"type\": \"scatter\", \"x\": [1000.0, 851], \"y\": [200.0, 568], \"mode\": \"lines\", \"line\": {\"width\": 2, \"color\": \"green\"}}, {\"type\": \"scatter\", \"x\": [200.0, 395], \"y\": [1400.0, 1425], \"mode\": \"lines\", \"line\": {\"width\": 2, \"color\": \"green\"}}, {\"type\": \"scatter\", \"x\": [1000.0, 1331], \"y\": [200.0, 525], \"mode\": \"lines\", \"line\": {\"width\": 2, \"color\": \"green\"}}, {\"type\": \"scatter\", \"x\": [1400.0, 1492], \"y\": [200.0, 470], \"mode\": \"lines\", \"line\": {\"width\": 2, \"color\": \"green\"}}, {\"type\": \"scatter\", \"x\": [1400.0, 1544], \"y\": [600.0, 691], \"mode\": \"lines\", \"line\": {\"width\": 2, \"color\": \"green\"}}, {\"type\": \"scatter\", \"x\": [600.0, 369], \"y\": [200.0, 165], \"mode\": \"lines\", \"line\": {\"width\": 2, \"color\": \"green\"}}, {\"type\": \"scatter\", \"x\": [1400.0, 1526], \"y\": [600.0, 859], \"mode\": \"lines\", \"line\": {\"width\": 2, \"color\": \"green\"}}, {\"type\": \"scatter\", \"x\": [600.0, 713], \"y\": [1000.0, 799], \"mode\": \"lines\", \"line\": {\"width\": 2, \"color\": \"green\"}}, {\"type\": \"scatter\", \"x\": [1400.0, 1189], \"y\": [1000.0, 1111], \"mode\": \"lines\", \"line\": {\"width\": 2, \"color\": \"green\"}}, {\"type\": \"scatter\", \"x\": [200.0, 524], \"y\": [1400.0, 1363], \"mode\": \"lines\", \"line\": {\"width\": 2, \"color\": \"green\"}}, {\"type\": \"scatter\", \"x\": [1000.0, 1102], \"y\": [1000.0, 1036], \"mode\": \"lines\", \"line\": {\"width\": 2, \"color\": \"green\"}}, {\"type\": \"scatter\", \"x\": [1000.0, 787], \"y\": [200.0, 526], \"mode\": \"lines\", \"line\": {\"width\": 2, \"color\": \"green\"}}, {\"type\": \"scatter\", \"x\": [200.0, 518], \"y\": [1000.0, 712], \"mode\": \"lines\", \"line\": {\"width\": 2, \"color\": \"green\"}}, {\"type\": \"scatter\", \"x\": [600.0, 718], \"y\": [1400.0, 1399], \"mode\": \"lines\", \"line\": {\"width\": 2, \"color\": \"green\"}}, {\"type\": \"scatter\", \"x\": [1400.0, 1041], \"y\": [200.0, 84], \"mode\": \"lines\", \"line\": {\"width\": 2, \"color\": \"green\"}}, {\"type\": \"scatter\", \"x\": [600.0, 838], \"y\": [1000.0, 858], \"mode\": \"lines\", \"line\": {\"width\": 2, \"color\": \"green\"}}, {\"type\": \"scatter\", \"x\": [1400.0, 1184], \"y\": [200.0, 157], \"mode\": \"lines\", \"line\": {\"width\": 2, \"color\": \"green\"}}, {\"type\": \"scatter\", \"x\": [1000.0, 939], \"y\": [1400.0, 1085], \"mode\": \"lines\", \"line\": {\"width\": 2, \"color\": \"green\"}}, {\"type\": \"scatter\", \"x\": [600.0, 888], \"y\": [600.0, 646], \"mode\": \"lines\", \"line\": {\"width\": 2, \"color\": \"green\"}}, {\"type\": \"scatter\", \"x\": [600.0, 512], \"y\": [1000.0, 1134], \"mode\": \"lines\", \"line\": {\"width\": 2, \"color\": \"green\"}}, {\"type\": \"scatter\", \"x\": [1400.0, 1162], \"y\": [1000.0, 1131], \"mode\": \"lines\", \"line\": {\"width\": 2, \"color\": \"green\"}}, {\"type\": \"scatter\", \"x\": [200.0, 60], \"y\": [1000.0, 1033], \"mode\": \"lines\", \"line\": {\"width\": 2, \"color\": \"green\"}}, {\"type\": \"scatter\", \"x\": [600.0, 280], \"y\": [600.0, 904], \"mode\": \"lines\", \"line\": {\"width\": 2, \"color\": \"green\"}}, {\"type\": \"scatter\", \"x\": [1000.0, 1366], \"y\": [600.0, 603], \"mode\": \"lines\", \"line\": {\"width\": 2, \"color\": \"green\"}}, {\"type\": \"scatter\", \"x\": [1400.0, 1004], \"y\": [1000.0, 855], \"mode\": \"lines\", \"line\": {\"width\": 2, \"color\": \"green\"}}, {\"type\": \"scatter\", \"x\": [600.0, 945], \"y\": [600.0, 773], \"mode\": \"lines\", \"line\": {\"width\": 2, \"color\": \"green\"}}, {\"type\": \"scatter\", \"x\": [1000.0, 951], \"y\": [1000.0, 951], \"mode\": \"lines\", \"line\": {\"width\": 2, \"color\": \"green\"}}, {\"type\": \"scatter\", \"x\": [600.0, 560], \"y\": [1000.0, 679], \"mode\": \"lines\", \"line\": {\"width\": 2, \"color\": \"green\"}}, {\"type\": \"scatter\", \"x\": [1000.0, 1391], \"y\": [200.0, 406], \"mode\": \"lines\", \"line\": {\"width\": 2, \"color\": \"green\"}}, {\"type\": \"scatter\", \"x\": [1400.0, 1125], \"y\": [1000.0, 1227], \"mode\": \"lines\", \"line\": {\"width\": 2, \"color\": \"green\"}}, {\"type\": \"scatter\", \"x\": [1000.0, 933], \"y\": [1400.0, 1280], \"mode\": \"lines\", \"line\": {\"width\": 2, \"color\": \"green\"}}, {\"type\": \"scatter\", \"x\": [600.0, 859], \"y\": [600.0, 532], \"mode\": \"lines\", \"line\": {\"width\": 2, \"color\": \"green\"}}, {\"type\": \"scatter\", \"x\": [600.0, 344], \"y\": [200.0, 526], \"mode\": \"lines\", \"line\": {\"width\": 2, \"color\": \"green\"}}, {\"type\": \"scatter\", \"x\": [200.0, 200.0, 200.0, 200.0, 600.0, 600.0, 600.0, 600.0, 1000.0, 1000.0, 1000.0, 1000.0, 1400.0, 1400.0, 1400.0, 1400.0, 1222, 1356, 920, 904, 975, 773, 278, 1014, 972, 718, 984, 660, 1257, 867, 668, 984, 1535, 600, 132, 900, 153, 979, 1548, 975, 1425, 472, 358, 612, 1306, 620, 687, 874, 190, 529, 636, 679, 857, 708, 1510, 505, 1207, 811, 965, 528, 1019, 242, 805, 343, 983, 1464, 1114, 1542, 981, 847, 958, 543, 512, 899, 1221, 807, 642, 1247, 874, 571, 822, 940, 782, 1468, 925, 180, 20, 1114, 551, 617, 10, 244, 118, 208, 885, 575, 691, 1095, 1402, 357, 592, 1016, 1031, 1582, 1152, 1198, 216, 514, 1267, 1381, 691, 580, 766, 929, 75, 618, 1452, 321, 97, 86, 629, 209, 591, 117, 624, 678, 1060, 570, 630, 1, 766, 704, 1420, 731, 743, 525, 772, 333, 519, 524, 727, 1520, 670, 382, 442, 549, 1112, 230, 518, 2, 1484, 154, 846, 871, 1022, 897, 945, 324, 911, 649, 1238, 438, 714, 1320, 1184, 883, 1382, 1101, 251, 866, 514, 1588, 948, 66, 1402, 1069, 1345, 718, 593, 1017, 1062, 1415, 871, 851, 395, 1331, 1492, 1544, 369, 1526, 713, 1189, 524, 1102, 787, 518, 718, 1041, 838, 1184, 939, 888, 512, 1162, 60, 280, 1366, 1004, 945, 951, 560, 1391, 1125, 933, 859, 344], \"y\": [200.0, 600.0, 1000.0, 1400.0, 200.0, 600.0, 1000.0, 1400.0, 200.0, 600.0, 1000.0, 1400.0, 200.0, 600.0, 1000.0, 1400.0, 1090, 1139, 590, 940, 970, 967, 209, 583, 824, 719, 955, 1424, 779, 1125, 654, 944, 203, 533, 238, 268, 1462, 913, 688, 339, 1146, 138, 295, 1089, 556, 707, 936, 412, 933, 956, 1469, 508, 1426, 1143, 398, 568, 1493, 969, 143, 921, 1372, 204, 566, 338, 909, 307, 834, 418, 571, 914, 1117, 654, 1046, 615, 1026, 835, 1025, 23, 801, 845, 952, 781, 895, 956, 801, 503, 1136, 915, 971, 345, 167, 1185, 169, 503, 1037, 614, 1543, 1147, 726, 1522, 703, 1324, 951, 1030, 1563, 994, 1092, 657, 59, 590, 993, 903, 1400, 89, 906, 1025, 889, 357, 916, 1173, 1000, 765, 1493, 50, 675, 773, 857, 138, 1309, 1422, 1258, 723, 657, 663, 385, 1393, 1097, 539, 928, 343, 284, 386, 660, 1364, 982, 697, 864, 1178, 954, 1562, 1007, 1504, 764, 1564, 778, 1048, 831, 1158, 1189, 733, 467, 853, 786, 1125, 1485, 752, 286, 455, 252, 576, 1074, 1455, 1038, 1235, 407, 545, 0, 1163, 938, 1000, 906, 898, 215, 568, 1425, 525, 470, 691, 165, 859, 799, 1111, 1363, 1036, 526, 712, 1399, 84, 858, 157, 1085, 646, 1134, 1131, 1033, 904, 603, 855, 773, 951, 679, 406, 1227, 1280, 532, 526], \"mode\": \"markers\", \"marker\": {\"size\": 8, \"color\": [\"black\", \"black\", \"black\", \"black\", \"black\", \"black\", \"black\", \"black\", \"black\", \"black\", \"black\", \"black\", \"black\", \"black\", \"black\", \"black\", \"magenta\", \"magenta\", \"blue\", \"blue\", \"blue\", \"blue\", \"magenta\", \"blue\", \"magenta\", \"blue\", \"blue\", \"magenta\", \"magenta\", \"magenta\", \"blue\", \"blue\", \"magenta\", \"blue\", \"magenta\", \"magenta\", \"magenta\", \"blue\", \"magenta\", \"magenta\", \"magenta\", \"magenta\", \"magenta\", \"blue\", \"magenta\", \"magenta\", \"blue\", \"magenta\", \"magenta\", \"blue\", \"magenta\", \"blue\", \"magenta\", \"magenta\", \"magenta\", \"magenta\", \"magenta\", \"blue\", \"magenta\", \"blue\", \"magenta\", \"magenta\", \"blue\", \"magenta\", \"blue\", \"magenta\", \"magenta\", \"magenta\", \"blue\", \"blue\", \"magenta\", \"blue\", \"blue\", \"blue\", \"magenta\", \"blue\", \"blue\", \"magenta\", \"magenta\", \"blue\", \"magenta\", \"magenta\", \"magenta\", \"magenta\", \"blue\", \"magenta\", \"magenta\", \"magenta\", \"blue\", \"magenta\", \"magenta\", \"magenta\", \"magenta\", \"magenta\", \"blue\", \"blue\", \"magenta\", \"magenta\", \"magenta\", \"magenta\", \"blue\", \"magenta\", \"blue\", \"magenta\", \"magenta\", \"magenta\", \"magenta\", \"blue\", \"magenta\", \"magenta\", \"magenta\", \"magenta\", \"magenta\", \"magenta\", \"magenta\", \"blue\", \"magenta\", \"magenta\", \"magenta\", \"magenta\", \"blue\", \"magenta\", \"magenta\", \"magenta\", \"magenta\", \"blue\", \"blue\", \"magenta\", \"magenta\", \"magenta\", \"magenta\", \"blue\", \"magenta\", \"magenta\", \"magenta\", \"magenta\", \"blue\", \"magenta\", \"magenta\", \"magenta\", \"magenta\", \"magenta\", \"blue\", \"magenta\", \"magenta\", \"blue\", \"magenta\", \"magenta\", \"blue\", \"magenta\", \"magenta\", \"magenta\", \"blue\", \"magenta\", \"blue\", \"blue\", \"blue\", \"magenta\", \"magenta\", \"blue\", \"magenta\", \"magenta\", \"magenta\", \"magenta\", \"magenta\", \"blue\", \"magenta\", \"magenta\", \"magenta\", \"blue\", \"blue\", \"magenta\", \"blue\", \"magenta\", \"magenta\", \"blue\", \"magenta\", \"magenta\", \"blue\", \"blue\", \"blue\", \"magenta\", \"magenta\", \"blue\", \"magenta\", \"magenta\", \"magenta\", \"magenta\", \"magenta\", \"magenta\", \"magenta\", \"magenta\", \"magenta\", \"magenta\", \"blue\", \"blue\", \"magenta\", \"magenta\", \"blue\", \"magenta\", \"blue\", \"blue\", \"magenta\", \"magenta\", \"magenta\", \"magenta\", \"magenta\", \"blue\", \"magenta\", \"blue\", \"magenta\", \"magenta\", \"magenta\", \"magenta\", \"magenta\", \"magenta\"]}}], {\"xaxis\": {\"range\": [0, 1600], \"title\": \"x\"}, \"yaxis\": {\"range\": [0, 1600], \"title\": \"y\"}, \"title\": \"UE and AP Distribution in the grid\", \"height\": 600, \"width\": 800, \"showlegend\": false}, {\"showLink\": true, \"linkText\": \"Export to plot.ly\"})});</script>"
      ],
      "text/vnd.plotly.v1+html": [
       "<div id=\"15f018ec-a670-4513-9b63-2e7dc755d784\" style=\"height: 600px; width: 800px;\" class=\"plotly-graph-div\"></div><script type=\"text/javascript\">require([\"plotly\"], function(Plotly) { window.PLOTLYENV=window.PLOTLYENV || {};window.PLOTLYENV.BASE_URL=\"https://plot.ly\";Plotly.newPlot(\"15f018ec-a670-4513-9b63-2e7dc755d784\", [{\"type\": \"scatter\", \"x\": [1400.0, 1222], \"y\": [1000.0, 1090], \"mode\": \"lines\", \"line\": {\"width\": 2, \"color\": \"green\"}}, {\"type\": \"scatter\", \"x\": [1000.0, 1356], \"y\": [1000.0, 1139], \"mode\": \"lines\", \"line\": {\"width\": 2, \"color\": \"green\"}}, {\"type\": \"scatter\", \"x\": [600.0, 920], \"y\": [200.0, 590], \"mode\": \"lines\", \"line\": {\"width\": 2, \"color\": \"green\"}}, {\"type\": \"scatter\", \"x\": [1000.0, 904], \"y\": [1000.0, 940], \"mode\": \"lines\", \"line\": {\"width\": 2, \"color\": \"green\"}}, {\"type\": \"scatter\", \"x\": [600.0, 975], \"y\": [600.0, 970], \"mode\": \"lines\", \"line\": {\"width\": 2, \"color\": \"red\"}}, {\"type\": \"scatter\", \"x\": [1000.0, 773], \"y\": [1000.0, 967], \"mode\": \"lines\", \"line\": {\"width\": 2, \"color\": \"green\"}}, {\"type\": \"scatter\", \"x\": [600.0, 278], \"y\": [600.0, 209], \"mode\": \"lines\", \"line\": {\"width\": 2, \"color\": \"green\"}}, {\"type\": \"scatter\", \"x\": [1000.0, 1014], \"y\": [200.0, 583], \"mode\": \"lines\", \"line\": {\"width\": 2, \"color\": \"green\"}}, {\"type\": \"scatter\", \"x\": [1000.0, 972], \"y\": [600.0, 824], \"mode\": \"lines\", \"line\": {\"width\": 2, \"color\": \"green\"}}, {\"type\": \"scatter\", \"x\": [1000.0, 718], \"y\": [1000.0, 719], \"mode\": \"lines\", \"line\": {\"width\": 2, \"color\": \"green\"}}, {\"type\": \"scatter\", \"x\": [1000.0, 984], \"y\": [600.0, 955], \"mode\": \"lines\", \"line\": {\"width\": 2, \"color\": \"red\"}}, {\"type\": \"scatter\", \"x\": [1000.0, 660], \"y\": [1400.0, 1424], \"mode\": \"lines\", \"line\": {\"width\": 2, \"color\": \"green\"}}, {\"type\": \"scatter\", \"x\": [1400.0, 1257], \"y\": [600.0, 779], \"mode\": \"lines\", \"line\": {\"width\": 2, \"color\": \"green\"}}, {\"type\": \"scatter\", \"x\": [600.0, 867], \"y\": [1400.0, 1125], \"mode\": \"lines\", \"line\": {\"width\": 2, \"color\": \"green\"}}, {\"type\": \"scatter\", \"x\": [1000.0, 668], \"y\": [1000.0, 654], \"mode\": \"lines\", \"line\": {\"width\": 2, \"color\": \"green\"}}, {\"type\": \"scatter\", \"x\": [600.0, 984], \"y\": [1000.0, 944], \"mode\": \"lines\", \"line\": {\"width\": 2, \"color\": \"green\"}}, {\"type\": \"scatter\", \"x\": [1400.0, 1535], \"y\": [200.0, 203], \"mode\": \"lines\", \"line\": {\"width\": 2, \"color\": \"green\"}}, {\"type\": \"scatter\", \"x\": [200.0, 600], \"y\": [200.0, 533], \"mode\": \"lines\", \"line\": {\"width\": 2, \"color\": \"green\"}}, {\"type\": \"scatter\", \"x\": [200.0, 132], \"y\": [600.0, 238], \"mode\": \"lines\", \"line\": {\"width\": 2, \"color\": \"green\"}}, {\"type\": \"scatter\", \"x\": [600.0, 900], \"y\": [200.0, 268], \"mode\": \"lines\", \"line\": {\"width\": 2, \"color\": \"green\"}}, {\"type\": \"scatter\", \"x\": [200.0, 153], \"y\": [1400.0, 1462], \"mode\": \"lines\", \"line\": {\"width\": 2, \"color\": \"green\"}}, {\"type\": \"scatter\", \"x\": [1000.0, 979], \"y\": [1000.0, 913], \"mode\": \"lines\", \"line\": {\"width\": 2, \"color\": \"red\"}}, {\"type\": \"scatter\", \"x\": [1400.0, 1548], \"y\": [600.0, 688], \"mode\": \"lines\", \"line\": {\"width\": 2, \"color\": \"green\"}}, {\"type\": \"scatter\", \"x\": [1000.0, 975], \"y\": [200.0, 339], \"mode\": \"lines\", \"line\": {\"width\": 2, \"color\": \"green\"}}, {\"type\": \"scatter\", \"x\": [1400.0, 1425], \"y\": [1000.0, 1146], \"mode\": \"lines\", \"line\": {\"width\": 2, \"color\": \"green\"}}, {\"type\": \"scatter\", \"x\": [600.0, 472], \"y\": [200.0, 138], \"mode\": \"lines\", \"line\": {\"width\": 2, \"color\": \"green\"}}, {\"type\": \"scatter\", \"x\": [200.0, 358], \"y\": [200.0, 295], \"mode\": \"lines\", \"line\": {\"width\": 2, \"color\": \"green\"}}, {\"type\": \"scatter\", \"x\": [600.0, 612], \"y\": [1400.0, 1089], \"mode\": \"lines\", \"line\": {\"width\": 2, \"color\": \"green\"}}, {\"type\": \"scatter\", \"x\": [1000.0, 1306], \"y\": [200.0, 556], \"mode\": \"lines\", \"line\": {\"width\": 2, \"color\": \"green\"}}, {\"type\": \"scatter\", \"x\": [1000.0, 620], \"y\": [1000.0, 707], \"mode\": \"lines\", \"line\": {\"width\": 2, \"color\": \"green\"}}, {\"type\": \"scatter\", \"x\": [600.0, 687], \"y\": [600.0, 936], \"mode\": \"lines\", \"line\": {\"width\": 2, \"color\": \"green\"}}, {\"type\": \"scatter\", \"x\": [1000.0, 874], \"y\": [200.0, 412], \"mode\": \"lines\", \"line\": {\"width\": 2, \"color\": \"green\"}}, {\"type\": \"scatter\", \"x\": [200.0, 190], \"y\": [600.0, 933], \"mode\": \"lines\", \"line\": {\"width\": 2, \"color\": \"green\"}}, {\"type\": \"scatter\", \"x\": [200.0, 529], \"y\": [1000.0, 956], \"mode\": \"lines\", \"line\": {\"width\": 2, \"color\": \"green\"}}, {\"type\": \"scatter\", \"x\": [1000.0, 636], \"y\": [1400.0, 1469], \"mode\": \"lines\", \"line\": {\"width\": 2, \"color\": \"green\"}}, {\"type\": \"scatter\", \"x\": [1000.0, 679], \"y\": [200.0, 508], \"mode\": \"lines\", \"line\": {\"width\": 2, \"color\": \"green\"}}, {\"type\": \"scatter\", \"x\": [600.0, 857], \"y\": [1400.0, 1426], \"mode\": \"lines\", \"line\": {\"width\": 2, \"color\": \"green\"}}, {\"type\": \"scatter\", \"x\": [600.0, 708], \"y\": [1400.0, 1143], \"mode\": \"lines\", \"line\": {\"width\": 2, \"color\": \"green\"}}, {\"type\": \"scatter\", \"x\": [1400.0, 1510], \"y\": [200.0, 398], \"mode\": \"lines\", \"line\": {\"width\": 2, \"color\": \"green\"}}, {\"type\": \"scatter\", \"x\": [200.0, 505], \"y\": [200.0, 568], \"mode\": \"lines\", \"line\": {\"width\": 2, \"color\": \"green\"}}, {\"type\": \"scatter\", \"x\": [1000.0, 1207], \"y\": [1400.0, 1493], \"mode\": \"lines\", \"line\": {\"width\": 2, \"color\": \"green\"}}, {\"type\": \"scatter\", \"x\": [600.0, 811], \"y\": [600.0, 969], \"mode\": \"lines\", \"line\": {\"width\": 2, \"color\": \"green\"}}, {\"type\": \"scatter\", \"x\": [1000.0, 965], \"y\": [200.0, 143], \"mode\": \"lines\", \"line\": {\"width\": 2, \"color\": \"green\"}}, {\"type\": \"scatter\", \"x\": [200.0, 528], \"y\": [1000.0, 921], \"mode\": \"lines\", \"line\": {\"width\": 2, \"color\": \"green\"}}, {\"type\": \"scatter\", \"x\": [1000.0, 1019], \"y\": [1000.0, 1372], \"mode\": \"lines\", \"line\": {\"width\": 2, \"color\": \"green\"}}, {\"type\": \"scatter\", \"x\": [200.0, 242], \"y\": [600.0, 204], \"mode\": \"lines\", \"line\": {\"width\": 2, \"color\": \"green\"}}, {\"type\": \"scatter\", \"x\": [1000.0, 805], \"y\": [200.0, 566], \"mode\": \"lines\", \"line\": {\"width\": 2, \"color\": \"green\"}}, {\"type\": \"scatter\", \"x\": [600.0, 343], \"y\": [600.0, 338], \"mode\": \"lines\", \"line\": {\"width\": 2, \"color\": \"green\"}}, {\"type\": \"scatter\", \"x\": [1000.0, 983], \"y\": [1000.0, 909], \"mode\": \"lines\", \"line\": {\"width\": 2, \"color\": \"green\"}}, {\"type\": \"scatter\", \"x\": [1400.0, 1464], \"y\": [600.0, 307], \"mode\": \"lines\", \"line\": {\"width\": 2, \"color\": \"green\"}}, {\"type\": \"scatter\", \"x\": [1400.0, 1114], \"y\": [600.0, 834], \"mode\": \"lines\", \"line\": {\"width\": 2, \"color\": \"green\"}}, {\"type\": \"scatter\", \"x\": [1400.0, 1542], \"y\": [600.0, 418], \"mode\": \"lines\", \"line\": {\"width\": 2, \"color\": \"green\"}}, {\"type\": \"scatter\", \"x\": [600.0, 981], \"y\": [200.0, 571], \"mode\": \"lines\", \"line\": {\"width\": 2, \"color\": \"green\"}}, {\"type\": \"scatter\", \"x\": [600.0, 847], \"y\": [1000.0, 914], \"mode\": \"lines\", \"line\": {\"width\": 2, \"color\": \"red\"}}, {\"type\": \"scatter\", \"x\": [600.0, 958], \"y\": [1400.0, 1117], \"mode\": \"lines\", \"line\": {\"width\": 2, \"color\": \"green\"}}, {\"type\": \"scatter\", \"x\": [200.0, 543], \"y\": [1000.0, 654], \"mode\": \"lines\", \"line\": {\"width\": 2, \"color\": \"green\"}}, {\"type\": \"scatter\", \"x\": [200.0, 512], \"y\": [1400.0, 1046], \"mode\": \"lines\", \"line\": {\"width\": 2, \"color\": \"green\"}}, {\"type\": \"scatter\", \"x\": [600.0, 899], \"y\": [1000.0, 615], \"mode\": \"lines\", \"line\": {\"width\": 2, \"color\": \"red\"}}, {\"type\": \"scatter\", \"x\": [1400.0, 1221], \"y\": [1000.0, 1026], \"mode\": \"lines\", \"line\": {\"width\": 2, \"color\": \"green\"}}, {\"type\": \"scatter\", \"x\": [600.0, 807], \"y\": [600.0, 835], \"mode\": \"lines\", \"line\": {\"width\": 2, \"color\": \"green\"}}, {\"type\": \"scatter\", \"x\": [600.0, 642], \"y\": [1400.0, 1025], \"mode\": \"lines\", \"line\": {\"width\": 2, \"color\": \"green\"}}, {\"type\": \"scatter\", \"x\": [1400.0, 1247], \"y\": [200.0, 23], \"mode\": \"lines\", \"line\": {\"width\": 2, \"color\": \"green\"}}, {\"type\": \"scatter\", \"x\": [1000.0, 874], \"y\": [600.0, 801], \"mode\": \"lines\", \"line\": {\"width\": 2, \"color\": \"green\"}}, {\"type\": \"scatter\", \"x\": [200.0, 571], \"y\": [1000.0, 845], \"mode\": \"lines\", \"line\": {\"width\": 2, \"color\": \"green\"}}, {\"type\": \"scatter\", \"x\": [600.0, 822], \"y\": [600.0, 952], \"mode\": \"lines\", \"line\": {\"width\": 2, \"color\": \"green\"}}, {\"type\": \"scatter\", \"x\": [1000.0, 940], \"y\": [600.0, 781], \"mode\": \"lines\", \"line\": {\"width\": 2, \"color\": \"green\"}}, {\"type\": \"scatter\", \"x\": [1000.0, 782], \"y\": [600.0, 895], \"mode\": \"lines\", \"line\": {\"width\": 2, \"color\": \"green\"}}, {\"type\": \"scatter\", \"x\": [1400.0, 1468], \"y\": [1000.0, 956], \"mode\": \"lines\", \"line\": {\"width\": 2, \"color\": \"green\"}}, {\"type\": \"scatter\", \"x\": [600.0, 925], \"y\": [1000.0, 801], \"mode\": \"lines\", \"line\": {\"width\": 2, \"color\": \"green\"}}, {\"type\": \"scatter\", \"x\": [200.0, 180], \"y\": [600.0, 503], \"mode\": \"lines\", \"line\": {\"width\": 2, \"color\": \"green\"}}, {\"type\": \"scatter\", \"x\": [200.0, 20], \"y\": [1000.0, 1136], \"mode\": \"lines\", \"line\": {\"width\": 2, \"color\": \"green\"}}, {\"type\": \"scatter\", \"x\": [1000.0, 1114], \"y\": [600.0, 915], \"mode\": \"lines\", \"line\": {\"width\": 2, \"color\": \"green\"}}, {\"type\": \"scatter\", \"x\": [200.0, 551], \"y\": [600.0, 971], \"mode\": \"lines\", \"line\": {\"width\": 2, \"color\": \"green\"}}, {\"type\": \"scatter\", \"x\": [1000.0, 617], \"y\": [200.0, 345], \"mode\": \"lines\", \"line\": {\"width\": 2, \"color\": \"green\"}}, {\"type\": \"scatter\", \"x\": [200.0, 10], \"y\": [200.0, 167], \"mode\": \"lines\", \"line\": {\"width\": 2, \"color\": \"green\"}}, {\"type\": \"scatter\", \"x\": [200.0, 244], \"y\": [1400.0, 1185], \"mode\": \"lines\", \"line\": {\"width\": 2, \"color\": \"green\"}}, {\"type\": \"scatter\", \"x\": [200.0, 118], \"y\": [200.0, 169], \"mode\": \"lines\", \"line\": {\"width\": 2, \"color\": \"green\"}}, {\"type\": \"scatter\", \"x\": [200.0, 208], \"y\": [200.0, 503], \"mode\": \"lines\", \"line\": {\"width\": 2, \"color\": \"green\"}}, {\"type\": \"scatter\", \"x\": [600.0, 885], \"y\": [1400.0, 1037], \"mode\": \"lines\", \"line\": {\"width\": 2, \"color\": \"green\"}}, {\"type\": \"scatter\", \"x\": [200.0, 575], \"y\": [1000.0, 614], \"mode\": \"lines\", \"line\": {\"width\": 2, \"color\": \"green\"}}, {\"type\": \"scatter\", \"x\": [1000.0, 691], \"y\": [1400.0, 1543], \"mode\": \"lines\", \"line\": {\"width\": 2, \"color\": \"green\"}}, {\"type\": \"scatter\", \"x\": [1000.0, 1095], \"y\": [1400.0, 1147], \"mode\": \"lines\", \"line\": {\"width\": 2, \"color\": \"green\"}}, {\"type\": \"scatter\", \"x\": [1400.0, 1402], \"y\": [600.0, 726], \"mode\": \"lines\", \"line\": {\"width\": 2, \"color\": \"green\"}}, {\"type\": \"scatter\", \"x\": [200.0, 357], \"y\": [1400.0, 1522], \"mode\": \"lines\", \"line\": {\"width\": 2, \"color\": \"green\"}}, {\"type\": \"scatter\", \"x\": [200.0, 592], \"y\": [600.0, 703], \"mode\": \"lines\", \"line\": {\"width\": 2, \"color\": \"green\"}}, {\"type\": \"scatter\", \"x\": [1000.0, 1016], \"y\": [1400.0, 1324], \"mode\": \"lines\", \"line\": {\"width\": 2, \"color\": \"green\"}}, {\"type\": \"scatter\", \"x\": [1400.0, 1031], \"y\": [600.0, 951], \"mode\": \"lines\", \"line\": {\"width\": 2, \"color\": \"red\"}}, {\"type\": \"scatter\", \"x\": [1400.0, 1582], \"y\": [1000.0, 1030], \"mode\": \"lines\", \"line\": {\"width\": 2, \"color\": \"green\"}}, {\"type\": \"scatter\", \"x\": [1400.0, 1152], \"y\": [1400.0, 1563], \"mode\": \"lines\", \"line\": {\"width\": 2, \"color\": \"green\"}}, {\"type\": \"scatter\", \"x\": [1400.0, 1198], \"y\": [600.0, 994], \"mode\": \"lines\", \"line\": {\"width\": 2, \"color\": \"green\"}}, {\"type\": \"scatter\", \"x\": [600.0, 216], \"y\": [1000.0, 1092], \"mode\": \"lines\", \"line\": {\"width\": 2, \"color\": \"green\"}}, {\"type\": \"scatter\", \"x\": [200.0, 514], \"y\": [600.0, 657], \"mode\": \"lines\", \"line\": {\"width\": 2, \"color\": \"green\"}}, {\"type\": \"scatter\", \"x\": [1000.0, 1267], \"y\": [200.0, 59], \"mode\": \"lines\", \"line\": {\"width\": 2, \"color\": \"green\"}}, {\"type\": \"scatter\", \"x\": [1000.0, 1381], \"y\": [600.0, 590], \"mode\": \"lines\", \"line\": {\"width\": 2, \"color\": \"green\"}}, {\"type\": \"scatter\", \"x\": [1000.0, 691], \"y\": [600.0, 993], \"mode\": \"lines\", \"line\": {\"width\": 2, \"color\": \"green\"}}, {\"type\": \"scatter\", \"x\": [200.0, 580], \"y\": [600.0, 903], \"mode\": \"lines\", \"line\": {\"width\": 2, \"color\": \"green\"}}, {\"type\": \"scatter\", \"x\": [600.0, 766], \"y\": [1400.0, 1400], \"mode\": \"lines\", \"line\": {\"width\": 2, \"color\": \"green\"}}, {\"type\": \"scatter\", \"x\": [600.0, 929], \"y\": [200.0, 89], \"mode\": \"lines\", \"line\": {\"width\": 2, \"color\": \"green\"}}, {\"type\": \"scatter\", \"x\": [200.0, 75], \"y\": [600.0, 906], \"mode\": \"lines\", \"line\": {\"width\": 2, \"color\": \"green\"}}, {\"type\": \"scatter\", \"x\": [1000.0, 618], \"y\": [1400.0, 1025], \"mode\": \"lines\", \"line\": {\"width\": 2, \"color\": \"green\"}}, {\"type\": \"scatter\", \"x\": [1400.0, 1452], \"y\": [600.0, 889], \"mode\": \"lines\", \"line\": {\"width\": 2, \"color\": \"green\"}}, {\"type\": \"scatter\", \"x\": [200.0, 321], \"y\": [200.0, 357], \"mode\": \"lines\", \"line\": {\"width\": 2, \"color\": \"green\"}}, {\"type\": \"scatter\", \"x\": [200.0, 97], \"y\": [600.0, 916], \"mode\": \"lines\", \"line\": {\"width\": 2, \"color\": \"green\"}}, {\"type\": \"scatter\", \"x\": [200.0, 86], \"y\": [1400.0, 1173], \"mode\": \"lines\", \"line\": {\"width\": 2, \"color\": \"green\"}}, {\"type\": \"scatter\", \"x\": [600.0, 629], \"y\": [1000.0, 1000], \"mode\": \"lines\", \"line\": {\"width\": 2, \"color\": \"red\"}}, {\"type\": \"scatter\", \"x\": [200.0, 209], \"y\": [1000.0, 765], \"mode\": \"lines\", \"line\": {\"width\": 2, \"color\": \"green\"}}, {\"type\": \"scatter\", \"x\": [200.0, 591], \"y\": [1400.0, 1493], \"mode\": \"lines\", \"line\": {\"width\": 2, \"color\": \"green\"}}, {\"type\": \"scatter\", \"x\": [200.0, 117], \"y\": [200.0, 50], \"mode\": \"lines\", \"line\": {\"width\": 2, \"color\": \"green\"}}, {\"type\": \"scatter\", \"x\": [600.0, 624], \"y\": [600.0, 675], \"mode\": \"lines\", \"line\": {\"width\": 2, \"color\": \"green\"}}, {\"type\": \"scatter\", \"x\": [1000.0, 678], \"y\": [1000.0, 773], \"mode\": \"lines\", \"line\": {\"width\": 2, \"color\": \"red\"}}, {\"type\": \"scatter\", \"x\": [1400.0, 1060], \"y\": [600.0, 857], \"mode\": \"lines\", \"line\": {\"width\": 2, \"color\": \"green\"}}, {\"type\": \"scatter\", \"x\": [600.0, 570], \"y\": [200.0, 138], \"mode\": \"lines\", \"line\": {\"width\": 2, \"color\": \"green\"}}, {\"type\": \"scatter\", \"x\": [600.0, 630], \"y\": [1000.0, 1309], \"mode\": \"lines\", \"line\": {\"width\": 2, \"color\": \"green\"}}, {\"type\": \"scatter\", \"x\": [200.0, 1], \"y\": [1400.0, 1422], \"mode\": \"lines\", \"line\": {\"width\": 2, \"color\": \"green\"}}, {\"type\": \"scatter\", \"x\": [600.0, 766], \"y\": [1400.0, 1258], \"mode\": \"lines\", \"line\": {\"width\": 2, \"color\": \"green\"}}, {\"type\": \"scatter\", \"x\": [1000.0, 704], \"y\": [600.0, 723], \"mode\": \"lines\", \"line\": {\"width\": 2, \"color\": \"green\"}}, {\"type\": \"scatter\", \"x\": [1400.0, 1420], \"y\": [600.0, 657], \"mode\": \"lines\", \"line\": {\"width\": 2, \"color\": \"green\"}}, {\"type\": \"scatter\", \"x\": [600.0, 731], \"y\": [600.0, 663], \"mode\": \"lines\", \"line\": {\"width\": 2, \"color\": \"green\"}}, {\"type\": \"scatter\", \"x\": [600.0, 743], \"y\": [200.0, 385], \"mode\": \"lines\", \"line\": {\"width\": 2, \"color\": \"green\"}}, {\"type\": \"scatter\", \"x\": [200.0, 525], \"y\": [1000.0, 1393], \"mode\": \"lines\", \"line\": {\"width\": 2, \"color\": \"green\"}}, {\"type\": \"scatter\", \"x\": [1000.0, 772], \"y\": [1400.0, 1097], \"mode\": \"lines\", \"line\": {\"width\": 2, \"color\": \"green\"}}, {\"type\": \"scatter\", \"x\": [200.0, 333], \"y\": [600.0, 539], \"mode\": \"lines\", \"line\": {\"width\": 2, \"color\": \"green\"}}, {\"type\": \"scatter\", \"x\": [200.0, 519], \"y\": [600.0, 928], \"mode\": \"lines\", \"line\": {\"width\": 2, \"color\": \"green\"}}, {\"type\": \"scatter\", \"x\": [600.0, 524], \"y\": [600.0, 343], \"mode\": \"lines\", \"line\": {\"width\": 2, \"color\": \"green\"}}, {\"type\": \"scatter\", \"x\": [600.0, 727], \"y\": [600.0, 284], \"mode\": \"lines\", \"line\": {\"width\": 2, \"color\": \"green\"}}, {\"type\": \"scatter\", \"x\": [1400.0, 1520], \"y\": [200.0, 386], \"mode\": \"lines\", \"line\": {\"width\": 2, \"color\": \"green\"}}, {\"type\": \"scatter\", \"x\": [600.0, 670], \"y\": [600.0, 660], \"mode\": \"lines\", \"line\": {\"width\": 2, \"color\": \"red\"}}, {\"type\": \"scatter\", \"x\": [200.0, 382], \"y\": [1400.0, 1364], \"mode\": \"lines\", \"line\": {\"width\": 2, \"color\": \"green\"}}, {\"type\": \"scatter\", \"x\": [600.0, 442], \"y\": [1000.0, 982], \"mode\": \"lines\", \"line\": {\"width\": 2, \"color\": \"green\"}}, {\"type\": \"scatter\", \"x\": [200.0, 549], \"y\": [600.0, 697], \"mode\": \"lines\", \"line\": {\"width\": 2, \"color\": \"green\"}}, {\"type\": \"scatter\", \"x\": [1000.0, 1112], \"y\": [1000.0, 864], \"mode\": \"lines\", \"line\": {\"width\": 2, \"color\": \"green\"}}, {\"type\": \"scatter\", \"x\": [600.0, 230], \"y\": [1000.0, 1178], \"mode\": \"lines\", \"line\": {\"width\": 2, \"color\": \"green\"}}, {\"type\": \"scatter\", \"x\": [200.0, 518], \"y\": [600.0, 954], \"mode\": \"lines\", \"line\": {\"width\": 2, \"color\": \"green\"}}, {\"type\": \"scatter\", \"x\": [200.0, 2], \"y\": [1400.0, 1562], \"mode\": \"lines\", \"line\": {\"width\": 2, \"color\": \"green\"}}, {\"type\": \"scatter\", \"x\": [1400.0, 1484], \"y\": [1400.0, 1007], \"mode\": \"lines\", \"line\": {\"width\": 2, \"color\": \"green\"}}, {\"type\": \"scatter\", \"x\": [200.0, 154], \"y\": [1400.0, 1504], \"mode\": \"lines\", \"line\": {\"width\": 2, \"color\": \"green\"}}, {\"type\": \"scatter\", \"x\": [1000.0, 846], \"y\": [1000.0, 764], \"mode\": \"lines\", \"line\": {\"width\": 2, \"color\": \"red\"}}, {\"type\": \"scatter\", \"x\": [1000.0, 871], \"y\": [1400.0, 1564], \"mode\": \"lines\", \"line\": {\"width\": 2, \"color\": \"green\"}}, {\"type\": \"scatter\", \"x\": [1400.0, 1022], \"y\": [600.0, 778], \"mode\": \"lines\", \"line\": {\"width\": 2, \"color\": \"green\"}}, {\"type\": \"scatter\", \"x\": [600.0, 897], \"y\": [1400.0, 1048], \"mode\": \"lines\", \"line\": {\"width\": 2, \"color\": \"green\"}}, {\"type\": \"scatter\", \"x\": [1000.0, 945], \"y\": [1000.0, 831], \"mode\": \"lines\", \"line\": {\"width\": 2, \"color\": \"red\"}}, {\"type\": \"scatter\", \"x\": [600.0, 324], \"y\": [1000.0, 1158], \"mode\": \"lines\", \"line\": {\"width\": 2, \"color\": \"green\"}}, {\"type\": \"scatter\", \"x\": [1000.0, 911], \"y\": [1000.0, 1189], \"mode\": \"lines\", \"line\": {\"width\": 2, \"color\": \"green\"}}, {\"type\": \"scatter\", \"x\": [1000.0, 649], \"y\": [600.0, 733], \"mode\": \"lines\", \"line\": {\"width\": 2, \"color\": \"green\"}}, {\"type\": \"scatter\", \"x\": [1000.0, 1238], \"y\": [200.0, 467], \"mode\": \"lines\", \"line\": {\"width\": 2, \"color\": \"green\"}}, {\"type\": \"scatter\", \"x\": [200.0, 438], \"y\": [1000.0, 853], \"mode\": \"lines\", \"line\": {\"width\": 2, \"color\": \"green\"}}, {\"type\": \"scatter\", \"x\": [600.0, 714], \"y\": [1000.0, 786], \"mode\": \"lines\", \"line\": {\"width\": 2, \"color\": \"green\"}}, {\"type\": \"scatter\", \"x\": [1400.0, 1320], \"y\": [1400.0, 1125], \"mode\": \"lines\", \"line\": {\"width\": 2, \"color\": \"green\"}}, {\"type\": \"scatter\", \"x\": [1000.0, 1184], \"y\": [1400.0, 1485], \"mode\": \"lines\", \"line\": {\"width\": 2, \"color\": \"green\"}}, {\"type\": \"scatter\", \"x\": [1000.0, 883], \"y\": [1000.0, 752], \"mode\": \"lines\", \"line\": {\"width\": 2, \"color\": \"red\"}}, {\"type\": \"scatter\", \"x\": [1400.0, 1382], \"y\": [200.0, 286], \"mode\": \"lines\", \"line\": {\"width\": 2, \"color\": \"green\"}}, {\"type\": \"scatter\", \"x\": [1400.0, 1101], \"y\": [200.0, 455], \"mode\": \"lines\", \"line\": {\"width\": 2, \"color\": \"green\"}}, {\"type\": \"scatter\", \"x\": [600.0, 251], \"y\": [200.0, 252], \"mode\": \"lines\", \"line\": {\"width\": 2, \"color\": \"green\"}}, {\"type\": \"scatter\", \"x\": [600.0, 866], \"y\": [200.0, 576], \"mode\": \"lines\", \"line\": {\"width\": 2, \"color\": \"green\"}}, {\"type\": \"scatter\", \"x\": [200.0, 514], \"y\": [1400.0, 1074], \"mode\": \"lines\", \"line\": {\"width\": 2, \"color\": \"green\"}}, {\"type\": \"scatter\", \"x\": [1400.0, 1588], \"y\": [1400.0, 1455], \"mode\": \"lines\", \"line\": {\"width\": 2, \"color\": \"green\"}}, {\"type\": \"scatter\", \"x\": [600.0, 948], \"y\": [1400.0, 1038], \"mode\": \"lines\", \"line\": {\"width\": 2, \"color\": \"red\"}}, {\"type\": \"scatter\", \"x\": [200.0, 66], \"y\": [1000.0, 1235], \"mode\": \"lines\", \"line\": {\"width\": 2, \"color\": \"green\"}}, {\"type\": \"scatter\", \"x\": [1400.0, 1402], \"y\": [200.0, 407], \"mode\": \"lines\", \"line\": {\"width\": 2, \"color\": \"green\"}}, {\"type\": \"scatter\", \"x\": [1400.0, 1069], \"y\": [200.0, 545], \"mode\": \"lines\", \"line\": {\"width\": 2, \"color\": \"green\"}}, {\"type\": \"scatter\", \"x\": [1000.0, 1345], \"y\": [200.0, 0], \"mode\": \"lines\", \"line\": {\"width\": 2, \"color\": \"green\"}}, {\"type\": \"scatter\", \"x\": [600.0, 718], \"y\": [1400.0, 1163], \"mode\": \"lines\", \"line\": {\"width\": 2, \"color\": \"green\"}}, {\"type\": \"scatter\", \"x\": [200.0, 593], \"y\": [600.0, 938], \"mode\": \"lines\", \"line\": {\"width\": 2, \"color\": \"green\"}}, {\"type\": \"scatter\", \"x\": [1400.0, 1017], \"y\": [1000.0, 1000], \"mode\": \"lines\", \"line\": {\"width\": 2, \"color\": \"green\"}}, {\"type\": \"scatter\", \"x\": [1000.0, 1062], \"y\": [1000.0, 906], \"mode\": \"lines\", \"line\": {\"width\": 2, \"color\": \"red\"}}, {\"type\": \"scatter\", \"x\": [1400.0, 1415], \"y\": [1000.0, 898], \"mode\": \"lines\", \"line\": {\"width\": 2, \"color\": \"green\"}}, {\"type\": \"scatter\", \"x\": [600.0, 871], \"y\": [200.0, 215], \"mode\": \"lines\", \"line\": {\"width\": 2, \"color\": \"green\"}}, {\"type\": \"scatter\", \"x\": [1000.0, 851], \"y\": [200.0, 568], \"mode\": \"lines\", \"line\": {\"width\": 2, \"color\": \"green\"}}, {\"type\": \"scatter\", \"x\": [200.0, 395], \"y\": [1400.0, 1425], \"mode\": \"lines\", \"line\": {\"width\": 2, \"color\": \"green\"}}, {\"type\": \"scatter\", \"x\": [1000.0, 1331], \"y\": [200.0, 525], \"mode\": \"lines\", \"line\": {\"width\": 2, \"color\": \"green\"}}, {\"type\": \"scatter\", \"x\": [1400.0, 1492], \"y\": [200.0, 470], \"mode\": \"lines\", \"line\": {\"width\": 2, \"color\": \"green\"}}, {\"type\": \"scatter\", \"x\": [1400.0, 1544], \"y\": [600.0, 691], \"mode\": \"lines\", \"line\": {\"width\": 2, \"color\": \"green\"}}, {\"type\": \"scatter\", \"x\": [600.0, 369], \"y\": [200.0, 165], \"mode\": \"lines\", \"line\": {\"width\": 2, \"color\": \"green\"}}, {\"type\": \"scatter\", \"x\": [1400.0, 1526], \"y\": [600.0, 859], \"mode\": \"lines\", \"line\": {\"width\": 2, \"color\": \"green\"}}, {\"type\": \"scatter\", \"x\": [600.0, 713], \"y\": [1000.0, 799], \"mode\": \"lines\", \"line\": {\"width\": 2, \"color\": \"green\"}}, {\"type\": \"scatter\", \"x\": [1400.0, 1189], \"y\": [1000.0, 1111], \"mode\": \"lines\", \"line\": {\"width\": 2, \"color\": \"green\"}}, {\"type\": \"scatter\", \"x\": [200.0, 524], \"y\": [1400.0, 1363], \"mode\": \"lines\", \"line\": {\"width\": 2, \"color\": \"green\"}}, {\"type\": \"scatter\", \"x\": [1000.0, 1102], \"y\": [1000.0, 1036], \"mode\": \"lines\", \"line\": {\"width\": 2, \"color\": \"green\"}}, {\"type\": \"scatter\", \"x\": [1000.0, 787], \"y\": [200.0, 526], \"mode\": \"lines\", \"line\": {\"width\": 2, \"color\": \"green\"}}, {\"type\": \"scatter\", \"x\": [200.0, 518], \"y\": [1000.0, 712], \"mode\": \"lines\", \"line\": {\"width\": 2, \"color\": \"green\"}}, {\"type\": \"scatter\", \"x\": [600.0, 718], \"y\": [1400.0, 1399], \"mode\": \"lines\", \"line\": {\"width\": 2, \"color\": \"green\"}}, {\"type\": \"scatter\", \"x\": [1400.0, 1041], \"y\": [200.0, 84], \"mode\": \"lines\", \"line\": {\"width\": 2, \"color\": \"green\"}}, {\"type\": \"scatter\", \"x\": [600.0, 838], \"y\": [1000.0, 858], \"mode\": \"lines\", \"line\": {\"width\": 2, \"color\": \"green\"}}, {\"type\": \"scatter\", \"x\": [1400.0, 1184], \"y\": [200.0, 157], \"mode\": \"lines\", \"line\": {\"width\": 2, \"color\": \"green\"}}, {\"type\": \"scatter\", \"x\": [1000.0, 939], \"y\": [1400.0, 1085], \"mode\": \"lines\", \"line\": {\"width\": 2, \"color\": \"green\"}}, {\"type\": \"scatter\", \"x\": [600.0, 888], \"y\": [600.0, 646], \"mode\": \"lines\", \"line\": {\"width\": 2, \"color\": \"green\"}}, {\"type\": \"scatter\", \"x\": [600.0, 512], \"y\": [1000.0, 1134], \"mode\": \"lines\", \"line\": {\"width\": 2, \"color\": \"green\"}}, {\"type\": \"scatter\", \"x\": [1400.0, 1162], \"y\": [1000.0, 1131], \"mode\": \"lines\", \"line\": {\"width\": 2, \"color\": \"green\"}}, {\"type\": \"scatter\", \"x\": [200.0, 60], \"y\": [1000.0, 1033], \"mode\": \"lines\", \"line\": {\"width\": 2, \"color\": \"green\"}}, {\"type\": \"scatter\", \"x\": [600.0, 280], \"y\": [600.0, 904], \"mode\": \"lines\", \"line\": {\"width\": 2, \"color\": \"green\"}}, {\"type\": \"scatter\", \"x\": [1000.0, 1366], \"y\": [600.0, 603], \"mode\": \"lines\", \"line\": {\"width\": 2, \"color\": \"green\"}}, {\"type\": \"scatter\", \"x\": [1400.0, 1004], \"y\": [1000.0, 855], \"mode\": \"lines\", \"line\": {\"width\": 2, \"color\": \"green\"}}, {\"type\": \"scatter\", \"x\": [600.0, 945], \"y\": [600.0, 773], \"mode\": \"lines\", \"line\": {\"width\": 2, \"color\": \"green\"}}, {\"type\": \"scatter\", \"x\": [1000.0, 951], \"y\": [1000.0, 951], \"mode\": \"lines\", \"line\": {\"width\": 2, \"color\": \"green\"}}, {\"type\": \"scatter\", \"x\": [600.0, 560], \"y\": [1000.0, 679], \"mode\": \"lines\", \"line\": {\"width\": 2, \"color\": \"green\"}}, {\"type\": \"scatter\", \"x\": [1000.0, 1391], \"y\": [200.0, 406], \"mode\": \"lines\", \"line\": {\"width\": 2, \"color\": \"green\"}}, {\"type\": \"scatter\", \"x\": [1400.0, 1125], \"y\": [1000.0, 1227], \"mode\": \"lines\", \"line\": {\"width\": 2, \"color\": \"green\"}}, {\"type\": \"scatter\", \"x\": [1000.0, 933], \"y\": [1400.0, 1280], \"mode\": \"lines\", \"line\": {\"width\": 2, \"color\": \"green\"}}, {\"type\": \"scatter\", \"x\": [600.0, 859], \"y\": [600.0, 532], \"mode\": \"lines\", \"line\": {\"width\": 2, \"color\": \"green\"}}, {\"type\": \"scatter\", \"x\": [600.0, 344], \"y\": [200.0, 526], \"mode\": \"lines\", \"line\": {\"width\": 2, \"color\": \"green\"}}, {\"type\": \"scatter\", \"x\": [200.0, 200.0, 200.0, 200.0, 600.0, 600.0, 600.0, 600.0, 1000.0, 1000.0, 1000.0, 1000.0, 1400.0, 1400.0, 1400.0, 1400.0, 1222, 1356, 920, 904, 975, 773, 278, 1014, 972, 718, 984, 660, 1257, 867, 668, 984, 1535, 600, 132, 900, 153, 979, 1548, 975, 1425, 472, 358, 612, 1306, 620, 687, 874, 190, 529, 636, 679, 857, 708, 1510, 505, 1207, 811, 965, 528, 1019, 242, 805, 343, 983, 1464, 1114, 1542, 981, 847, 958, 543, 512, 899, 1221, 807, 642, 1247, 874, 571, 822, 940, 782, 1468, 925, 180, 20, 1114, 551, 617, 10, 244, 118, 208, 885, 575, 691, 1095, 1402, 357, 592, 1016, 1031, 1582, 1152, 1198, 216, 514, 1267, 1381, 691, 580, 766, 929, 75, 618, 1452, 321, 97, 86, 629, 209, 591, 117, 624, 678, 1060, 570, 630, 1, 766, 704, 1420, 731, 743, 525, 772, 333, 519, 524, 727, 1520, 670, 382, 442, 549, 1112, 230, 518, 2, 1484, 154, 846, 871, 1022, 897, 945, 324, 911, 649, 1238, 438, 714, 1320, 1184, 883, 1382, 1101, 251, 866, 514, 1588, 948, 66, 1402, 1069, 1345, 718, 593, 1017, 1062, 1415, 871, 851, 395, 1331, 1492, 1544, 369, 1526, 713, 1189, 524, 1102, 787, 518, 718, 1041, 838, 1184, 939, 888, 512, 1162, 60, 280, 1366, 1004, 945, 951, 560, 1391, 1125, 933, 859, 344], \"y\": [200.0, 600.0, 1000.0, 1400.0, 200.0, 600.0, 1000.0, 1400.0, 200.0, 600.0, 1000.0, 1400.0, 200.0, 600.0, 1000.0, 1400.0, 1090, 1139, 590, 940, 970, 967, 209, 583, 824, 719, 955, 1424, 779, 1125, 654, 944, 203, 533, 238, 268, 1462, 913, 688, 339, 1146, 138, 295, 1089, 556, 707, 936, 412, 933, 956, 1469, 508, 1426, 1143, 398, 568, 1493, 969, 143, 921, 1372, 204, 566, 338, 909, 307, 834, 418, 571, 914, 1117, 654, 1046, 615, 1026, 835, 1025, 23, 801, 845, 952, 781, 895, 956, 801, 503, 1136, 915, 971, 345, 167, 1185, 169, 503, 1037, 614, 1543, 1147, 726, 1522, 703, 1324, 951, 1030, 1563, 994, 1092, 657, 59, 590, 993, 903, 1400, 89, 906, 1025, 889, 357, 916, 1173, 1000, 765, 1493, 50, 675, 773, 857, 138, 1309, 1422, 1258, 723, 657, 663, 385, 1393, 1097, 539, 928, 343, 284, 386, 660, 1364, 982, 697, 864, 1178, 954, 1562, 1007, 1504, 764, 1564, 778, 1048, 831, 1158, 1189, 733, 467, 853, 786, 1125, 1485, 752, 286, 455, 252, 576, 1074, 1455, 1038, 1235, 407, 545, 0, 1163, 938, 1000, 906, 898, 215, 568, 1425, 525, 470, 691, 165, 859, 799, 1111, 1363, 1036, 526, 712, 1399, 84, 858, 157, 1085, 646, 1134, 1131, 1033, 904, 603, 855, 773, 951, 679, 406, 1227, 1280, 532, 526], \"mode\": \"markers\", \"marker\": {\"size\": 8, \"color\": [\"black\", \"black\", \"black\", \"black\", \"black\", \"black\", \"black\", \"black\", \"black\", \"black\", \"black\", \"black\", \"black\", \"black\", \"black\", \"black\", \"magenta\", \"magenta\", \"blue\", \"blue\", \"blue\", \"blue\", \"magenta\", \"blue\", \"magenta\", \"blue\", \"blue\", \"magenta\", \"magenta\", \"magenta\", \"blue\", \"blue\", \"magenta\", \"blue\", \"magenta\", \"magenta\", \"magenta\", \"blue\", \"magenta\", \"magenta\", \"magenta\", \"magenta\", \"magenta\", \"blue\", \"magenta\", \"magenta\", \"blue\", \"magenta\", \"magenta\", \"blue\", \"magenta\", \"blue\", \"magenta\", \"magenta\", \"magenta\", \"magenta\", \"magenta\", \"blue\", \"magenta\", \"blue\", \"magenta\", \"magenta\", \"blue\", \"magenta\", \"blue\", \"magenta\", \"magenta\", \"magenta\", \"blue\", \"blue\", \"magenta\", \"blue\", \"blue\", \"blue\", \"magenta\", \"blue\", \"blue\", \"magenta\", \"magenta\", \"blue\", \"magenta\", \"magenta\", \"magenta\", \"magenta\", \"blue\", \"magenta\", \"magenta\", \"magenta\", \"blue\", \"magenta\", \"magenta\", \"magenta\", \"magenta\", \"magenta\", \"blue\", \"blue\", \"magenta\", \"magenta\", \"magenta\", \"magenta\", \"blue\", \"magenta\", \"blue\", \"magenta\", \"magenta\", \"magenta\", \"magenta\", \"blue\", \"magenta\", \"magenta\", \"magenta\", \"magenta\", \"magenta\", \"magenta\", \"magenta\", \"blue\", \"magenta\", \"magenta\", \"magenta\", \"magenta\", \"blue\", \"magenta\", \"magenta\", \"magenta\", \"magenta\", \"blue\", \"blue\", \"magenta\", \"magenta\", \"magenta\", \"magenta\", \"blue\", \"magenta\", \"magenta\", \"magenta\", \"magenta\", \"blue\", \"magenta\", \"magenta\", \"magenta\", \"magenta\", \"magenta\", \"blue\", \"magenta\", \"magenta\", \"blue\", \"magenta\", \"magenta\", \"blue\", \"magenta\", \"magenta\", \"magenta\", \"blue\", \"magenta\", \"blue\", \"blue\", \"blue\", \"magenta\", \"magenta\", \"blue\", \"magenta\", \"magenta\", \"magenta\", \"magenta\", \"magenta\", \"blue\", \"magenta\", \"magenta\", \"magenta\", \"blue\", \"blue\", \"magenta\", \"blue\", \"magenta\", \"magenta\", \"blue\", \"magenta\", \"magenta\", \"blue\", \"blue\", \"blue\", \"magenta\", \"magenta\", \"blue\", \"magenta\", \"magenta\", \"magenta\", \"magenta\", \"magenta\", \"magenta\", \"magenta\", \"magenta\", \"magenta\", \"magenta\", \"blue\", \"blue\", \"magenta\", \"magenta\", \"blue\", \"magenta\", \"blue\", \"blue\", \"magenta\", \"magenta\", \"magenta\", \"magenta\", \"magenta\", \"blue\", \"magenta\", \"blue\", \"magenta\", \"magenta\", \"magenta\", \"magenta\", \"magenta\", \"magenta\"]}}], {\"xaxis\": {\"range\": [0, 1600], \"title\": \"x\"}, \"yaxis\": {\"range\": [0, 1600], \"title\": \"y\"}, \"title\": \"UE and AP Distribution in the grid\", \"height\": 600, \"width\": 800, \"showlegend\": false}, {\"showLink\": true, \"linkText\": \"Export to plot.ly\"})});</script>"
      ]
     },
     "metadata": {},
     "output_type": "display_data"
    }
   ],
   "source": [
    "# Show distribution of UEs and APs\n",
    "ue_ap_list = result.UE_AP_LIST[0]\n",
    "nodes = [(0, 0)]\n",
    "nodes += [tuple(x.location) for x in ue_ap_list]\n",
    "\n",
    "edges = []\n",
    "edge_color = []\n",
    "# edge_color = ['green'] * (len(edges))\n",
    "\n",
    "# add edges between UE and AP\n",
    "for i, ue in enumerate(ue_ap_list[16:]):\n",
    "    if ue.sla == 1:\n",
    "        color = \"green\"\n",
    "    else:\n",
    "        color = \"red\"\n",
    "    edges.append((ue.ap, i+17))\n",
    "    edge_color.append(color)\n",
    "\n",
    "    \n",
    "nodes_color = []\n",
    "nodes_color += ['black'] * 16\n",
    "\n",
    "for ue in ue_ap_list[16:]:\n",
    "    if ue.app == 2:\n",
    "        # video UEs\n",
    "        color = 'blue'\n",
    "    else:\n",
    "        # Web UEs\n",
    "        color = 'magenta'\n",
    "    nodes_color.append(color)\n",
    "\n",
    "\n",
    "\n",
    "\n",
    "n_x, n_y = zip(*nodes[1:])\n",
    "nodes_dict=dict(type='scatter',\n",
    "           x=n_x,\n",
    "           y=n_y,\n",
    "           mode='markers',\n",
    "           marker=dict(size=8, color=nodes_color))\n",
    "\n",
    "edges_list = []\n",
    "for k, e in enumerate(edges):\n",
    "    info = dict(\n",
    "        type='scatter',\n",
    "        x=[nodes[e[0]][0], nodes[e[1]][0]],\n",
    "        y=[nodes[e[0]][1], nodes[e[1]][1]],\n",
    "        mode='lines',\n",
    "        line=dict(width=2, color=edge_color[k])\n",
    "    )\n",
    "    edges_list.append(info)\n",
    "\n",
    "data=edges_list+[nodes_dict]\n",
    "\n",
    "layout_dict = dict(xaxis={'range': [0, 1600], 'title': 'x'},\n",
    "              yaxis={'range': [0, 1600], 'title': 'y'},\n",
    "              title=\"UE and AP Distribution in the grid\",\n",
    "              height=600,\n",
    "              width=800,\n",
    "              showlegend=False\n",
    "              )\n",
    "layout = go.Layout(layout_dict)\n",
    "\n",
    "fig=dict(data=data, layout=layout)\n",
    "\n",
    "plotly.offline.iplot(fig)"
   ]
  },
  {
   "cell_type": "code",
   "execution_count": null,
   "metadata": {},
   "outputs": [],
   "source": []
  },
  {
   "cell_type": "code",
   "execution_count": null,
   "metadata": {},
   "outputs": [],
   "source": []
  },
  {
   "cell_type": "code",
   "execution_count": 9,
   "metadata": {},
   "outputs": [
    {
     "data": {
      "application/vnd.plotly.v1+json": {
       "data": [
        {
         "name": "Rewards",
         "type": "scatter",
         "x": 400,
         "y": [
          331.75,
          353.25,
          340.5,
          358.5,
          330,
          322.75,
          325.25,
          336,
          341.75,
          359,
          352,
          344.5,
          348.5,
          346,
          349,
          351.25,
          354,
          341.25,
          318.25,
          324.25,
          334.25,
          346.5,
          353.5,
          334.5,
          343.5,
          342.25,
          338.5,
          373.25,
          359.75,
          352.5,
          366.75,
          358.25,
          363.75,
          355,
          351.25,
          355.5,
          366.25,
          359.25,
          351.75,
          365,
          367.75,
          358.5,
          364.25,
          369.75,
          358.25,
          361,
          362.5,
          362.75,
          364.25,
          368.5,
          349,
          364.25,
          368.25,
          382,
          373.75,
          379.75,
          369,
          373,
          362.25,
          356.25,
          359.25,
          358.75,
          357.25,
          349.5,
          360.5,
          346,
          352.25,
          334,
          336.25,
          321.5,
          326.75,
          305.5,
          323.75,
          325,
          326.75,
          348.75,
          348.5,
          348.5,
          343.25,
          347.5,
          309.5,
          306.75,
          317.75,
          330.75,
          333.25,
          338.5,
          320.25,
          319,
          311.5,
          320.5,
          310.75,
          323,
          322.25,
          329,
          324.25,
          315.25,
          327,
          325.25,
          331.5,
          352.5,
          348.75,
          349.25,
          326,
          316.25,
          323,
          316.25,
          326.75,
          331,
          354,
          341,
          336.5,
          342,
          336,
          329,
          336,
          340.75,
          335.25,
          343.5,
          349.75,
          350.75,
          352.75,
          354,
          346.25,
          345.25,
          341.75,
          339,
          332,
          339.75,
          331.5,
          336.75,
          342.25,
          339.75,
          334.75,
          337.75,
          324.75,
          330,
          337.25,
          348.75,
          324.75,
          330.5,
          336.75,
          342.75,
          338.5,
          319.25,
          317.5,
          325.75,
          323.5,
          319.5,
          329,
          335.5,
          331.25,
          324,
          324.75,
          321.75,
          299.25,
          300.75,
          313.5,
          323,
          311.25,
          313.25,
          311.25,
          317.75,
          330.75,
          322,
          320,
          325.75,
          323,
          331.25,
          330.75,
          321.75,
          361,
          353.25,
          351,
          339.25,
          353.25,
          375.75,
          367.5,
          391,
          390.25,
          371.75,
          380.25,
          375.25,
          376,
          376.25,
          371,
          368,
          361.25,
          364,
          349.5,
          362.5,
          357.75,
          368.5,
          362.25,
          352.5,
          367.5,
          357.75,
          361.5,
          341.25,
          348.75,
          354.25,
          357.5,
          354.75,
          339.25,
          344.75,
          342.5,
          324.75,
          360,
          357,
          355,
          395.5,
          390.5,
          379.75,
          376.5,
          386,
          380.25,
          389.5,
          367.5,
          378,
          363.5,
          376.25,
          379.5,
          372,
          368.75,
          373.25,
          380.75,
          387,
          372.5,
          391,
          388,
          381.75,
          391.5,
          397,
          371.25,
          374.75,
          345.75,
          359,
          348.25,
          348.5,
          352,
          324.5,
          331.25,
          379.5,
          374.5,
          370,
          362.5,
          359,
          364.75,
          352.25,
          358.5,
          362.5,
          357,
          367.75,
          357.75,
          369.75,
          365.75,
          390.75,
          385,
          397.75,
          399.25,
          404.25,
          381,
          390.75,
          384.25,
          374.25,
          377.75,
          376.5,
          361.75,
          363,
          355.5,
          372.5,
          386.5,
          383.25,
          392.25,
          375.5,
          364,
          371,
          370.25,
          371.25,
          348,
          343,
          353,
          334.25,
          330,
          349.25,
          335,
          350.5,
          345.25,
          342.75,
          362,
          355.25,
          359,
          359.25,
          349.25,
          372.75,
          341.75,
          335.75,
          348.75,
          351.5,
          352,
          341.5,
          342,
          388.5,
          360.25,
          358.5,
          356.25,
          323,
          320.75,
          322,
          345.5,
          337.25,
          343,
          321.25,
          349.75,
          359.25,
          338.25,
          359.25,
          362,
          347.25,
          367.25,
          363,
          364.75,
          366.75,
          347,
          324.5,
          338.75,
          338.5,
          336.75,
          330.25,
          321.25,
          339.25,
          357.75,
          343.75,
          343.75,
          349,
          344,
          358.5,
          325.5,
          348.25,
          362.25,
          364.25,
          342.25,
          354.25,
          376,
          367.25,
          351,
          350.5,
          372,
          361.25,
          342,
          323,
          351.25,
          357,
          351,
          353,
          355.25,
          345,
          341.25,
          348.25,
          347.25,
          340.5,
          337,
          337.75,
          355.25,
          387.75,
          389.5,
          365.75,
          363.75,
          359.5,
          372.25,
          385.5,
          406.5,
          396.75,
          401.25,
          392.25,
          403.5,
          396.75,
          390.5,
          401.25,
          407.5,
          396.25,
          380.25,
          396.25,
          379.25,
          397,
          377.75,
          401,
          391.75,
          385.75,
          382.75,
          399.75,
          385,
          396.25,
          393.5,
          398,
          396.75,
          409,
          399.25,
          395.25,
          398,
          380.25
         ]
        }
       ],
       "layout": {
        "height": 500,
        "showlegend": true,
        "title": "Rewards over time",
        "width": 800,
        "xaxis": {
         "title": "Episodes"
        },
        "yaxis": {
         "title": "Rewards"
        }
       }
      },
      "text/html": [
       "<div id=\"0ea6f3c6-662d-4e7d-be42-8d54097058e7\" style=\"height: 500px; width: 800px;\" class=\"plotly-graph-div\"></div><script type=\"text/javascript\">require([\"plotly\"], function(Plotly) { window.PLOTLYENV=window.PLOTLYENV || {};window.PLOTLYENV.BASE_URL=\"https://plot.ly\";Plotly.newPlot(\"0ea6f3c6-662d-4e7d-be42-8d54097058e7\", [{\"type\": \"scatter\", \"x\": 400, \"y\": [331.75, 353.25, 340.5, 358.5, 330.0, 322.75, 325.25, 336.0, 341.75, 359.0, 352.0, 344.5, 348.5, 346.0, 349.0, 351.25, 354.0, 341.25, 318.25, 324.25, 334.25, 346.5, 353.5, 334.5, 343.5, 342.25, 338.5, 373.25, 359.75, 352.5, 366.75, 358.25, 363.75, 355.0, 351.25, 355.5, 366.25, 359.25, 351.75, 365.0, 367.75, 358.5, 364.25, 369.75, 358.25, 361.0, 362.5, 362.75, 364.25, 368.5, 349.0, 364.25, 368.25, 382.0, 373.75, 379.75, 369.0, 373.0, 362.25, 356.25, 359.25, 358.75, 357.25, 349.5, 360.5, 346.0, 352.25, 334.0, 336.25, 321.5, 326.75, 305.5, 323.75, 325.0, 326.75, 348.75, 348.5, 348.5, 343.25, 347.5, 309.5, 306.75, 317.75, 330.75, 333.25, 338.5, 320.25, 319.0, 311.5, 320.5, 310.75, 323.0, 322.25, 329.0, 324.25, 315.25, 327.0, 325.25, 331.5, 352.5, 348.75, 349.25, 326.0, 316.25, 323.0, 316.25, 326.75, 331.0, 354.0, 341.0, 336.5, 342.0, 336.0, 329.0, 336.0, 340.75, 335.25, 343.5, 349.75, 350.75, 352.75, 354.0, 346.25, 345.25, 341.75, 339.0, 332.0, 339.75, 331.5, 336.75, 342.25, 339.75, 334.75, 337.75, 324.75, 330.0, 337.25, 348.75, 324.75, 330.5, 336.75, 342.75, 338.5, 319.25, 317.5, 325.75, 323.5, 319.5, 329.0, 335.5, 331.25, 324.0, 324.75, 321.75, 299.25, 300.75, 313.5, 323.0, 311.25, 313.25, 311.25, 317.75, 330.75, 322.0, 320.0, 325.75, 323.0, 331.25, 330.75, 321.75, 361.0, 353.25, 351.0, 339.25, 353.25, 375.75, 367.5, 391.0, 390.25, 371.75, 380.25, 375.25, 376.0, 376.25, 371.0, 368.0, 361.25, 364.0, 349.5, 362.5, 357.75, 368.5, 362.25, 352.5, 367.5, 357.75, 361.5, 341.25, 348.75, 354.25, 357.5, 354.75, 339.25, 344.75, 342.5, 324.75, 360.0, 357.0, 355.0, 395.5, 390.5, 379.75, 376.5, 386.0, 380.25, 389.5, 367.5, 378.0, 363.5, 376.25, 379.5, 372.0, 368.75, 373.25, 380.75, 387.0, 372.5, 391.0, 388.0, 381.75, 391.5, 397.0, 371.25, 374.75, 345.75, 359.0, 348.25, 348.5, 352.0, 324.5, 331.25, 379.5, 374.5, 370.0, 362.5, 359.0, 364.75, 352.25, 358.5, 362.5, 357.0, 367.75, 357.75, 369.75, 365.75, 390.75, 385.0, 397.75, 399.25, 404.25, 381.0, 390.75, 384.25, 374.25, 377.75, 376.5, 361.75, 363.0, 355.5, 372.5, 386.5, 383.25, 392.25, 375.5, 364.0, 371.0, 370.25, 371.25, 348.0, 343.0, 353.0, 334.25, 330.0, 349.25, 335.0, 350.5, 345.25, 342.75, 362.0, 355.25, 359.0, 359.25, 349.25, 372.75, 341.75, 335.75, 348.75, 351.5, 352.0, 341.5, 342.0, 388.5, 360.25, 358.5, 356.25, 323.0, 320.75, 322.0, 345.5, 337.25, 343.0, 321.25, 349.75, 359.25, 338.25, 359.25, 362.0, 347.25, 367.25, 363.0, 364.75, 366.75, 347.0, 324.5, 338.75, 338.5, 336.75, 330.25, 321.25, 339.25, 357.75, 343.75, 343.75, 349.0, 344.0, 358.5, 325.5, 348.25, 362.25, 364.25, 342.25, 354.25, 376.0, 367.25, 351.0, 350.5, 372.0, 361.25, 342.0, 323.0, 351.25, 357.0, 351.0, 353.0, 355.25, 345.0, 341.25, 348.25, 347.25, 340.5, 337.0, 337.75, 355.25, 387.75, 389.5, 365.75, 363.75, 359.5, 372.25, 385.5, 406.5, 396.75, 401.25, 392.25, 403.5, 396.75, 390.5, 401.25, 407.5, 396.25, 380.25, 396.25, 379.25, 397.0, 377.75, 401.0, 391.75, 385.75, 382.75, 399.75, 385.0, 396.25, 393.5, 398.0, 396.75, 409.0, 399.25, 395.25, 398.0, 380.25], \"name\": \"Rewards\"}], {\"height\": 500, \"width\": 800, \"title\": \"Rewards over time\", \"xaxis\": {\"title\": \"Episodes\"}, \"yaxis\": {\"title\": \"Rewards\"}, \"showlegend\": true}, {\"showLink\": false, \"linkText\": null})});</script>"
      ],
      "text/vnd.plotly.v1+html": [
       "<div id=\"0ea6f3c6-662d-4e7d-be42-8d54097058e7\" style=\"height: 500px; width: 800px;\" class=\"plotly-graph-div\"></div><script type=\"text/javascript\">require([\"plotly\"], function(Plotly) { window.PLOTLYENV=window.PLOTLYENV || {};window.PLOTLYENV.BASE_URL=\"https://plot.ly\";Plotly.newPlot(\"0ea6f3c6-662d-4e7d-be42-8d54097058e7\", [{\"type\": \"scatter\", \"x\": 400, \"y\": [331.75, 353.25, 340.5, 358.5, 330.0, 322.75, 325.25, 336.0, 341.75, 359.0, 352.0, 344.5, 348.5, 346.0, 349.0, 351.25, 354.0, 341.25, 318.25, 324.25, 334.25, 346.5, 353.5, 334.5, 343.5, 342.25, 338.5, 373.25, 359.75, 352.5, 366.75, 358.25, 363.75, 355.0, 351.25, 355.5, 366.25, 359.25, 351.75, 365.0, 367.75, 358.5, 364.25, 369.75, 358.25, 361.0, 362.5, 362.75, 364.25, 368.5, 349.0, 364.25, 368.25, 382.0, 373.75, 379.75, 369.0, 373.0, 362.25, 356.25, 359.25, 358.75, 357.25, 349.5, 360.5, 346.0, 352.25, 334.0, 336.25, 321.5, 326.75, 305.5, 323.75, 325.0, 326.75, 348.75, 348.5, 348.5, 343.25, 347.5, 309.5, 306.75, 317.75, 330.75, 333.25, 338.5, 320.25, 319.0, 311.5, 320.5, 310.75, 323.0, 322.25, 329.0, 324.25, 315.25, 327.0, 325.25, 331.5, 352.5, 348.75, 349.25, 326.0, 316.25, 323.0, 316.25, 326.75, 331.0, 354.0, 341.0, 336.5, 342.0, 336.0, 329.0, 336.0, 340.75, 335.25, 343.5, 349.75, 350.75, 352.75, 354.0, 346.25, 345.25, 341.75, 339.0, 332.0, 339.75, 331.5, 336.75, 342.25, 339.75, 334.75, 337.75, 324.75, 330.0, 337.25, 348.75, 324.75, 330.5, 336.75, 342.75, 338.5, 319.25, 317.5, 325.75, 323.5, 319.5, 329.0, 335.5, 331.25, 324.0, 324.75, 321.75, 299.25, 300.75, 313.5, 323.0, 311.25, 313.25, 311.25, 317.75, 330.75, 322.0, 320.0, 325.75, 323.0, 331.25, 330.75, 321.75, 361.0, 353.25, 351.0, 339.25, 353.25, 375.75, 367.5, 391.0, 390.25, 371.75, 380.25, 375.25, 376.0, 376.25, 371.0, 368.0, 361.25, 364.0, 349.5, 362.5, 357.75, 368.5, 362.25, 352.5, 367.5, 357.75, 361.5, 341.25, 348.75, 354.25, 357.5, 354.75, 339.25, 344.75, 342.5, 324.75, 360.0, 357.0, 355.0, 395.5, 390.5, 379.75, 376.5, 386.0, 380.25, 389.5, 367.5, 378.0, 363.5, 376.25, 379.5, 372.0, 368.75, 373.25, 380.75, 387.0, 372.5, 391.0, 388.0, 381.75, 391.5, 397.0, 371.25, 374.75, 345.75, 359.0, 348.25, 348.5, 352.0, 324.5, 331.25, 379.5, 374.5, 370.0, 362.5, 359.0, 364.75, 352.25, 358.5, 362.5, 357.0, 367.75, 357.75, 369.75, 365.75, 390.75, 385.0, 397.75, 399.25, 404.25, 381.0, 390.75, 384.25, 374.25, 377.75, 376.5, 361.75, 363.0, 355.5, 372.5, 386.5, 383.25, 392.25, 375.5, 364.0, 371.0, 370.25, 371.25, 348.0, 343.0, 353.0, 334.25, 330.0, 349.25, 335.0, 350.5, 345.25, 342.75, 362.0, 355.25, 359.0, 359.25, 349.25, 372.75, 341.75, 335.75, 348.75, 351.5, 352.0, 341.5, 342.0, 388.5, 360.25, 358.5, 356.25, 323.0, 320.75, 322.0, 345.5, 337.25, 343.0, 321.25, 349.75, 359.25, 338.25, 359.25, 362.0, 347.25, 367.25, 363.0, 364.75, 366.75, 347.0, 324.5, 338.75, 338.5, 336.75, 330.25, 321.25, 339.25, 357.75, 343.75, 343.75, 349.0, 344.0, 358.5, 325.5, 348.25, 362.25, 364.25, 342.25, 354.25, 376.0, 367.25, 351.0, 350.5, 372.0, 361.25, 342.0, 323.0, 351.25, 357.0, 351.0, 353.0, 355.25, 345.0, 341.25, 348.25, 347.25, 340.5, 337.0, 337.75, 355.25, 387.75, 389.5, 365.75, 363.75, 359.5, 372.25, 385.5, 406.5, 396.75, 401.25, 392.25, 403.5, 396.75, 390.5, 401.25, 407.5, 396.25, 380.25, 396.25, 379.25, 397.0, 377.75, 401.0, 391.75, 385.75, 382.75, 399.75, 385.0, 396.25, 393.5, 398.0, 396.75, 409.0, 399.25, 395.25, 398.0, 380.25], \"name\": \"Rewards\"}], {\"height\": 500, \"width\": 800, \"title\": \"Rewards over time\", \"xaxis\": {\"title\": \"Episodes\"}, \"yaxis\": {\"title\": \"Rewards\"}, \"showlegend\": true}, {\"showLink\": false, \"linkText\": null})});</script>"
      ]
     },
     "metadata": {},
     "output_type": "display_data"
    }
   ],
   "source": [
    "# Create rewards graph\n",
    "rewards = go.Scatter(\n",
    "    x = len(result.Rewards),\n",
    "    y = result.Rewards,\n",
    "    name='Rewards'\n",
    ")\n",
    "\n",
    "data = [rewards]\n",
    "\n",
    "\n",
    "# Plot and embed in ipython notebook!\n",
    "plotly.offline.iplot(\n",
    "    {\"data\": data,\n",
    "     \"layout\": go.Layout(\n",
    "         height=500,\n",
    "         width=800,\n",
    "         title=\"Rewards over time\",\n",
    "         xaxis=dict(\n",
    "             title='Episodes',\n",
    "         ),\n",
    "         yaxis=dict(\n",
    "             title='Rewards',\n",
    "         ), \n",
    "         showlegend=True)},\n",
    "    show_link=False,\n",
    "    link_text=None)\n",
    "\n"
   ]
  },
  {
   "cell_type": "code",
   "execution_count": 10,
   "metadata": {},
   "outputs": [
    {
     "data": {
      "application/vnd.plotly.v1+json": {
       "data": [
        {
         "name": "Handoffs",
         "type": "scatter",
         "x": 400,
         "y": [
          13,
          13,
          12,
          6,
          8,
          5,
          9,
          10,
          11,
          8,
          6,
          6,
          6,
          8,
          4,
          5,
          4,
          5,
          5,
          9,
          9,
          6,
          6,
          6,
          6,
          5,
          6,
          5,
          5,
          8,
          3,
          5,
          5,
          6,
          5,
          6,
          5,
          7,
          11,
          4,
          3,
          6,
          3,
          3,
          5,
          4,
          6,
          7,
          7,
          10,
          12,
          5,
          5,
          4,
          7,
          3,
          4,
          4,
          5,
          5,
          3,
          3,
          5,
          6,
          2,
          6,
          5,
          6,
          5,
          6,
          11,
          10,
          7,
          12,
          7,
          3,
          2,
          6,
          5,
          2,
          6,
          11,
          7,
          7,
          5,
          2,
          5,
          4,
          6,
          6,
          3,
          4,
          5,
          4,
          9,
          5,
          4,
          9,
          6,
          6,
          9,
          5,
          8,
          9,
          4,
          9,
          3,
          12,
          4,
          8,
          6,
          4,
          4,
          8,
          8,
          9,
          9,
          6,
          3,
          3,
          3,
          4,
          5,
          1,
          3,
          4,
          4,
          3,
          6,
          3,
          1,
          3,
          3,
          3,
          7,
          4,
          5,
          3,
          7,
          6,
          7,
          7,
          8,
          9,
          6,
          3,
          6,
          6,
          4,
          6,
          5,
          4,
          3,
          3,
          5,
          3,
          2,
          4,
          5,
          5,
          5,
          3,
          3,
          4,
          6,
          3,
          6,
          5,
          3,
          11,
          8,
          9,
          4,
          9,
          5,
          3,
          6,
          4,
          5,
          7,
          5,
          7,
          8,
          5,
          6,
          4,
          5,
          4,
          10,
          6,
          7,
          2,
          5,
          6,
          2,
          7,
          8,
          5,
          7,
          5,
          6,
          7,
          7,
          7,
          6,
          11,
          8,
          4,
          8,
          6,
          6,
          7,
          6,
          4,
          5,
          2,
          6,
          4,
          6,
          5,
          6,
          8,
          7,
          5,
          7,
          4,
          8,
          4,
          4,
          7,
          2,
          0,
          5,
          3,
          7,
          4,
          5,
          6,
          4,
          6,
          9,
          4,
          6,
          6,
          4,
          6,
          5,
          5,
          2,
          2,
          6,
          7,
          5,
          3,
          7,
          5,
          4,
          3,
          3,
          1,
          4,
          7,
          5,
          5,
          7,
          6,
          5,
          4,
          8,
          8,
          2,
          5,
          3,
          6,
          8,
          4,
          5,
          5,
          8,
          4,
          8,
          9,
          6,
          5,
          4,
          2,
          5,
          7,
          4,
          5,
          4,
          5,
          7,
          3,
          7,
          7,
          3,
          2,
          4,
          6,
          12,
          2,
          5,
          6,
          5,
          8,
          7,
          4,
          2,
          5,
          0,
          9,
          3,
          5,
          9,
          5,
          4,
          9,
          5,
          6,
          3,
          7,
          4,
          10,
          3,
          2,
          3,
          5,
          9,
          7,
          3,
          3,
          5,
          8,
          4,
          6,
          6,
          5,
          5,
          5,
          9,
          9,
          2,
          5,
          4,
          6,
          0,
          5,
          4,
          8,
          5,
          4,
          6,
          4,
          5,
          8,
          5,
          5,
          3,
          6,
          4,
          3,
          9,
          5,
          2,
          7,
          3,
          6,
          5,
          6,
          2,
          3,
          5,
          5,
          2,
          3,
          6,
          5,
          2,
          5,
          5,
          1,
          5,
          4,
          5,
          2,
          3,
          7,
          5,
          3,
          4,
          3,
          6,
          4,
          3,
          4,
          7,
          5,
          4,
          5
         ]
        }
       ],
       "layout": {
        "height": 500,
        "showlegend": true,
        "title": "Handoffs over time",
        "width": 800,
        "xaxis": {
         "title": "Episodes"
        },
        "yaxis": {
         "title": "Handoffs"
        }
       }
      },
      "text/html": [
       "<div id=\"039ec2b2-d90e-494a-a7c6-18ad2b4ac7a9\" style=\"height: 500px; width: 800px;\" class=\"plotly-graph-div\"></div><script type=\"text/javascript\">require([\"plotly\"], function(Plotly) { window.PLOTLYENV=window.PLOTLYENV || {};window.PLOTLYENV.BASE_URL=\"https://plot.ly\";Plotly.newPlot(\"039ec2b2-d90e-494a-a7c6-18ad2b4ac7a9\", [{\"type\": \"scatter\", \"x\": 400, \"y\": [13.0, 13.0, 12.0, 6.0, 8.0, 5.0, 9.0, 10.0, 11.0, 8.0, 6.0, 6.0, 6.0, 8.0, 4.0, 5.0, 4.0, 5.0, 5.0, 9.0, 9.0, 6.0, 6.0, 6.0, 6.0, 5.0, 6.0, 5.0, 5.0, 8.0, 3.0, 5.0, 5.0, 6.0, 5.0, 6.0, 5.0, 7.0, 11.0, 4.0, 3.0, 6.0, 3.0, 3.0, 5.0, 4.0, 6.0, 7.0, 7.0, 10.0, 12.0, 5.0, 5.0, 4.0, 7.0, 3.0, 4.0, 4.0, 5.0, 5.0, 3.0, 3.0, 5.0, 6.0, 2.0, 6.0, 5.0, 6.0, 5.0, 6.0, 11.0, 10.0, 7.0, 12.0, 7.0, 3.0, 2.0, 6.0, 5.0, 2.0, 6.0, 11.0, 7.0, 7.0, 5.0, 2.0, 5.0, 4.0, 6.0, 6.0, 3.0, 4.0, 5.0, 4.0, 9.0, 5.0, 4.0, 9.0, 6.0, 6.0, 9.0, 5.0, 8.0, 9.0, 4.0, 9.0, 3.0, 12.0, 4.0, 8.0, 6.0, 4.0, 4.0, 8.0, 8.0, 9.0, 9.0, 6.0, 3.0, 3.0, 3.0, 4.0, 5.0, 1.0, 3.0, 4.0, 4.0, 3.0, 6.0, 3.0, 1.0, 3.0, 3.0, 3.0, 7.0, 4.0, 5.0, 3.0, 7.0, 6.0, 7.0, 7.0, 8.0, 9.0, 6.0, 3.0, 6.0, 6.0, 4.0, 6.0, 5.0, 4.0, 3.0, 3.0, 5.0, 3.0, 2.0, 4.0, 5.0, 5.0, 5.0, 3.0, 3.0, 4.0, 6.0, 3.0, 6.0, 5.0, 3.0, 11.0, 8.0, 9.0, 4.0, 9.0, 5.0, 3.0, 6.0, 4.0, 5.0, 7.0, 5.0, 7.0, 8.0, 5.0, 6.0, 4.0, 5.0, 4.0, 10.0, 6.0, 7.0, 2.0, 5.0, 6.0, 2.0, 7.0, 8.0, 5.0, 7.0, 5.0, 6.0, 7.0, 7.0, 7.0, 6.0, 11.0, 8.0, 4.0, 8.0, 6.0, 6.0, 7.0, 6.0, 4.0, 5.0, 2.0, 6.0, 4.0, 6.0, 5.0, 6.0, 8.0, 7.0, 5.0, 7.0, 4.0, 8.0, 4.0, 4.0, 7.0, 2.0, 0.0, 5.0, 3.0, 7.0, 4.0, 5.0, 6.0, 4.0, 6.0, 9.0, 4.0, 6.0, 6.0, 4.0, 6.0, 5.0, 5.0, 2.0, 2.0, 6.0, 7.0, 5.0, 3.0, 7.0, 5.0, 4.0, 3.0, 3.0, 1.0, 4.0, 7.0, 5.0, 5.0, 7.0, 6.0, 5.0, 4.0, 8.0, 8.0, 2.0, 5.0, 3.0, 6.0, 8.0, 4.0, 5.0, 5.0, 8.0, 4.0, 8.0, 9.0, 6.0, 5.0, 4.0, 2.0, 5.0, 7.0, 4.0, 5.0, 4.0, 5.0, 7.0, 3.0, 7.0, 7.0, 3.0, 2.0, 4.0, 6.0, 12.0, 2.0, 5.0, 6.0, 5.0, 8.0, 7.0, 4.0, 2.0, 5.0, 0.0, 9.0, 3.0, 5.0, 9.0, 5.0, 4.0, 9.0, 5.0, 6.0, 3.0, 7.0, 4.0, 10.0, 3.0, 2.0, 3.0, 5.0, 9.0, 7.0, 3.0, 3.0, 5.0, 8.0, 4.0, 6.0, 6.0, 5.0, 5.0, 5.0, 9.0, 9.0, 2.0, 5.0, 4.0, 6.0, 0.0, 5.0, 4.0, 8.0, 5.0, 4.0, 6.0, 4.0, 5.0, 8.0, 5.0, 5.0, 3.0, 6.0, 4.0, 3.0, 9.0, 5.0, 2.0, 7.0, 3.0, 6.0, 5.0, 6.0, 2.0, 3.0, 5.0, 5.0, 2.0, 3.0, 6.0, 5.0, 2.0, 5.0, 5.0, 1.0, 5.0, 4.0, 5.0, 2.0, 3.0, 7.0, 5.0, 3.0, 4.0, 3.0, 6.0, 4.0, 3.0, 4.0, 7.0, 5.0, 4.0, 5.0], \"name\": \"Handoffs\"}], {\"height\": 500, \"width\": 800, \"title\": \"Handoffs over time\", \"xaxis\": {\"title\": \"Episodes\"}, \"yaxis\": {\"title\": \"Handoffs\"}, \"showlegend\": true}, {\"showLink\": false, \"linkText\": null})});</script>"
      ],
      "text/vnd.plotly.v1+html": [
       "<div id=\"039ec2b2-d90e-494a-a7c6-18ad2b4ac7a9\" style=\"height: 500px; width: 800px;\" class=\"plotly-graph-div\"></div><script type=\"text/javascript\">require([\"plotly\"], function(Plotly) { window.PLOTLYENV=window.PLOTLYENV || {};window.PLOTLYENV.BASE_URL=\"https://plot.ly\";Plotly.newPlot(\"039ec2b2-d90e-494a-a7c6-18ad2b4ac7a9\", [{\"type\": \"scatter\", \"x\": 400, \"y\": [13.0, 13.0, 12.0, 6.0, 8.0, 5.0, 9.0, 10.0, 11.0, 8.0, 6.0, 6.0, 6.0, 8.0, 4.0, 5.0, 4.0, 5.0, 5.0, 9.0, 9.0, 6.0, 6.0, 6.0, 6.0, 5.0, 6.0, 5.0, 5.0, 8.0, 3.0, 5.0, 5.0, 6.0, 5.0, 6.0, 5.0, 7.0, 11.0, 4.0, 3.0, 6.0, 3.0, 3.0, 5.0, 4.0, 6.0, 7.0, 7.0, 10.0, 12.0, 5.0, 5.0, 4.0, 7.0, 3.0, 4.0, 4.0, 5.0, 5.0, 3.0, 3.0, 5.0, 6.0, 2.0, 6.0, 5.0, 6.0, 5.0, 6.0, 11.0, 10.0, 7.0, 12.0, 7.0, 3.0, 2.0, 6.0, 5.0, 2.0, 6.0, 11.0, 7.0, 7.0, 5.0, 2.0, 5.0, 4.0, 6.0, 6.0, 3.0, 4.0, 5.0, 4.0, 9.0, 5.0, 4.0, 9.0, 6.0, 6.0, 9.0, 5.0, 8.0, 9.0, 4.0, 9.0, 3.0, 12.0, 4.0, 8.0, 6.0, 4.0, 4.0, 8.0, 8.0, 9.0, 9.0, 6.0, 3.0, 3.0, 3.0, 4.0, 5.0, 1.0, 3.0, 4.0, 4.0, 3.0, 6.0, 3.0, 1.0, 3.0, 3.0, 3.0, 7.0, 4.0, 5.0, 3.0, 7.0, 6.0, 7.0, 7.0, 8.0, 9.0, 6.0, 3.0, 6.0, 6.0, 4.0, 6.0, 5.0, 4.0, 3.0, 3.0, 5.0, 3.0, 2.0, 4.0, 5.0, 5.0, 5.0, 3.0, 3.0, 4.0, 6.0, 3.0, 6.0, 5.0, 3.0, 11.0, 8.0, 9.0, 4.0, 9.0, 5.0, 3.0, 6.0, 4.0, 5.0, 7.0, 5.0, 7.0, 8.0, 5.0, 6.0, 4.0, 5.0, 4.0, 10.0, 6.0, 7.0, 2.0, 5.0, 6.0, 2.0, 7.0, 8.0, 5.0, 7.0, 5.0, 6.0, 7.0, 7.0, 7.0, 6.0, 11.0, 8.0, 4.0, 8.0, 6.0, 6.0, 7.0, 6.0, 4.0, 5.0, 2.0, 6.0, 4.0, 6.0, 5.0, 6.0, 8.0, 7.0, 5.0, 7.0, 4.0, 8.0, 4.0, 4.0, 7.0, 2.0, 0.0, 5.0, 3.0, 7.0, 4.0, 5.0, 6.0, 4.0, 6.0, 9.0, 4.0, 6.0, 6.0, 4.0, 6.0, 5.0, 5.0, 2.0, 2.0, 6.0, 7.0, 5.0, 3.0, 7.0, 5.0, 4.0, 3.0, 3.0, 1.0, 4.0, 7.0, 5.0, 5.0, 7.0, 6.0, 5.0, 4.0, 8.0, 8.0, 2.0, 5.0, 3.0, 6.0, 8.0, 4.0, 5.0, 5.0, 8.0, 4.0, 8.0, 9.0, 6.0, 5.0, 4.0, 2.0, 5.0, 7.0, 4.0, 5.0, 4.0, 5.0, 7.0, 3.0, 7.0, 7.0, 3.0, 2.0, 4.0, 6.0, 12.0, 2.0, 5.0, 6.0, 5.0, 8.0, 7.0, 4.0, 2.0, 5.0, 0.0, 9.0, 3.0, 5.0, 9.0, 5.0, 4.0, 9.0, 5.0, 6.0, 3.0, 7.0, 4.0, 10.0, 3.0, 2.0, 3.0, 5.0, 9.0, 7.0, 3.0, 3.0, 5.0, 8.0, 4.0, 6.0, 6.0, 5.0, 5.0, 5.0, 9.0, 9.0, 2.0, 5.0, 4.0, 6.0, 0.0, 5.0, 4.0, 8.0, 5.0, 4.0, 6.0, 4.0, 5.0, 8.0, 5.0, 5.0, 3.0, 6.0, 4.0, 3.0, 9.0, 5.0, 2.0, 7.0, 3.0, 6.0, 5.0, 6.0, 2.0, 3.0, 5.0, 5.0, 2.0, 3.0, 6.0, 5.0, 2.0, 5.0, 5.0, 1.0, 5.0, 4.0, 5.0, 2.0, 3.0, 7.0, 5.0, 3.0, 4.0, 3.0, 6.0, 4.0, 3.0, 4.0, 7.0, 5.0, 4.0, 5.0], \"name\": \"Handoffs\"}], {\"height\": 500, \"width\": 800, \"title\": \"Handoffs over time\", \"xaxis\": {\"title\": \"Episodes\"}, \"yaxis\": {\"title\": \"Handoffs\"}, \"showlegend\": true}, {\"showLink\": false, \"linkText\": null})});</script>"
      ]
     },
     "metadata": {},
     "output_type": "display_data"
    }
   ],
   "source": [
    "# Create handoff graph\n",
    "handoffs = go.Scatter(\n",
    "    x = len(result.Handoffs),\n",
    "    y = result.Handoffs,\n",
    "    name='Handoffs'\n",
    ")\n",
    "\n",
    "data = [handoffs]\n",
    "\n",
    "# Plot and embed in ipython notebook!\n",
    "plotly.offline.iplot(\n",
    "    {\"data\": data,\n",
    "     \"layout\": go.Layout(\n",
    "         height=500,\n",
    "         width=800,\n",
    "         title='Handoffs over time',\n",
    "         xaxis=dict(\n",
    "             title='Episodes',\n",
    "         ),\n",
    "         yaxis=dict(\n",
    "             title='Handoffs'\n",
    "         ), \n",
    "         showlegend=True)},\n",
    "    show_link=False,\n",
    "    link_text=None)\n"
   ]
  },
  {
   "cell_type": "code",
   "execution_count": 11,
   "metadata": {},
   "outputs": [
    {
     "data": {
      "application/vnd.plotly.v1+json": {
       "data": [
        {
         "name": "UE SLA",
         "type": "scatter",
         "x": 400,
         "y": [
          179,
          176,
          177,
          177,
          177,
          176,
          176,
          176,
          177,
          178,
          179,
          180,
          180,
          180,
          180,
          180,
          181,
          181,
          181,
          180,
          180,
          179,
          180,
          181,
          181,
          181,
          182,
          181,
          182,
          181,
          180,
          180,
          180,
          180,
          180,
          180,
          181,
          181,
          181,
          180,
          180,
          180,
          180,
          180,
          180,
          179,
          179,
          179,
          179,
          179,
          180,
          180,
          180,
          180,
          180,
          180,
          180,
          180,
          179,
          179,
          179,
          179,
          179,
          179,
          178,
          178,
          179,
          180,
          180,
          179,
          179,
          180,
          179,
          179,
          179,
          179,
          179,
          179,
          180,
          180,
          179,
          178,
          179,
          179,
          179,
          179,
          179,
          179,
          179,
          179,
          179,
          178,
          178,
          177,
          177,
          178,
          178,
          179,
          179,
          179,
          180,
          181,
          181,
          180,
          180,
          180,
          180,
          180,
          181,
          181,
          181,
          181,
          181,
          181,
          181,
          181,
          181,
          181,
          180,
          180,
          180,
          180,
          180,
          180,
          180,
          180,
          180,
          179,
          179,
          179,
          179,
          179,
          179,
          179,
          179,
          178,
          178,
          179,
          180,
          178,
          178,
          178,
          178,
          179,
          178,
          178,
          178,
          179,
          179,
          179,
          180,
          180,
          180,
          180,
          180,
          179,
          179,
          179,
          180,
          180,
          180,
          180,
          180,
          180,
          180,
          180,
          179,
          180,
          180,
          180,
          180,
          183,
          183,
          183,
          183,
          182,
          183,
          183,
          184,
          186,
          186,
          186,
          186,
          186,
          185,
          185,
          185,
          184,
          184,
          183,
          183,
          183,
          183,
          183,
          182,
          182,
          182,
          182,
          181,
          182,
          182,
          182,
          182,
          182,
          182,
          182,
          182,
          183,
          183,
          184,
          186,
          186,
          186,
          186,
          186,
          186,
          186,
          186,
          187,
          186,
          187,
          187,
          187,
          187,
          187,
          187,
          187,
          187,
          187,
          187,
          187,
          187,
          187,
          186,
          185,
          185,
          185,
          183,
          183,
          182,
          182,
          182,
          183,
          183,
          183,
          183,
          183,
          184,
          184,
          184,
          183,
          183,
          185,
          186,
          186,
          186,
          186,
          186,
          187,
          187,
          187,
          186,
          187,
          187,
          187,
          187,
          186,
          186,
          185,
          185,
          187,
          187,
          187,
          187,
          186,
          186,
          185,
          185,
          185,
          184,
          182,
          183,
          183,
          183,
          183,
          183,
          183,
          184,
          184,
          185,
          185,
          186,
          186,
          186,
          186,
          185,
          186,
          186,
          186,
          186,
          186,
          186,
          186,
          184,
          184,
          183,
          182,
          182,
          182,
          183,
          182,
          182,
          183,
          183,
          184,
          184,
          184,
          184,
          183,
          183,
          183,
          183,
          183,
          183,
          183,
          183,
          183,
          183,
          183,
          183,
          183,
          183,
          183,
          183,
          184,
          183,
          184,
          184,
          183,
          183,
          183,
          183,
          183,
          183,
          183,
          184,
          184,
          184,
          184,
          184,
          184,
          184,
          184,
          184,
          184,
          184,
          184,
          184,
          184,
          184,
          184,
          184,
          183,
          185,
          185,
          185,
          184,
          184,
          184,
          185,
          187,
          187,
          186,
          186,
          186,
          186,
          186,
          186,
          187,
          187,
          187,
          187,
          187,
          186,
          187,
          187,
          187,
          187,
          187,
          187,
          187,
          187,
          187,
          186,
          186,
          186,
          187,
          187,
          187,
          187
         ]
        }
       ],
       "layout": {
        "height": 500,
        "showlegend": true,
        "title": "UE's SLA over time",
        "width": 800,
        "xaxis": {
         "title": "Episodes"
        },
        "yaxis": {
         "title": "UE SLA"
        }
       }
      },
      "text/html": [
       "<div id=\"6033ab56-b34b-4feb-a18a-ce8cbda20463\" style=\"height: 500px; width: 800px;\" class=\"plotly-graph-div\"></div><script type=\"text/javascript\">require([\"plotly\"], function(Plotly) { window.PLOTLYENV=window.PLOTLYENV || {};window.PLOTLYENV.BASE_URL=\"https://plot.ly\";Plotly.newPlot(\"6033ab56-b34b-4feb-a18a-ce8cbda20463\", [{\"type\": \"scatter\", \"x\": 400, \"y\": [179.0, 176.0, 177.0, 177.0, 177.0, 176.0, 176.0, 176.0, 177.0, 178.0, 179.0, 180.0, 180.0, 180.0, 180.0, 180.0, 181.0, 181.0, 181.0, 180.0, 180.0, 179.0, 180.0, 181.0, 181.0, 181.0, 182.0, 181.0, 182.0, 181.0, 180.0, 180.0, 180.0, 180.0, 180.0, 180.0, 181.0, 181.0, 181.0, 180.0, 180.0, 180.0, 180.0, 180.0, 180.0, 179.0, 179.0, 179.0, 179.0, 179.0, 180.0, 180.0, 180.0, 180.0, 180.0, 180.0, 180.0, 180.0, 179.0, 179.0, 179.0, 179.0, 179.0, 179.0, 178.0, 178.0, 179.0, 180.0, 180.0, 179.0, 179.0, 180.0, 179.0, 179.0, 179.0, 179.0, 179.0, 179.0, 180.0, 180.0, 179.0, 178.0, 179.0, 179.0, 179.0, 179.0, 179.0, 179.0, 179.0, 179.0, 179.0, 178.0, 178.0, 177.0, 177.0, 178.0, 178.0, 179.0, 179.0, 179.0, 180.0, 181.0, 181.0, 180.0, 180.0, 180.0, 180.0, 180.0, 181.0, 181.0, 181.0, 181.0, 181.0, 181.0, 181.0, 181.0, 181.0, 181.0, 180.0, 180.0, 180.0, 180.0, 180.0, 180.0, 180.0, 180.0, 180.0, 179.0, 179.0, 179.0, 179.0, 179.0, 179.0, 179.0, 179.0, 178.0, 178.0, 179.0, 180.0, 178.0, 178.0, 178.0, 178.0, 179.0, 178.0, 178.0, 178.0, 179.0, 179.0, 179.0, 180.0, 180.0, 180.0, 180.0, 180.0, 179.0, 179.0, 179.0, 180.0, 180.0, 180.0, 180.0, 180.0, 180.0, 180.0, 180.0, 179.0, 180.0, 180.0, 180.0, 180.0, 183.0, 183.0, 183.0, 183.0, 182.0, 183.0, 183.0, 184.0, 186.0, 186.0, 186.0, 186.0, 186.0, 185.0, 185.0, 185.0, 184.0, 184.0, 183.0, 183.0, 183.0, 183.0, 183.0, 182.0, 182.0, 182.0, 182.0, 181.0, 182.0, 182.0, 182.0, 182.0, 182.0, 182.0, 182.0, 182.0, 183.0, 183.0, 184.0, 186.0, 186.0, 186.0, 186.0, 186.0, 186.0, 186.0, 186.0, 187.0, 186.0, 187.0, 187.0, 187.0, 187.0, 187.0, 187.0, 187.0, 187.0, 187.0, 187.0, 187.0, 187.0, 187.0, 186.0, 185.0, 185.0, 185.0, 183.0, 183.0, 182.0, 182.0, 182.0, 183.0, 183.0, 183.0, 183.0, 183.0, 184.0, 184.0, 184.0, 183.0, 183.0, 185.0, 186.0, 186.0, 186.0, 186.0, 186.0, 187.0, 187.0, 187.0, 186.0, 187.0, 187.0, 187.0, 187.0, 186.0, 186.0, 185.0, 185.0, 187.0, 187.0, 187.0, 187.0, 186.0, 186.0, 185.0, 185.0, 185.0, 184.0, 182.0, 183.0, 183.0, 183.0, 183.0, 183.0, 183.0, 184.0, 184.0, 185.0, 185.0, 186.0, 186.0, 186.0, 186.0, 185.0, 186.0, 186.0, 186.0, 186.0, 186.0, 186.0, 186.0, 184.0, 184.0, 183.0, 182.0, 182.0, 182.0, 183.0, 182.0, 182.0, 183.0, 183.0, 184.0, 184.0, 184.0, 184.0, 183.0, 183.0, 183.0, 183.0, 183.0, 183.0, 183.0, 183.0, 183.0, 183.0, 183.0, 183.0, 183.0, 183.0, 183.0, 183.0, 184.0, 183.0, 184.0, 184.0, 183.0, 183.0, 183.0, 183.0, 183.0, 183.0, 183.0, 184.0, 184.0, 184.0, 184.0, 184.0, 184.0, 184.0, 184.0, 184.0, 184.0, 184.0, 184.0, 184.0, 184.0, 184.0, 184.0, 184.0, 183.0, 185.0, 185.0, 185.0, 184.0, 184.0, 184.0, 185.0, 187.0, 187.0, 186.0, 186.0, 186.0, 186.0, 186.0, 186.0, 187.0, 187.0, 187.0, 187.0, 187.0, 186.0, 187.0, 187.0, 187.0, 187.0, 187.0, 187.0, 187.0, 187.0, 187.0, 186.0, 186.0, 186.0, 187.0, 187.0, 187.0, 187.0], \"name\": \"UE SLA\"}], {\"height\": 500, \"width\": 800, \"title\": \"UE's SLA over time\", \"xaxis\": {\"title\": \"Episodes\"}, \"yaxis\": {\"title\": \"UE SLA\"}, \"showlegend\": true}, {\"showLink\": false, \"linkText\": null})});</script>"
      ],
      "text/vnd.plotly.v1+html": [
       "<div id=\"6033ab56-b34b-4feb-a18a-ce8cbda20463\" style=\"height: 500px; width: 800px;\" class=\"plotly-graph-div\"></div><script type=\"text/javascript\">require([\"plotly\"], function(Plotly) { window.PLOTLYENV=window.PLOTLYENV || {};window.PLOTLYENV.BASE_URL=\"https://plot.ly\";Plotly.newPlot(\"6033ab56-b34b-4feb-a18a-ce8cbda20463\", [{\"type\": \"scatter\", \"x\": 400, \"y\": [179.0, 176.0, 177.0, 177.0, 177.0, 176.0, 176.0, 176.0, 177.0, 178.0, 179.0, 180.0, 180.0, 180.0, 180.0, 180.0, 181.0, 181.0, 181.0, 180.0, 180.0, 179.0, 180.0, 181.0, 181.0, 181.0, 182.0, 181.0, 182.0, 181.0, 180.0, 180.0, 180.0, 180.0, 180.0, 180.0, 181.0, 181.0, 181.0, 180.0, 180.0, 180.0, 180.0, 180.0, 180.0, 179.0, 179.0, 179.0, 179.0, 179.0, 180.0, 180.0, 180.0, 180.0, 180.0, 180.0, 180.0, 180.0, 179.0, 179.0, 179.0, 179.0, 179.0, 179.0, 178.0, 178.0, 179.0, 180.0, 180.0, 179.0, 179.0, 180.0, 179.0, 179.0, 179.0, 179.0, 179.0, 179.0, 180.0, 180.0, 179.0, 178.0, 179.0, 179.0, 179.0, 179.0, 179.0, 179.0, 179.0, 179.0, 179.0, 178.0, 178.0, 177.0, 177.0, 178.0, 178.0, 179.0, 179.0, 179.0, 180.0, 181.0, 181.0, 180.0, 180.0, 180.0, 180.0, 180.0, 181.0, 181.0, 181.0, 181.0, 181.0, 181.0, 181.0, 181.0, 181.0, 181.0, 180.0, 180.0, 180.0, 180.0, 180.0, 180.0, 180.0, 180.0, 180.0, 179.0, 179.0, 179.0, 179.0, 179.0, 179.0, 179.0, 179.0, 178.0, 178.0, 179.0, 180.0, 178.0, 178.0, 178.0, 178.0, 179.0, 178.0, 178.0, 178.0, 179.0, 179.0, 179.0, 180.0, 180.0, 180.0, 180.0, 180.0, 179.0, 179.0, 179.0, 180.0, 180.0, 180.0, 180.0, 180.0, 180.0, 180.0, 180.0, 179.0, 180.0, 180.0, 180.0, 180.0, 183.0, 183.0, 183.0, 183.0, 182.0, 183.0, 183.0, 184.0, 186.0, 186.0, 186.0, 186.0, 186.0, 185.0, 185.0, 185.0, 184.0, 184.0, 183.0, 183.0, 183.0, 183.0, 183.0, 182.0, 182.0, 182.0, 182.0, 181.0, 182.0, 182.0, 182.0, 182.0, 182.0, 182.0, 182.0, 182.0, 183.0, 183.0, 184.0, 186.0, 186.0, 186.0, 186.0, 186.0, 186.0, 186.0, 186.0, 187.0, 186.0, 187.0, 187.0, 187.0, 187.0, 187.0, 187.0, 187.0, 187.0, 187.0, 187.0, 187.0, 187.0, 187.0, 186.0, 185.0, 185.0, 185.0, 183.0, 183.0, 182.0, 182.0, 182.0, 183.0, 183.0, 183.0, 183.0, 183.0, 184.0, 184.0, 184.0, 183.0, 183.0, 185.0, 186.0, 186.0, 186.0, 186.0, 186.0, 187.0, 187.0, 187.0, 186.0, 187.0, 187.0, 187.0, 187.0, 186.0, 186.0, 185.0, 185.0, 187.0, 187.0, 187.0, 187.0, 186.0, 186.0, 185.0, 185.0, 185.0, 184.0, 182.0, 183.0, 183.0, 183.0, 183.0, 183.0, 183.0, 184.0, 184.0, 185.0, 185.0, 186.0, 186.0, 186.0, 186.0, 185.0, 186.0, 186.0, 186.0, 186.0, 186.0, 186.0, 186.0, 184.0, 184.0, 183.0, 182.0, 182.0, 182.0, 183.0, 182.0, 182.0, 183.0, 183.0, 184.0, 184.0, 184.0, 184.0, 183.0, 183.0, 183.0, 183.0, 183.0, 183.0, 183.0, 183.0, 183.0, 183.0, 183.0, 183.0, 183.0, 183.0, 183.0, 183.0, 184.0, 183.0, 184.0, 184.0, 183.0, 183.0, 183.0, 183.0, 183.0, 183.0, 183.0, 184.0, 184.0, 184.0, 184.0, 184.0, 184.0, 184.0, 184.0, 184.0, 184.0, 184.0, 184.0, 184.0, 184.0, 184.0, 184.0, 184.0, 183.0, 185.0, 185.0, 185.0, 184.0, 184.0, 184.0, 185.0, 187.0, 187.0, 186.0, 186.0, 186.0, 186.0, 186.0, 186.0, 187.0, 187.0, 187.0, 187.0, 187.0, 186.0, 187.0, 187.0, 187.0, 187.0, 187.0, 187.0, 187.0, 187.0, 187.0, 186.0, 186.0, 186.0, 187.0, 187.0, 187.0, 187.0], \"name\": \"UE SLA\"}], {\"height\": 500, \"width\": 800, \"title\": \"UE's SLA over time\", \"xaxis\": {\"title\": \"Episodes\"}, \"yaxis\": {\"title\": \"UE SLA\"}, \"showlegend\": true}, {\"showLink\": false, \"linkText\": null})});</script>"
      ]
     },
     "metadata": {},
     "output_type": "display_data"
    }
   ],
   "source": [
    "# Create UE graph\n",
    "ue_sla = go.Scatter(\n",
    "    x = len(result.Meets_SLA),\n",
    "    y = result.Meets_SLA,\n",
    "    name='UE SLA'\n",
    ")\n",
    "\n",
    "data = [ue_sla]\n",
    "\n",
    "# Plot and embed in ipython notebook!\n",
    "plotly.offline.iplot(\n",
    "    {\"data\": data,\n",
    "     \"layout\": go.Layout(\n",
    "         height=500,\n",
    "         width=800,\n",
    "         title=\"UE's SLA over time\",\n",
    "         xaxis=dict(\n",
    "             title='Episodes',\n",
    "         ),\n",
    "         yaxis=dict(\n",
    "             title='UE SLA'\n",
    "         ), \n",
    "         showlegend=True)},\n",
    "    show_link=False,\n",
    "    link_text=None)"
   ]
  },
  {
   "cell_type": "code",
   "execution_count": null,
   "metadata": {},
   "outputs": [],
   "source": []
  }
 ],
 "metadata": {
  "kernelspec": {
   "display_name": "Python 3",
   "language": "python",
   "name": "python3"
  },
  "language_info": {
   "codemirror_mode": {
    "name": "ipython",
    "version": 3
   },
   "file_extension": ".py",
   "mimetype": "text/x-python",
   "name": "python",
   "nbconvert_exporter": "python",
   "pygments_lexer": "ipython3",
   "version": "3.6.4"
  },
  "widgets": {
   "application/vnd.jupyter.widget-state+json": {
    "state": {},
    "version_major": 2,
    "version_minor": 0
   }
  }
 },
 "nbformat": 4,
 "nbformat_minor": 2
}
