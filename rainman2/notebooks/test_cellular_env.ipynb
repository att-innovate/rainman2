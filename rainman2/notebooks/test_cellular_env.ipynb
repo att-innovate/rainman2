{
 "cells": [
  {
   "cell_type": "code",
   "execution_count": 1,
   "metadata": {},
   "outputs": [
    {
     "data": {
      "text/html": [
       "<script>requirejs.config({paths: { 'plotly': ['https://cdn.plot.ly/plotly-latest.min']},});if(!window.Plotly) {{require(['plotly'],function(plotly) {window.Plotly=plotly;});}}</script>"
      ],
      "text/vnd.plotly.v1+html": [
       "<script>requirejs.config({paths: { 'plotly': ['https://cdn.plot.ly/plotly-latest.min']},});if(!window.Plotly) {{require(['plotly'],function(plotly) {window.Plotly=plotly;});}}</script>"
      ]
     },
     "metadata": {},
     "output_type": "display_data"
    }
   ],
   "source": [
    "import plotly\n",
    "import plotly.graph_objs as go\n",
    "from IPython.display import display, HTML\n",
    "plotly.offline.init_notebook_mode(connected=True)"
   ]
  },
  {
   "cell_type": "code",
   "execution_count": 2,
   "metadata": {},
   "outputs": [
    {
     "name": "stdout",
     "output_type": "stream",
     "text": [
      "Rainman2's logging has been configured!\n"
     ]
    },
    {
     "name": "stderr",
     "output_type": "stream",
     "text": [
      "Using TensorFlow backend.\n"
     ]
    }
   ],
   "source": [
    "from rainman2 import RAINMAN2"
   ]
  },
  {
   "cell_type": "markdown",
   "metadata": {},
   "source": [
    "\n",
    "#### Normal case: Start with 30% Random actions (explore) and rest 70% fetch max actions (exploit)\n"
   ]
  },
  {
   "cell_type": "code",
   "execution_count": 3,
   "metadata": {},
   "outputs": [],
   "source": [
    "# Server profile: num_ues=200, APs=16, Scale=200.0, explore_radius=1\n",
    "from collections import OrderedDict\n",
    "ALGORITHM_CONFIG = OrderedDict(\n",
    "    EPISODES=4,\n",
    "    ALPHA=0.2,\n",
    "    GAMMA=0.9,\n",
    "    EPSILON=0.3,\n",
    "    EPSILON_DECAY=0.99,\n",
    "    EPSILON_MIN=0.01,\n",
    "    VERBOSE=True,\n",
    "    L1_HIDDEN_UNITS=13,\n",
    "    L2_HIDDEN_UNITS=13,\n",
    "    L1_ACTIVATION='relu',\n",
    "    L2_ACTIVATION='relu',\n",
    "    LOSS_FUNCTION='mean_squared_error',\n",
    "    OPTIMIZER='Adam',\n",
    ")\n",
    "\n",
    "CELLULAR_MODEL_CONFIG = OrderedDict(\n",
    "    NAME='Cellular',\n",
    "    TYPE='Dev',\n",
    "    SERVER='0.0.0.0',\n",
    "    SERVER_PORT='8000',\n",
    "    VERBOSE=True,\n",
    ")\n"
   ]
  },
  {
   "cell_type": "code",
   "execution_count": 4,
   "metadata": {},
   "outputs": [],
   "source": [
    "RAINMAN2.algorithm_config = ALGORITHM_CONFIG\n",
    "RAINMAN2.environment_config = CELLULAR_MODEL_CONFIG"
   ]
  },
  {
   "cell_type": "code",
   "execution_count": 5,
   "metadata": {
    "scrolled": true
   },
   "outputs": [
    {
     "name": "stderr",
     "output_type": "stream",
     "text": [
      "2018-05-04 15:52:27,533 Aris-MacBook-Pro.local Rainman2[65090] INFO Starting experiment!\n",
      "2018-05-04 15:52:27,534 Aris-MacBook-Pro.local Rainman2[65090] INFO Building Environment instance: Cellular\n",
      "2018-05-04 15:52:27,536 Aris-MacBook-Pro.local rainman2.lib.environment.cellular.base[65090] INFO Instantiating Cellular client: Dev\n",
      "2018-05-04 15:52:27,537 Aris-MacBook-Pro.local QCellularAgent[65090] INFO Configuration used for the QCellular Agent:\n",
      "2018-05-04 15:52:27,538 Aris-MacBook-Pro.local QCellularAgent[65090] INFO episodes: 4\n",
      "2018-05-04 15:52:27,539 Aris-MacBook-Pro.local QCellularAgent[65090] INFO alpha: 0.2\n",
      "2018-05-04 15:52:27,540 Aris-MacBook-Pro.local QCellularAgent[65090] INFO gamma: 0.9\n",
      "2018-05-04 15:52:27,541 Aris-MacBook-Pro.local QCellularAgent[65090] INFO epsilon: 0.3\n",
      "2018-05-04 15:52:27,541 Aris-MacBook-Pro.local QCellularAgent[65090] INFO epsilon_decay: 0.99\n",
      "2018-05-04 15:52:27,542 Aris-MacBook-Pro.local QCellularAgent[65090] INFO epsilon_min: 0.01\n",
      "2018-05-04 15:52:27,543 Aris-MacBook-Pro.local QController[65090] INFO Agent: Naive is successfully instantiated!\n",
      "2018-05-04 15:52:27,544 Aris-MacBook-Pro.local QController[65090] INFO Qlearning instance: QlearningForCellular is successfully instantiated!\n",
      "2018-05-04 15:52:27,545 Aris-MacBook-Pro.local QlearningForCellular[65090] INFO Running Qlearning for Cellular Networks!\n",
      "2018-05-04 15:52:29,874 Aris-MacBook-Pro.local QlearningForCellular[65090] INFO Episodes stats\n",
      "2018-05-04 15:52:29,875 Aris-MacBook-Pro.local QlearningForCellular[65090] INFO Rewards: [216.75 292.25 307.   309.  ]\n",
      "2018-05-04 15:52:29,876 Aris-MacBook-Pro.local QlearningForCellular[65090] INFO Handoffs: [23.  9.  8.  4.]\n",
      "2018-05-04 15:52:29,878 Aris-MacBook-Pro.local QlearningForCellular[65090] INFO UEs SLA Stats: [174. 179. 183. 184.]\n",
      "2018-05-04 15:52:29,880 Aris-MacBook-Pro.local QlearningForCellular[65090] INFO Total number of states encountered: 196\n"
     ]
    },
    {
     "name": "stdout",
     "output_type": "stream",
     "text": [
      "Module: run_experiment took: 2.209443s\n"
     ]
    },
    {
     "name": "stderr",
     "output_type": "stream",
     "text": [
      "[========================================================================] 100%\r\n"
     ]
    }
   ],
   "source": [
    "result = RAINMAN2.run_experiment(\"Cellular\", \"Qlearning\", \"Naive\")"
   ]
  },
  {
   "cell_type": "code",
   "execution_count": null,
   "metadata": {},
   "outputs": [],
   "source": [
    "print(\"Number of states encountered: {}\".format(len(result.Q)))"
   ]
  },
  {
   "cell_type": "code",
   "execution_count": null,
   "metadata": {},
   "outputs": [],
   "source": [
    "print(\"Number of q_ap_states encountered: {}\".format(len(result.Q_ap)))"
   ]
  },
  {
   "cell_type": "code",
   "execution_count": null,
   "metadata": {},
   "outputs": [],
   "source": [
    "print(result.Q)"
   ]
  },
  {
   "cell_type": "code",
   "execution_count": null,
   "metadata": {
    "scrolled": false
   },
   "outputs": [],
   "source": [
    "print(result.Q_ap)"
   ]
  },
  {
   "cell_type": "code",
   "execution_count": null,
   "metadata": {
    "scrolled": true
   },
   "outputs": [],
   "source": [
    "print(result.UE_AP_LIST)"
   ]
  },
  {
   "cell_type": "code",
   "execution_count": null,
   "metadata": {},
   "outputs": [],
   "source": []
  },
  {
   "cell_type": "code",
   "execution_count": 6,
   "metadata": {
    "scrolled": false
   },
   "outputs": [
    {
     "data": {
      "application/vnd.plotly.v1+json": {
       "data": [
        {
         "line": {
          "color": "green",
          "width": 2
         },
         "mode": "lines",
         "type": "scatter",
         "x": [
          600,
          493
         ],
         "y": [
          1400,
          1203
         ]
        },
        {
         "line": {
          "color": "green",
          "width": 2
         },
         "mode": "lines",
         "type": "scatter",
         "x": [
          1000,
          920
         ],
         "y": [
          1000,
          1110
         ]
        },
        {
         "line": {
          "color": "green",
          "width": 2
         },
         "mode": "lines",
         "type": "scatter",
         "x": [
          1000,
          947
         ],
         "y": [
          1000,
          806
         ]
        },
        {
         "line": {
          "color": "green",
          "width": 2
         },
         "mode": "lines",
         "type": "scatter",
         "x": [
          1400,
          1519
         ],
         "y": [
          1400,
          1413
         ]
        },
        {
         "line": {
          "color": "green",
          "width": 2
         },
         "mode": "lines",
         "type": "scatter",
         "x": [
          1400,
          1496
         ],
         "y": [
          600,
          294
         ]
        },
        {
         "line": {
          "color": "green",
          "width": 2
         },
         "mode": "lines",
         "type": "scatter",
         "x": [
          1000,
          986
         ],
         "y": [
          1000,
          875
         ]
        },
        {
         "line": {
          "color": "green",
          "width": 2
         },
         "mode": "lines",
         "type": "scatter",
         "x": [
          200,
          175
         ],
         "y": [
          1400,
          1501
         ]
        },
        {
         "line": {
          "color": "green",
          "width": 2
         },
         "mode": "lines",
         "type": "scatter",
         "x": [
          1000,
          1099
         ],
         "y": [
          1000,
          848
         ]
        },
        {
         "line": {
          "color": "green",
          "width": 2
         },
         "mode": "lines",
         "type": "scatter",
         "x": [
          600,
          635
         ],
         "y": [
          1400,
          1332
         ]
        },
        {
         "line": {
          "color": "green",
          "width": 2
         },
         "mode": "lines",
         "type": "scatter",
         "x": [
          600,
          608
         ],
         "y": [
          600,
          788
         ]
        },
        {
         "line": {
          "color": "green",
          "width": 2
         },
         "mode": "lines",
         "type": "scatter",
         "x": [
          1000,
          1046
         ],
         "y": [
          1000,
          822
         ]
        },
        {
         "line": {
          "color": "green",
          "width": 2
         },
         "mode": "lines",
         "type": "scatter",
         "x": [
          1400,
          1282
         ],
         "y": [
          1000,
          960
         ]
        },
        {
         "line": {
          "color": "green",
          "width": 2
         },
         "mode": "lines",
         "type": "scatter",
         "x": [
          200,
          16
         ],
         "y": [
          1000,
          1200
         ]
        },
        {
         "line": {
          "color": "green",
          "width": 2
         },
         "mode": "lines",
         "type": "scatter",
         "x": [
          200,
          195
         ],
         "y": [
          1400,
          1444
         ]
        },
        {
         "line": {
          "color": "green",
          "width": 2
         },
         "mode": "lines",
         "type": "scatter",
         "x": [
          600,
          748
         ],
         "y": [
          600,
          569
         ]
        },
        {
         "line": {
          "color": "green",
          "width": 2
         },
         "mode": "lines",
         "type": "scatter",
         "x": [
          200,
          214
         ],
         "y": [
          600,
          569
         ]
        },
        {
         "line": {
          "color": "green",
          "width": 2
         },
         "mode": "lines",
         "type": "scatter",
         "x": [
          1000,
          806
         ],
         "y": [
          600,
          666
         ]
        },
        {
         "line": {
          "color": "green",
          "width": 2
         },
         "mode": "lines",
         "type": "scatter",
         "x": [
          1400,
          1595
         ],
         "y": [
          1400,
          1562
         ]
        },
        {
         "line": {
          "color": "green",
          "width": 2
         },
         "mode": "lines",
         "type": "scatter",
         "x": [
          200,
          490
         ],
         "y": [
          600,
          609
         ]
        },
        {
         "line": {
          "color": "green",
          "width": 2
         },
         "mode": "lines",
         "type": "scatter",
         "x": [
          1000,
          958
         ],
         "y": [
          600,
          699
         ]
        },
        {
         "line": {
          "color": "green",
          "width": 2
         },
         "mode": "lines",
         "type": "scatter",
         "x": [
          1000,
          1023
         ],
         "y": [
          600,
          728
         ]
        },
        {
         "line": {
          "color": "green",
          "width": 2
         },
         "mode": "lines",
         "type": "scatter",
         "x": [
          600,
          621
         ],
         "y": [
          200,
          479
         ]
        },
        {
         "line": {
          "color": "green",
          "width": 2
         },
         "mode": "lines",
         "type": "scatter",
         "x": [
          200,
          153
         ],
         "y": [
          600,
          774
         ]
        },
        {
         "line": {
          "color": "green",
          "width": 2
         },
         "mode": "lines",
         "type": "scatter",
         "x": [
          1000,
          1007
         ],
         "y": [
          600,
          878
         ]
        },
        {
         "line": {
          "color": "green",
          "width": 2
         },
         "mode": "lines",
         "type": "scatter",
         "x": [
          1400,
          1240
         ],
         "y": [
          1400,
          1535
         ]
        },
        {
         "line": {
          "color": "green",
          "width": 2
         },
         "mode": "lines",
         "type": "scatter",
         "x": [
          1000,
          858
         ],
         "y": [
          1400,
          1558
         ]
        },
        {
         "line": {
          "color": "green",
          "width": 2
         },
         "mode": "lines",
         "type": "scatter",
         "x": [
          200,
          324
         ],
         "y": [
          1400,
          1272
         ]
        },
        {
         "line": {
          "color": "green",
          "width": 2
         },
         "mode": "lines",
         "type": "scatter",
         "x": [
          600,
          422
         ],
         "y": [
          200,
          122
         ]
        },
        {
         "line": {
          "color": "green",
          "width": 2
         },
         "mode": "lines",
         "type": "scatter",
         "x": [
          200,
          325
         ],
         "y": [
          1000,
          801
         ]
        },
        {
         "line": {
          "color": "green",
          "width": 2
         },
         "mode": "lines",
         "type": "scatter",
         "x": [
          200,
          288
         ],
         "y": [
          1000,
          1108
         ]
        },
        {
         "line": {
          "color": "green",
          "width": 2
         },
         "mode": "lines",
         "type": "scatter",
         "x": [
          1000,
          1168
         ],
         "y": [
          1000,
          881
         ]
        },
        {
         "line": {
          "color": "green",
          "width": 2
         },
         "mode": "lines",
         "type": "scatter",
         "x": [
          600,
          748
         ],
         "y": [
          1000,
          850
         ]
        },
        {
         "line": {
          "color": "green",
          "width": 2
         },
         "mode": "lines",
         "type": "scatter",
         "x": [
          200,
          87
         ],
         "y": [
          1000,
          1061
         ]
        },
        {
         "line": {
          "color": "green",
          "width": 2
         },
         "mode": "lines",
         "type": "scatter",
         "x": [
          600,
          707
         ],
         "y": [
          1400,
          1556
         ]
        },
        {
         "line": {
          "color": "green",
          "width": 2
         },
         "mode": "lines",
         "type": "scatter",
         "x": [
          1400,
          1425
         ],
         "y": [
          200,
          303
         ]
        },
        {
         "line": {
          "color": "green",
          "width": 2
         },
         "mode": "lines",
         "type": "scatter",
         "x": [
          1000,
          965
         ],
         "y": [
          1000,
          955
         ]
        },
        {
         "line": {
          "color": "green",
          "width": 2
         },
         "mode": "lines",
         "type": "scatter",
         "x": [
          200,
          473
         ],
         "y": [
          1000,
          1218
         ]
        },
        {
         "line": {
          "color": "green",
          "width": 2
         },
         "mode": "lines",
         "type": "scatter",
         "x": [
          1400,
          1263
         ],
         "y": [
          200,
          384
         ]
        },
        {
         "line": {
          "color": "green",
          "width": 2
         },
         "mode": "lines",
         "type": "scatter",
         "x": [
          1000,
          1095
         ],
         "y": [
          200,
          357
         ]
        },
        {
         "line": {
          "color": "green",
          "width": 2
         },
         "mode": "lines",
         "type": "scatter",
         "x": [
          200,
          75
         ],
         "y": [
          1400,
          1434
         ]
        },
        {
         "line": {
          "color": "green",
          "width": 2
         },
         "mode": "lines",
         "type": "scatter",
         "x": [
          1400,
          1448
         ],
         "y": [
          200,
          210
         ]
        },
        {
         "line": {
          "color": "green",
          "width": 2
         },
         "mode": "lines",
         "type": "scatter",
         "x": [
          1000,
          842
         ],
         "y": [
          1000,
          890
         ]
        },
        {
         "line": {
          "color": "green",
          "width": 2
         },
         "mode": "lines",
         "type": "scatter",
         "x": [
          1000,
          1017
         ],
         "y": [
          600,
          609
         ]
        },
        {
         "line": {
          "color": "green",
          "width": 2
         },
         "mode": "lines",
         "type": "scatter",
         "x": [
          200,
          250
         ],
         "y": [
          600,
          690
         ]
        },
        {
         "line": {
          "color": "green",
          "width": 2
         },
         "mode": "lines",
         "type": "scatter",
         "x": [
          1000,
          1125
         ],
         "y": [
          200,
          142
         ]
        },
        {
         "line": {
          "color": "green",
          "width": 2
         },
         "mode": "lines",
         "type": "scatter",
         "x": [
          1000,
          1054
         ],
         "y": [
          200,
          243
         ]
        },
        {
         "line": {
          "color": "green",
          "width": 2
         },
         "mode": "lines",
         "type": "scatter",
         "x": [
          600,
          502
         ],
         "y": [
          200,
          263
         ]
        },
        {
         "line": {
          "color": "green",
          "width": 2
         },
         "mode": "lines",
         "type": "scatter",
         "x": [
          1000,
          822
         ],
         "y": [
          1000,
          1032
         ]
        },
        {
         "line": {
          "color": "green",
          "width": 2
         },
         "mode": "lines",
         "type": "scatter",
         "x": [
          1000,
          962
         ],
         "y": [
          200,
          71
         ]
        },
        {
         "line": {
          "color": "green",
          "width": 2
         },
         "mode": "lines",
         "type": "scatter",
         "x": [
          1000,
          962
         ],
         "y": [
          600,
          672
         ]
        },
        {
         "line": {
          "color": "green",
          "width": 2
         },
         "mode": "lines",
         "type": "scatter",
         "x": [
          1000,
          844
         ],
         "y": [
          600,
          529
         ]
        },
        {
         "line": {
          "color": "green",
          "width": 2
         },
         "mode": "lines",
         "type": "scatter",
         "x": [
          600,
          585
         ],
         "y": [
          1000,
          893
         ]
        },
        {
         "line": {
          "color": "green",
          "width": 2
         },
         "mode": "lines",
         "type": "scatter",
         "x": [
          600,
          626
         ],
         "y": [
          600,
          716
         ]
        },
        {
         "line": {
          "color": "green",
          "width": 2
         },
         "mode": "lines",
         "type": "scatter",
         "x": [
          600,
          743
         ],
         "y": [
          600,
          654
         ]
        },
        {
         "line": {
          "color": "green",
          "width": 2
         },
         "mode": "lines",
         "type": "scatter",
         "x": [
          1000,
          981
         ],
         "y": [
          600,
          458
         ]
        },
        {
         "line": {
          "color": "green",
          "width": 2
         },
         "mode": "lines",
         "type": "scatter",
         "x": [
          1000,
          637
         ],
         "y": [
          1000,
          682
         ]
        },
        {
         "line": {
          "color": "green",
          "width": 2
         },
         "mode": "lines",
         "type": "scatter",
         "x": [
          1400,
          1116
         ],
         "y": [
          600,
          614
         ]
        },
        {
         "line": {
          "color": "green",
          "width": 2
         },
         "mode": "lines",
         "type": "scatter",
         "x": [
          1000,
          893
         ],
         "y": [
          600,
          434
         ]
        },
        {
         "line": {
          "color": "green",
          "width": 2
         },
         "mode": "lines",
         "type": "scatter",
         "x": [
          200,
          166
         ],
         "y": [
          600,
          901
         ]
        },
        {
         "line": {
          "color": "green",
          "width": 2
         },
         "mode": "lines",
         "type": "scatter",
         "x": [
          1000,
          1012
         ],
         "y": [
          1000,
          1132
         ]
        },
        {
         "line": {
          "color": "green",
          "width": 2
         },
         "mode": "lines",
         "type": "scatter",
         "x": [
          1400,
          1214
         ],
         "y": [
          200,
          159
         ]
        },
        {
         "line": {
          "color": "green",
          "width": 2
         },
         "mode": "lines",
         "type": "scatter",
         "x": [
          200,
          267
         ],
         "y": [
          1400,
          1468
         ]
        },
        {
         "line": {
          "color": "green",
          "width": 2
         },
         "mode": "lines",
         "type": "scatter",
         "x": [
          600,
          610
         ],
         "y": [
          1000,
          1132
         ]
        },
        {
         "line": {
          "color": "green",
          "width": 2
         },
         "mode": "lines",
         "type": "scatter",
         "x": [
          1000,
          1151
         ],
         "y": [
          1400,
          1483
         ]
        },
        {
         "line": {
          "color": "green",
          "width": 2
         },
         "mode": "lines",
         "type": "scatter",
         "x": [
          600,
          670
         ],
         "y": [
          1000,
          920
         ]
        },
        {
         "line": {
          "color": "green",
          "width": 2
         },
         "mode": "lines",
         "type": "scatter",
         "x": [
          600,
          888
         ],
         "y": [
          1400,
          1292
         ]
        },
        {
         "line": {
          "color": "green",
          "width": 2
         },
         "mode": "lines",
         "type": "scatter",
         "x": [
          1000,
          894
         ],
         "y": [
          1000,
          1054
         ]
        },
        {
         "line": {
          "color": "green",
          "width": 2
         },
         "mode": "lines",
         "type": "scatter",
         "x": [
          600,
          537
         ],
         "y": [
          200,
          178
         ]
        },
        {
         "line": {
          "color": "green",
          "width": 2
         },
         "mode": "lines",
         "type": "scatter",
         "x": [
          1400,
          1387
         ],
         "y": [
          1000,
          1201
         ]
        },
        {
         "line": {
          "color": "green",
          "width": 2
         },
         "mode": "lines",
         "type": "scatter",
         "x": [
          1000,
          965
         ],
         "y": [
          1000,
          837
         ]
        },
        {
         "line": {
          "color": "green",
          "width": 2
         },
         "mode": "lines",
         "type": "scatter",
         "x": [
          1000,
          1045
         ],
         "y": [
          200,
          383
         ]
        },
        {
         "line": {
          "color": "green",
          "width": 2
         },
         "mode": "lines",
         "type": "scatter",
         "x": [
          1000,
          996
         ],
         "y": [
          600,
          537
         ]
        },
        {
         "line": {
          "color": "green",
          "width": 2
         },
         "mode": "lines",
         "type": "scatter",
         "x": [
          200,
          173
         ],
         "y": [
          200,
          253
         ]
        },
        {
         "line": {
          "color": "green",
          "width": 2
         },
         "mode": "lines",
         "type": "scatter",
         "x": [
          1400,
          1521
         ],
         "y": [
          1000,
          982
         ]
        },
        {
         "line": {
          "color": "green",
          "width": 2
         },
         "mode": "lines",
         "type": "scatter",
         "x": [
          1400,
          1240
         ],
         "y": [
          200,
          340
         ]
        },
        {
         "line": {
          "color": "green",
          "width": 2
         },
         "mode": "lines",
         "type": "scatter",
         "x": [
          600,
          674
         ],
         "y": [
          1400,
          1478
         ]
        },
        {
         "line": {
          "color": "green",
          "width": 2
         },
         "mode": "lines",
         "type": "scatter",
         "x": [
          200,
          321
         ],
         "y": [
          200,
          305
         ]
        },
        {
         "line": {
          "color": "green",
          "width": 2
         },
         "mode": "lines",
         "type": "scatter",
         "x": [
          600,
          570
         ],
         "y": [
          1000,
          1033
         ]
        },
        {
         "line": {
          "color": "green",
          "width": 2
         },
         "mode": "lines",
         "type": "scatter",
         "x": [
          200,
          75
         ],
         "y": [
          200,
          447
         ]
        },
        {
         "line": {
          "color": "green",
          "width": 2
         },
         "mode": "lines",
         "type": "scatter",
         "x": [
          1400,
          1424
         ],
         "y": [
          600,
          618
         ]
        },
        {
         "line": {
          "color": "green",
          "width": 2
         },
         "mode": "lines",
         "type": "scatter",
         "x": [
          600,
          629
         ],
         "y": [
          600,
          444
         ]
        },
        {
         "line": {
          "color": "green",
          "width": 2
         },
         "mode": "lines",
         "type": "scatter",
         "x": [
          1000,
          805
         ],
         "y": [
          1000,
          1130
         ]
        },
        {
         "line": {
          "color": "green",
          "width": 2
         },
         "mode": "lines",
         "type": "scatter",
         "x": [
          1000,
          919
         ],
         "y": [
          600,
          679
         ]
        },
        {
         "line": {
          "color": "green",
          "width": 2
         },
         "mode": "lines",
         "type": "scatter",
         "x": [
          600,
          495
         ],
         "y": [
          1000,
          1181
         ]
        },
        {
         "line": {
          "color": "green",
          "width": 2
         },
         "mode": "lines",
         "type": "scatter",
         "x": [
          1000,
          967
         ],
         "y": [
          1000,
          911
         ]
        },
        {
         "line": {
          "color": "green",
          "width": 2
         },
         "mode": "lines",
         "type": "scatter",
         "x": [
          200,
          169
         ],
         "y": [
          600,
          253
         ]
        },
        {
         "line": {
          "color": "green",
          "width": 2
         },
         "mode": "lines",
         "type": "scatter",
         "x": [
          1000,
          770
         ],
         "y": [
          1400,
          1497
         ]
        },
        {
         "line": {
          "color": "green",
          "width": 2
         },
         "mode": "lines",
         "type": "scatter",
         "x": [
          600,
          652
         ],
         "y": [
          1000,
          902
         ]
        },
        {
         "line": {
          "color": "green",
          "width": 2
         },
         "mode": "lines",
         "type": "scatter",
         "x": [
          600,
          547
         ],
         "y": [
          1400,
          1479
         ]
        },
        {
         "line": {
          "color": "green",
          "width": 2
         },
         "mode": "lines",
         "type": "scatter",
         "x": [
          600,
          690
         ],
         "y": [
          1400,
          1326
         ]
        },
        {
         "line": {
          "color": "green",
          "width": 2
         },
         "mode": "lines",
         "type": "scatter",
         "x": [
          600,
          570
         ],
         "y": [
          1000,
          1021
         ]
        },
        {
         "line": {
          "color": "green",
          "width": 2
         },
         "mode": "lines",
         "type": "scatter",
         "x": [
          600,
          755
         ],
         "y": [
          200,
          319
         ]
        },
        {
         "line": {
          "color": "green",
          "width": 2
         },
         "mode": "lines",
         "type": "scatter",
         "x": [
          1000,
          1065
         ],
         "y": [
          600,
          666
         ]
        },
        {
         "line": {
          "color": "green",
          "width": 2
         },
         "mode": "lines",
         "type": "scatter",
         "x": [
          200,
          79
         ],
         "y": [
          200,
          145
         ]
        },
        {
         "line": {
          "color": "green",
          "width": 2
         },
         "mode": "lines",
         "type": "scatter",
         "x": [
          1400,
          1304
         ],
         "y": [
          600,
          477
         ]
        },
        {
         "line": {
          "color": "red",
          "width": 2
         },
         "mode": "lines",
         "type": "scatter",
         "x": [
          1000,
          917
         ],
         "y": [
          600,
          663
         ]
        },
        {
         "line": {
          "color": "green",
          "width": 2
         },
         "mode": "lines",
         "type": "scatter",
         "x": [
          1000,
          888
         ],
         "y": [
          1000,
          1103
         ]
        },
        {
         "line": {
          "color": "green",
          "width": 2
         },
         "mode": "lines",
         "type": "scatter",
         "x": [
          1400,
          1020
         ],
         "y": [
          1400,
          1064
         ]
        },
        {
         "line": {
          "color": "green",
          "width": 2
         },
         "mode": "lines",
         "type": "scatter",
         "x": [
          1400,
          1368
         ],
         "y": [
          1000,
          1034
         ]
        },
        {
         "line": {
          "color": "green",
          "width": 2
         },
         "mode": "lines",
         "type": "scatter",
         "x": [
          1400,
          1012
         ],
         "y": [
          1000,
          668
         ]
        },
        {
         "line": {
          "color": "green",
          "width": 2
         },
         "mode": "lines",
         "type": "scatter",
         "x": [
          200,
          189
         ],
         "y": [
          1000,
          950
         ]
        },
        {
         "line": {
          "color": "green",
          "width": 2
         },
         "mode": "lines",
         "type": "scatter",
         "x": [
          600,
          636
         ],
         "y": [
          600,
          662
         ]
        },
        {
         "line": {
          "color": "red",
          "width": 2
         },
         "mode": "lines",
         "type": "scatter",
         "x": [
          600,
          920
         ],
         "y": [
          1000,
          856
         ]
        },
        {
         "line": {
          "color": "green",
          "width": 2
         },
         "mode": "lines",
         "type": "scatter",
         "x": [
          600,
          564
         ],
         "y": [
          1000,
          1015
         ]
        },
        {
         "line": {
          "color": "red",
          "width": 2
         },
         "mode": "lines",
         "type": "scatter",
         "x": [
          1000,
          881
         ],
         "y": [
          1000,
          1099
         ]
        },
        {
         "line": {
          "color": "green",
          "width": 2
         },
         "mode": "lines",
         "type": "scatter",
         "x": [
          600,
          613
         ],
         "y": [
          600,
          657
         ]
        },
        {
         "line": {
          "color": "green",
          "width": 2
         },
         "mode": "lines",
         "type": "scatter",
         "x": [
          200,
          267
         ],
         "y": [
          1000,
          1041
         ]
        },
        {
         "line": {
          "color": "green",
          "width": 2
         },
         "mode": "lines",
         "type": "scatter",
         "x": [
          200,
          393
         ],
         "y": [
          1400,
          1211
         ]
        },
        {
         "line": {
          "color": "green",
          "width": 2
         },
         "mode": "lines",
         "type": "scatter",
         "x": [
          600,
          701
         ],
         "y": [
          1000,
          855
         ]
        },
        {
         "line": {
          "color": "green",
          "width": 2
         },
         "mode": "lines",
         "type": "scatter",
         "x": [
          1000,
          1006
         ],
         "y": [
          1400,
          1338
         ]
        },
        {
         "line": {
          "color": "green",
          "width": 2
         },
         "mode": "lines",
         "type": "scatter",
         "x": [
          600,
          576
         ],
         "y": [
          1000,
          1052
         ]
        },
        {
         "line": {
          "color": "green",
          "width": 2
         },
         "mode": "lines",
         "type": "scatter",
         "x": [
          600,
          731
         ],
         "y": [
          600,
          521
         ]
        },
        {
         "line": {
          "color": "green",
          "width": 2
         },
         "mode": "lines",
         "type": "scatter",
         "x": [
          1400,
          1286
         ],
         "y": [
          200,
          358
         ]
        },
        {
         "line": {
          "color": "red",
          "width": 2
         },
         "mode": "lines",
         "type": "scatter",
         "x": [
          1000,
          837
         ],
         "y": [
          1000,
          1097
         ]
        },
        {
         "line": {
          "color": "green",
          "width": 2
         },
         "mode": "lines",
         "type": "scatter",
         "x": [
          600,
          517
         ],
         "y": [
          1000,
          888
         ]
        },
        {
         "line": {
          "color": "green",
          "width": 2
         },
         "mode": "lines",
         "type": "scatter",
         "x": [
          600,
          670
         ],
         "y": [
          200,
          50
         ]
        },
        {
         "line": {
          "color": "green",
          "width": 2
         },
         "mode": "lines",
         "type": "scatter",
         "x": [
          600,
          775
         ],
         "y": [
          200,
          86
         ]
        },
        {
         "line": {
          "color": "green",
          "width": 2
         },
         "mode": "lines",
         "type": "scatter",
         "x": [
          1400,
          1356
         ],
         "y": [
          200,
          220
         ]
        },
        {
         "line": {
          "color": "green",
          "width": 2
         },
         "mode": "lines",
         "type": "scatter",
         "x": [
          600,
          571
         ],
         "y": [
          1400,
          1283
         ]
        },
        {
         "line": {
          "color": "green",
          "width": 2
         },
         "mode": "lines",
         "type": "scatter",
         "x": [
          1400,
          1294
         ],
         "y": [
          600,
          657
         ]
        },
        {
         "line": {
          "color": "green",
          "width": 2
         },
         "mode": "lines",
         "type": "scatter",
         "x": [
          600,
          550
         ],
         "y": [
          600,
          557
         ]
        },
        {
         "line": {
          "color": "green",
          "width": 2
         },
         "mode": "lines",
         "type": "scatter",
         "x": [
          1400,
          1306
         ],
         "y": [
          600,
          403
         ]
        },
        {
         "line": {
          "color": "green",
          "width": 2
         },
         "mode": "lines",
         "type": "scatter",
         "x": [
          200,
          377
         ],
         "y": [
          1000,
          1073
         ]
        },
        {
         "line": {
          "color": "red",
          "width": 2
         },
         "mode": "lines",
         "type": "scatter",
         "x": [
          1000,
          786
         ],
         "y": [
          1000,
          989
         ]
        },
        {
         "line": {
          "color": "green",
          "width": 2
         },
         "mode": "lines",
         "type": "scatter",
         "x": [
          1400,
          1087
         ],
         "y": [
          1000,
          997
         ]
        },
        {
         "line": {
          "color": "green",
          "width": 2
         },
         "mode": "lines",
         "type": "scatter",
         "x": [
          600,
          673
         ],
         "y": [
          600,
          548
         ]
        },
        {
         "line": {
          "color": "green",
          "width": 2
         },
         "mode": "lines",
         "type": "scatter",
         "x": [
          1000,
          1109
         ],
         "y": [
          200,
          357
         ]
        },
        {
         "line": {
          "color": "green",
          "width": 2
         },
         "mode": "lines",
         "type": "scatter",
         "x": [
          1000,
          1001
         ],
         "y": [
          1400,
          1406
         ]
        },
        {
         "line": {
          "color": "green",
          "width": 2
         },
         "mode": "lines",
         "type": "scatter",
         "x": [
          1400,
          1432
         ],
         "y": [
          200,
          74
         ]
        },
        {
         "line": {
          "color": "green",
          "width": 2
         },
         "mode": "lines",
         "type": "scatter",
         "x": [
          600,
          775
         ],
         "y": [
          1400,
          1449
         ]
        },
        {
         "line": {
          "color": "green",
          "width": 2
         },
         "mode": "lines",
         "type": "scatter",
         "x": [
          1400,
          1543
         ],
         "y": [
          600,
          294
         ]
        },
        {
         "line": {
          "color": "green",
          "width": 2
         },
         "mode": "lines",
         "type": "scatter",
         "x": [
          1000,
          1179
         ],
         "y": [
          1400,
          1225
         ]
        },
        {
         "line": {
          "color": "green",
          "width": 2
         },
         "mode": "lines",
         "type": "scatter",
         "x": [
          1400,
          1052
         ],
         "y": [
          1000,
          946
         ]
        },
        {
         "line": {
          "color": "green",
          "width": 2
         },
         "mode": "lines",
         "type": "scatter",
         "x": [
          200,
          516
         ],
         "y": [
          1000,
          919
         ]
        },
        {
         "line": {
          "color": "green",
          "width": 2
         },
         "mode": "lines",
         "type": "scatter",
         "x": [
          200,
          159
         ],
         "y": [
          1400,
          1531
         ]
        },
        {
         "line": {
          "color": "red",
          "width": 2
         },
         "mode": "lines",
         "type": "scatter",
         "x": [
          1000,
          794
         ],
         "y": [
          600,
          563
         ]
        },
        {
         "line": {
          "color": "green",
          "width": 2
         },
         "mode": "lines",
         "type": "scatter",
         "x": [
          1000,
          1163
         ],
         "y": [
          1000,
          939
         ]
        },
        {
         "line": {
          "color": "green",
          "width": 2
         },
         "mode": "lines",
         "type": "scatter",
         "x": [
          200,
          15
         ],
         "y": [
          200,
          334
         ]
        },
        {
         "line": {
          "color": "green",
          "width": 2
         },
         "mode": "lines",
         "type": "scatter",
         "x": [
          1400,
          1395
         ],
         "y": [
          200,
          61
         ]
        },
        {
         "line": {
          "color": "green",
          "width": 2
         },
         "mode": "lines",
         "type": "scatter",
         "x": [
          200,
          85
         ],
         "y": [
          200,
          53
         ]
        },
        {
         "line": {
          "color": "green",
          "width": 2
         },
         "mode": "lines",
         "type": "scatter",
         "x": [
          1400,
          1377
         ],
         "y": [
          1000,
          821
         ]
        },
        {
         "line": {
          "color": "green",
          "width": 2
         },
         "mode": "lines",
         "type": "scatter",
         "x": [
          600,
          761
         ],
         "y": [
          200,
          354
         ]
        },
        {
         "line": {
          "color": "green",
          "width": 2
         },
         "mode": "lines",
         "type": "scatter",
         "x": [
          1000,
          974
         ],
         "y": [
          1400,
          1283
         ]
        },
        {
         "line": {
          "color": "green",
          "width": 2
         },
         "mode": "lines",
         "type": "scatter",
         "x": [
          1400,
          1503
         ],
         "y": [
          600,
          591
         ]
        },
        {
         "line": {
          "color": "green",
          "width": 2
         },
         "mode": "lines",
         "type": "scatter",
         "x": [
          1000,
          1061
         ],
         "y": [
          200,
          583
         ]
        },
        {
         "line": {
          "color": "red",
          "width": 2
         },
         "mode": "lines",
         "type": "scatter",
         "x": [
          1000,
          1035
         ],
         "y": [
          600,
          664
         ]
        },
        {
         "line": {
          "color": "green",
          "width": 2
         },
         "mode": "lines",
         "type": "scatter",
         "x": [
          1400,
          1269
         ],
         "y": [
          600,
          626
         ]
        },
        {
         "line": {
          "color": "green",
          "width": 2
         },
         "mode": "lines",
         "type": "scatter",
         "x": [
          200,
          165
         ],
         "y": [
          600,
          545
         ]
        },
        {
         "line": {
          "color": "green",
          "width": 2
         },
         "mode": "lines",
         "type": "scatter",
         "x": [
          200,
          207
         ],
         "y": [
          600,
          601
         ]
        },
        {
         "line": {
          "color": "green",
          "width": 2
         },
         "mode": "lines",
         "type": "scatter",
         "x": [
          600,
          737
         ],
         "y": [
          1400,
          1543
         ]
        },
        {
         "line": {
          "color": "green",
          "width": 2
         },
         "mode": "lines",
         "type": "scatter",
         "x": [
          600,
          452
         ],
         "y": [
          600,
          793
         ]
        },
        {
         "line": {
          "color": "green",
          "width": 2
         },
         "mode": "lines",
         "type": "scatter",
         "x": [
          600,
          544
         ],
         "y": [
          1000,
          1115
         ]
        },
        {
         "line": {
          "color": "red",
          "width": 2
         },
         "mode": "lines",
         "type": "scatter",
         "x": [
          600,
          605
         ],
         "y": [
          1000,
          1068
         ]
        },
        {
         "line": {
          "color": "red",
          "width": 2
         },
         "mode": "lines",
         "type": "scatter",
         "x": [
          600,
          824
         ],
         "y": [
          600,
          635
         ]
        },
        {
         "line": {
          "color": "green",
          "width": 2
         },
         "mode": "lines",
         "type": "scatter",
         "x": [
          200,
          277
         ],
         "y": [
          600,
          465
         ]
        },
        {
         "line": {
          "color": "green",
          "width": 2
         },
         "mode": "lines",
         "type": "scatter",
         "x": [
          600,
          597
         ],
         "y": [
          600,
          600
         ]
        },
        {
         "line": {
          "color": "green",
          "width": 2
         },
         "mode": "lines",
         "type": "scatter",
         "x": [
          200,
          205
         ],
         "y": [
          600,
          556
         ]
        },
        {
         "line": {
          "color": "green",
          "width": 2
         },
         "mode": "lines",
         "type": "scatter",
         "x": [
          200,
          154
         ],
         "y": [
          1000,
          1036
         ]
        },
        {
         "line": {
          "color": "green",
          "width": 2
         },
         "mode": "lines",
         "type": "scatter",
         "x": [
          200,
          595
         ],
         "y": [
          1000,
          831
         ]
        },
        {
         "line": {
          "color": "green",
          "width": 2
         },
         "mode": "lines",
         "type": "scatter",
         "x": [
          200,
          387
         ],
         "y": [
          1400,
          1425
         ]
        },
        {
         "line": {
          "color": "red",
          "width": 2
         },
         "mode": "lines",
         "type": "scatter",
         "x": [
          600,
          868
         ],
         "y": [
          600,
          631
         ]
        },
        {
         "line": {
          "color": "green",
          "width": 2
         },
         "mode": "lines",
         "type": "scatter",
         "x": [
          600,
          543
         ],
         "y": [
          200,
          214
         ]
        },
        {
         "line": {
          "color": "green",
          "width": 2
         },
         "mode": "lines",
         "type": "scatter",
         "x": [
          1000,
          1063
         ],
         "y": [
          1000,
          891
         ]
        },
        {
         "line": {
          "color": "green",
          "width": 2
         },
         "mode": "lines",
         "type": "scatter",
         "x": [
          1400,
          1291
         ],
         "y": [
          1000,
          822
         ]
        },
        {
         "line": {
          "color": "red",
          "width": 2
         },
         "mode": "lines",
         "type": "scatter",
         "x": [
          200,
          590
         ],
         "y": [
          1000,
          615
         ]
        },
        {
         "line": {
          "color": "green",
          "width": 2
         },
         "mode": "lines",
         "type": "scatter",
         "x": [
          1400,
          1189
         ],
         "y": [
          200,
          56
         ]
        },
        {
         "line": {
          "color": "green",
          "width": 2
         },
         "mode": "lines",
         "type": "scatter",
         "x": [
          1400,
          1474
         ],
         "y": [
          1400,
          1332
         ]
        },
        {
         "line": {
          "color": "green",
          "width": 2
         },
         "mode": "lines",
         "type": "scatter",
         "x": [
          1000,
          849
         ],
         "y": [
          200,
          259
         ]
        },
        {
         "line": {
          "color": "red",
          "width": 2
         },
         "mode": "lines",
         "type": "scatter",
         "x": [
          1000,
          859
         ],
         "y": [
          600,
          504
         ]
        },
        {
         "line": {
          "color": "green",
          "width": 2
         },
         "mode": "lines",
         "type": "scatter",
         "x": [
          1400,
          1250
         ],
         "y": [
          1400,
          1270
         ]
        },
        {
         "line": {
          "color": "green",
          "width": 2
         },
         "mode": "lines",
         "type": "scatter",
         "x": [
          1000,
          1066
         ],
         "y": [
          1400,
          1465
         ]
        },
        {
         "line": {
          "color": "green",
          "width": 2
         },
         "mode": "lines",
         "type": "scatter",
         "x": [
          200,
          258
         ],
         "y": [
          1400,
          1238
         ]
        },
        {
         "line": {
          "color": "green",
          "width": 2
         },
         "mode": "lines",
         "type": "scatter",
         "x": [
          600,
          759
         ],
         "y": [
          1400,
          1442
         ]
        },
        {
         "line": {
          "color": "green",
          "width": 2
         },
         "mode": "lines",
         "type": "scatter",
         "x": [
          600,
          667
         ],
         "y": [
          1000,
          927
         ]
        },
        {
         "line": {
          "color": "green",
          "width": 2
         },
         "mode": "lines",
         "type": "scatter",
         "x": [
          1400,
          1217
         ],
         "y": [
          1400,
          1226
         ]
        },
        {
         "line": {
          "color": "green",
          "width": 2
         },
         "mode": "lines",
         "type": "scatter",
         "x": [
          600,
          608
         ],
         "y": [
          1400,
          1271
         ]
        },
        {
         "line": {
          "color": "green",
          "width": 2
         },
         "mode": "lines",
         "type": "scatter",
         "x": [
          600,
          753
         ],
         "y": [
          200,
          34
         ]
        },
        {
         "line": {
          "color": "green",
          "width": 2
         },
         "mode": "lines",
         "type": "scatter",
         "x": [
          600,
          735
         ],
         "y": [
          1400,
          1295
         ]
        },
        {
         "line": {
          "color": "green",
          "width": 2
         },
         "mode": "lines",
         "type": "scatter",
         "x": [
          200,
          98
         ],
         "y": [
          600,
          579
         ]
        },
        {
         "line": {
          "color": "green",
          "width": 2
         },
         "mode": "lines",
         "type": "scatter",
         "x": [
          200,
          51
         ],
         "y": [
          600,
          644
         ]
        },
        {
         "line": {
          "color": "green",
          "width": 2
         },
         "mode": "lines",
         "type": "scatter",
         "x": [
          1000,
          1081
         ],
         "y": [
          200,
          563
         ]
        },
        {
         "line": {
          "color": "red",
          "width": 2
         },
         "mode": "lines",
         "type": "scatter",
         "x": [
          1000,
          699
         ],
         "y": [
          600,
          715
         ]
        },
        {
         "line": {
          "color": "green",
          "width": 2
         },
         "mode": "lines",
         "type": "scatter",
         "x": [
          600,
          470
         ],
         "y": [
          1400,
          1329
         ]
        },
        {
         "line": {
          "color": "green",
          "width": 2
         },
         "mode": "lines",
         "type": "scatter",
         "x": [
          1000,
          963
         ],
         "y": [
          1400,
          1078
         ]
        },
        {
         "line": {
          "color": "red",
          "width": 2
         },
         "mode": "lines",
         "type": "scatter",
         "x": [
          600,
          722
         ],
         "y": [
          600,
          831
         ]
        },
        {
         "line": {
          "color": "green",
          "width": 2
         },
         "mode": "lines",
         "type": "scatter",
         "x": [
          200,
          86
         ],
         "y": [
          200,
          328
         ]
        },
        {
         "line": {
          "color": "green",
          "width": 2
         },
         "mode": "lines",
         "type": "scatter",
         "x": [
          600,
          514
         ],
         "y": [
          200,
          596
         ]
        },
        {
         "line": {
          "color": "green",
          "width": 2
         },
         "mode": "lines",
         "type": "scatter",
         "x": [
          1000,
          959
         ],
         "y": [
          600,
          782
         ]
        },
        {
         "line": {
          "color": "green",
          "width": 2
         },
         "mode": "lines",
         "type": "scatter",
         "x": [
          600,
          469
         ],
         "y": [
          1400,
          1341
         ]
        },
        {
         "line": {
          "color": "green",
          "width": 2
         },
         "mode": "lines",
         "type": "scatter",
         "x": [
          600,
          520
         ],
         "y": [
          200,
          397
         ]
        },
        {
         "line": {
          "color": "green",
          "width": 2
         },
         "mode": "lines",
         "type": "scatter",
         "x": [
          1400,
          1503
         ],
         "y": [
          200,
          313
         ]
        },
        {
         "line": {
          "color": "green",
          "width": 2
         },
         "mode": "lines",
         "type": "scatter",
         "x": [
          200,
          387
         ],
         "y": [
          1400,
          1590
         ]
        },
        {
         "line": {
          "color": "green",
          "width": 2
         },
         "mode": "lines",
         "type": "scatter",
         "x": [
          600,
          776
         ],
         "y": [
          1000,
          1085
         ]
        },
        {
         "line": {
          "color": "red",
          "width": 2
         },
         "mode": "lines",
         "type": "scatter",
         "x": [
          600,
          750
         ],
         "y": [
          1400,
          1035
         ]
        },
        {
         "line": {
          "color": "green",
          "width": 2
         },
         "mode": "lines",
         "type": "scatter",
         "x": [
          1400,
          1021
         ],
         "y": [
          1000,
          931
         ]
        },
        {
         "line": {
          "color": "green",
          "width": 2
         },
         "mode": "lines",
         "type": "scatter",
         "x": [
          600,
          492
         ],
         "y": [
          1400,
          1234
         ]
        },
        {
         "line": {
          "color": "green",
          "width": 2
         },
         "mode": "lines",
         "type": "scatter",
         "x": [
          600,
          695
         ],
         "y": [
          600,
          785
         ]
        },
        {
         "line": {
          "color": "green",
          "width": 2
         },
         "mode": "lines",
         "type": "scatter",
         "x": [
          600,
          685
         ],
         "y": [
          1400,
          1549
         ]
        },
        {
         "line": {
          "color": "green",
          "width": 2
         },
         "mode": "lines",
         "type": "scatter",
         "x": [
          1000,
          1119
         ],
         "y": [
          1000,
          1180
         ]
        },
        {
         "line": {
          "color": "green",
          "width": 2
         },
         "mode": "lines",
         "type": "scatter",
         "x": [
          200,
          204
         ],
         "y": [
          1000,
          806
         ]
        },
        {
         "marker": {
          "color": [
           "yellow",
           "yellow",
           "yellow",
           "yellow",
           "yellow",
           "yellow",
           "yellow",
           "yellow",
           "yellow",
           "yellow",
           "yellow",
           "yellow",
           "yellow",
           "yellow",
           "yellow",
           "yellow",
           "magenta",
           "magenta",
           "magenta",
           "magenta",
           "magenta",
           "magenta",
           "magenta",
           "blue",
           "magenta",
           "blue",
           "blue",
           "magenta",
           "magenta",
           "magenta",
           "magenta",
           "magenta",
           "blue",
           "magenta",
           "magenta",
           "blue",
           "blue",
           "magenta",
           "magenta",
           "magenta",
           "magenta",
           "magenta",
           "magenta",
           "magenta",
           "magenta",
           "magenta",
           "magenta",
           "blue",
           "magenta",
           "magenta",
           "magenta",
           "blue",
           "magenta",
           "magenta",
           "magenta",
           "magenta",
           "magenta",
           "blue",
           "blue",
           "magenta",
           "magenta",
           "magenta",
           "magenta",
           "blue",
           "magenta",
           "blue",
           "blue",
           "magenta",
           "blue",
           "blue",
           "magenta",
           "magenta",
           "magenta",
           "magenta",
           "magenta",
           "magenta",
           "magenta",
           "magenta",
           "magenta",
           "magenta",
           "blue",
           "magenta",
           "blue",
           "magenta",
           "magenta",
           "magenta",
           "magenta",
           "magenta",
           "magenta",
           "magenta",
           "magenta",
           "magenta",
           "magenta",
           "magenta",
           "magenta",
           "magenta",
           "magenta",
           "magenta",
           "blue",
           "magenta",
           "magenta",
           "magenta",
           "magenta",
           "magenta",
           "magenta",
           "magenta",
           "magenta",
           "magenta",
           "blue",
           "magenta",
           "magenta",
           "blue",
           "magenta",
           "blue",
           "magenta",
           "blue",
           "magenta",
           "blue",
           "blue",
           "blue",
           "blue",
           "blue",
           "magenta",
           "magenta",
           "blue",
           "magenta",
           "blue",
           "blue",
           "magenta",
           "blue",
           "blue",
           "magenta",
           "magenta",
           "magenta",
           "magenta",
           "magenta",
           "blue",
           "magenta",
           "magenta",
           "blue",
           "blue",
           "magenta",
           "magenta",
           "magenta",
           "magenta",
           "magenta",
           "magenta",
           "magenta",
           "blue",
           "blue",
           "magenta",
           "blue",
           "magenta",
           "magenta",
           "magenta",
           "magenta",
           "magenta",
           "magenta",
           "magenta",
           "magenta",
           "blue",
           "blue",
           "magenta",
           "magenta",
           "magenta",
           "magenta",
           "magenta",
           "magenta",
           "blue",
           "blue",
           "magenta",
           "magenta",
           "magenta",
           "magenta",
           "blue",
           "magenta",
           "blue",
           "magenta",
           "magenta",
           "magenta",
           "blue",
           "magenta",
           "magenta",
           "magenta",
           "blue",
           "magenta",
           "magenta",
           "magenta",
           "magenta",
           "magenta",
           "magenta",
           "magenta",
           "magenta",
           "magenta",
           "magenta",
           "magenta",
           "blue",
           "blue",
           "magenta",
           "blue",
           "blue",
           "magenta",
           "blue",
           "magenta",
           "magenta",
           "magenta",
           "magenta",
           "magenta",
           "magenta",
           "blue",
           "blue",
           "magenta",
           "magenta",
           "magenta",
           "magenta",
           "magenta"
          ],
          "size": 8
         },
         "mode": "markers",
         "type": "scatter",
         "x": [
          200,
          200,
          200,
          200,
          600,
          600,
          600,
          600,
          1000,
          1000,
          1000,
          1000,
          1400,
          1400,
          1400,
          1400,
          493,
          920,
          947,
          1519,
          1496,
          986,
          175,
          1099,
          635,
          608,
          1046,
          1282,
          16,
          195,
          748,
          214,
          806,
          1595,
          490,
          958,
          1023,
          621,
          153,
          1007,
          1240,
          858,
          324,
          422,
          325,
          288,
          1168,
          748,
          87,
          707,
          1425,
          965,
          473,
          1263,
          1095,
          75,
          1448,
          842,
          1017,
          250,
          1125,
          1054,
          502,
          822,
          962,
          962,
          844,
          585,
          626,
          743,
          981,
          637,
          1116,
          893,
          166,
          1012,
          1214,
          267,
          610,
          1151,
          670,
          888,
          894,
          537,
          1387,
          965,
          1045,
          996,
          173,
          1521,
          1240,
          674,
          321,
          570,
          75,
          1424,
          629,
          805,
          919,
          495,
          967,
          169,
          770,
          652,
          547,
          690,
          570,
          755,
          1065,
          79,
          1304,
          917,
          888,
          1020,
          1368,
          1012,
          189,
          636,
          920,
          564,
          881,
          613,
          267,
          393,
          701,
          1006,
          576,
          731,
          1286,
          837,
          517,
          670,
          775,
          1356,
          571,
          1294,
          550,
          1306,
          377,
          786,
          1087,
          673,
          1109,
          1001,
          1432,
          775,
          1543,
          1179,
          1052,
          516,
          159,
          794,
          1163,
          15,
          1395,
          85,
          1377,
          761,
          974,
          1503,
          1061,
          1035,
          1269,
          165,
          207,
          737,
          452,
          544,
          605,
          824,
          277,
          597,
          205,
          154,
          595,
          387,
          868,
          543,
          1063,
          1291,
          590,
          1189,
          1474,
          849,
          859,
          1250,
          1066,
          258,
          759,
          667,
          1217,
          608,
          753,
          735,
          98,
          51,
          1081,
          699,
          470,
          963,
          722,
          86,
          514,
          959,
          469,
          520,
          1503,
          387,
          776,
          750,
          1021,
          492,
          695,
          685,
          1119,
          204
         ],
         "y": [
          200,
          600,
          1000,
          1400,
          200,
          600,
          1000,
          1400,
          200,
          600,
          1000,
          1400,
          200,
          600,
          1000,
          1400,
          1203,
          1110,
          806,
          1413,
          294,
          875,
          1501,
          848,
          1332,
          788,
          822,
          960,
          1200,
          1444,
          569,
          569,
          666,
          1562,
          609,
          699,
          728,
          479,
          774,
          878,
          1535,
          1558,
          1272,
          122,
          801,
          1108,
          881,
          850,
          1061,
          1556,
          303,
          955,
          1218,
          384,
          357,
          1434,
          210,
          890,
          609,
          690,
          142,
          243,
          263,
          1032,
          71,
          672,
          529,
          893,
          716,
          654,
          458,
          682,
          614,
          434,
          901,
          1132,
          159,
          1468,
          1132,
          1483,
          920,
          1292,
          1054,
          178,
          1201,
          837,
          383,
          537,
          253,
          982,
          340,
          1478,
          305,
          1033,
          447,
          618,
          444,
          1130,
          679,
          1181,
          911,
          253,
          1497,
          902,
          1479,
          1326,
          1021,
          319,
          666,
          145,
          477,
          663,
          1103,
          1064,
          1034,
          668,
          950,
          662,
          856,
          1015,
          1099,
          657,
          1041,
          1211,
          855,
          1338,
          1052,
          521,
          358,
          1097,
          888,
          50,
          86,
          220,
          1283,
          657,
          557,
          403,
          1073,
          989,
          997,
          548,
          357,
          1406,
          74,
          1449,
          294,
          1225,
          946,
          919,
          1531,
          563,
          939,
          334,
          61,
          53,
          821,
          354,
          1283,
          591,
          583,
          664,
          626,
          545,
          601,
          1543,
          793,
          1115,
          1068,
          635,
          465,
          600,
          556,
          1036,
          831,
          1425,
          631,
          214,
          891,
          822,
          615,
          56,
          1332,
          259,
          504,
          1270,
          1465,
          1238,
          1442,
          927,
          1226,
          1271,
          34,
          1295,
          579,
          644,
          563,
          715,
          1329,
          1078,
          831,
          328,
          596,
          782,
          1341,
          397,
          313,
          1590,
          1085,
          1035,
          931,
          1234,
          785,
          1549,
          1180,
          806
         ]
        }
       ],
       "layout": {
        "height": 600,
        "showlegend": false,
        "title": "UE and AP Distribution in the grid",
        "width": 800,
        "xaxis": {
         "range": [
          0,
          1600
         ],
         "title": "x"
        },
        "yaxis": {
         "range": [
          0,
          1600
         ],
         "title": "y"
        }
       }
      },
      "text/html": [
       "<div id=\"aae21d7f-7e05-46ae-a5c9-1587816a4d18\" style=\"height: 600px; width: 800px;\" class=\"plotly-graph-div\"></div><script type=\"text/javascript\">require([\"plotly\"], function(Plotly) { window.PLOTLYENV=window.PLOTLYENV || {};window.PLOTLYENV.BASE_URL=\"https://plot.ly\";Plotly.newPlot(\"aae21d7f-7e05-46ae-a5c9-1587816a4d18\", [{\"type\": \"scatter\", \"x\": [600.0, 493], \"y\": [1400.0, 1203], \"mode\": \"lines\", \"line\": {\"width\": 2, \"color\": \"green\"}}, {\"type\": \"scatter\", \"x\": [1000.0, 920], \"y\": [1000.0, 1110], \"mode\": \"lines\", \"line\": {\"width\": 2, \"color\": \"green\"}}, {\"type\": \"scatter\", \"x\": [1000.0, 947], \"y\": [1000.0, 806], \"mode\": \"lines\", \"line\": {\"width\": 2, \"color\": \"green\"}}, {\"type\": \"scatter\", \"x\": [1400.0, 1519], \"y\": [1400.0, 1413], \"mode\": \"lines\", \"line\": {\"width\": 2, \"color\": \"green\"}}, {\"type\": \"scatter\", \"x\": [1400.0, 1496], \"y\": [600.0, 294], \"mode\": \"lines\", \"line\": {\"width\": 2, \"color\": \"green\"}}, {\"type\": \"scatter\", \"x\": [1000.0, 986], \"y\": [1000.0, 875], \"mode\": \"lines\", \"line\": {\"width\": 2, \"color\": \"green\"}}, {\"type\": \"scatter\", \"x\": [200.0, 175], \"y\": [1400.0, 1501], \"mode\": \"lines\", \"line\": {\"width\": 2, \"color\": \"green\"}}, {\"type\": \"scatter\", \"x\": [1000.0, 1099], \"y\": [1000.0, 848], \"mode\": \"lines\", \"line\": {\"width\": 2, \"color\": \"green\"}}, {\"type\": \"scatter\", \"x\": [600.0, 635], \"y\": [1400.0, 1332], \"mode\": \"lines\", \"line\": {\"width\": 2, \"color\": \"green\"}}, {\"type\": \"scatter\", \"x\": [600.0, 608], \"y\": [600.0, 788], \"mode\": \"lines\", \"line\": {\"width\": 2, \"color\": \"green\"}}, {\"type\": \"scatter\", \"x\": [1000.0, 1046], \"y\": [1000.0, 822], \"mode\": \"lines\", \"line\": {\"width\": 2, \"color\": \"green\"}}, {\"type\": \"scatter\", \"x\": [1400.0, 1282], \"y\": [1000.0, 960], \"mode\": \"lines\", \"line\": {\"width\": 2, \"color\": \"green\"}}, {\"type\": \"scatter\", \"x\": [200.0, 16], \"y\": [1000.0, 1200], \"mode\": \"lines\", \"line\": {\"width\": 2, \"color\": \"green\"}}, {\"type\": \"scatter\", \"x\": [200.0, 195], \"y\": [1400.0, 1444], \"mode\": \"lines\", \"line\": {\"width\": 2, \"color\": \"green\"}}, {\"type\": \"scatter\", \"x\": [600.0, 748], \"y\": [600.0, 569], \"mode\": \"lines\", \"line\": {\"width\": 2, \"color\": \"green\"}}, {\"type\": \"scatter\", \"x\": [200.0, 214], \"y\": [600.0, 569], \"mode\": \"lines\", \"line\": {\"width\": 2, \"color\": \"green\"}}, {\"type\": \"scatter\", \"x\": [1000.0, 806], \"y\": [600.0, 666], \"mode\": \"lines\", \"line\": {\"width\": 2, \"color\": \"green\"}}, {\"type\": \"scatter\", \"x\": [1400.0, 1595], \"y\": [1400.0, 1562], \"mode\": \"lines\", \"line\": {\"width\": 2, \"color\": \"green\"}}, {\"type\": \"scatter\", \"x\": [200.0, 490], \"y\": [600.0, 609], \"mode\": \"lines\", \"line\": {\"width\": 2, \"color\": \"green\"}}, {\"type\": \"scatter\", \"x\": [1000.0, 958], \"y\": [600.0, 699], \"mode\": \"lines\", \"line\": {\"width\": 2, \"color\": \"green\"}}, {\"type\": \"scatter\", \"x\": [1000.0, 1023], \"y\": [600.0, 728], \"mode\": \"lines\", \"line\": {\"width\": 2, \"color\": \"green\"}}, {\"type\": \"scatter\", \"x\": [600.0, 621], \"y\": [200.0, 479], \"mode\": \"lines\", \"line\": {\"width\": 2, \"color\": \"green\"}}, {\"type\": \"scatter\", \"x\": [200.0, 153], \"y\": [600.0, 774], \"mode\": \"lines\", \"line\": {\"width\": 2, \"color\": \"green\"}}, {\"type\": \"scatter\", \"x\": [1000.0, 1007], \"y\": [600.0, 878], \"mode\": \"lines\", \"line\": {\"width\": 2, \"color\": \"green\"}}, {\"type\": \"scatter\", \"x\": [1400.0, 1240], \"y\": [1400.0, 1535], \"mode\": \"lines\", \"line\": {\"width\": 2, \"color\": \"green\"}}, {\"type\": \"scatter\", \"x\": [1000.0, 858], \"y\": [1400.0, 1558], \"mode\": \"lines\", \"line\": {\"width\": 2, \"color\": \"green\"}}, {\"type\": \"scatter\", \"x\": [200.0, 324], \"y\": [1400.0, 1272], \"mode\": \"lines\", \"line\": {\"width\": 2, \"color\": \"green\"}}, {\"type\": \"scatter\", \"x\": [600.0, 422], \"y\": [200.0, 122], \"mode\": \"lines\", \"line\": {\"width\": 2, \"color\": \"green\"}}, {\"type\": \"scatter\", \"x\": [200.0, 325], \"y\": [1000.0, 801], \"mode\": \"lines\", \"line\": {\"width\": 2, \"color\": \"green\"}}, {\"type\": \"scatter\", \"x\": [200.0, 288], \"y\": [1000.0, 1108], \"mode\": \"lines\", \"line\": {\"width\": 2, \"color\": \"green\"}}, {\"type\": \"scatter\", \"x\": [1000.0, 1168], \"y\": [1000.0, 881], \"mode\": \"lines\", \"line\": {\"width\": 2, \"color\": \"green\"}}, {\"type\": \"scatter\", \"x\": [600.0, 748], \"y\": [1000.0, 850], \"mode\": \"lines\", \"line\": {\"width\": 2, \"color\": \"green\"}}, {\"type\": \"scatter\", \"x\": [200.0, 87], \"y\": [1000.0, 1061], \"mode\": \"lines\", \"line\": {\"width\": 2, \"color\": \"green\"}}, {\"type\": \"scatter\", \"x\": [600.0, 707], \"y\": [1400.0, 1556], \"mode\": \"lines\", \"line\": {\"width\": 2, \"color\": \"green\"}}, {\"type\": \"scatter\", \"x\": [1400.0, 1425], \"y\": [200.0, 303], \"mode\": \"lines\", \"line\": {\"width\": 2, \"color\": \"green\"}}, {\"type\": \"scatter\", \"x\": [1000.0, 965], \"y\": [1000.0, 955], \"mode\": \"lines\", \"line\": {\"width\": 2, \"color\": \"green\"}}, {\"type\": \"scatter\", \"x\": [200.0, 473], \"y\": [1000.0, 1218], \"mode\": \"lines\", \"line\": {\"width\": 2, \"color\": \"green\"}}, {\"type\": \"scatter\", \"x\": [1400.0, 1263], \"y\": [200.0, 384], \"mode\": \"lines\", \"line\": {\"width\": 2, \"color\": \"green\"}}, {\"type\": \"scatter\", \"x\": [1000.0, 1095], \"y\": [200.0, 357], \"mode\": \"lines\", \"line\": {\"width\": 2, \"color\": \"green\"}}, {\"type\": \"scatter\", \"x\": [200.0, 75], \"y\": [1400.0, 1434], \"mode\": \"lines\", \"line\": {\"width\": 2, \"color\": \"green\"}}, {\"type\": \"scatter\", \"x\": [1400.0, 1448], \"y\": [200.0, 210], \"mode\": \"lines\", \"line\": {\"width\": 2, \"color\": \"green\"}}, {\"type\": \"scatter\", \"x\": [1000.0, 842], \"y\": [1000.0, 890], \"mode\": \"lines\", \"line\": {\"width\": 2, \"color\": \"green\"}}, {\"type\": \"scatter\", \"x\": [1000.0, 1017], \"y\": [600.0, 609], \"mode\": \"lines\", \"line\": {\"width\": 2, \"color\": \"green\"}}, {\"type\": \"scatter\", \"x\": [200.0, 250], \"y\": [600.0, 690], \"mode\": \"lines\", \"line\": {\"width\": 2, \"color\": \"green\"}}, {\"type\": \"scatter\", \"x\": [1000.0, 1125], \"y\": [200.0, 142], \"mode\": \"lines\", \"line\": {\"width\": 2, \"color\": \"green\"}}, {\"type\": \"scatter\", \"x\": [1000.0, 1054], \"y\": [200.0, 243], \"mode\": \"lines\", \"line\": {\"width\": 2, \"color\": \"green\"}}, {\"type\": \"scatter\", \"x\": [600.0, 502], \"y\": [200.0, 263], \"mode\": \"lines\", \"line\": {\"width\": 2, \"color\": \"green\"}}, {\"type\": \"scatter\", \"x\": [1000.0, 822], \"y\": [1000.0, 1032], \"mode\": \"lines\", \"line\": {\"width\": 2, \"color\": \"green\"}}, {\"type\": \"scatter\", \"x\": [1000.0, 962], \"y\": [200.0, 71], \"mode\": \"lines\", \"line\": {\"width\": 2, \"color\": \"green\"}}, {\"type\": \"scatter\", \"x\": [1000.0, 962], \"y\": [600.0, 672], \"mode\": \"lines\", \"line\": {\"width\": 2, \"color\": \"green\"}}, {\"type\": \"scatter\", \"x\": [1000.0, 844], \"y\": [600.0, 529], \"mode\": \"lines\", \"line\": {\"width\": 2, \"color\": \"green\"}}, {\"type\": \"scatter\", \"x\": [600.0, 585], \"y\": [1000.0, 893], \"mode\": \"lines\", \"line\": {\"width\": 2, \"color\": \"green\"}}, {\"type\": \"scatter\", \"x\": [600.0, 626], \"y\": [600.0, 716], \"mode\": \"lines\", \"line\": {\"width\": 2, \"color\": \"green\"}}, {\"type\": \"scatter\", \"x\": [600.0, 743], \"y\": [600.0, 654], \"mode\": \"lines\", \"line\": {\"width\": 2, \"color\": \"green\"}}, {\"type\": \"scatter\", \"x\": [1000.0, 981], \"y\": [600.0, 458], \"mode\": \"lines\", \"line\": {\"width\": 2, \"color\": \"green\"}}, {\"type\": \"scatter\", \"x\": [1000.0, 637], \"y\": [1000.0, 682], \"mode\": \"lines\", \"line\": {\"width\": 2, \"color\": \"green\"}}, {\"type\": \"scatter\", \"x\": [1400.0, 1116], \"y\": [600.0, 614], \"mode\": \"lines\", \"line\": {\"width\": 2, \"color\": \"green\"}}, {\"type\": \"scatter\", \"x\": [1000.0, 893], \"y\": [600.0, 434], \"mode\": \"lines\", \"line\": {\"width\": 2, \"color\": \"green\"}}, {\"type\": \"scatter\", \"x\": [200.0, 166], \"y\": [600.0, 901], \"mode\": \"lines\", \"line\": {\"width\": 2, \"color\": \"green\"}}, {\"type\": \"scatter\", \"x\": [1000.0, 1012], \"y\": [1000.0, 1132], \"mode\": \"lines\", \"line\": {\"width\": 2, \"color\": \"green\"}}, {\"type\": \"scatter\", \"x\": [1400.0, 1214], \"y\": [200.0, 159], \"mode\": \"lines\", \"line\": {\"width\": 2, \"color\": \"green\"}}, {\"type\": \"scatter\", \"x\": [200.0, 267], \"y\": [1400.0, 1468], \"mode\": \"lines\", \"line\": {\"width\": 2, \"color\": \"green\"}}, {\"type\": \"scatter\", \"x\": [600.0, 610], \"y\": [1000.0, 1132], \"mode\": \"lines\", \"line\": {\"width\": 2, \"color\": \"green\"}}, {\"type\": \"scatter\", \"x\": [1000.0, 1151], \"y\": [1400.0, 1483], \"mode\": \"lines\", \"line\": {\"width\": 2, \"color\": \"green\"}}, {\"type\": \"scatter\", \"x\": [600.0, 670], \"y\": [1000.0, 920], \"mode\": \"lines\", \"line\": {\"width\": 2, \"color\": \"green\"}}, {\"type\": \"scatter\", \"x\": [600.0, 888], \"y\": [1400.0, 1292], \"mode\": \"lines\", \"line\": {\"width\": 2, \"color\": \"green\"}}, {\"type\": \"scatter\", \"x\": [1000.0, 894], \"y\": [1000.0, 1054], \"mode\": \"lines\", \"line\": {\"width\": 2, \"color\": \"green\"}}, {\"type\": \"scatter\", \"x\": [600.0, 537], \"y\": [200.0, 178], \"mode\": \"lines\", \"line\": {\"width\": 2, \"color\": \"green\"}}, {\"type\": \"scatter\", \"x\": [1400.0, 1387], \"y\": [1000.0, 1201], \"mode\": \"lines\", \"line\": {\"width\": 2, \"color\": \"green\"}}, {\"type\": \"scatter\", \"x\": [1000.0, 965], \"y\": [1000.0, 837], \"mode\": \"lines\", \"line\": {\"width\": 2, \"color\": \"green\"}}, {\"type\": \"scatter\", \"x\": [1000.0, 1045], \"y\": [200.0, 383], \"mode\": \"lines\", \"line\": {\"width\": 2, \"color\": \"green\"}}, {\"type\": \"scatter\", \"x\": [1000.0, 996], \"y\": [600.0, 537], \"mode\": \"lines\", \"line\": {\"width\": 2, \"color\": \"green\"}}, {\"type\": \"scatter\", \"x\": [200.0, 173], \"y\": [200.0, 253], \"mode\": \"lines\", \"line\": {\"width\": 2, \"color\": \"green\"}}, {\"type\": \"scatter\", \"x\": [1400.0, 1521], \"y\": [1000.0, 982], \"mode\": \"lines\", \"line\": {\"width\": 2, \"color\": \"green\"}}, {\"type\": \"scatter\", \"x\": [1400.0, 1240], \"y\": [200.0, 340], \"mode\": \"lines\", \"line\": {\"width\": 2, \"color\": \"green\"}}, {\"type\": \"scatter\", \"x\": [600.0, 674], \"y\": [1400.0, 1478], \"mode\": \"lines\", \"line\": {\"width\": 2, \"color\": \"green\"}}, {\"type\": \"scatter\", \"x\": [200.0, 321], \"y\": [200.0, 305], \"mode\": \"lines\", \"line\": {\"width\": 2, \"color\": \"green\"}}, {\"type\": \"scatter\", \"x\": [600.0, 570], \"y\": [1000.0, 1033], \"mode\": \"lines\", \"line\": {\"width\": 2, \"color\": \"green\"}}, {\"type\": \"scatter\", \"x\": [200.0, 75], \"y\": [200.0, 447], \"mode\": \"lines\", \"line\": {\"width\": 2, \"color\": \"green\"}}, {\"type\": \"scatter\", \"x\": [1400.0, 1424], \"y\": [600.0, 618], \"mode\": \"lines\", \"line\": {\"width\": 2, \"color\": \"green\"}}, {\"type\": \"scatter\", \"x\": [600.0, 629], \"y\": [600.0, 444], \"mode\": \"lines\", \"line\": {\"width\": 2, \"color\": \"green\"}}, {\"type\": \"scatter\", \"x\": [1000.0, 805], \"y\": [1000.0, 1130], \"mode\": \"lines\", \"line\": {\"width\": 2, \"color\": \"green\"}}, {\"type\": \"scatter\", \"x\": [1000.0, 919], \"y\": [600.0, 679], \"mode\": \"lines\", \"line\": {\"width\": 2, \"color\": \"green\"}}, {\"type\": \"scatter\", \"x\": [600.0, 495], \"y\": [1000.0, 1181], \"mode\": \"lines\", \"line\": {\"width\": 2, \"color\": \"green\"}}, {\"type\": \"scatter\", \"x\": [1000.0, 967], \"y\": [1000.0, 911], \"mode\": \"lines\", \"line\": {\"width\": 2, \"color\": \"green\"}}, {\"type\": \"scatter\", \"x\": [200.0, 169], \"y\": [600.0, 253], \"mode\": \"lines\", \"line\": {\"width\": 2, \"color\": \"green\"}}, {\"type\": \"scatter\", \"x\": [1000.0, 770], \"y\": [1400.0, 1497], \"mode\": \"lines\", \"line\": {\"width\": 2, \"color\": \"green\"}}, {\"type\": \"scatter\", \"x\": [600.0, 652], \"y\": [1000.0, 902], \"mode\": \"lines\", \"line\": {\"width\": 2, \"color\": \"green\"}}, {\"type\": \"scatter\", \"x\": [600.0, 547], \"y\": [1400.0, 1479], \"mode\": \"lines\", \"line\": {\"width\": 2, \"color\": \"green\"}}, {\"type\": \"scatter\", \"x\": [600.0, 690], \"y\": [1400.0, 1326], \"mode\": \"lines\", \"line\": {\"width\": 2, \"color\": \"green\"}}, {\"type\": \"scatter\", \"x\": [600.0, 570], \"y\": [1000.0, 1021], \"mode\": \"lines\", \"line\": {\"width\": 2, \"color\": \"green\"}}, {\"type\": \"scatter\", \"x\": [600.0, 755], \"y\": [200.0, 319], \"mode\": \"lines\", \"line\": {\"width\": 2, \"color\": \"green\"}}, {\"type\": \"scatter\", \"x\": [1000.0, 1065], \"y\": [600.0, 666], \"mode\": \"lines\", \"line\": {\"width\": 2, \"color\": \"green\"}}, {\"type\": \"scatter\", \"x\": [200.0, 79], \"y\": [200.0, 145], \"mode\": \"lines\", \"line\": {\"width\": 2, \"color\": \"green\"}}, {\"type\": \"scatter\", \"x\": [1400.0, 1304], \"y\": [600.0, 477], \"mode\": \"lines\", \"line\": {\"width\": 2, \"color\": \"green\"}}, {\"type\": \"scatter\", \"x\": [1000.0, 917], \"y\": [600.0, 663], \"mode\": \"lines\", \"line\": {\"width\": 2, \"color\": \"red\"}}, {\"type\": \"scatter\", \"x\": [1000.0, 888], \"y\": [1000.0, 1103], \"mode\": \"lines\", \"line\": {\"width\": 2, \"color\": \"green\"}}, {\"type\": \"scatter\", \"x\": [1400.0, 1020], \"y\": [1400.0, 1064], \"mode\": \"lines\", \"line\": {\"width\": 2, \"color\": \"green\"}}, {\"type\": \"scatter\", \"x\": [1400.0, 1368], \"y\": [1000.0, 1034], \"mode\": \"lines\", \"line\": {\"width\": 2, \"color\": \"green\"}}, {\"type\": \"scatter\", \"x\": [1400.0, 1012], \"y\": [1000.0, 668], \"mode\": \"lines\", \"line\": {\"width\": 2, \"color\": \"green\"}}, {\"type\": \"scatter\", \"x\": [200.0, 189], \"y\": [1000.0, 950], \"mode\": \"lines\", \"line\": {\"width\": 2, \"color\": \"green\"}}, {\"type\": \"scatter\", \"x\": [600.0, 636], \"y\": [600.0, 662], \"mode\": \"lines\", \"line\": {\"width\": 2, \"color\": \"green\"}}, {\"type\": \"scatter\", \"x\": [600.0, 920], \"y\": [1000.0, 856], \"mode\": \"lines\", \"line\": {\"width\": 2, \"color\": \"red\"}}, {\"type\": \"scatter\", \"x\": [600.0, 564], \"y\": [1000.0, 1015], \"mode\": \"lines\", \"line\": {\"width\": 2, \"color\": \"green\"}}, {\"type\": \"scatter\", \"x\": [1000.0, 881], \"y\": [1000.0, 1099], \"mode\": \"lines\", \"line\": {\"width\": 2, \"color\": \"red\"}}, {\"type\": \"scatter\", \"x\": [600.0, 613], \"y\": [600.0, 657], \"mode\": \"lines\", \"line\": {\"width\": 2, \"color\": \"green\"}}, {\"type\": \"scatter\", \"x\": [200.0, 267], \"y\": [1000.0, 1041], \"mode\": \"lines\", \"line\": {\"width\": 2, \"color\": \"green\"}}, {\"type\": \"scatter\", \"x\": [200.0, 393], \"y\": [1400.0, 1211], \"mode\": \"lines\", \"line\": {\"width\": 2, \"color\": \"green\"}}, {\"type\": \"scatter\", \"x\": [600.0, 701], \"y\": [1000.0, 855], \"mode\": \"lines\", \"line\": {\"width\": 2, \"color\": \"green\"}}, {\"type\": \"scatter\", \"x\": [1000.0, 1006], \"y\": [1400.0, 1338], \"mode\": \"lines\", \"line\": {\"width\": 2, \"color\": \"green\"}}, {\"type\": \"scatter\", \"x\": [600.0, 576], \"y\": [1000.0, 1052], \"mode\": \"lines\", \"line\": {\"width\": 2, \"color\": \"green\"}}, {\"type\": \"scatter\", \"x\": [600.0, 731], \"y\": [600.0, 521], \"mode\": \"lines\", \"line\": {\"width\": 2, \"color\": \"green\"}}, {\"type\": \"scatter\", \"x\": [1400.0, 1286], \"y\": [200.0, 358], \"mode\": \"lines\", \"line\": {\"width\": 2, \"color\": \"green\"}}, {\"type\": \"scatter\", \"x\": [1000.0, 837], \"y\": [1000.0, 1097], \"mode\": \"lines\", \"line\": {\"width\": 2, \"color\": \"red\"}}, {\"type\": \"scatter\", \"x\": [600.0, 517], \"y\": [1000.0, 888], \"mode\": \"lines\", \"line\": {\"width\": 2, \"color\": \"green\"}}, {\"type\": \"scatter\", \"x\": [600.0, 670], \"y\": [200.0, 50], \"mode\": \"lines\", \"line\": {\"width\": 2, \"color\": \"green\"}}, {\"type\": \"scatter\", \"x\": [600.0, 775], \"y\": [200.0, 86], \"mode\": \"lines\", \"line\": {\"width\": 2, \"color\": \"green\"}}, {\"type\": \"scatter\", \"x\": [1400.0, 1356], \"y\": [200.0, 220], \"mode\": \"lines\", \"line\": {\"width\": 2, \"color\": \"green\"}}, {\"type\": \"scatter\", \"x\": [600.0, 571], \"y\": [1400.0, 1283], \"mode\": \"lines\", \"line\": {\"width\": 2, \"color\": \"green\"}}, {\"type\": \"scatter\", \"x\": [1400.0, 1294], \"y\": [600.0, 657], \"mode\": \"lines\", \"line\": {\"width\": 2, \"color\": \"green\"}}, {\"type\": \"scatter\", \"x\": [600.0, 550], \"y\": [600.0, 557], \"mode\": \"lines\", \"line\": {\"width\": 2, \"color\": \"green\"}}, {\"type\": \"scatter\", \"x\": [1400.0, 1306], \"y\": [600.0, 403], \"mode\": \"lines\", \"line\": {\"width\": 2, \"color\": \"green\"}}, {\"type\": \"scatter\", \"x\": [200.0, 377], \"y\": [1000.0, 1073], \"mode\": \"lines\", \"line\": {\"width\": 2, \"color\": \"green\"}}, {\"type\": \"scatter\", \"x\": [1000.0, 786], \"y\": [1000.0, 989], \"mode\": \"lines\", \"line\": {\"width\": 2, \"color\": \"red\"}}, {\"type\": \"scatter\", \"x\": [1400.0, 1087], \"y\": [1000.0, 997], \"mode\": \"lines\", \"line\": {\"width\": 2, \"color\": \"green\"}}, {\"type\": \"scatter\", \"x\": [600.0, 673], \"y\": [600.0, 548], \"mode\": \"lines\", \"line\": {\"width\": 2, \"color\": \"green\"}}, {\"type\": \"scatter\", \"x\": [1000.0, 1109], \"y\": [200.0, 357], \"mode\": \"lines\", \"line\": {\"width\": 2, \"color\": \"green\"}}, {\"type\": \"scatter\", \"x\": [1000.0, 1001], \"y\": [1400.0, 1406], \"mode\": \"lines\", \"line\": {\"width\": 2, \"color\": \"green\"}}, {\"type\": \"scatter\", \"x\": [1400.0, 1432], \"y\": [200.0, 74], \"mode\": \"lines\", \"line\": {\"width\": 2, \"color\": \"green\"}}, {\"type\": \"scatter\", \"x\": [600.0, 775], \"y\": [1400.0, 1449], \"mode\": \"lines\", \"line\": {\"width\": 2, \"color\": \"green\"}}, {\"type\": \"scatter\", \"x\": [1400.0, 1543], \"y\": [600.0, 294], \"mode\": \"lines\", \"line\": {\"width\": 2, \"color\": \"green\"}}, {\"type\": \"scatter\", \"x\": [1000.0, 1179], \"y\": [1400.0, 1225], \"mode\": \"lines\", \"line\": {\"width\": 2, \"color\": \"green\"}}, {\"type\": \"scatter\", \"x\": [1400.0, 1052], \"y\": [1000.0, 946], \"mode\": \"lines\", \"line\": {\"width\": 2, \"color\": \"green\"}}, {\"type\": \"scatter\", \"x\": [200.0, 516], \"y\": [1000.0, 919], \"mode\": \"lines\", \"line\": {\"width\": 2, \"color\": \"green\"}}, {\"type\": \"scatter\", \"x\": [200.0, 159], \"y\": [1400.0, 1531], \"mode\": \"lines\", \"line\": {\"width\": 2, \"color\": \"green\"}}, {\"type\": \"scatter\", \"x\": [1000.0, 794], \"y\": [600.0, 563], \"mode\": \"lines\", \"line\": {\"width\": 2, \"color\": \"red\"}}, {\"type\": \"scatter\", \"x\": [1000.0, 1163], \"y\": [1000.0, 939], \"mode\": \"lines\", \"line\": {\"width\": 2, \"color\": \"green\"}}, {\"type\": \"scatter\", \"x\": [200.0, 15], \"y\": [200.0, 334], \"mode\": \"lines\", \"line\": {\"width\": 2, \"color\": \"green\"}}, {\"type\": \"scatter\", \"x\": [1400.0, 1395], \"y\": [200.0, 61], \"mode\": \"lines\", \"line\": {\"width\": 2, \"color\": \"green\"}}, {\"type\": \"scatter\", \"x\": [200.0, 85], \"y\": [200.0, 53], \"mode\": \"lines\", \"line\": {\"width\": 2, \"color\": \"green\"}}, {\"type\": \"scatter\", \"x\": [1400.0, 1377], \"y\": [1000.0, 821], \"mode\": \"lines\", \"line\": {\"width\": 2, \"color\": \"green\"}}, {\"type\": \"scatter\", \"x\": [600.0, 761], \"y\": [200.0, 354], \"mode\": \"lines\", \"line\": {\"width\": 2, \"color\": \"green\"}}, {\"type\": \"scatter\", \"x\": [1000.0, 974], \"y\": [1400.0, 1283], \"mode\": \"lines\", \"line\": {\"width\": 2, \"color\": \"green\"}}, {\"type\": \"scatter\", \"x\": [1400.0, 1503], \"y\": [600.0, 591], \"mode\": \"lines\", \"line\": {\"width\": 2, \"color\": \"green\"}}, {\"type\": \"scatter\", \"x\": [1000.0, 1061], \"y\": [200.0, 583], \"mode\": \"lines\", \"line\": {\"width\": 2, \"color\": \"green\"}}, {\"type\": \"scatter\", \"x\": [1000.0, 1035], \"y\": [600.0, 664], \"mode\": \"lines\", \"line\": {\"width\": 2, \"color\": \"red\"}}, {\"type\": \"scatter\", \"x\": [1400.0, 1269], \"y\": [600.0, 626], \"mode\": \"lines\", \"line\": {\"width\": 2, \"color\": \"green\"}}, {\"type\": \"scatter\", \"x\": [200.0, 165], \"y\": [600.0, 545], \"mode\": \"lines\", \"line\": {\"width\": 2, \"color\": \"green\"}}, {\"type\": \"scatter\", \"x\": [200.0, 207], \"y\": [600.0, 601], \"mode\": \"lines\", \"line\": {\"width\": 2, \"color\": \"green\"}}, {\"type\": \"scatter\", \"x\": [600.0, 737], \"y\": [1400.0, 1543], \"mode\": \"lines\", \"line\": {\"width\": 2, \"color\": \"green\"}}, {\"type\": \"scatter\", \"x\": [600.0, 452], \"y\": [600.0, 793], \"mode\": \"lines\", \"line\": {\"width\": 2, \"color\": \"green\"}}, {\"type\": \"scatter\", \"x\": [600.0, 544], \"y\": [1000.0, 1115], \"mode\": \"lines\", \"line\": {\"width\": 2, \"color\": \"green\"}}, {\"type\": \"scatter\", \"x\": [600.0, 605], \"y\": [1000.0, 1068], \"mode\": \"lines\", \"line\": {\"width\": 2, \"color\": \"red\"}}, {\"type\": \"scatter\", \"x\": [600.0, 824], \"y\": [600.0, 635], \"mode\": \"lines\", \"line\": {\"width\": 2, \"color\": \"red\"}}, {\"type\": \"scatter\", \"x\": [200.0, 277], \"y\": [600.0, 465], \"mode\": \"lines\", \"line\": {\"width\": 2, \"color\": \"green\"}}, {\"type\": \"scatter\", \"x\": [600.0, 597], \"y\": [600.0, 600], \"mode\": \"lines\", \"line\": {\"width\": 2, \"color\": \"green\"}}, {\"type\": \"scatter\", \"x\": [200.0, 205], \"y\": [600.0, 556], \"mode\": \"lines\", \"line\": {\"width\": 2, \"color\": \"green\"}}, {\"type\": \"scatter\", \"x\": [200.0, 154], \"y\": [1000.0, 1036], \"mode\": \"lines\", \"line\": {\"width\": 2, \"color\": \"green\"}}, {\"type\": \"scatter\", \"x\": [200.0, 595], \"y\": [1000.0, 831], \"mode\": \"lines\", \"line\": {\"width\": 2, \"color\": \"green\"}}, {\"type\": \"scatter\", \"x\": [200.0, 387], \"y\": [1400.0, 1425], \"mode\": \"lines\", \"line\": {\"width\": 2, \"color\": \"green\"}}, {\"type\": \"scatter\", \"x\": [600.0, 868], \"y\": [600.0, 631], \"mode\": \"lines\", \"line\": {\"width\": 2, \"color\": \"red\"}}, {\"type\": \"scatter\", \"x\": [600.0, 543], \"y\": [200.0, 214], \"mode\": \"lines\", \"line\": {\"width\": 2, \"color\": \"green\"}}, {\"type\": \"scatter\", \"x\": [1000.0, 1063], \"y\": [1000.0, 891], \"mode\": \"lines\", \"line\": {\"width\": 2, \"color\": \"green\"}}, {\"type\": \"scatter\", \"x\": [1400.0, 1291], \"y\": [1000.0, 822], \"mode\": \"lines\", \"line\": {\"width\": 2, \"color\": \"green\"}}, {\"type\": \"scatter\", \"x\": [200.0, 590], \"y\": [1000.0, 615], \"mode\": \"lines\", \"line\": {\"width\": 2, \"color\": \"red\"}}, {\"type\": \"scatter\", \"x\": [1400.0, 1189], \"y\": [200.0, 56], \"mode\": \"lines\", \"line\": {\"width\": 2, \"color\": \"green\"}}, {\"type\": \"scatter\", \"x\": [1400.0, 1474], \"y\": [1400.0, 1332], \"mode\": \"lines\", \"line\": {\"width\": 2, \"color\": \"green\"}}, {\"type\": \"scatter\", \"x\": [1000.0, 849], \"y\": [200.0, 259], \"mode\": \"lines\", \"line\": {\"width\": 2, \"color\": \"green\"}}, {\"type\": \"scatter\", \"x\": [1000.0, 859], \"y\": [600.0, 504], \"mode\": \"lines\", \"line\": {\"width\": 2, \"color\": \"red\"}}, {\"type\": \"scatter\", \"x\": [1400.0, 1250], \"y\": [1400.0, 1270], \"mode\": \"lines\", \"line\": {\"width\": 2, \"color\": \"green\"}}, {\"type\": \"scatter\", \"x\": [1000.0, 1066], \"y\": [1400.0, 1465], \"mode\": \"lines\", \"line\": {\"width\": 2, \"color\": \"green\"}}, {\"type\": \"scatter\", \"x\": [200.0, 258], \"y\": [1400.0, 1238], \"mode\": \"lines\", \"line\": {\"width\": 2, \"color\": \"green\"}}, {\"type\": \"scatter\", \"x\": [600.0, 759], \"y\": [1400.0, 1442], \"mode\": \"lines\", \"line\": {\"width\": 2, \"color\": \"green\"}}, {\"type\": \"scatter\", \"x\": [600.0, 667], \"y\": [1000.0, 927], \"mode\": \"lines\", \"line\": {\"width\": 2, \"color\": \"green\"}}, {\"type\": \"scatter\", \"x\": [1400.0, 1217], \"y\": [1400.0, 1226], \"mode\": \"lines\", \"line\": {\"width\": 2, \"color\": \"green\"}}, {\"type\": \"scatter\", \"x\": [600.0, 608], \"y\": [1400.0, 1271], \"mode\": \"lines\", \"line\": {\"width\": 2, \"color\": \"green\"}}, {\"type\": \"scatter\", \"x\": [600.0, 753], \"y\": [200.0, 34], \"mode\": \"lines\", \"line\": {\"width\": 2, \"color\": \"green\"}}, {\"type\": \"scatter\", \"x\": [600.0, 735], \"y\": [1400.0, 1295], \"mode\": \"lines\", \"line\": {\"width\": 2, \"color\": \"green\"}}, {\"type\": \"scatter\", \"x\": [200.0, 98], \"y\": [600.0, 579], \"mode\": \"lines\", \"line\": {\"width\": 2, \"color\": \"green\"}}, {\"type\": \"scatter\", \"x\": [200.0, 51], \"y\": [600.0, 644], \"mode\": \"lines\", \"line\": {\"width\": 2, \"color\": \"green\"}}, {\"type\": \"scatter\", \"x\": [1000.0, 1081], \"y\": [200.0, 563], \"mode\": \"lines\", \"line\": {\"width\": 2, \"color\": \"green\"}}, {\"type\": \"scatter\", \"x\": [1000.0, 699], \"y\": [600.0, 715], \"mode\": \"lines\", \"line\": {\"width\": 2, \"color\": \"red\"}}, {\"type\": \"scatter\", \"x\": [600.0, 470], \"y\": [1400.0, 1329], \"mode\": \"lines\", \"line\": {\"width\": 2, \"color\": \"green\"}}, {\"type\": \"scatter\", \"x\": [1000.0, 963], \"y\": [1400.0, 1078], \"mode\": \"lines\", \"line\": {\"width\": 2, \"color\": \"green\"}}, {\"type\": \"scatter\", \"x\": [600.0, 722], \"y\": [600.0, 831], \"mode\": \"lines\", \"line\": {\"width\": 2, \"color\": \"red\"}}, {\"type\": \"scatter\", \"x\": [200.0, 86], \"y\": [200.0, 328], \"mode\": \"lines\", \"line\": {\"width\": 2, \"color\": \"green\"}}, {\"type\": \"scatter\", \"x\": [600.0, 514], \"y\": [200.0, 596], \"mode\": \"lines\", \"line\": {\"width\": 2, \"color\": \"green\"}}, {\"type\": \"scatter\", \"x\": [1000.0, 959], \"y\": [600.0, 782], \"mode\": \"lines\", \"line\": {\"width\": 2, \"color\": \"green\"}}, {\"type\": \"scatter\", \"x\": [600.0, 469], \"y\": [1400.0, 1341], \"mode\": \"lines\", \"line\": {\"width\": 2, \"color\": \"green\"}}, {\"type\": \"scatter\", \"x\": [600.0, 520], \"y\": [200.0, 397], \"mode\": \"lines\", \"line\": {\"width\": 2, \"color\": \"green\"}}, {\"type\": \"scatter\", \"x\": [1400.0, 1503], \"y\": [200.0, 313], \"mode\": \"lines\", \"line\": {\"width\": 2, \"color\": \"green\"}}, {\"type\": \"scatter\", \"x\": [200.0, 387], \"y\": [1400.0, 1590], \"mode\": \"lines\", \"line\": {\"width\": 2, \"color\": \"green\"}}, {\"type\": \"scatter\", \"x\": [600.0, 776], \"y\": [1000.0, 1085], \"mode\": \"lines\", \"line\": {\"width\": 2, \"color\": \"green\"}}, {\"type\": \"scatter\", \"x\": [600.0, 750], \"y\": [1400.0, 1035], \"mode\": \"lines\", \"line\": {\"width\": 2, \"color\": \"red\"}}, {\"type\": \"scatter\", \"x\": [1400.0, 1021], \"y\": [1000.0, 931], \"mode\": \"lines\", \"line\": {\"width\": 2, \"color\": \"green\"}}, {\"type\": \"scatter\", \"x\": [600.0, 492], \"y\": [1400.0, 1234], \"mode\": \"lines\", \"line\": {\"width\": 2, \"color\": \"green\"}}, {\"type\": \"scatter\", \"x\": [600.0, 695], \"y\": [600.0, 785], \"mode\": \"lines\", \"line\": {\"width\": 2, \"color\": \"green\"}}, {\"type\": \"scatter\", \"x\": [600.0, 685], \"y\": [1400.0, 1549], \"mode\": \"lines\", \"line\": {\"width\": 2, \"color\": \"green\"}}, {\"type\": \"scatter\", \"x\": [1000.0, 1119], \"y\": [1000.0, 1180], \"mode\": \"lines\", \"line\": {\"width\": 2, \"color\": \"green\"}}, {\"type\": \"scatter\", \"x\": [200.0, 204], \"y\": [1000.0, 806], \"mode\": \"lines\", \"line\": {\"width\": 2, \"color\": \"green\"}}, {\"type\": \"scatter\", \"x\": [200.0, 200.0, 200.0, 200.0, 600.0, 600.0, 600.0, 600.0, 1000.0, 1000.0, 1000.0, 1000.0, 1400.0, 1400.0, 1400.0, 1400.0, 493, 920, 947, 1519, 1496, 986, 175, 1099, 635, 608, 1046, 1282, 16, 195, 748, 214, 806, 1595, 490, 958, 1023, 621, 153, 1007, 1240, 858, 324, 422, 325, 288, 1168, 748, 87, 707, 1425, 965, 473, 1263, 1095, 75, 1448, 842, 1017, 250, 1125, 1054, 502, 822, 962, 962, 844, 585, 626, 743, 981, 637, 1116, 893, 166, 1012, 1214, 267, 610, 1151, 670, 888, 894, 537, 1387, 965, 1045, 996, 173, 1521, 1240, 674, 321, 570, 75, 1424, 629, 805, 919, 495, 967, 169, 770, 652, 547, 690, 570, 755, 1065, 79, 1304, 917, 888, 1020, 1368, 1012, 189, 636, 920, 564, 881, 613, 267, 393, 701, 1006, 576, 731, 1286, 837, 517, 670, 775, 1356, 571, 1294, 550, 1306, 377, 786, 1087, 673, 1109, 1001, 1432, 775, 1543, 1179, 1052, 516, 159, 794, 1163, 15, 1395, 85, 1377, 761, 974, 1503, 1061, 1035, 1269, 165, 207, 737, 452, 544, 605, 824, 277, 597, 205, 154, 595, 387, 868, 543, 1063, 1291, 590, 1189, 1474, 849, 859, 1250, 1066, 258, 759, 667, 1217, 608, 753, 735, 98, 51, 1081, 699, 470, 963, 722, 86, 514, 959, 469, 520, 1503, 387, 776, 750, 1021, 492, 695, 685, 1119, 204], \"y\": [200.0, 600.0, 1000.0, 1400.0, 200.0, 600.0, 1000.0, 1400.0, 200.0, 600.0, 1000.0, 1400.0, 200.0, 600.0, 1000.0, 1400.0, 1203, 1110, 806, 1413, 294, 875, 1501, 848, 1332, 788, 822, 960, 1200, 1444, 569, 569, 666, 1562, 609, 699, 728, 479, 774, 878, 1535, 1558, 1272, 122, 801, 1108, 881, 850, 1061, 1556, 303, 955, 1218, 384, 357, 1434, 210, 890, 609, 690, 142, 243, 263, 1032, 71, 672, 529, 893, 716, 654, 458, 682, 614, 434, 901, 1132, 159, 1468, 1132, 1483, 920, 1292, 1054, 178, 1201, 837, 383, 537, 253, 982, 340, 1478, 305, 1033, 447, 618, 444, 1130, 679, 1181, 911, 253, 1497, 902, 1479, 1326, 1021, 319, 666, 145, 477, 663, 1103, 1064, 1034, 668, 950, 662, 856, 1015, 1099, 657, 1041, 1211, 855, 1338, 1052, 521, 358, 1097, 888, 50, 86, 220, 1283, 657, 557, 403, 1073, 989, 997, 548, 357, 1406, 74, 1449, 294, 1225, 946, 919, 1531, 563, 939, 334, 61, 53, 821, 354, 1283, 591, 583, 664, 626, 545, 601, 1543, 793, 1115, 1068, 635, 465, 600, 556, 1036, 831, 1425, 631, 214, 891, 822, 615, 56, 1332, 259, 504, 1270, 1465, 1238, 1442, 927, 1226, 1271, 34, 1295, 579, 644, 563, 715, 1329, 1078, 831, 328, 596, 782, 1341, 397, 313, 1590, 1085, 1035, 931, 1234, 785, 1549, 1180, 806], \"mode\": \"markers\", \"marker\": {\"size\": 8, \"color\": [\"yellow\", \"yellow\", \"yellow\", \"yellow\", \"yellow\", \"yellow\", \"yellow\", \"yellow\", \"yellow\", \"yellow\", \"yellow\", \"yellow\", \"yellow\", \"yellow\", \"yellow\", \"yellow\", \"magenta\", \"magenta\", \"magenta\", \"magenta\", \"magenta\", \"magenta\", \"magenta\", \"blue\", \"magenta\", \"blue\", \"blue\", \"magenta\", \"magenta\", \"magenta\", \"magenta\", \"magenta\", \"blue\", \"magenta\", \"magenta\", \"blue\", \"blue\", \"magenta\", \"magenta\", \"magenta\", \"magenta\", \"magenta\", \"magenta\", \"magenta\", \"magenta\", \"magenta\", \"magenta\", \"blue\", \"magenta\", \"magenta\", \"magenta\", \"blue\", \"magenta\", \"magenta\", \"magenta\", \"magenta\", \"magenta\", \"blue\", \"blue\", \"magenta\", \"magenta\", \"magenta\", \"magenta\", \"blue\", \"magenta\", \"blue\", \"blue\", \"magenta\", \"blue\", \"blue\", \"magenta\", \"magenta\", \"magenta\", \"magenta\", \"magenta\", \"magenta\", \"magenta\", \"magenta\", \"magenta\", \"magenta\", \"blue\", \"magenta\", \"blue\", \"magenta\", \"magenta\", \"magenta\", \"magenta\", \"magenta\", \"magenta\", \"magenta\", \"magenta\", \"magenta\", \"magenta\", \"magenta\", \"magenta\", \"magenta\", \"magenta\", \"magenta\", \"blue\", \"magenta\", \"magenta\", \"magenta\", \"magenta\", \"magenta\", \"magenta\", \"magenta\", \"magenta\", \"magenta\", \"blue\", \"magenta\", \"magenta\", \"blue\", \"magenta\", \"blue\", \"magenta\", \"blue\", \"magenta\", \"blue\", \"blue\", \"blue\", \"blue\", \"blue\", \"magenta\", \"magenta\", \"blue\", \"magenta\", \"blue\", \"blue\", \"magenta\", \"blue\", \"blue\", \"magenta\", \"magenta\", \"magenta\", \"magenta\", \"magenta\", \"blue\", \"magenta\", \"magenta\", \"blue\", \"blue\", \"magenta\", \"magenta\", \"magenta\", \"magenta\", \"magenta\", \"magenta\", \"magenta\", \"blue\", \"blue\", \"magenta\", \"blue\", \"magenta\", \"magenta\", \"magenta\", \"magenta\", \"magenta\", \"magenta\", \"magenta\", \"magenta\", \"blue\", \"blue\", \"magenta\", \"magenta\", \"magenta\", \"magenta\", \"magenta\", \"magenta\", \"blue\", \"blue\", \"magenta\", \"magenta\", \"magenta\", \"magenta\", \"blue\", \"magenta\", \"blue\", \"magenta\", \"magenta\", \"magenta\", \"blue\", \"magenta\", \"magenta\", \"magenta\", \"blue\", \"magenta\", \"magenta\", \"magenta\", \"magenta\", \"magenta\", \"magenta\", \"magenta\", \"magenta\", \"magenta\", \"magenta\", \"magenta\", \"blue\", \"blue\", \"magenta\", \"blue\", \"blue\", \"magenta\", \"blue\", \"magenta\", \"magenta\", \"magenta\", \"magenta\", \"magenta\", \"magenta\", \"blue\", \"blue\", \"magenta\", \"magenta\", \"magenta\", \"magenta\", \"magenta\"]}}], {\"xaxis\": {\"range\": [0, 1600], \"title\": \"x\"}, \"yaxis\": {\"range\": [0, 1600], \"title\": \"y\"}, \"title\": \"UE and AP Distribution in the grid\", \"height\": 600, \"width\": 800, \"showlegend\": false}, {\"showLink\": true, \"linkText\": \"Export to plot.ly\"})});</script>"
      ],
      "text/vnd.plotly.v1+html": [
       "<div id=\"aae21d7f-7e05-46ae-a5c9-1587816a4d18\" style=\"height: 600px; width: 800px;\" class=\"plotly-graph-div\"></div><script type=\"text/javascript\">require([\"plotly\"], function(Plotly) { window.PLOTLYENV=window.PLOTLYENV || {};window.PLOTLYENV.BASE_URL=\"https://plot.ly\";Plotly.newPlot(\"aae21d7f-7e05-46ae-a5c9-1587816a4d18\", [{\"type\": \"scatter\", \"x\": [600.0, 493], \"y\": [1400.0, 1203], \"mode\": \"lines\", \"line\": {\"width\": 2, \"color\": \"green\"}}, {\"type\": \"scatter\", \"x\": [1000.0, 920], \"y\": [1000.0, 1110], \"mode\": \"lines\", \"line\": {\"width\": 2, \"color\": \"green\"}}, {\"type\": \"scatter\", \"x\": [1000.0, 947], \"y\": [1000.0, 806], \"mode\": \"lines\", \"line\": {\"width\": 2, \"color\": \"green\"}}, {\"type\": \"scatter\", \"x\": [1400.0, 1519], \"y\": [1400.0, 1413], \"mode\": \"lines\", \"line\": {\"width\": 2, \"color\": \"green\"}}, {\"type\": \"scatter\", \"x\": [1400.0, 1496], \"y\": [600.0, 294], \"mode\": \"lines\", \"line\": {\"width\": 2, \"color\": \"green\"}}, {\"type\": \"scatter\", \"x\": [1000.0, 986], \"y\": [1000.0, 875], \"mode\": \"lines\", \"line\": {\"width\": 2, \"color\": \"green\"}}, {\"type\": \"scatter\", \"x\": [200.0, 175], \"y\": [1400.0, 1501], \"mode\": \"lines\", \"line\": {\"width\": 2, \"color\": \"green\"}}, {\"type\": \"scatter\", \"x\": [1000.0, 1099], \"y\": [1000.0, 848], \"mode\": \"lines\", \"line\": {\"width\": 2, \"color\": \"green\"}}, {\"type\": \"scatter\", \"x\": [600.0, 635], \"y\": [1400.0, 1332], \"mode\": \"lines\", \"line\": {\"width\": 2, \"color\": \"green\"}}, {\"type\": \"scatter\", \"x\": [600.0, 608], \"y\": [600.0, 788], \"mode\": \"lines\", \"line\": {\"width\": 2, \"color\": \"green\"}}, {\"type\": \"scatter\", \"x\": [1000.0, 1046], \"y\": [1000.0, 822], \"mode\": \"lines\", \"line\": {\"width\": 2, \"color\": \"green\"}}, {\"type\": \"scatter\", \"x\": [1400.0, 1282], \"y\": [1000.0, 960], \"mode\": \"lines\", \"line\": {\"width\": 2, \"color\": \"green\"}}, {\"type\": \"scatter\", \"x\": [200.0, 16], \"y\": [1000.0, 1200], \"mode\": \"lines\", \"line\": {\"width\": 2, \"color\": \"green\"}}, {\"type\": \"scatter\", \"x\": [200.0, 195], \"y\": [1400.0, 1444], \"mode\": \"lines\", \"line\": {\"width\": 2, \"color\": \"green\"}}, {\"type\": \"scatter\", \"x\": [600.0, 748], \"y\": [600.0, 569], \"mode\": \"lines\", \"line\": {\"width\": 2, \"color\": \"green\"}}, {\"type\": \"scatter\", \"x\": [200.0, 214], \"y\": [600.0, 569], \"mode\": \"lines\", \"line\": {\"width\": 2, \"color\": \"green\"}}, {\"type\": \"scatter\", \"x\": [1000.0, 806], \"y\": [600.0, 666], \"mode\": \"lines\", \"line\": {\"width\": 2, \"color\": \"green\"}}, {\"type\": \"scatter\", \"x\": [1400.0, 1595], \"y\": [1400.0, 1562], \"mode\": \"lines\", \"line\": {\"width\": 2, \"color\": \"green\"}}, {\"type\": \"scatter\", \"x\": [200.0, 490], \"y\": [600.0, 609], \"mode\": \"lines\", \"line\": {\"width\": 2, \"color\": \"green\"}}, {\"type\": \"scatter\", \"x\": [1000.0, 958], \"y\": [600.0, 699], \"mode\": \"lines\", \"line\": {\"width\": 2, \"color\": \"green\"}}, {\"type\": \"scatter\", \"x\": [1000.0, 1023], \"y\": [600.0, 728], \"mode\": \"lines\", \"line\": {\"width\": 2, \"color\": \"green\"}}, {\"type\": \"scatter\", \"x\": [600.0, 621], \"y\": [200.0, 479], \"mode\": \"lines\", \"line\": {\"width\": 2, \"color\": \"green\"}}, {\"type\": \"scatter\", \"x\": [200.0, 153], \"y\": [600.0, 774], \"mode\": \"lines\", \"line\": {\"width\": 2, \"color\": \"green\"}}, {\"type\": \"scatter\", \"x\": [1000.0, 1007], \"y\": [600.0, 878], \"mode\": \"lines\", \"line\": {\"width\": 2, \"color\": \"green\"}}, {\"type\": \"scatter\", \"x\": [1400.0, 1240], \"y\": [1400.0, 1535], \"mode\": \"lines\", \"line\": {\"width\": 2, \"color\": \"green\"}}, {\"type\": \"scatter\", \"x\": [1000.0, 858], \"y\": [1400.0, 1558], \"mode\": \"lines\", \"line\": {\"width\": 2, \"color\": \"green\"}}, {\"type\": \"scatter\", \"x\": [200.0, 324], \"y\": [1400.0, 1272], \"mode\": \"lines\", \"line\": {\"width\": 2, \"color\": \"green\"}}, {\"type\": \"scatter\", \"x\": [600.0, 422], \"y\": [200.0, 122], \"mode\": \"lines\", \"line\": {\"width\": 2, \"color\": \"green\"}}, {\"type\": \"scatter\", \"x\": [200.0, 325], \"y\": [1000.0, 801], \"mode\": \"lines\", \"line\": {\"width\": 2, \"color\": \"green\"}}, {\"type\": \"scatter\", \"x\": [200.0, 288], \"y\": [1000.0, 1108], \"mode\": \"lines\", \"line\": {\"width\": 2, \"color\": \"green\"}}, {\"type\": \"scatter\", \"x\": [1000.0, 1168], \"y\": [1000.0, 881], \"mode\": \"lines\", \"line\": {\"width\": 2, \"color\": \"green\"}}, {\"type\": \"scatter\", \"x\": [600.0, 748], \"y\": [1000.0, 850], \"mode\": \"lines\", \"line\": {\"width\": 2, \"color\": \"green\"}}, {\"type\": \"scatter\", \"x\": [200.0, 87], \"y\": [1000.0, 1061], \"mode\": \"lines\", \"line\": {\"width\": 2, \"color\": \"green\"}}, {\"type\": \"scatter\", \"x\": [600.0, 707], \"y\": [1400.0, 1556], \"mode\": \"lines\", \"line\": {\"width\": 2, \"color\": \"green\"}}, {\"type\": \"scatter\", \"x\": [1400.0, 1425], \"y\": [200.0, 303], \"mode\": \"lines\", \"line\": {\"width\": 2, \"color\": \"green\"}}, {\"type\": \"scatter\", \"x\": [1000.0, 965], \"y\": [1000.0, 955], \"mode\": \"lines\", \"line\": {\"width\": 2, \"color\": \"green\"}}, {\"type\": \"scatter\", \"x\": [200.0, 473], \"y\": [1000.0, 1218], \"mode\": \"lines\", \"line\": {\"width\": 2, \"color\": \"green\"}}, {\"type\": \"scatter\", \"x\": [1400.0, 1263], \"y\": [200.0, 384], \"mode\": \"lines\", \"line\": {\"width\": 2, \"color\": \"green\"}}, {\"type\": \"scatter\", \"x\": [1000.0, 1095], \"y\": [200.0, 357], \"mode\": \"lines\", \"line\": {\"width\": 2, \"color\": \"green\"}}, {\"type\": \"scatter\", \"x\": [200.0, 75], \"y\": [1400.0, 1434], \"mode\": \"lines\", \"line\": {\"width\": 2, \"color\": \"green\"}}, {\"type\": \"scatter\", \"x\": [1400.0, 1448], \"y\": [200.0, 210], \"mode\": \"lines\", \"line\": {\"width\": 2, \"color\": \"green\"}}, {\"type\": \"scatter\", \"x\": [1000.0, 842], \"y\": [1000.0, 890], \"mode\": \"lines\", \"line\": {\"width\": 2, \"color\": \"green\"}}, {\"type\": \"scatter\", \"x\": [1000.0, 1017], \"y\": [600.0, 609], \"mode\": \"lines\", \"line\": {\"width\": 2, \"color\": \"green\"}}, {\"type\": \"scatter\", \"x\": [200.0, 250], \"y\": [600.0, 690], \"mode\": \"lines\", \"line\": {\"width\": 2, \"color\": \"green\"}}, {\"type\": \"scatter\", \"x\": [1000.0, 1125], \"y\": [200.0, 142], \"mode\": \"lines\", \"line\": {\"width\": 2, \"color\": \"green\"}}, {\"type\": \"scatter\", \"x\": [1000.0, 1054], \"y\": [200.0, 243], \"mode\": \"lines\", \"line\": {\"width\": 2, \"color\": \"green\"}}, {\"type\": \"scatter\", \"x\": [600.0, 502], \"y\": [200.0, 263], \"mode\": \"lines\", \"line\": {\"width\": 2, \"color\": \"green\"}}, {\"type\": \"scatter\", \"x\": [1000.0, 822], \"y\": [1000.0, 1032], \"mode\": \"lines\", \"line\": {\"width\": 2, \"color\": \"green\"}}, {\"type\": \"scatter\", \"x\": [1000.0, 962], \"y\": [200.0, 71], \"mode\": \"lines\", \"line\": {\"width\": 2, \"color\": \"green\"}}, {\"type\": \"scatter\", \"x\": [1000.0, 962], \"y\": [600.0, 672], \"mode\": \"lines\", \"line\": {\"width\": 2, \"color\": \"green\"}}, {\"type\": \"scatter\", \"x\": [1000.0, 844], \"y\": [600.0, 529], \"mode\": \"lines\", \"line\": {\"width\": 2, \"color\": \"green\"}}, {\"type\": \"scatter\", \"x\": [600.0, 585], \"y\": [1000.0, 893], \"mode\": \"lines\", \"line\": {\"width\": 2, \"color\": \"green\"}}, {\"type\": \"scatter\", \"x\": [600.0, 626], \"y\": [600.0, 716], \"mode\": \"lines\", \"line\": {\"width\": 2, \"color\": \"green\"}}, {\"type\": \"scatter\", \"x\": [600.0, 743], \"y\": [600.0, 654], \"mode\": \"lines\", \"line\": {\"width\": 2, \"color\": \"green\"}}, {\"type\": \"scatter\", \"x\": [1000.0, 981], \"y\": [600.0, 458], \"mode\": \"lines\", \"line\": {\"width\": 2, \"color\": \"green\"}}, {\"type\": \"scatter\", \"x\": [1000.0, 637], \"y\": [1000.0, 682], \"mode\": \"lines\", \"line\": {\"width\": 2, \"color\": \"green\"}}, {\"type\": \"scatter\", \"x\": [1400.0, 1116], \"y\": [600.0, 614], \"mode\": \"lines\", \"line\": {\"width\": 2, \"color\": \"green\"}}, {\"type\": \"scatter\", \"x\": [1000.0, 893], \"y\": [600.0, 434], \"mode\": \"lines\", \"line\": {\"width\": 2, \"color\": \"green\"}}, {\"type\": \"scatter\", \"x\": [200.0, 166], \"y\": [600.0, 901], \"mode\": \"lines\", \"line\": {\"width\": 2, \"color\": \"green\"}}, {\"type\": \"scatter\", \"x\": [1000.0, 1012], \"y\": [1000.0, 1132], \"mode\": \"lines\", \"line\": {\"width\": 2, \"color\": \"green\"}}, {\"type\": \"scatter\", \"x\": [1400.0, 1214], \"y\": [200.0, 159], \"mode\": \"lines\", \"line\": {\"width\": 2, \"color\": \"green\"}}, {\"type\": \"scatter\", \"x\": [200.0, 267], \"y\": [1400.0, 1468], \"mode\": \"lines\", \"line\": {\"width\": 2, \"color\": \"green\"}}, {\"type\": \"scatter\", \"x\": [600.0, 610], \"y\": [1000.0, 1132], \"mode\": \"lines\", \"line\": {\"width\": 2, \"color\": \"green\"}}, {\"type\": \"scatter\", \"x\": [1000.0, 1151], \"y\": [1400.0, 1483], \"mode\": \"lines\", \"line\": {\"width\": 2, \"color\": \"green\"}}, {\"type\": \"scatter\", \"x\": [600.0, 670], \"y\": [1000.0, 920], \"mode\": \"lines\", \"line\": {\"width\": 2, \"color\": \"green\"}}, {\"type\": \"scatter\", \"x\": [600.0, 888], \"y\": [1400.0, 1292], \"mode\": \"lines\", \"line\": {\"width\": 2, \"color\": \"green\"}}, {\"type\": \"scatter\", \"x\": [1000.0, 894], \"y\": [1000.0, 1054], \"mode\": \"lines\", \"line\": {\"width\": 2, \"color\": \"green\"}}, {\"type\": \"scatter\", \"x\": [600.0, 537], \"y\": [200.0, 178], \"mode\": \"lines\", \"line\": {\"width\": 2, \"color\": \"green\"}}, {\"type\": \"scatter\", \"x\": [1400.0, 1387], \"y\": [1000.0, 1201], \"mode\": \"lines\", \"line\": {\"width\": 2, \"color\": \"green\"}}, {\"type\": \"scatter\", \"x\": [1000.0, 965], \"y\": [1000.0, 837], \"mode\": \"lines\", \"line\": {\"width\": 2, \"color\": \"green\"}}, {\"type\": \"scatter\", \"x\": [1000.0, 1045], \"y\": [200.0, 383], \"mode\": \"lines\", \"line\": {\"width\": 2, \"color\": \"green\"}}, {\"type\": \"scatter\", \"x\": [1000.0, 996], \"y\": [600.0, 537], \"mode\": \"lines\", \"line\": {\"width\": 2, \"color\": \"green\"}}, {\"type\": \"scatter\", \"x\": [200.0, 173], \"y\": [200.0, 253], \"mode\": \"lines\", \"line\": {\"width\": 2, \"color\": \"green\"}}, {\"type\": \"scatter\", \"x\": [1400.0, 1521], \"y\": [1000.0, 982], \"mode\": \"lines\", \"line\": {\"width\": 2, \"color\": \"green\"}}, {\"type\": \"scatter\", \"x\": [1400.0, 1240], \"y\": [200.0, 340], \"mode\": \"lines\", \"line\": {\"width\": 2, \"color\": \"green\"}}, {\"type\": \"scatter\", \"x\": [600.0, 674], \"y\": [1400.0, 1478], \"mode\": \"lines\", \"line\": {\"width\": 2, \"color\": \"green\"}}, {\"type\": \"scatter\", \"x\": [200.0, 321], \"y\": [200.0, 305], \"mode\": \"lines\", \"line\": {\"width\": 2, \"color\": \"green\"}}, {\"type\": \"scatter\", \"x\": [600.0, 570], \"y\": [1000.0, 1033], \"mode\": \"lines\", \"line\": {\"width\": 2, \"color\": \"green\"}}, {\"type\": \"scatter\", \"x\": [200.0, 75], \"y\": [200.0, 447], \"mode\": \"lines\", \"line\": {\"width\": 2, \"color\": \"green\"}}, {\"type\": \"scatter\", \"x\": [1400.0, 1424], \"y\": [600.0, 618], \"mode\": \"lines\", \"line\": {\"width\": 2, \"color\": \"green\"}}, {\"type\": \"scatter\", \"x\": [600.0, 629], \"y\": [600.0, 444], \"mode\": \"lines\", \"line\": {\"width\": 2, \"color\": \"green\"}}, {\"type\": \"scatter\", \"x\": [1000.0, 805], \"y\": [1000.0, 1130], \"mode\": \"lines\", \"line\": {\"width\": 2, \"color\": \"green\"}}, {\"type\": \"scatter\", \"x\": [1000.0, 919], \"y\": [600.0, 679], \"mode\": \"lines\", \"line\": {\"width\": 2, \"color\": \"green\"}}, {\"type\": \"scatter\", \"x\": [600.0, 495], \"y\": [1000.0, 1181], \"mode\": \"lines\", \"line\": {\"width\": 2, \"color\": \"green\"}}, {\"type\": \"scatter\", \"x\": [1000.0, 967], \"y\": [1000.0, 911], \"mode\": \"lines\", \"line\": {\"width\": 2, \"color\": \"green\"}}, {\"type\": \"scatter\", \"x\": [200.0, 169], \"y\": [600.0, 253], \"mode\": \"lines\", \"line\": {\"width\": 2, \"color\": \"green\"}}, {\"type\": \"scatter\", \"x\": [1000.0, 770], \"y\": [1400.0, 1497], \"mode\": \"lines\", \"line\": {\"width\": 2, \"color\": \"green\"}}, {\"type\": \"scatter\", \"x\": [600.0, 652], \"y\": [1000.0, 902], \"mode\": \"lines\", \"line\": {\"width\": 2, \"color\": \"green\"}}, {\"type\": \"scatter\", \"x\": [600.0, 547], \"y\": [1400.0, 1479], \"mode\": \"lines\", \"line\": {\"width\": 2, \"color\": \"green\"}}, {\"type\": \"scatter\", \"x\": [600.0, 690], \"y\": [1400.0, 1326], \"mode\": \"lines\", \"line\": {\"width\": 2, \"color\": \"green\"}}, {\"type\": \"scatter\", \"x\": [600.0, 570], \"y\": [1000.0, 1021], \"mode\": \"lines\", \"line\": {\"width\": 2, \"color\": \"green\"}}, {\"type\": \"scatter\", \"x\": [600.0, 755], \"y\": [200.0, 319], \"mode\": \"lines\", \"line\": {\"width\": 2, \"color\": \"green\"}}, {\"type\": \"scatter\", \"x\": [1000.0, 1065], \"y\": [600.0, 666], \"mode\": \"lines\", \"line\": {\"width\": 2, \"color\": \"green\"}}, {\"type\": \"scatter\", \"x\": [200.0, 79], \"y\": [200.0, 145], \"mode\": \"lines\", \"line\": {\"width\": 2, \"color\": \"green\"}}, {\"type\": \"scatter\", \"x\": [1400.0, 1304], \"y\": [600.0, 477], \"mode\": \"lines\", \"line\": {\"width\": 2, \"color\": \"green\"}}, {\"type\": \"scatter\", \"x\": [1000.0, 917], \"y\": [600.0, 663], \"mode\": \"lines\", \"line\": {\"width\": 2, \"color\": \"red\"}}, {\"type\": \"scatter\", \"x\": [1000.0, 888], \"y\": [1000.0, 1103], \"mode\": \"lines\", \"line\": {\"width\": 2, \"color\": \"green\"}}, {\"type\": \"scatter\", \"x\": [1400.0, 1020], \"y\": [1400.0, 1064], \"mode\": \"lines\", \"line\": {\"width\": 2, \"color\": \"green\"}}, {\"type\": \"scatter\", \"x\": [1400.0, 1368], \"y\": [1000.0, 1034], \"mode\": \"lines\", \"line\": {\"width\": 2, \"color\": \"green\"}}, {\"type\": \"scatter\", \"x\": [1400.0, 1012], \"y\": [1000.0, 668], \"mode\": \"lines\", \"line\": {\"width\": 2, \"color\": \"green\"}}, {\"type\": \"scatter\", \"x\": [200.0, 189], \"y\": [1000.0, 950], \"mode\": \"lines\", \"line\": {\"width\": 2, \"color\": \"green\"}}, {\"type\": \"scatter\", \"x\": [600.0, 636], \"y\": [600.0, 662], \"mode\": \"lines\", \"line\": {\"width\": 2, \"color\": \"green\"}}, {\"type\": \"scatter\", \"x\": [600.0, 920], \"y\": [1000.0, 856], \"mode\": \"lines\", \"line\": {\"width\": 2, \"color\": \"red\"}}, {\"type\": \"scatter\", \"x\": [600.0, 564], \"y\": [1000.0, 1015], \"mode\": \"lines\", \"line\": {\"width\": 2, \"color\": \"green\"}}, {\"type\": \"scatter\", \"x\": [1000.0, 881], \"y\": [1000.0, 1099], \"mode\": \"lines\", \"line\": {\"width\": 2, \"color\": \"red\"}}, {\"type\": \"scatter\", \"x\": [600.0, 613], \"y\": [600.0, 657], \"mode\": \"lines\", \"line\": {\"width\": 2, \"color\": \"green\"}}, {\"type\": \"scatter\", \"x\": [200.0, 267], \"y\": [1000.0, 1041], \"mode\": \"lines\", \"line\": {\"width\": 2, \"color\": \"green\"}}, {\"type\": \"scatter\", \"x\": [200.0, 393], \"y\": [1400.0, 1211], \"mode\": \"lines\", \"line\": {\"width\": 2, \"color\": \"green\"}}, {\"type\": \"scatter\", \"x\": [600.0, 701], \"y\": [1000.0, 855], \"mode\": \"lines\", \"line\": {\"width\": 2, \"color\": \"green\"}}, {\"type\": \"scatter\", \"x\": [1000.0, 1006], \"y\": [1400.0, 1338], \"mode\": \"lines\", \"line\": {\"width\": 2, \"color\": \"green\"}}, {\"type\": \"scatter\", \"x\": [600.0, 576], \"y\": [1000.0, 1052], \"mode\": \"lines\", \"line\": {\"width\": 2, \"color\": \"green\"}}, {\"type\": \"scatter\", \"x\": [600.0, 731], \"y\": [600.0, 521], \"mode\": \"lines\", \"line\": {\"width\": 2, \"color\": \"green\"}}, {\"type\": \"scatter\", \"x\": [1400.0, 1286], \"y\": [200.0, 358], \"mode\": \"lines\", \"line\": {\"width\": 2, \"color\": \"green\"}}, {\"type\": \"scatter\", \"x\": [1000.0, 837], \"y\": [1000.0, 1097], \"mode\": \"lines\", \"line\": {\"width\": 2, \"color\": \"red\"}}, {\"type\": \"scatter\", \"x\": [600.0, 517], \"y\": [1000.0, 888], \"mode\": \"lines\", \"line\": {\"width\": 2, \"color\": \"green\"}}, {\"type\": \"scatter\", \"x\": [600.0, 670], \"y\": [200.0, 50], \"mode\": \"lines\", \"line\": {\"width\": 2, \"color\": \"green\"}}, {\"type\": \"scatter\", \"x\": [600.0, 775], \"y\": [200.0, 86], \"mode\": \"lines\", \"line\": {\"width\": 2, \"color\": \"green\"}}, {\"type\": \"scatter\", \"x\": [1400.0, 1356], \"y\": [200.0, 220], \"mode\": \"lines\", \"line\": {\"width\": 2, \"color\": \"green\"}}, {\"type\": \"scatter\", \"x\": [600.0, 571], \"y\": [1400.0, 1283], \"mode\": \"lines\", \"line\": {\"width\": 2, \"color\": \"green\"}}, {\"type\": \"scatter\", \"x\": [1400.0, 1294], \"y\": [600.0, 657], \"mode\": \"lines\", \"line\": {\"width\": 2, \"color\": \"green\"}}, {\"type\": \"scatter\", \"x\": [600.0, 550], \"y\": [600.0, 557], \"mode\": \"lines\", \"line\": {\"width\": 2, \"color\": \"green\"}}, {\"type\": \"scatter\", \"x\": [1400.0, 1306], \"y\": [600.0, 403], \"mode\": \"lines\", \"line\": {\"width\": 2, \"color\": \"green\"}}, {\"type\": \"scatter\", \"x\": [200.0, 377], \"y\": [1000.0, 1073], \"mode\": \"lines\", \"line\": {\"width\": 2, \"color\": \"green\"}}, {\"type\": \"scatter\", \"x\": [1000.0, 786], \"y\": [1000.0, 989], \"mode\": \"lines\", \"line\": {\"width\": 2, \"color\": \"red\"}}, {\"type\": \"scatter\", \"x\": [1400.0, 1087], \"y\": [1000.0, 997], \"mode\": \"lines\", \"line\": {\"width\": 2, \"color\": \"green\"}}, {\"type\": \"scatter\", \"x\": [600.0, 673], \"y\": [600.0, 548], \"mode\": \"lines\", \"line\": {\"width\": 2, \"color\": \"green\"}}, {\"type\": \"scatter\", \"x\": [1000.0, 1109], \"y\": [200.0, 357], \"mode\": \"lines\", \"line\": {\"width\": 2, \"color\": \"green\"}}, {\"type\": \"scatter\", \"x\": [1000.0, 1001], \"y\": [1400.0, 1406], \"mode\": \"lines\", \"line\": {\"width\": 2, \"color\": \"green\"}}, {\"type\": \"scatter\", \"x\": [1400.0, 1432], \"y\": [200.0, 74], \"mode\": \"lines\", \"line\": {\"width\": 2, \"color\": \"green\"}}, {\"type\": \"scatter\", \"x\": [600.0, 775], \"y\": [1400.0, 1449], \"mode\": \"lines\", \"line\": {\"width\": 2, \"color\": \"green\"}}, {\"type\": \"scatter\", \"x\": [1400.0, 1543], \"y\": [600.0, 294], \"mode\": \"lines\", \"line\": {\"width\": 2, \"color\": \"green\"}}, {\"type\": \"scatter\", \"x\": [1000.0, 1179], \"y\": [1400.0, 1225], \"mode\": \"lines\", \"line\": {\"width\": 2, \"color\": \"green\"}}, {\"type\": \"scatter\", \"x\": [1400.0, 1052], \"y\": [1000.0, 946], \"mode\": \"lines\", \"line\": {\"width\": 2, \"color\": \"green\"}}, {\"type\": \"scatter\", \"x\": [200.0, 516], \"y\": [1000.0, 919], \"mode\": \"lines\", \"line\": {\"width\": 2, \"color\": \"green\"}}, {\"type\": \"scatter\", \"x\": [200.0, 159], \"y\": [1400.0, 1531], \"mode\": \"lines\", \"line\": {\"width\": 2, \"color\": \"green\"}}, {\"type\": \"scatter\", \"x\": [1000.0, 794], \"y\": [600.0, 563], \"mode\": \"lines\", \"line\": {\"width\": 2, \"color\": \"red\"}}, {\"type\": \"scatter\", \"x\": [1000.0, 1163], \"y\": [1000.0, 939], \"mode\": \"lines\", \"line\": {\"width\": 2, \"color\": \"green\"}}, {\"type\": \"scatter\", \"x\": [200.0, 15], \"y\": [200.0, 334], \"mode\": \"lines\", \"line\": {\"width\": 2, \"color\": \"green\"}}, {\"type\": \"scatter\", \"x\": [1400.0, 1395], \"y\": [200.0, 61], \"mode\": \"lines\", \"line\": {\"width\": 2, \"color\": \"green\"}}, {\"type\": \"scatter\", \"x\": [200.0, 85], \"y\": [200.0, 53], \"mode\": \"lines\", \"line\": {\"width\": 2, \"color\": \"green\"}}, {\"type\": \"scatter\", \"x\": [1400.0, 1377], \"y\": [1000.0, 821], \"mode\": \"lines\", \"line\": {\"width\": 2, \"color\": \"green\"}}, {\"type\": \"scatter\", \"x\": [600.0, 761], \"y\": [200.0, 354], \"mode\": \"lines\", \"line\": {\"width\": 2, \"color\": \"green\"}}, {\"type\": \"scatter\", \"x\": [1000.0, 974], \"y\": [1400.0, 1283], \"mode\": \"lines\", \"line\": {\"width\": 2, \"color\": \"green\"}}, {\"type\": \"scatter\", \"x\": [1400.0, 1503], \"y\": [600.0, 591], \"mode\": \"lines\", \"line\": {\"width\": 2, \"color\": \"green\"}}, {\"type\": \"scatter\", \"x\": [1000.0, 1061], \"y\": [200.0, 583], \"mode\": \"lines\", \"line\": {\"width\": 2, \"color\": \"green\"}}, {\"type\": \"scatter\", \"x\": [1000.0, 1035], \"y\": [600.0, 664], \"mode\": \"lines\", \"line\": {\"width\": 2, \"color\": \"red\"}}, {\"type\": \"scatter\", \"x\": [1400.0, 1269], \"y\": [600.0, 626], \"mode\": \"lines\", \"line\": {\"width\": 2, \"color\": \"green\"}}, {\"type\": \"scatter\", \"x\": [200.0, 165], \"y\": [600.0, 545], \"mode\": \"lines\", \"line\": {\"width\": 2, \"color\": \"green\"}}, {\"type\": \"scatter\", \"x\": [200.0, 207], \"y\": [600.0, 601], \"mode\": \"lines\", \"line\": {\"width\": 2, \"color\": \"green\"}}, {\"type\": \"scatter\", \"x\": [600.0, 737], \"y\": [1400.0, 1543], \"mode\": \"lines\", \"line\": {\"width\": 2, \"color\": \"green\"}}, {\"type\": \"scatter\", \"x\": [600.0, 452], \"y\": [600.0, 793], \"mode\": \"lines\", \"line\": {\"width\": 2, \"color\": \"green\"}}, {\"type\": \"scatter\", \"x\": [600.0, 544], \"y\": [1000.0, 1115], \"mode\": \"lines\", \"line\": {\"width\": 2, \"color\": \"green\"}}, {\"type\": \"scatter\", \"x\": [600.0, 605], \"y\": [1000.0, 1068], \"mode\": \"lines\", \"line\": {\"width\": 2, \"color\": \"red\"}}, {\"type\": \"scatter\", \"x\": [600.0, 824], \"y\": [600.0, 635], \"mode\": \"lines\", \"line\": {\"width\": 2, \"color\": \"red\"}}, {\"type\": \"scatter\", \"x\": [200.0, 277], \"y\": [600.0, 465], \"mode\": \"lines\", \"line\": {\"width\": 2, \"color\": \"green\"}}, {\"type\": \"scatter\", \"x\": [600.0, 597], \"y\": [600.0, 600], \"mode\": \"lines\", \"line\": {\"width\": 2, \"color\": \"green\"}}, {\"type\": \"scatter\", \"x\": [200.0, 205], \"y\": [600.0, 556], \"mode\": \"lines\", \"line\": {\"width\": 2, \"color\": \"green\"}}, {\"type\": \"scatter\", \"x\": [200.0, 154], \"y\": [1000.0, 1036], \"mode\": \"lines\", \"line\": {\"width\": 2, \"color\": \"green\"}}, {\"type\": \"scatter\", \"x\": [200.0, 595], \"y\": [1000.0, 831], \"mode\": \"lines\", \"line\": {\"width\": 2, \"color\": \"green\"}}, {\"type\": \"scatter\", \"x\": [200.0, 387], \"y\": [1400.0, 1425], \"mode\": \"lines\", \"line\": {\"width\": 2, \"color\": \"green\"}}, {\"type\": \"scatter\", \"x\": [600.0, 868], \"y\": [600.0, 631], \"mode\": \"lines\", \"line\": {\"width\": 2, \"color\": \"red\"}}, {\"type\": \"scatter\", \"x\": [600.0, 543], \"y\": [200.0, 214], \"mode\": \"lines\", \"line\": {\"width\": 2, \"color\": \"green\"}}, {\"type\": \"scatter\", \"x\": [1000.0, 1063], \"y\": [1000.0, 891], \"mode\": \"lines\", \"line\": {\"width\": 2, \"color\": \"green\"}}, {\"type\": \"scatter\", \"x\": [1400.0, 1291], \"y\": [1000.0, 822], \"mode\": \"lines\", \"line\": {\"width\": 2, \"color\": \"green\"}}, {\"type\": \"scatter\", \"x\": [200.0, 590], \"y\": [1000.0, 615], \"mode\": \"lines\", \"line\": {\"width\": 2, \"color\": \"red\"}}, {\"type\": \"scatter\", \"x\": [1400.0, 1189], \"y\": [200.0, 56], \"mode\": \"lines\", \"line\": {\"width\": 2, \"color\": \"green\"}}, {\"type\": \"scatter\", \"x\": [1400.0, 1474], \"y\": [1400.0, 1332], \"mode\": \"lines\", \"line\": {\"width\": 2, \"color\": \"green\"}}, {\"type\": \"scatter\", \"x\": [1000.0, 849], \"y\": [200.0, 259], \"mode\": \"lines\", \"line\": {\"width\": 2, \"color\": \"green\"}}, {\"type\": \"scatter\", \"x\": [1000.0, 859], \"y\": [600.0, 504], \"mode\": \"lines\", \"line\": {\"width\": 2, \"color\": \"red\"}}, {\"type\": \"scatter\", \"x\": [1400.0, 1250], \"y\": [1400.0, 1270], \"mode\": \"lines\", \"line\": {\"width\": 2, \"color\": \"green\"}}, {\"type\": \"scatter\", \"x\": [1000.0, 1066], \"y\": [1400.0, 1465], \"mode\": \"lines\", \"line\": {\"width\": 2, \"color\": \"green\"}}, {\"type\": \"scatter\", \"x\": [200.0, 258], \"y\": [1400.0, 1238], \"mode\": \"lines\", \"line\": {\"width\": 2, \"color\": \"green\"}}, {\"type\": \"scatter\", \"x\": [600.0, 759], \"y\": [1400.0, 1442], \"mode\": \"lines\", \"line\": {\"width\": 2, \"color\": \"green\"}}, {\"type\": \"scatter\", \"x\": [600.0, 667], \"y\": [1000.0, 927], \"mode\": \"lines\", \"line\": {\"width\": 2, \"color\": \"green\"}}, {\"type\": \"scatter\", \"x\": [1400.0, 1217], \"y\": [1400.0, 1226], \"mode\": \"lines\", \"line\": {\"width\": 2, \"color\": \"green\"}}, {\"type\": \"scatter\", \"x\": [600.0, 608], \"y\": [1400.0, 1271], \"mode\": \"lines\", \"line\": {\"width\": 2, \"color\": \"green\"}}, {\"type\": \"scatter\", \"x\": [600.0, 753], \"y\": [200.0, 34], \"mode\": \"lines\", \"line\": {\"width\": 2, \"color\": \"green\"}}, {\"type\": \"scatter\", \"x\": [600.0, 735], \"y\": [1400.0, 1295], \"mode\": \"lines\", \"line\": {\"width\": 2, \"color\": \"green\"}}, {\"type\": \"scatter\", \"x\": [200.0, 98], \"y\": [600.0, 579], \"mode\": \"lines\", \"line\": {\"width\": 2, \"color\": \"green\"}}, {\"type\": \"scatter\", \"x\": [200.0, 51], \"y\": [600.0, 644], \"mode\": \"lines\", \"line\": {\"width\": 2, \"color\": \"green\"}}, {\"type\": \"scatter\", \"x\": [1000.0, 1081], \"y\": [200.0, 563], \"mode\": \"lines\", \"line\": {\"width\": 2, \"color\": \"green\"}}, {\"type\": \"scatter\", \"x\": [1000.0, 699], \"y\": [600.0, 715], \"mode\": \"lines\", \"line\": {\"width\": 2, \"color\": \"red\"}}, {\"type\": \"scatter\", \"x\": [600.0, 470], \"y\": [1400.0, 1329], \"mode\": \"lines\", \"line\": {\"width\": 2, \"color\": \"green\"}}, {\"type\": \"scatter\", \"x\": [1000.0, 963], \"y\": [1400.0, 1078], \"mode\": \"lines\", \"line\": {\"width\": 2, \"color\": \"green\"}}, {\"type\": \"scatter\", \"x\": [600.0, 722], \"y\": [600.0, 831], \"mode\": \"lines\", \"line\": {\"width\": 2, \"color\": \"red\"}}, {\"type\": \"scatter\", \"x\": [200.0, 86], \"y\": [200.0, 328], \"mode\": \"lines\", \"line\": {\"width\": 2, \"color\": \"green\"}}, {\"type\": \"scatter\", \"x\": [600.0, 514], \"y\": [200.0, 596], \"mode\": \"lines\", \"line\": {\"width\": 2, \"color\": \"green\"}}, {\"type\": \"scatter\", \"x\": [1000.0, 959], \"y\": [600.0, 782], \"mode\": \"lines\", \"line\": {\"width\": 2, \"color\": \"green\"}}, {\"type\": \"scatter\", \"x\": [600.0, 469], \"y\": [1400.0, 1341], \"mode\": \"lines\", \"line\": {\"width\": 2, \"color\": \"green\"}}, {\"type\": \"scatter\", \"x\": [600.0, 520], \"y\": [200.0, 397], \"mode\": \"lines\", \"line\": {\"width\": 2, \"color\": \"green\"}}, {\"type\": \"scatter\", \"x\": [1400.0, 1503], \"y\": [200.0, 313], \"mode\": \"lines\", \"line\": {\"width\": 2, \"color\": \"green\"}}, {\"type\": \"scatter\", \"x\": [200.0, 387], \"y\": [1400.0, 1590], \"mode\": \"lines\", \"line\": {\"width\": 2, \"color\": \"green\"}}, {\"type\": \"scatter\", \"x\": [600.0, 776], \"y\": [1000.0, 1085], \"mode\": \"lines\", \"line\": {\"width\": 2, \"color\": \"green\"}}, {\"type\": \"scatter\", \"x\": [600.0, 750], \"y\": [1400.0, 1035], \"mode\": \"lines\", \"line\": {\"width\": 2, \"color\": \"red\"}}, {\"type\": \"scatter\", \"x\": [1400.0, 1021], \"y\": [1000.0, 931], \"mode\": \"lines\", \"line\": {\"width\": 2, \"color\": \"green\"}}, {\"type\": \"scatter\", \"x\": [600.0, 492], \"y\": [1400.0, 1234], \"mode\": \"lines\", \"line\": {\"width\": 2, \"color\": \"green\"}}, {\"type\": \"scatter\", \"x\": [600.0, 695], \"y\": [600.0, 785], \"mode\": \"lines\", \"line\": {\"width\": 2, \"color\": \"green\"}}, {\"type\": \"scatter\", \"x\": [600.0, 685], \"y\": [1400.0, 1549], \"mode\": \"lines\", \"line\": {\"width\": 2, \"color\": \"green\"}}, {\"type\": \"scatter\", \"x\": [1000.0, 1119], \"y\": [1000.0, 1180], \"mode\": \"lines\", \"line\": {\"width\": 2, \"color\": \"green\"}}, {\"type\": \"scatter\", \"x\": [200.0, 204], \"y\": [1000.0, 806], \"mode\": \"lines\", \"line\": {\"width\": 2, \"color\": \"green\"}}, {\"type\": \"scatter\", \"x\": [200.0, 200.0, 200.0, 200.0, 600.0, 600.0, 600.0, 600.0, 1000.0, 1000.0, 1000.0, 1000.0, 1400.0, 1400.0, 1400.0, 1400.0, 493, 920, 947, 1519, 1496, 986, 175, 1099, 635, 608, 1046, 1282, 16, 195, 748, 214, 806, 1595, 490, 958, 1023, 621, 153, 1007, 1240, 858, 324, 422, 325, 288, 1168, 748, 87, 707, 1425, 965, 473, 1263, 1095, 75, 1448, 842, 1017, 250, 1125, 1054, 502, 822, 962, 962, 844, 585, 626, 743, 981, 637, 1116, 893, 166, 1012, 1214, 267, 610, 1151, 670, 888, 894, 537, 1387, 965, 1045, 996, 173, 1521, 1240, 674, 321, 570, 75, 1424, 629, 805, 919, 495, 967, 169, 770, 652, 547, 690, 570, 755, 1065, 79, 1304, 917, 888, 1020, 1368, 1012, 189, 636, 920, 564, 881, 613, 267, 393, 701, 1006, 576, 731, 1286, 837, 517, 670, 775, 1356, 571, 1294, 550, 1306, 377, 786, 1087, 673, 1109, 1001, 1432, 775, 1543, 1179, 1052, 516, 159, 794, 1163, 15, 1395, 85, 1377, 761, 974, 1503, 1061, 1035, 1269, 165, 207, 737, 452, 544, 605, 824, 277, 597, 205, 154, 595, 387, 868, 543, 1063, 1291, 590, 1189, 1474, 849, 859, 1250, 1066, 258, 759, 667, 1217, 608, 753, 735, 98, 51, 1081, 699, 470, 963, 722, 86, 514, 959, 469, 520, 1503, 387, 776, 750, 1021, 492, 695, 685, 1119, 204], \"y\": [200.0, 600.0, 1000.0, 1400.0, 200.0, 600.0, 1000.0, 1400.0, 200.0, 600.0, 1000.0, 1400.0, 200.0, 600.0, 1000.0, 1400.0, 1203, 1110, 806, 1413, 294, 875, 1501, 848, 1332, 788, 822, 960, 1200, 1444, 569, 569, 666, 1562, 609, 699, 728, 479, 774, 878, 1535, 1558, 1272, 122, 801, 1108, 881, 850, 1061, 1556, 303, 955, 1218, 384, 357, 1434, 210, 890, 609, 690, 142, 243, 263, 1032, 71, 672, 529, 893, 716, 654, 458, 682, 614, 434, 901, 1132, 159, 1468, 1132, 1483, 920, 1292, 1054, 178, 1201, 837, 383, 537, 253, 982, 340, 1478, 305, 1033, 447, 618, 444, 1130, 679, 1181, 911, 253, 1497, 902, 1479, 1326, 1021, 319, 666, 145, 477, 663, 1103, 1064, 1034, 668, 950, 662, 856, 1015, 1099, 657, 1041, 1211, 855, 1338, 1052, 521, 358, 1097, 888, 50, 86, 220, 1283, 657, 557, 403, 1073, 989, 997, 548, 357, 1406, 74, 1449, 294, 1225, 946, 919, 1531, 563, 939, 334, 61, 53, 821, 354, 1283, 591, 583, 664, 626, 545, 601, 1543, 793, 1115, 1068, 635, 465, 600, 556, 1036, 831, 1425, 631, 214, 891, 822, 615, 56, 1332, 259, 504, 1270, 1465, 1238, 1442, 927, 1226, 1271, 34, 1295, 579, 644, 563, 715, 1329, 1078, 831, 328, 596, 782, 1341, 397, 313, 1590, 1085, 1035, 931, 1234, 785, 1549, 1180, 806], \"mode\": \"markers\", \"marker\": {\"size\": 8, \"color\": [\"yellow\", \"yellow\", \"yellow\", \"yellow\", \"yellow\", \"yellow\", \"yellow\", \"yellow\", \"yellow\", \"yellow\", \"yellow\", \"yellow\", \"yellow\", \"yellow\", \"yellow\", \"yellow\", \"magenta\", \"magenta\", \"magenta\", \"magenta\", \"magenta\", \"magenta\", \"magenta\", \"blue\", \"magenta\", \"blue\", \"blue\", \"magenta\", \"magenta\", \"magenta\", \"magenta\", \"magenta\", \"blue\", \"magenta\", \"magenta\", \"blue\", \"blue\", \"magenta\", \"magenta\", \"magenta\", \"magenta\", \"magenta\", \"magenta\", \"magenta\", \"magenta\", \"magenta\", \"magenta\", \"blue\", \"magenta\", \"magenta\", \"magenta\", \"blue\", \"magenta\", \"magenta\", \"magenta\", \"magenta\", \"magenta\", \"blue\", \"blue\", \"magenta\", \"magenta\", \"magenta\", \"magenta\", \"blue\", \"magenta\", \"blue\", \"blue\", \"magenta\", \"blue\", \"blue\", \"magenta\", \"magenta\", \"magenta\", \"magenta\", \"magenta\", \"magenta\", \"magenta\", \"magenta\", \"magenta\", \"magenta\", \"blue\", \"magenta\", \"blue\", \"magenta\", \"magenta\", \"magenta\", \"magenta\", \"magenta\", \"magenta\", \"magenta\", \"magenta\", \"magenta\", \"magenta\", \"magenta\", \"magenta\", \"magenta\", \"magenta\", \"magenta\", \"blue\", \"magenta\", \"magenta\", \"magenta\", \"magenta\", \"magenta\", \"magenta\", \"magenta\", \"magenta\", \"magenta\", \"blue\", \"magenta\", \"magenta\", \"blue\", \"magenta\", \"blue\", \"magenta\", \"blue\", \"magenta\", \"blue\", \"blue\", \"blue\", \"blue\", \"blue\", \"magenta\", \"magenta\", \"blue\", \"magenta\", \"blue\", \"blue\", \"magenta\", \"blue\", \"blue\", \"magenta\", \"magenta\", \"magenta\", \"magenta\", \"magenta\", \"blue\", \"magenta\", \"magenta\", \"blue\", \"blue\", \"magenta\", \"magenta\", \"magenta\", \"magenta\", \"magenta\", \"magenta\", \"magenta\", \"blue\", \"blue\", \"magenta\", \"blue\", \"magenta\", \"magenta\", \"magenta\", \"magenta\", \"magenta\", \"magenta\", \"magenta\", \"magenta\", \"blue\", \"blue\", \"magenta\", \"magenta\", \"magenta\", \"magenta\", \"magenta\", \"magenta\", \"blue\", \"blue\", \"magenta\", \"magenta\", \"magenta\", \"magenta\", \"blue\", \"magenta\", \"blue\", \"magenta\", \"magenta\", \"magenta\", \"blue\", \"magenta\", \"magenta\", \"magenta\", \"blue\", \"magenta\", \"magenta\", \"magenta\", \"magenta\", \"magenta\", \"magenta\", \"magenta\", \"magenta\", \"magenta\", \"magenta\", \"magenta\", \"blue\", \"blue\", \"magenta\", \"blue\", \"blue\", \"magenta\", \"blue\", \"magenta\", \"magenta\", \"magenta\", \"magenta\", \"magenta\", \"magenta\", \"blue\", \"blue\", \"magenta\", \"magenta\", \"magenta\", \"magenta\", \"magenta\"]}}], {\"xaxis\": {\"range\": [0, 1600], \"title\": \"x\"}, \"yaxis\": {\"range\": [0, 1600], \"title\": \"y\"}, \"title\": \"UE and AP Distribution in the grid\", \"height\": 600, \"width\": 800, \"showlegend\": false}, {\"showLink\": true, \"linkText\": \"Export to plot.ly\"})});</script>"
      ]
     },
     "metadata": {},
     "output_type": "display_data"
    }
   ],
   "source": [
    "# Show distribution of UEs and APs\n",
    "ue_ap_list = result.UE_AP_LIST[0]\n",
    "nodes = [(0, 0)]\n",
    "nodes += [tuple(x.location) for x in ue_ap_list]\n",
    "\n",
    "edges = []\n",
    "edge_color = []\n",
    "# edge_color = ['green'] * (len(edges))\n",
    "\n",
    "# add edges between UE and AP\n",
    "for i, ue in enumerate(ue_ap_list[16:]):\n",
    "    if ue.sla == 1:\n",
    "        color = \"green\"\n",
    "    else:\n",
    "        color = \"red\"\n",
    "    edges.append((ue.ap, i+17))\n",
    "    edge_color.append(color)\n",
    "\n",
    "    \n",
    "nodes_color = []\n",
    "nodes_color += ['yellow'] * 16\n",
    "\n",
    "for ue in ue_ap_list[16:]:\n",
    "    if ue.app == 2:\n",
    "        # video UEs\n",
    "        color = 'blue'\n",
    "    else:\n",
    "        # Web UEs\n",
    "        color = 'magenta'\n",
    "    nodes_color.append(color)\n",
    "\n",
    "\n",
    "\n",
    "\n",
    "n_x, n_y = zip(*nodes[1:])\n",
    "nodes_dict=dict(type='scatter',\n",
    "           x=n_x,\n",
    "           y=n_y,\n",
    "           mode='markers',\n",
    "           marker=dict(size=8, color=nodes_color))\n",
    "\n",
    "edges_list = []\n",
    "for k, e in enumerate(edges):\n",
    "    info = dict(\n",
    "        type='scatter',\n",
    "        x=[nodes[e[0]][0], nodes[e[1]][0]],\n",
    "        y=[nodes[e[0]][1], nodes[e[1]][1]],\n",
    "        mode='lines',\n",
    "        line=dict(width=2, color=edge_color[k])\n",
    "    )\n",
    "    edges_list.append(info)\n",
    "\n",
    "data=edges_list+[nodes_dict]\n",
    "\n",
    "layout_dict = dict(xaxis={'range': [0, 1600], 'title': 'x'},\n",
    "              yaxis={'range': [0, 1600], 'title': 'y'},\n",
    "              title=\"UE and AP Distribution in the grid\",\n",
    "              height=600,\n",
    "              width=800,\n",
    "              showlegend=False\n",
    "              )\n",
    "layout = go.Layout(layout_dict)\n",
    "\n",
    "fig=dict(data=data, layout=layout)\n",
    "\n",
    "plotly.offline.iplot(fig)"
   ]
  },
  {
   "cell_type": "code",
   "execution_count": null,
   "metadata": {},
   "outputs": [],
   "source": []
  },
  {
   "cell_type": "code",
   "execution_count": null,
   "metadata": {},
   "outputs": [],
   "source": []
  },
  {
   "cell_type": "code",
   "execution_count": null,
   "metadata": {},
   "outputs": [],
   "source": [
    "# Create rewards graph\n",
    "rewards = go.Scatter(\n",
    "    x = len(result.Rewards),\n",
    "    y = result.Rewards,\n",
    "    name='Rewards'\n",
    ")\n",
    "\n",
    "data = [rewards]\n",
    "\n",
    "\n",
    "# Plot and embed in ipython notebook!\n",
    "plotly.offline.iplot(\n",
    "    {\"data\": data,\n",
    "     \"layout\": go.Layout(\n",
    "         height=500,\n",
    "         width=800,\n",
    "         title=\"Rewards over time\",\n",
    "         xaxis=dict(\n",
    "             title='Episodes',\n",
    "         ),\n",
    "         yaxis=dict(\n",
    "             title='Rewards',\n",
    "         ), \n",
    "         showlegend=True)},\n",
    "    show_link=False,\n",
    "    link_text=None)\n",
    "\n"
   ]
  },
  {
   "cell_type": "code",
   "execution_count": null,
   "metadata": {},
   "outputs": [],
   "source": [
    "# Create handoff graph\n",
    "handoffs = go.Scatter(\n",
    "    x = len(result.Handoffs),\n",
    "    y = result.Handoffs,\n",
    "    name='Handoffs'\n",
    ")\n",
    "\n",
    "data = [handoffs]\n",
    "\n",
    "# Plot and embed in ipython notebook!\n",
    "plotly.offline.iplot(\n",
    "    {\"data\": data,\n",
    "     \"layout\": go.Layout(\n",
    "         height=500,\n",
    "         width=800,\n",
    "         title='Handoffs over time',\n",
    "         xaxis=dict(\n",
    "             title='Episodes',\n",
    "         ),\n",
    "         yaxis=dict(\n",
    "             title='Handoffs'\n",
    "         ), \n",
    "         showlegend=True)},\n",
    "    show_link=False,\n",
    "    link_text=None)\n"
   ]
  },
  {
   "cell_type": "code",
   "execution_count": null,
   "metadata": {},
   "outputs": [],
   "source": [
    "# Create UE graph\n",
    "ue_sla = go.Scatter(\n",
    "    x = len(result.Meets_SLA),\n",
    "    y = result.Meets_SLA,\n",
    "    name='UE SLA'\n",
    ")\n",
    "\n",
    "data = [ue_sla]\n",
    "\n",
    "# Plot and embed in ipython notebook!\n",
    "plotly.offline.iplot(\n",
    "    {\"data\": data,\n",
    "     \"layout\": go.Layout(\n",
    "         height=500,\n",
    "         width=800,\n",
    "         title=\"UE's SLA over time\",\n",
    "         xaxis=dict(\n",
    "             title='Episodes',\n",
    "         ),\n",
    "         yaxis=dict(\n",
    "             title='UE SLA'\n",
    "         ), \n",
    "         showlegend=True)},\n",
    "    show_link=False,\n",
    "    link_text=None)"
   ]
  },
  {
   "cell_type": "code",
   "execution_count": null,
   "metadata": {},
   "outputs": [],
   "source": []
  }
 ],
 "metadata": {
  "kernelspec": {
   "display_name": "Python 3",
   "language": "python",
   "name": "python3"
  },
  "language_info": {
   "codemirror_mode": {
    "name": "ipython",
    "version": 3
   },
   "file_extension": ".py",
   "mimetype": "text/x-python",
   "name": "python",
   "nbconvert_exporter": "python",
   "pygments_lexer": "ipython3",
   "version": "3.6.4"
  },
  "widgets": {
   "application/vnd.jupyter.widget-state+json": {
    "state": {},
    "version_major": 2,
    "version_minor": 0
   }
  }
 },
 "nbformat": 4,
 "nbformat_minor": 2
}
