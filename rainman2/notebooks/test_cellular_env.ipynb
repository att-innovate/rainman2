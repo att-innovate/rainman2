{
 "cells": [
  {
   "cell_type": "code",
   "execution_count": 1,
   "metadata": {},
   "outputs": [
    {
     "data": {
      "text/html": [
       "<script>requirejs.config({paths: { 'plotly': ['https://cdn.plot.ly/plotly-latest.min']},});if(!window.Plotly) {{require(['plotly'],function(plotly) {window.Plotly=plotly;});}}</script>"
      ],
      "text/vnd.plotly.v1+html": [
       "<script>requirejs.config({paths: { 'plotly': ['https://cdn.plot.ly/plotly-latest.min']},});if(!window.Plotly) {{require(['plotly'],function(plotly) {window.Plotly=plotly;});}}</script>"
      ]
     },
     "metadata": {},
     "output_type": "display_data"
    }
   ],
   "source": [
    "import plotly\n",
    "import plotly.graph_objs as go\n",
    "from IPython.display import display, HTML\n",
    "plotly.offline.init_notebook_mode(connected=True)"
   ]
  },
  {
   "cell_type": "code",
   "execution_count": 2,
   "metadata": {},
   "outputs": [
    {
     "name": "stdout",
     "output_type": "stream",
     "text": [
      "Rainman2's logging has been configured!\n"
     ]
    },
    {
     "name": "stderr",
     "output_type": "stream",
     "text": [
      "Using TensorFlow backend.\n"
     ]
    }
   ],
   "source": [
    "from rainman2 import RAINMAN2"
   ]
  },
  {
   "cell_type": "markdown",
   "metadata": {},
   "source": [
    "\n",
    "#### Normal case: Start with 30% Random actions (explore) and rest 70% fetch max actions (exploit)\n"
   ]
  },
  {
   "cell_type": "code",
   "execution_count": 4,
   "metadata": {},
   "outputs": [],
   "source": [
    "# Server profile: num_ues=200, APs=16, Scale=200.0, explore_radius=1\n",
    "from collections import OrderedDict\n",
    "ALGORITHM_CONFIG = OrderedDict(\n",
    "    EPISODES=400,\n",
    "    ALPHA=0.2,\n",
    "    GAMMA=0.9,\n",
    "    EPSILON=0.3,\n",
    "    EPSILON_DECAY=0.99,\n",
    "    EPSILON_MIN=0.01,\n",
    "    VERBOSE=True,\n",
    "    L1_HIDDEN_UNITS=13,\n",
    "    L2_HIDDEN_UNITS=13,\n",
    "    L1_ACTIVATION='relu',\n",
    "    L2_ACTIVATION='relu',\n",
    "    LOSS_FUNCTION='mean_squared_error',\n",
    "    OPTIMIZER='Adam',\n",
    ")\n",
    "\n",
    "CELLULAR_MODEL_CONFIG = OrderedDict(\n",
    "    NAME='Cellular',\n",
    "    TYPE='Dev',\n",
    "    SERVER='0.0.0.0',\n",
    "    SERVER_PORT='8000',\n",
    "    VERBOSE=True,\n",
    ")\n"
   ]
  },
  {
   "cell_type": "code",
   "execution_count": 5,
   "metadata": {},
   "outputs": [],
   "source": [
    "RAINMAN2.algorithm_config = ALGORITHM_CONFIG\n",
    "RAINMAN2.environment_config = CELLULAR_MODEL_CONFIG"
   ]
  },
  {
   "cell_type": "code",
   "execution_count": 6,
   "metadata": {
    "scrolled": true
   },
   "outputs": [
    {
     "name": "stderr",
     "output_type": "stream",
     "text": [
      "2018-05-08 10:56:03,913 Aris-MacBook-Pro.local Rainman2[22317] INFO Starting experiment!\n",
      "2018-05-08 10:56:03,915 Aris-MacBook-Pro.local Rainman2[22317] INFO Building Environment instance: Cellular\n",
      "2018-05-08 10:56:03,916 Aris-MacBook-Pro.local rainman2.lib.environment.cellular.base[22317] INFO Instantiating Cellular client: Dev\n",
      "2018-05-08 10:56:03,917 Aris-MacBook-Pro.local QCellularAgent[22317] INFO Configuration used for the QCellular Agent:\n",
      "2018-05-08 10:56:03,918 Aris-MacBook-Pro.local QCellularAgent[22317] INFO episodes: 400\n",
      "2018-05-08 10:56:03,919 Aris-MacBook-Pro.local QCellularAgent[22317] INFO alpha: 0.2\n",
      "2018-05-08 10:56:03,920 Aris-MacBook-Pro.local QCellularAgent[22317] INFO gamma: 0.9\n",
      "2018-05-08 10:56:03,921 Aris-MacBook-Pro.local QCellularAgent[22317] INFO epsilon: 0.3\n",
      "2018-05-08 10:56:03,922 Aris-MacBook-Pro.local QCellularAgent[22317] INFO epsilon_decay: 0.99\n",
      "2018-05-08 10:56:03,923 Aris-MacBook-Pro.local QCellularAgent[22317] INFO epsilon_min: 0.01\n",
      "2018-05-08 10:56:03,924 Aris-MacBook-Pro.local QController[22317] INFO Agent: Naive is successfully instantiated!\n",
      "2018-05-08 10:56:03,925 Aris-MacBook-Pro.local QController[22317] INFO Qlearning instance: QlearningForCellular is successfully instantiated!\n",
      "2018-05-08 10:56:03,926 Aris-MacBook-Pro.local QlearningForCellular[22317] INFO Running Qlearning for Cellular Networks!\n",
      "2018-05-08 10:59:35,799 Aris-MacBook-Pro.local QlearningForCellular[22317] INFO Episodes stats\n",
      "2018-05-08 10:59:35,802 Aris-MacBook-Pro.local QlearningForCellular[22317] INFO Rewards: [220.25 277.25 288.25 302.5  288.75 297.   311.25 320.   331.25 343.25\n",
      " 329.25 304.5  319.25 308.75 324.   325.   343.   329.25 329.   341.\n",
      " 332.75 334.   344.5  335.5  360.75 342.   351.   351.   355.5  330.75\n",
      " 341.25 361.5  346.75 355.75 353.25 336.25 326.75 345.5  365.25 339.75\n",
      " 346.75 348.5  340.5  345.5  348.5  345.75 334.25 333.25 341.   331.75\n",
      " 322.5  343.5  332.25 344.5  336.75 340.75 335.5  321.   325.5  345.5\n",
      " 322.75 332.   350.   340.75 348.5  331.75 336.   341.5  339.25 340.\n",
      " 325.   336.75 334.5  346.75 347.   356.   354.75 346.25 341.75 344.5\n",
      " 352.25 365.5  350.   358.   364.75 342.25 348.5  354.75 338.25 347.\n",
      " 350.   348.5  346.25 350.   346.25 351.5  363.   364.5  367.25 365.5\n",
      " 364.75 359.75 374.   363.75 360.   362.5  360.5  370.5  368.   355.75\n",
      " 357.75 356.25 355.25 332.   348.25 333.5  344.   340.75 336.5  314.25\n",
      " 321.   321.   327.75 336.5  338.25 332.   334.25 329.5  338.75 337.5\n",
      " 354.   330.5  332.5  333.25 353.25 351.75 351.5  360.75 351.75 354.25\n",
      " 340.25 349.75 352.75 345.25 352.   352.75 359.   350.   360.5  358.5\n",
      " 345.75 353.75 346.5  349.75 362.25 355.25 354.75 362.75 361.5  362.\n",
      " 360.25 353.75 353.25 354.25 356.   365.25 359.75 341.   354.   347.\n",
      " 325.5  336.75 339.25 333.5  340.25 342.75 337.75 344.75 351.75 351.5\n",
      " 359.25 355.25 362.25 357.5  352.75 338.5  341.   333.25 355.   340.75\n",
      " 341.   351.75 352.25 340.   320.   332.5  324.   354.   354.75 350.5\n",
      " 340.75 323.5  322.75 323.5  339.5  350.25 326.75 312.5  315.75 303.\n",
      " 302.5  319.5  326.   360.75 340.5  354.   354.   343.25 345.   345.\n",
      " 354.5  374.25 371.   374.   367.75 352.   351.5  365.5  377.25 366.25\n",
      " 352.25 361.5  378.25 375.75 370.25 352.25 384.75 379.   381.25 380.75\n",
      " 376.5  380.25 380.5  372.75 345.   350.75 356.5  349.75 351.75 351.75\n",
      " 339.5  363.5  364.75 363.75 350.5  347.25 355.25 349.   367.25 367.25\n",
      " 376.   373.25 373.5  377.75 385.   393.75 376.25 384.   383.5  380.5\n",
      " 385.25 383.   374.25 385.5  387.   366.25 366.75 359.75 354.5  369.25\n",
      " 354.25 363.25 365.   354.25 333.25 357.   344.   347.25 361.5  357.25\n",
      " 336.25 342.25 347.75 353.75 341.75 336.75 340.75 367.75 374.25 382.75\n",
      " 382.75 384.75 360.5  368.   364.25 379.75 386.5  382.5  377.5  383.\n",
      " 362.75 365.25 365.25 369.   375.5  373.5  373.   367.5  356.   371.\n",
      " 377.75 375.75 381.25 380.   378.25 369.5  367.   369.75 336.75 360.75\n",
      " 367.   361.75 357.   355.75 358.25 334.5  365.75 371.75 369.5  377.25\n",
      " 388.25 380.25 381.75 363.5  365.25 386.   390.   392.   388.75 391.75\n",
      " 395.   394.75 399.25 399.5  409.25 379.25 393.75 394.   389.75 383.\n",
      " 388.   388.   367.   388.25 394.25 398.75 405.75 388.75 386.25 389.25\n",
      " 380.75 364.25 364.25 371.5  394.25 392.5  388.75 384.   363.   366.5\n",
      " 377.5  392.25 371.75 381.25 388.   384.25 382.75 385.75 392.25 387.\n",
      " 389.5  389.25 394.   393.75 395.25 406.   408.5  413.   407.75 383.  ]\n",
      "2018-05-08 10:59:35,807 Aris-MacBook-Pro.local QlearningForCellular[22317] INFO Handoffs: [25.  9. 13. 10. 13.  8.  7.  8.  5.  1.  7. 10.  5. 11.  8.  4.  2.  5.\n",
      "  6.  4.  3. 10.  6. 12.  3.  8.  6.  8.  6.  7.  5.  6.  7.  3.  5.  9.\n",
      "  7.  6.  5.  7.  5.  6.  6.  6.  2.  3.  9.  7.  6.  7. 10.  6.  7.  4.\n",
      "  7.  3.  6.  8.  6.  2.  7.  6.  4.  3.  6.  7.  6.  8.  5.  4.  4.  7.\n",
      "  8.  7.  6.  4.  3.  7.  3.  4.  9.  2.  6.  4.  3.  7.  4.  3.  5.  4.\n",
      "  4.  4.  5.  4.  5.  4.  4.  6.  5.  6.  5.  7.  4.  7.  8. 10.  6.  6.\n",
      "  4.  5.  5.  7.  5. 10.  3.  8.  2.  5.  6.  7.  4.  8.  7.  6.  5.  6.\n",
      "  5.  6.  3.  6.  4.  6.  4.  9.  5.  5.  6.  3.  5.  5.  9.  7.  7.  7.\n",
      "  6.  5.  4.  6.  2.  2.  7.  5.  6.  7.  1.  5.  7.  3.  2.  4.  5.  7.\n",
      "  7.  5. 10.  5.  3.  8.  4.  8.  6.  7.  5.  6.  5.  3.  5.  3.  3.  4.\n",
      "  5.  5.  5.  6.  7.  6.  4.  5.  0.  7.  6.  7.  5.  4.  8.  6.  8.  8.\n",
      "  3.  4.  5.  6.  7.  6.  6.  9.  7.  6.  7.  6.  6.  6. 10.  3.  6.  4.\n",
      "  4.  7.  4.  4.  6.  5.  4.  2.  7.  8.  6.  6.  1.  5.  7.  8.  1.  3.\n",
      "  5.  7.  3.  4.  5.  3.  6.  5.  4.  7. 10.  7.  6.  3.  3.  3.  4.  2.\n",
      "  3.  3.  6.  5.  1.  6.  5.  7.  4.  3.  2.  7.  4.  3.  9.  4.  6.  6.\n",
      "  5.  4.  5.  2.  4.  9.  5.  7.  8.  3. 11.  5.  2.  5. 13.  4.  8.  5.\n",
      "  6.  5.  7.  3.  7.  3.  7.  7.  5. 11.  5.  3.  5.  3.  6.  4.  5.  7.\n",
      "  2.  2.  2.  4.  7.  7.  5.  4.  2.  2.  4.  6.  4.  4.  5.  5.  5.  4.\n",
      "  5.  4.  4.  3.  7.  3.  4.  3.  6.  3.  1.  6.  3.  3.  2.  3.  9.  5.\n",
      "  3.  6.  5.  6.  4.  4.  3.  5.  4.  7.  5.  6.  1.  5.  7.  4.  3.  4.\n",
      "  4.  4.  4.  5.  5.  7.  3.  9.  5.  5.  1.  5.  5.  4.  5.  6.  5.  4.\n",
      "  4.  2.  2.  1.  7.  5.  2.  3.  5.  3.  1.  4.  4.  3.  4.  1.  1.  4.\n",
      "  2.  0.  3.  4.]\n",
      "2018-05-08 10:59:35,812 Aris-MacBook-Pro.local QlearningForCellular[22317] INFO UEs SLA Stats: [165. 172. 175. 178. 181. 181. 182. 183. 184. 184. 184. 184. 182. 182.\n",
      " 183. 183. 183. 183. 182. 181. 182. 181. 182. 182. 182. 182. 182. 182.\n",
      " 182. 182. 181. 181. 180. 180. 180. 180. 181. 180. 180. 181. 181. 181.\n",
      " 181. 181. 181. 180. 180. 180. 180. 180. 179. 179. 179. 179. 179. 179.\n",
      " 179. 179. 179. 179. 179. 179. 179. 179. 179. 179. 178. 178. 179. 179.\n",
      " 179. 178. 178. 177. 178. 178. 179. 179. 179. 179. 179. 179. 179. 178.\n",
      " 178. 178. 178. 179. 179. 179. 179. 179. 179. 179. 179. 179. 179. 179.\n",
      " 180. 180. 180. 180. 180. 181. 180. 180. 180. 179. 179. 179. 178. 178.\n",
      " 178. 177. 176. 176. 176. 175. 175. 175. 175. 175. 176. 176. 177. 177.\n",
      " 177. 177. 177. 177. 178. 178. 177. 177. 179. 180. 180. 180. 181. 181.\n",
      " 181. 180. 180. 180. 180. 180. 180. 180. 180. 180. 180. 179. 179. 179.\n",
      " 179. 179. 179. 179. 180. 180. 180. 181. 181. 181. 181. 182. 182. 181.\n",
      " 181. 181. 180. 179. 181. 180. 179. 179. 179. 179. 179. 180. 180. 181.\n",
      " 181. 182. 182. 182. 180. 181. 181. 181. 181. 181. 182. 182. 181. 180.\n",
      " 180. 180. 181. 180. 180. 180. 179. 179. 177. 177. 179. 179. 179. 179.\n",
      " 179. 178. 179. 180. 180. 180. 180. 180. 180. 180. 180. 181. 182. 182.\n",
      " 182. 182. 182. 181. 181. 181. 181. 181. 181. 181. 181. 181. 181. 183.\n",
      " 184. 184. 184. 184. 184. 184. 184. 183. 184. 184. 184. 184. 183. 183.\n",
      " 184. 183. 183. 182. 182. 182. 183. 183. 183. 183. 183. 182. 183. 184.\n",
      " 185. 185. 184. 184. 183. 183. 182. 182. 182. 183. 182. 182. 182. 182.\n",
      " 182. 182. 181. 180. 180. 180. 180. 179. 179. 180. 180. 179. 179. 181.\n",
      " 181. 181. 181. 180. 183. 183. 183. 184. 184. 183. 183. 183. 184. 184.\n",
      " 183. 182. 183. 182. 183. 183. 183. 183. 183. 183. 183. 182. 183. 183.\n",
      " 183. 183. 183. 183. 183. 183. 183. 181. 181. 182. 182. 182. 182. 182.\n",
      " 180. 181. 182. 182. 182. 185. 185. 185. 186. 186. 187. 187. 187. 186.\n",
      " 187. 187. 189. 189. 190. 190. 190. 191. 190. 190. 189. 189. 190. 188.\n",
      " 189. 188. 188. 188. 187. 187. 188. 188. 188. 188. 188. 189. 189. 189.\n",
      " 188. 187. 187. 187. 187. 186. 186. 186. 186. 186. 186. 186. 186. 187.\n",
      " 187. 188. 188. 188. 190. 189. 189. 189.]\n",
      "2018-05-08 10:59:35,814 Aris-MacBook-Pro.local QlearningForCellular[22317] INFO Total number of states encountered: 2662\n"
     ]
    },
    {
     "name": "stdout",
     "output_type": "stream",
     "text": [
      "Module: run_experiment took: 203.312857s\n"
     ]
    },
    {
     "name": "stderr",
     "output_type": "stream",
     "text": [
      "[========================================================================] 100%\r\n"
     ]
    }
   ],
   "source": [
    "result = RAINMAN2.run_experiment(\"Cellular\", \"Qlearning\", \"Naive\")"
   ]
  },
  {
   "cell_type": "code",
   "execution_count": 7,
   "metadata": {},
   "outputs": [
    {
     "name": "stdout",
     "output_type": "stream",
     "text": [
      "Number of states encountered: 2662\n"
     ]
    }
   ],
   "source": [
    "print(\"Number of states encountered: {}\".format(len(result.Q)))"
   ]
  },
  {
   "cell_type": "code",
   "execution_count": 8,
   "metadata": {},
   "outputs": [
    {
     "name": "stdout",
     "output_type": "stream",
     "text": [
      "Number of q_ap_states encountered: 849\n"
     ]
    }
   ],
   "source": [
    "print(\"Number of q_ap_states encountered: {}\".format(len(result.Q_ap)))"
   ]
  },
  {
   "cell_type": "code",
   "execution_count": null,
   "metadata": {},
   "outputs": [],
   "source": [
    "print(result.Q)"
   ]
  },
  {
   "cell_type": "code",
   "execution_count": null,
   "metadata": {
    "scrolled": false
   },
   "outputs": [],
   "source": [
    "print(result.Q_ap)"
   ]
  },
  {
   "cell_type": "code",
   "execution_count": null,
   "metadata": {
    "scrolled": true
   },
   "outputs": [],
   "source": [
    "print(result.UE_AP_LIST)"
   ]
  },
  {
   "cell_type": "code",
   "execution_count": null,
   "metadata": {},
   "outputs": [],
   "source": []
  },
  {
   "cell_type": "code",
   "execution_count": 10,
   "metadata": {
    "scrolled": false
   },
   "outputs": [
    {
     "data": {
      "application/vnd.plotly.v1+json": {
       "data": [
        {
         "line": {
          "color": "green",
          "width": 2
         },
         "mode": "lines",
         "type": "scatter",
         "x": [
          600,
          768
         ],
         "y": [
          1400,
          1037
         ]
        },
        {
         "line": {
          "color": "green",
          "width": 2
         },
         "mode": "lines",
         "type": "scatter",
         "x": [
          600,
          806
         ],
         "y": [
          1000,
          660
         ]
        },
        {
         "line": {
          "color": "green",
          "width": 2
         },
         "mode": "lines",
         "type": "scatter",
         "x": [
          200,
          524
         ],
         "y": [
          600,
          823
         ]
        },
        {
         "line": {
          "color": "green",
          "width": 2
         },
         "mode": "lines",
         "type": "scatter",
         "x": [
          1000,
          705
         ],
         "y": [
          1400,
          1572
         ]
        },
        {
         "line": {
          "color": "green",
          "width": 2
         },
         "mode": "lines",
         "type": "scatter",
         "x": [
          1000,
          1079
         ],
         "y": [
          1000,
          1152
         ]
        },
        {
         "line": {
          "color": "green",
          "width": 2
         },
         "mode": "lines",
         "type": "scatter",
         "x": [
          1000,
          892
         ],
         "y": [
          200,
          530
         ]
        },
        {
         "line": {
          "color": "green",
          "width": 2
         },
         "mode": "lines",
         "type": "scatter",
         "x": [
          1000,
          672
         ],
         "y": [
          1400,
          1458
         ]
        },
        {
         "line": {
          "color": "green",
          "width": 2
         },
         "mode": "lines",
         "type": "scatter",
         "x": [
          600,
          823
         ],
         "y": [
          600,
          940
         ]
        },
        {
         "line": {
          "color": "green",
          "width": 2
         },
         "mode": "lines",
         "type": "scatter",
         "x": [
          200,
          566
         ],
         "y": [
          600,
          664
         ]
        },
        {
         "line": {
          "color": "green",
          "width": 2
         },
         "mode": "lines",
         "type": "scatter",
         "x": [
          1000,
          1150
         ],
         "y": [
          1400,
          1220
         ]
        },
        {
         "line": {
          "color": "green",
          "width": 2
         },
         "mode": "lines",
         "type": "scatter",
         "x": [
          1400,
          1413
         ],
         "y": [
          1000,
          1207
         ]
        },
        {
         "line": {
          "color": "green",
          "width": 2
         },
         "mode": "lines",
         "type": "scatter",
         "x": [
          200,
          422
         ],
         "y": [
          200,
          292
         ]
        },
        {
         "line": {
          "color": "green",
          "width": 2
         },
         "mode": "lines",
         "type": "scatter",
         "x": [
          1000,
          1045
         ],
         "y": [
          600,
          655
         ]
        },
        {
         "line": {
          "color": "green",
          "width": 2
         },
         "mode": "lines",
         "type": "scatter",
         "x": [
          1400,
          1374
         ],
         "y": [
          600,
          695
         ]
        },
        {
         "line": {
          "color": "green",
          "width": 2
         },
         "mode": "lines",
         "type": "scatter",
         "x": [
          200,
          116
         ],
         "y": [
          200,
          418
         ]
        },
        {
         "line": {
          "color": "green",
          "width": 2
         },
         "mode": "lines",
         "type": "scatter",
         "x": [
          200,
          185
         ],
         "y": [
          200,
          310
         ]
        },
        {
         "line": {
          "color": "green",
          "width": 2
         },
         "mode": "lines",
         "type": "scatter",
         "x": [
          1000,
          856
         ],
         "y": [
          600,
          897
         ]
        },
        {
         "line": {
          "color": "green",
          "width": 2
         },
         "mode": "lines",
         "type": "scatter",
         "x": [
          1400,
          1499
         ],
         "y": [
          600,
          536
         ]
        },
        {
         "line": {
          "color": "green",
          "width": 2
         },
         "mode": "lines",
         "type": "scatter",
         "x": [
          600,
          899
         ],
         "y": [
          600,
          963
         ]
        },
        {
         "line": {
          "color": "green",
          "width": 2
         },
         "mode": "lines",
         "type": "scatter",
         "x": [
          1000,
          1012
         ],
         "y": [
          600,
          513
         ]
        },
        {
         "line": {
          "color": "green",
          "width": 2
         },
         "mode": "lines",
         "type": "scatter",
         "x": [
          600,
          720
         ],
         "y": [
          200,
          557
         ]
        },
        {
         "line": {
          "color": "green",
          "width": 2
         },
         "mode": "lines",
         "type": "scatter",
         "x": [
          1000,
          937
         ],
         "y": [
          1000,
          1088
         ]
        },
        {
         "line": {
          "color": "green",
          "width": 2
         },
         "mode": "lines",
         "type": "scatter",
         "x": [
          600,
          876
         ],
         "y": [
          1400,
          1069
         ]
        },
        {
         "line": {
          "color": "green",
          "width": 2
         },
         "mode": "lines",
         "type": "scatter",
         "x": [
          1000,
          1200
         ],
         "y": [
          600,
          617
         ]
        },
        {
         "line": {
          "color": "green",
          "width": 2
         },
         "mode": "lines",
         "type": "scatter",
         "x": [
          200,
          179
         ],
         "y": [
          200,
          88
         ]
        },
        {
         "line": {
          "color": "green",
          "width": 2
         },
         "mode": "lines",
         "type": "scatter",
         "x": [
          1000,
          929
         ],
         "y": [
          600,
          951
         ]
        },
        {
         "line": {
          "color": "green",
          "width": 2
         },
         "mode": "lines",
         "type": "scatter",
         "x": [
          1000,
          1088
         ],
         "y": [
          1400,
          1298
         ]
        },
        {
         "line": {
          "color": "green",
          "width": 2
         },
         "mode": "lines",
         "type": "scatter",
         "x": [
          600,
          854
         ],
         "y": [
          600,
          392
         ]
        },
        {
         "line": {
          "color": "green",
          "width": 2
         },
         "mode": "lines",
         "type": "scatter",
         "x": [
          1000,
          803
         ],
         "y": [
          1000,
          1057
         ]
        },
        {
         "line": {
          "color": "green",
          "width": 2
         },
         "mode": "lines",
         "type": "scatter",
         "x": [
          1400,
          1117
         ],
         "y": [
          1400,
          1528
         ]
        },
        {
         "line": {
          "color": "green",
          "width": 2
         },
         "mode": "lines",
         "type": "scatter",
         "x": [
          600,
          384
         ],
         "y": [
          200,
          538
         ]
        },
        {
         "line": {
          "color": "red",
          "width": 2
         },
         "mode": "lines",
         "type": "scatter",
         "x": [
          600,
          698
         ],
         "y": [
          1000,
          1057
         ]
        },
        {
         "line": {
          "color": "green",
          "width": 2
         },
         "mode": "lines",
         "type": "scatter",
         "x": [
          600,
          727
         ],
         "y": [
          1400,
          1056
         ]
        },
        {
         "line": {
          "color": "green",
          "width": 2
         },
         "mode": "lines",
         "type": "scatter",
         "x": [
          600,
          295
         ],
         "y": [
          1400,
          1307
         ]
        },
        {
         "line": {
          "color": "green",
          "width": 2
         },
         "mode": "lines",
         "type": "scatter",
         "x": [
          600,
          958
         ],
         "y": [
          200,
          375
         ]
        },
        {
         "line": {
          "color": "green",
          "width": 2
         },
         "mode": "lines",
         "type": "scatter",
         "x": [
          200,
          452
         ],
         "y": [
          600,
          493
         ]
        },
        {
         "line": {
          "color": "green",
          "width": 2
         },
         "mode": "lines",
         "type": "scatter",
         "x": [
          600,
          408
         ],
         "y": [
          1400,
          1466
         ]
        },
        {
         "line": {
          "color": "green",
          "width": 2
         },
         "mode": "lines",
         "type": "scatter",
         "x": [
          600,
          982
         ],
         "y": [
          600,
          520
         ]
        },
        {
         "line": {
          "color": "green",
          "width": 2
         },
         "mode": "lines",
         "type": "scatter",
         "x": [
          600,
          685
         ],
         "y": [
          1000,
          700
         ]
        },
        {
         "line": {
          "color": "red",
          "width": 2
         },
         "mode": "lines",
         "type": "scatter",
         "x": [
          600,
          918
         ],
         "y": [
          600,
          544
         ]
        },
        {
         "line": {
          "color": "green",
          "width": 2
         },
         "mode": "lines",
         "type": "scatter",
         "x": [
          1000,
          1239
         ],
         "y": [
          200,
          593
         ]
        },
        {
         "line": {
          "color": "green",
          "width": 2
         },
         "mode": "lines",
         "type": "scatter",
         "x": [
          1400,
          1496
         ],
         "y": [
          1000,
          1009
         ]
        },
        {
         "line": {
          "color": "green",
          "width": 2
         },
         "mode": "lines",
         "type": "scatter",
         "x": [
          1000,
          834
         ],
         "y": [
          1400,
          1411
         ]
        },
        {
         "line": {
          "color": "green",
          "width": 2
         },
         "mode": "lines",
         "type": "scatter",
         "x": [
          1400,
          1240
         ],
         "y": [
          600,
          588
         ]
        },
        {
         "line": {
          "color": "green",
          "width": 2
         },
         "mode": "lines",
         "type": "scatter",
         "x": [
          200,
          130
         ],
         "y": [
          1400,
          1437
         ]
        },
        {
         "line": {
          "color": "green",
          "width": 2
         },
         "mode": "lines",
         "type": "scatter",
         "x": [
          1000,
          1250
         ],
         "y": [
          1400,
          1091
         ]
        },
        {
         "line": {
          "color": "green",
          "width": 2
         },
         "mode": "lines",
         "type": "scatter",
         "x": [
          1000,
          1388
         ],
         "y": [
          200,
          398
         ]
        },
        {
         "line": {
          "color": "green",
          "width": 2
         },
         "mode": "lines",
         "type": "scatter",
         "x": [
          1400,
          1081
         ],
         "y": [
          1400,
          1139
         ]
        },
        {
         "line": {
          "color": "red",
          "width": 2
         },
         "mode": "lines",
         "type": "scatter",
         "x": [
          1000,
          705
         ],
         "y": [
          600,
          736
         ]
        },
        {
         "line": {
          "color": "green",
          "width": 2
         },
         "mode": "lines",
         "type": "scatter",
         "x": [
          1400,
          1008
         ],
         "y": [
          1400,
          1018
         ]
        },
        {
         "line": {
          "color": "green",
          "width": 2
         },
         "mode": "lines",
         "type": "scatter",
         "x": [
          600,
          572
         ],
         "y": [
          200,
          557
         ]
        },
        {
         "line": {
          "color": "green",
          "width": 2
         },
         "mode": "lines",
         "type": "scatter",
         "x": [
          1000,
          979
         ],
         "y": [
          1000,
          1077
         ]
        },
        {
         "line": {
          "color": "green",
          "width": 2
         },
         "mode": "lines",
         "type": "scatter",
         "x": [
          200,
          23
         ],
         "y": [
          200,
          316
         ]
        },
        {
         "line": {
          "color": "green",
          "width": 2
         },
         "mode": "lines",
         "type": "scatter",
         "x": [
          600,
          785
         ],
         "y": [
          200,
          114
         ]
        },
        {
         "line": {
          "color": "green",
          "width": 2
         },
         "mode": "lines",
         "type": "scatter",
         "x": [
          1000,
          702
         ],
         "y": [
          1000,
          944
         ]
        },
        {
         "line": {
          "color": "green",
          "width": 2
         },
         "mode": "lines",
         "type": "scatter",
         "x": [
          200,
          47
         ],
         "y": [
          600,
          482
         ]
        },
        {
         "line": {
          "color": "green",
          "width": 2
         },
         "mode": "lines",
         "type": "scatter",
         "x": [
          1400,
          1499
         ],
         "y": [
          200,
          49
         ]
        },
        {
         "line": {
          "color": "green",
          "width": 2
         },
         "mode": "lines",
         "type": "scatter",
         "x": [
          1400,
          1134
         ],
         "y": [
          600,
          935
         ]
        },
        {
         "line": {
          "color": "green",
          "width": 2
         },
         "mode": "lines",
         "type": "scatter",
         "x": [
          600,
          543
         ],
         "y": [
          200,
          485
         ]
        },
        {
         "line": {
          "color": "green",
          "width": 2
         },
         "mode": "lines",
         "type": "scatter",
         "x": [
          1400,
          1370
         ],
         "y": [
          1400,
          1453
         ]
        },
        {
         "line": {
          "color": "green",
          "width": 2
         },
         "mode": "lines",
         "type": "scatter",
         "x": [
          200,
          562
         ],
         "y": [
          1000,
          805
         ]
        },
        {
         "line": {
          "color": "green",
          "width": 2
         },
         "mode": "lines",
         "type": "scatter",
         "x": [
          200,
          549
         ],
         "y": [
          1000,
          758
         ]
        },
        {
         "line": {
          "color": "green",
          "width": 2
         },
         "mode": "lines",
         "type": "scatter",
         "x": [
          1000,
          1065
         ],
         "y": [
          1000,
          1089
         ]
        },
        {
         "line": {
          "color": "green",
          "width": 2
         },
         "mode": "lines",
         "type": "scatter",
         "x": [
          1400,
          1385
         ],
         "y": [
          1400,
          1442
         ]
        },
        {
         "line": {
          "color": "red",
          "width": 2
         },
         "mode": "lines",
         "type": "scatter",
         "x": [
          600,
          753
         ],
         "y": [
          1000,
          823
         ]
        },
        {
         "line": {
          "color": "green",
          "width": 2
         },
         "mode": "lines",
         "type": "scatter",
         "x": [
          600,
          973
         ],
         "y": [
          1000,
          1119
         ]
        },
        {
         "line": {
          "color": "green",
          "width": 2
         },
         "mode": "lines",
         "type": "scatter",
         "x": [
          1000,
          798
         ],
         "y": [
          1000,
          905
         ]
        },
        {
         "line": {
          "color": "green",
          "width": 2
         },
         "mode": "lines",
         "type": "scatter",
         "x": [
          600,
          873
         ],
         "y": [
          200,
          566
         ]
        },
        {
         "line": {
          "color": "green",
          "width": 2
         },
         "mode": "lines",
         "type": "scatter",
         "x": [
          1400,
          1185
         ],
         "y": [
          1000,
          1271
         ]
        },
        {
         "line": {
          "color": "green",
          "width": 2
         },
         "mode": "lines",
         "type": "scatter",
         "x": [
          200,
          597
         ],
         "y": [
          1400,
          1459
         ]
        },
        {
         "line": {
          "color": "green",
          "width": 2
         },
         "mode": "lines",
         "type": "scatter",
         "x": [
          1000,
          1031
         ],
         "y": [
          600,
          411
         ]
        },
        {
         "line": {
          "color": "green",
          "width": 2
         },
         "mode": "lines",
         "type": "scatter",
         "x": [
          200,
          182
         ],
         "y": [
          1000,
          903
         ]
        },
        {
         "line": {
          "color": "green",
          "width": 2
         },
         "mode": "lines",
         "type": "scatter",
         "x": [
          1400,
          1393
         ],
         "y": [
          600,
          631
         ]
        },
        {
         "line": {
          "color": "green",
          "width": 2
         },
         "mode": "lines",
         "type": "scatter",
         "x": [
          200,
          488
         ],
         "y": [
          1400,
          1429
         ]
        },
        {
         "line": {
          "color": "green",
          "width": 2
         },
         "mode": "lines",
         "type": "scatter",
         "x": [
          1400,
          1057
         ],
         "y": [
          600,
          969
         ]
        },
        {
         "line": {
          "color": "green",
          "width": 2
         },
         "mode": "lines",
         "type": "scatter",
         "x": [
          200,
          67
         ],
         "y": [
          1000,
          960
         ]
        },
        {
         "line": {
          "color": "green",
          "width": 2
         },
         "mode": "lines",
         "type": "scatter",
         "x": [
          200,
          80
         ],
         "y": [
          1000,
          647
         ]
        },
        {
         "line": {
          "color": "green",
          "width": 2
         },
         "mode": "lines",
         "type": "scatter",
         "x": [
          200,
          365
         ],
         "y": [
          200,
          587
         ]
        },
        {
         "line": {
          "color": "green",
          "width": 2
         },
         "mode": "lines",
         "type": "scatter",
         "x": [
          200,
          293
         ],
         "y": [
          600,
          489
         ]
        },
        {
         "line": {
          "color": "green",
          "width": 2
         },
         "mode": "lines",
         "type": "scatter",
         "x": [
          200,
          477
         ],
         "y": [
          1000,
          1385
         ]
        },
        {
         "line": {
          "color": "red",
          "width": 2
         },
         "mode": "lines",
         "type": "scatter",
         "x": [
          1000,
          739
         ],
         "y": [
          1000,
          692
         ]
        },
        {
         "line": {
          "color": "green",
          "width": 2
         },
         "mode": "lines",
         "type": "scatter",
         "x": [
          600,
          739
         ],
         "y": [
          1400,
          1009
         ]
        },
        {
         "line": {
          "color": "green",
          "width": 2
         },
         "mode": "lines",
         "type": "scatter",
         "x": [
          600,
          848
         ],
         "y": [
          600,
          781
         ]
        },
        {
         "line": {
          "color": "green",
          "width": 2
         },
         "mode": "lines",
         "type": "scatter",
         "x": [
          1000,
          1352
         ],
         "y": [
          200,
          568
         ]
        },
        {
         "line": {
          "color": "green",
          "width": 2
         },
         "mode": "lines",
         "type": "scatter",
         "x": [
          200,
          102
         ],
         "y": [
          600,
          415
         ]
        },
        {
         "line": {
          "color": "green",
          "width": 2
         },
         "mode": "lines",
         "type": "scatter",
         "x": [
          1400,
          1094
         ],
         "y": [
          1400,
          1026
         ]
        },
        {
         "line": {
          "color": "green",
          "width": 2
         },
         "mode": "lines",
         "type": "scatter",
         "x": [
          600,
          989
         ],
         "y": [
          600,
          819
         ]
        },
        {
         "line": {
          "color": "green",
          "width": 2
         },
         "mode": "lines",
         "type": "scatter",
         "x": [
          200,
          80
         ],
         "y": [
          600,
          770
         ]
        },
        {
         "line": {
          "color": "green",
          "width": 2
         },
         "mode": "lines",
         "type": "scatter",
         "x": [
          200,
          56
         ],
         "y": [
          1000,
          1143
         ]
        },
        {
         "line": {
          "color": "red",
          "width": 2
         },
         "mode": "lines",
         "type": "scatter",
         "x": [
          1000,
          793
         ],
         "y": [
          600,
          697
         ]
        },
        {
         "line": {
          "color": "green",
          "width": 2
         },
         "mode": "lines",
         "type": "scatter",
         "x": [
          200,
          558
         ],
         "y": [
          200,
          581
         ]
        },
        {
         "line": {
          "color": "green",
          "width": 2
         },
         "mode": "lines",
         "type": "scatter",
         "x": [
          200,
          189
         ],
         "y": [
          200,
          212
         ]
        },
        {
         "line": {
          "color": "green",
          "width": 2
         },
         "mode": "lines",
         "type": "scatter",
         "x": [
          1000,
          608
         ],
         "y": [
          1000,
          1323
         ]
        },
        {
         "line": {
          "color": "green",
          "width": 2
         },
         "mode": "lines",
         "type": "scatter",
         "x": [
          1000,
          1335
         ],
         "y": [
          1400,
          1403
         ]
        },
        {
         "line": {
          "color": "green",
          "width": 2
         },
         "mode": "lines",
         "type": "scatter",
         "x": [
          1000,
          1293
         ],
         "y": [
          200,
          27
         ]
        },
        {
         "line": {
          "color": "green",
          "width": 2
         },
         "mode": "lines",
         "type": "scatter",
         "x": [
          1000,
          1032
         ],
         "y": [
          200,
          471
         ]
        },
        {
         "line": {
          "color": "green",
          "width": 2
         },
         "mode": "lines",
         "type": "scatter",
         "x": [
          1000,
          1305
         ],
         "y": [
          200,
          264
         ]
        },
        {
         "line": {
          "color": "red",
          "width": 2
         },
         "mode": "lines",
         "type": "scatter",
         "x": [
          600,
          908
         ],
         "y": [
          1000,
          839
         ]
        },
        {
         "line": {
          "color": "red",
          "width": 2
         },
         "mode": "lines",
         "type": "scatter",
         "x": [
          600,
          926
         ],
         "y": [
          600,
          663
         ]
        },
        {
         "line": {
          "color": "green",
          "width": 2
         },
         "mode": "lines",
         "type": "scatter",
         "x": [
          600,
          590
         ],
         "y": [
          200,
          58
         ]
        },
        {
         "line": {
          "color": "green",
          "width": 2
         },
         "mode": "lines",
         "type": "scatter",
         "x": [
          600,
          863
         ],
         "y": [
          600,
          697
         ]
        },
        {
         "line": {
          "color": "green",
          "width": 2
         },
         "mode": "lines",
         "type": "scatter",
         "x": [
          600,
          753
         ],
         "y": [
          600,
          557
         ]
        },
        {
         "line": {
          "color": "green",
          "width": 2
         },
         "mode": "lines",
         "type": "scatter",
         "x": [
          600,
          694
         ],
         "y": [
          1000,
          815
         ]
        },
        {
         "line": {
          "color": "green",
          "width": 2
         },
         "mode": "lines",
         "type": "scatter",
         "x": [
          600,
          971
         ],
         "y": [
          1000,
          709
         ]
        },
        {
         "line": {
          "color": "green",
          "width": 2
         },
         "mode": "lines",
         "type": "scatter",
         "x": [
          1000,
          1034
         ],
         "y": [
          200,
          543
         ]
        },
        {
         "line": {
          "color": "green",
          "width": 2
         },
         "mode": "lines",
         "type": "scatter",
         "x": [
          1000,
          733
         ],
         "y": [
          1000,
          1020
         ]
        },
        {
         "line": {
          "color": "green",
          "width": 2
         },
         "mode": "lines",
         "type": "scatter",
         "x": [
          600,
          864
         ],
         "y": [
          1000,
          627
         ]
        },
        {
         "line": {
          "color": "green",
          "width": 2
         },
         "mode": "lines",
         "type": "scatter",
         "x": [
          600,
          946
         ],
         "y": [
          600,
          674
         ]
        },
        {
         "line": {
          "color": "green",
          "width": 2
         },
         "mode": "lines",
         "type": "scatter",
         "x": [
          1000,
          850
         ],
         "y": [
          200,
          248
         ]
        },
        {
         "line": {
          "color": "green",
          "width": 2
         },
         "mode": "lines",
         "type": "scatter",
         "x": [
          1400,
          1259
         ],
         "y": [
          1000,
          619
         ]
        },
        {
         "line": {
          "color": "green",
          "width": 2
         },
         "mode": "lines",
         "type": "scatter",
         "x": [
          600,
          715
         ],
         "y": [
          600,
          843
         ]
        },
        {
         "line": {
          "color": "green",
          "width": 2
         },
         "mode": "lines",
         "type": "scatter",
         "x": [
          1000,
          906
         ],
         "y": [
          1000,
          741
         ]
        },
        {
         "line": {
          "color": "green",
          "width": 2
         },
         "mode": "lines",
         "type": "scatter",
         "x": [
          1400,
          1029
         ],
         "y": [
          600,
          736
         ]
        },
        {
         "line": {
          "color": "green",
          "width": 2
         },
         "mode": "lines",
         "type": "scatter",
         "x": [
          1000,
          617
         ],
         "y": [
          1400,
          1089
         ]
        },
        {
         "line": {
          "color": "green",
          "width": 2
         },
         "mode": "lines",
         "type": "scatter",
         "x": [
          600,
          231
         ],
         "y": [
          1000,
          1338
         ]
        },
        {
         "line": {
          "color": "green",
          "width": 2
         },
         "mode": "lines",
         "type": "scatter",
         "x": [
          1000,
          864
         ],
         "y": [
          1000,
          938
         ]
        },
        {
         "line": {
          "color": "green",
          "width": 2
         },
         "mode": "lines",
         "type": "scatter",
         "x": [
          1000,
          979
         ],
         "y": [
          200,
          146
         ]
        },
        {
         "line": {
          "color": "green",
          "width": 2
         },
         "mode": "lines",
         "type": "scatter",
         "x": [
          200,
          276
         ],
         "y": [
          1400,
          1505
         ]
        },
        {
         "line": {
          "color": "green",
          "width": 2
         },
         "mode": "lines",
         "type": "scatter",
         "x": [
          600,
          669
         ],
         "y": [
          200,
          288
         ]
        },
        {
         "line": {
          "color": "green",
          "width": 2
         },
         "mode": "lines",
         "type": "scatter",
         "x": [
          600,
          806
         ],
         "y": [
          200,
          466
         ]
        },
        {
         "line": {
          "color": "green",
          "width": 2
         },
         "mode": "lines",
         "type": "scatter",
         "x": [
          1400,
          1567
         ],
         "y": [
          600,
          317
         ]
        },
        {
         "line": {
          "color": "green",
          "width": 2
         },
         "mode": "lines",
         "type": "scatter",
         "x": [
          1400,
          1073
         ],
         "y": [
          200,
          531
         ]
        },
        {
         "line": {
          "color": "green",
          "width": 2
         },
         "mode": "lines",
         "type": "scatter",
         "x": [
          600,
          791
         ],
         "y": [
          1400,
          1093
         ]
        },
        {
         "line": {
          "color": "green",
          "width": 2
         },
         "mode": "lines",
         "type": "scatter",
         "x": [
          600,
          921
         ],
         "y": [
          1000,
          875
         ]
        },
        {
         "line": {
          "color": "green",
          "width": 2
         },
         "mode": "lines",
         "type": "scatter",
         "x": [
          600,
          750
         ],
         "y": [
          600,
          888
         ]
        },
        {
         "line": {
          "color": "green",
          "width": 2
         },
         "mode": "lines",
         "type": "scatter",
         "x": [
          1400,
          1496
         ],
         "y": [
          200,
          269
         ]
        },
        {
         "line": {
          "color": "green",
          "width": 2
         },
         "mode": "lines",
         "type": "scatter",
         "x": [
          200,
          279
         ],
         "y": [
          200,
          155
         ]
        },
        {
         "line": {
          "color": "green",
          "width": 2
         },
         "mode": "lines",
         "type": "scatter",
         "x": [
          600,
          868
         ],
         "y": [
          200,
          51
         ]
        },
        {
         "line": {
          "color": "green",
          "width": 2
         },
         "mode": "lines",
         "type": "scatter",
         "x": [
          200,
          108
         ],
         "y": [
          200,
          117
         ]
        },
        {
         "line": {
          "color": "green",
          "width": 2
         },
         "mode": "lines",
         "type": "scatter",
         "x": [
          1000,
          915
         ],
         "y": [
          200,
          333
         ]
        },
        {
         "line": {
          "color": "green",
          "width": 2
         },
         "mode": "lines",
         "type": "scatter",
         "x": [
          200,
          533
         ],
         "y": [
          1000,
          954
         ]
        },
        {
         "line": {
          "color": "green",
          "width": 2
         },
         "mode": "lines",
         "type": "scatter",
         "x": [
          200,
          571
         ],
         "y": [
          1000,
          717
         ]
        },
        {
         "line": {
          "color": "green",
          "width": 2
         },
         "mode": "lines",
         "type": "scatter",
         "x": [
          1000,
          810
         ],
         "y": [
          200,
          143
         ]
        },
        {
         "line": {
          "color": "green",
          "width": 2
         },
         "mode": "lines",
         "type": "scatter",
         "x": [
          1000,
          753
         ],
         "y": [
          1400,
          1382
         ]
        },
        {
         "line": {
          "color": "green",
          "width": 2
         },
         "mode": "lines",
         "type": "scatter",
         "x": [
          1400,
          1151
         ],
         "y": [
          600,
          717
         ]
        },
        {
         "line": {
          "color": "green",
          "width": 2
         },
         "mode": "lines",
         "type": "scatter",
         "x": [
          200,
          503
         ],
         "y": [
          600,
          703
         ]
        },
        {
         "line": {
          "color": "green",
          "width": 2
         },
         "mode": "lines",
         "type": "scatter",
         "x": [
          200,
          565
         ],
         "y": [
          1000,
          899
         ]
        },
        {
         "line": {
          "color": "green",
          "width": 2
         },
         "mode": "lines",
         "type": "scatter",
         "x": [
          1000,
          1020
         ],
         "y": [
          1400,
          1062
         ]
        },
        {
         "line": {
          "color": "green",
          "width": 2
         },
         "mode": "lines",
         "type": "scatter",
         "x": [
          1400,
          1344
         ],
         "y": [
          1000,
          1378
         ]
        },
        {
         "line": {
          "color": "green",
          "width": 2
         },
         "mode": "lines",
         "type": "scatter",
         "x": [
          600,
          421
         ],
         "y": [
          1400,
          1553
         ]
        },
        {
         "line": {
          "color": "green",
          "width": 2
         },
         "mode": "lines",
         "type": "scatter",
         "x": [
          200,
          97
         ],
         "y": [
          1000,
          1067
         ]
        },
        {
         "line": {
          "color": "green",
          "width": 2
         },
         "mode": "lines",
         "type": "scatter",
         "x": [
          1000,
          1293
         ],
         "y": [
          1400,
          1488
         ]
        },
        {
         "line": {
          "color": "green",
          "width": 2
         },
         "mode": "lines",
         "type": "scatter",
         "x": [
          1400,
          1480
         ],
         "y": [
          1000,
          1179
         ]
        },
        {
         "line": {
          "color": "green",
          "width": 2
         },
         "mode": "lines",
         "type": "scatter",
         "x": [
          200,
          559
         ],
         "y": [
          600,
          677
         ]
        },
        {
         "line": {
          "color": "green",
          "width": 2
         },
         "mode": "lines",
         "type": "scatter",
         "x": [
          200,
          24
         ],
         "y": [
          1000,
          1016
         ]
        },
        {
         "line": {
          "color": "green",
          "width": 2
         },
         "mode": "lines",
         "type": "scatter",
         "x": [
          1400,
          1456
         ],
         "y": [
          200,
          556
         ]
        },
        {
         "line": {
          "color": "green",
          "width": 2
         },
         "mode": "lines",
         "type": "scatter",
         "x": [
          1400,
          1132
         ],
         "y": [
          1000,
          800
         ]
        },
        {
         "line": {
          "color": "green",
          "width": 2
         },
         "mode": "lines",
         "type": "scatter",
         "x": [
          1000,
          686
         ],
         "y": [
          200,
          523
         ]
        },
        {
         "line": {
          "color": "green",
          "width": 2
         },
         "mode": "lines",
         "type": "scatter",
         "x": [
          1000,
          1247
         ],
         "y": [
          1400,
          1535
         ]
        },
        {
         "line": {
          "color": "green",
          "width": 2
         },
         "mode": "lines",
         "type": "scatter",
         "x": [
          1400,
          1049
         ],
         "y": [
          1000,
          753
         ]
        },
        {
         "line": {
          "color": "green",
          "width": 2
         },
         "mode": "lines",
         "type": "scatter",
         "x": [
          1000,
          1258
         ],
         "y": [
          200,
          29
         ]
        },
        {
         "line": {
          "color": "green",
          "width": 2
         },
         "mode": "lines",
         "type": "scatter",
         "x": [
          200,
          490
         ],
         "y": [
          1000,
          871
         ]
        },
        {
         "line": {
          "color": "green",
          "width": 2
         },
         "mode": "lines",
         "type": "scatter",
         "x": [
          200,
          98
         ],
         "y": [
          1400,
          1414
         ]
        },
        {
         "line": {
          "color": "red",
          "width": 2
         },
         "mode": "lines",
         "type": "scatter",
         "x": [
          1000,
          716
         ],
         "y": [
          1000,
          937
         ]
        },
        {
         "line": {
          "color": "green",
          "width": 2
         },
         "mode": "lines",
         "type": "scatter",
         "x": [
          1000,
          715
         ],
         "y": [
          1400,
          1548
         ]
        },
        {
         "line": {
          "color": "green",
          "width": 2
         },
         "mode": "lines",
         "type": "scatter",
         "x": [
          600,
          473
         ],
         "y": [
          600,
          765
         ]
        },
        {
         "line": {
          "color": "green",
          "width": 2
         },
         "mode": "lines",
         "type": "scatter",
         "x": [
          1000,
          924
         ],
         "y": [
          200,
          575
         ]
        },
        {
         "line": {
          "color": "green",
          "width": 2
         },
         "mode": "lines",
         "type": "scatter",
         "x": [
          1000,
          718
         ],
         "y": [
          1000,
          851
         ]
        },
        {
         "line": {
          "color": "green",
          "width": 2
         },
         "mode": "lines",
         "type": "scatter",
         "x": [
          1400,
          1150
         ],
         "y": [
          1000,
          829
         ]
        },
        {
         "line": {
          "color": "green",
          "width": 2
         },
         "mode": "lines",
         "type": "scatter",
         "x": [
          1400,
          1075
         ],
         "y": [
          600,
          846
         ]
        },
        {
         "line": {
          "color": "green",
          "width": 2
         },
         "mode": "lines",
         "type": "scatter",
         "x": [
          1400,
          1462
         ],
         "y": [
          1000,
          756
         ]
        },
        {
         "line": {
          "color": "green",
          "width": 2
         },
         "mode": "lines",
         "type": "scatter",
         "x": [
          600,
          397
         ],
         "y": [
          1000,
          1131
         ]
        },
        {
         "line": {
          "color": "red",
          "width": 2
         },
         "mode": "lines",
         "type": "scatter",
         "x": [
          1000,
          791
         ],
         "y": [
          600,
          644
         ]
        },
        {
         "line": {
          "color": "green",
          "width": 2
         },
         "mode": "lines",
         "type": "scatter",
         "x": [
          1400,
          1250
         ],
         "y": [
          1400,
          1468
         ]
        },
        {
         "line": {
          "color": "green",
          "width": 2
         },
         "mode": "lines",
         "type": "scatter",
         "x": [
          200,
          286
         ],
         "y": [
          1000,
          854
         ]
        },
        {
         "line": {
          "color": "green",
          "width": 2
         },
         "mode": "lines",
         "type": "scatter",
         "x": [
          200,
          131
         ],
         "y": [
          1400,
          1565
         ]
        },
        {
         "line": {
          "color": "green",
          "width": 2
         },
         "mode": "lines",
         "type": "scatter",
         "x": [
          1000,
          1014
         ],
         "y": [
          600,
          802
         ]
        },
        {
         "line": {
          "color": "green",
          "width": 2
         },
         "mode": "lines",
         "type": "scatter",
         "x": [
          200,
          275
         ],
         "y": [
          200,
          157
         ]
        },
        {
         "line": {
          "color": "green",
          "width": 2
         },
         "mode": "lines",
         "type": "scatter",
         "x": [
          600,
          935
         ],
         "y": [
          1000,
          760
         ]
        },
        {
         "line": {
          "color": "green",
          "width": 2
         },
         "mode": "lines",
         "type": "scatter",
         "x": [
          600,
          402
         ],
         "y": [
          600,
          904
         ]
        },
        {
         "line": {
          "color": "green",
          "width": 2
         },
         "mode": "lines",
         "type": "scatter",
         "x": [
          1000,
          823
         ],
         "y": [
          600,
          808
         ]
        },
        {
         "line": {
          "color": "green",
          "width": 2
         },
         "mode": "lines",
         "type": "scatter",
         "x": [
          1400,
          1084
         ],
         "y": [
          600,
          948
         ]
        },
        {
         "line": {
          "color": "green",
          "width": 2
         },
         "mode": "lines",
         "type": "scatter",
         "x": [
          600,
          380
         ],
         "y": [
          200,
          104
         ]
        },
        {
         "line": {
          "color": "green",
          "width": 2
         },
         "mode": "lines",
         "type": "scatter",
         "x": [
          1400,
          1425
         ],
         "y": [
          200,
          285
         ]
        },
        {
         "line": {
          "color": "green",
          "width": 2
         },
         "mode": "lines",
         "type": "scatter",
         "x": [
          1400,
          1097
         ],
         "y": [
          1000,
          669
         ]
        },
        {
         "line": {
          "color": "green",
          "width": 2
         },
         "mode": "lines",
         "type": "scatter",
         "x": [
          200,
          523
         ],
         "y": [
          600,
          435
         ]
        },
        {
         "line": {
          "color": "green",
          "width": 2
         },
         "mode": "lines",
         "type": "scatter",
         "x": [
          1000,
          684
         ],
         "y": [
          200,
          147
         ]
        },
        {
         "line": {
          "color": "green",
          "width": 2
         },
         "mode": "lines",
         "type": "scatter",
         "x": [
          1400,
          1063
         ],
         "y": [
          1400,
          1032
         ]
        },
        {
         "line": {
          "color": "green",
          "width": 2
         },
         "mode": "lines",
         "type": "scatter",
         "x": [
          1000,
          1067
         ],
         "y": [
          200,
          34
         ]
        },
        {
         "line": {
          "color": "red",
          "width": 2
         },
         "mode": "lines",
         "type": "scatter",
         "x": [
          600,
          950
         ],
         "y": [
          200,
          548
         ]
        },
        {
         "line": {
          "color": "green",
          "width": 2
         },
         "mode": "lines",
         "type": "scatter",
         "x": [
          1000,
          891
         ],
         "y": [
          600,
          546
         ]
        },
        {
         "line": {
          "color": "green",
          "width": 2
         },
         "mode": "lines",
         "type": "scatter",
         "x": [
          600,
          540
         ],
         "y": [
          1400,
          1479
         ]
        },
        {
         "line": {
          "color": "green",
          "width": 2
         },
         "mode": "lines",
         "type": "scatter",
         "x": [
          1000,
          1149
         ],
         "y": [
          200,
          229
         ]
        },
        {
         "line": {
          "color": "green",
          "width": 2
         },
         "mode": "lines",
         "type": "scatter",
         "x": [
          600,
          790
         ],
         "y": [
          600,
          744
         ]
        },
        {
         "line": {
          "color": "green",
          "width": 2
         },
         "mode": "lines",
         "type": "scatter",
         "x": [
          1400,
          1515
         ],
         "y": [
          200,
          326
         ]
        },
        {
         "line": {
          "color": "green",
          "width": 2
         },
         "mode": "lines",
         "type": "scatter",
         "x": [
          1000,
          1048
         ],
         "y": [
          200,
          7
         ]
        },
        {
         "line": {
          "color": "green",
          "width": 2
         },
         "mode": "lines",
         "type": "scatter",
         "x": [
          600,
          215
         ],
         "y": [
          1400,
          1470
         ]
        },
        {
         "line": {
          "color": "green",
          "width": 2
         },
         "mode": "lines",
         "type": "scatter",
         "x": [
          1000,
          1241
         ],
         "y": [
          600,
          868
         ]
        },
        {
         "line": {
          "color": "green",
          "width": 2
         },
         "mode": "lines",
         "type": "scatter",
         "x": [
          600,
          924
         ],
         "y": [
          200,
          580
         ]
        },
        {
         "line": {
          "color": "red",
          "width": 2
         },
         "mode": "lines",
         "type": "scatter",
         "x": [
          600,
          858
         ],
         "y": [
          600,
          930
         ]
        },
        {
         "line": {
          "color": "green",
          "width": 2
         },
         "mode": "lines",
         "type": "scatter",
         "x": [
          600,
          778
         ],
         "y": [
          200,
          530
         ]
        },
        {
         "line": {
          "color": "green",
          "width": 2
         },
         "mode": "lines",
         "type": "scatter",
         "x": [
          600,
          814
         ],
         "y": [
          1400,
          1046
         ]
        },
        {
         "line": {
          "color": "green",
          "width": 2
         },
         "mode": "lines",
         "type": "scatter",
         "x": [
          600,
          767
         ],
         "y": [
          200,
          419
         ]
        },
        {
         "line": {
          "color": "green",
          "width": 2
         },
         "mode": "lines",
         "type": "scatter",
         "x": [
          600,
          310
         ],
         "y": [
          1400,
          1023
         ]
        },
        {
         "line": {
          "color": "green",
          "width": 2
         },
         "mode": "lines",
         "type": "scatter",
         "x": [
          600,
          743
         ],
         "y": [
          600,
          353
         ]
        },
        {
         "line": {
          "color": "green",
          "width": 2
         },
         "mode": "lines",
         "type": "scatter",
         "x": [
          1400,
          1014
         ],
         "y": [
          1000,
          637
         ]
        },
        {
         "line": {
          "color": "green",
          "width": 2
         },
         "mode": "lines",
         "type": "scatter",
         "x": [
          1400,
          1401
         ],
         "y": [
          1000,
          1313
         ]
        },
        {
         "line": {
          "color": "green",
          "width": 2
         },
         "mode": "lines",
         "type": "scatter",
         "x": [
          1400,
          1551
         ],
         "y": [
          600,
          617
         ]
        },
        {
         "line": {
          "color": "green",
          "width": 2
         },
         "mode": "lines",
         "type": "scatter",
         "x": [
          1400,
          1026
         ],
         "y": [
          1000,
          1194
         ]
        },
        {
         "line": {
          "color": "green",
          "width": 2
         },
         "mode": "lines",
         "type": "scatter",
         "x": [
          200,
          79
         ],
         "y": [
          600,
          864
         ]
        },
        {
         "marker": {
          "color": [
           "orange",
           "orange",
           "orange",
           "orange",
           "orange",
           "orange",
           "orange",
           "orange",
           "orange",
           "orange",
           "orange",
           "orange",
           "orange",
           "orange",
           "orange",
           "orange",
           "blue",
           "magenta",
           "blue",
           "magenta",
           "magenta",
           "blue",
           "magenta",
           "blue",
           "blue",
           "magenta",
           "magenta",
           "magenta",
           "blue",
           "magenta",
           "magenta",
           "magenta",
           "magenta",
           "magenta",
           "magenta",
           "blue",
           "magenta",
           "blue",
           "blue",
           "magenta",
           "magenta",
           "blue",
           "magenta",
           "magenta",
           "blue",
           "magenta",
           "magenta",
           "blue",
           "magenta",
           "magenta",
           "magenta",
           "magenta",
           "magenta",
           "blue",
           "blue",
           "blue",
           "magenta",
           "magenta",
           "magenta",
           "magenta",
           "magenta",
           "magenta",
           "magenta",
           "magenta",
           "blue",
           "blue",
           "magenta",
           "blue",
           "magenta",
           "magenta",
           "blue",
           "magenta",
           "magenta",
           "magenta",
           "magenta",
           "magenta",
           "blue",
           "blue",
           "magenta",
           "magenta",
           "blue",
           "magenta",
           "blue",
           "magenta",
           "magenta",
           "magenta",
           "magenta",
           "magenta",
           "magenta",
           "magenta",
           "blue",
           "magenta",
           "magenta",
           "magenta",
           "magenta",
           "magenta",
           "blue",
           "blue",
           "magenta",
           "magenta",
           "magenta",
           "blue",
           "blue",
           "magenta",
           "magenta",
           "blue",
           "blue",
           "magenta",
           "magenta",
           "magenta",
           "magenta",
           "magenta",
           "magenta",
           "blue",
           "blue",
           "magenta",
           "blue",
           "magenta",
           "blue",
           "blue",
           "blue",
           "blue",
           "blue",
           "blue",
           "magenta",
           "magenta",
           "magenta",
           "magenta",
           "blue",
           "blue",
           "magenta",
           "blue",
           "magenta",
           "magenta",
           "magenta",
           "magenta",
           "magenta",
           "blue",
           "blue",
           "blue",
           "blue",
           "magenta",
           "magenta",
           "magenta",
           "magenta",
           "magenta",
           "magenta",
           "blue",
           "magenta",
           "magenta",
           "magenta",
           "blue",
           "blue",
           "magenta",
           "magenta",
           "magenta",
           "magenta",
           "magenta",
           "magenta",
           "blue",
           "magenta",
           "magenta",
           "magenta",
           "magenta",
           "magenta",
           "blue",
           "magenta",
           "magenta",
           "magenta",
           "blue",
           "magenta",
           "magenta",
           "magenta",
           "magenta",
           "magenta",
           "blue",
           "magenta",
           "magenta",
           "blue",
           "magenta",
           "magenta",
           "magenta",
           "magenta",
           "magenta",
           "blue",
           "magenta",
           "magenta",
           "blue",
           "magenta",
           "magenta",
           "blue",
           "magenta",
           "magenta",
           "blue",
           "magenta",
           "blue",
           "blue",
           "magenta",
           "magenta",
           "blue",
           "magenta",
           "magenta",
           "magenta",
           "magenta",
           "magenta",
           "blue",
           "blue",
           "blue",
           "magenta",
           "magenta",
           "magenta",
           "blue",
           "magenta",
           "magenta",
           "magenta",
           "magenta"
          ],
          "size": 8
         },
         "mode": "markers",
         "type": "scatter",
         "x": [
          200,
          200,
          200,
          200,
          600,
          600,
          600,
          600,
          1000,
          1000,
          1000,
          1000,
          1400,
          1400,
          1400,
          1400,
          768,
          806,
          524,
          705,
          1079,
          892,
          672,
          823,
          566,
          1150,
          1413,
          422,
          1045,
          1374,
          116,
          185,
          856,
          1499,
          899,
          1012,
          720,
          937,
          876,
          1200,
          179,
          929,
          1088,
          854,
          803,
          1117,
          384,
          698,
          727,
          295,
          958,
          452,
          408,
          982,
          685,
          918,
          1239,
          1496,
          834,
          1240,
          130,
          1250,
          1388,
          1081,
          705,
          1008,
          572,
          979,
          23,
          785,
          702,
          47,
          1499,
          1134,
          543,
          1370,
          562,
          549,
          1065,
          1385,
          753,
          973,
          798,
          873,
          1185,
          597,
          1031,
          182,
          1393,
          488,
          1057,
          67,
          80,
          365,
          293,
          477,
          739,
          739,
          848,
          1352,
          102,
          1094,
          989,
          80,
          56,
          793,
          558,
          189,
          608,
          1335,
          1293,
          1032,
          1305,
          908,
          926,
          590,
          863,
          753,
          694,
          971,
          1034,
          733,
          864,
          946,
          850,
          1259,
          715,
          906,
          1029,
          617,
          231,
          864,
          979,
          276,
          669,
          806,
          1567,
          1073,
          791,
          921,
          750,
          1496,
          279,
          868,
          108,
          915,
          533,
          571,
          810,
          753,
          1151,
          503,
          565,
          1020,
          1344,
          421,
          97,
          1293,
          1480,
          559,
          24,
          1456,
          1132,
          686,
          1247,
          1049,
          1258,
          490,
          98,
          716,
          715,
          473,
          924,
          718,
          1150,
          1075,
          1462,
          397,
          791,
          1250,
          286,
          131,
          1014,
          275,
          935,
          402,
          823,
          1084,
          380,
          1425,
          1097,
          523,
          684,
          1063,
          1067,
          950,
          891,
          540,
          1149,
          790,
          1515,
          1048,
          215,
          1241,
          924,
          858,
          778,
          814,
          767,
          310,
          743,
          1014,
          1401,
          1551,
          1026,
          79
         ],
         "y": [
          200,
          600,
          1000,
          1400,
          200,
          600,
          1000,
          1400,
          200,
          600,
          1000,
          1400,
          200,
          600,
          1000,
          1400,
          1037,
          660,
          823,
          1572,
          1152,
          530,
          1458,
          940,
          664,
          1220,
          1207,
          292,
          655,
          695,
          418,
          310,
          897,
          536,
          963,
          513,
          557,
          1088,
          1069,
          617,
          88,
          951,
          1298,
          392,
          1057,
          1528,
          538,
          1057,
          1056,
          1307,
          375,
          493,
          1466,
          520,
          700,
          544,
          593,
          1009,
          1411,
          588,
          1437,
          1091,
          398,
          1139,
          736,
          1018,
          557,
          1077,
          316,
          114,
          944,
          482,
          49,
          935,
          485,
          1453,
          805,
          758,
          1089,
          1442,
          823,
          1119,
          905,
          566,
          1271,
          1459,
          411,
          903,
          631,
          1429,
          969,
          960,
          647,
          587,
          489,
          1385,
          692,
          1009,
          781,
          568,
          415,
          1026,
          819,
          770,
          1143,
          697,
          581,
          212,
          1323,
          1403,
          27,
          471,
          264,
          839,
          663,
          58,
          697,
          557,
          815,
          709,
          543,
          1020,
          627,
          674,
          248,
          619,
          843,
          741,
          736,
          1089,
          1338,
          938,
          146,
          1505,
          288,
          466,
          317,
          531,
          1093,
          875,
          888,
          269,
          155,
          51,
          117,
          333,
          954,
          717,
          143,
          1382,
          717,
          703,
          899,
          1062,
          1378,
          1553,
          1067,
          1488,
          1179,
          677,
          1016,
          556,
          800,
          523,
          1535,
          753,
          29,
          871,
          1414,
          937,
          1548,
          765,
          575,
          851,
          829,
          846,
          756,
          1131,
          644,
          1468,
          854,
          1565,
          802,
          157,
          760,
          904,
          808,
          948,
          104,
          285,
          669,
          435,
          147,
          1032,
          34,
          548,
          546,
          1479,
          229,
          744,
          326,
          7,
          1470,
          868,
          580,
          930,
          530,
          1046,
          419,
          1023,
          353,
          637,
          1313,
          617,
          1194,
          864
         ]
        }
       ],
       "layout": {
        "height": 600,
        "showlegend": false,
        "title": "UE and AP Distribution in the grid",
        "width": 800,
        "xaxis": {
         "range": [
          0,
          1600
         ],
         "title": "x"
        },
        "yaxis": {
         "range": [
          0,
          1600
         ],
         "title": "y"
        }
       }
      },
      "text/html": [
       "<div id=\"f586175e-0033-432b-98fd-a1bdc59e3145\" style=\"height: 600px; width: 800px;\" class=\"plotly-graph-div\"></div><script type=\"text/javascript\">require([\"plotly\"], function(Plotly) { window.PLOTLYENV=window.PLOTLYENV || {};window.PLOTLYENV.BASE_URL=\"https://plot.ly\";Plotly.newPlot(\"f586175e-0033-432b-98fd-a1bdc59e3145\", [{\"type\": \"scatter\", \"x\": [600.0, 768], \"y\": [1400.0, 1037], \"mode\": \"lines\", \"line\": {\"width\": 2, \"color\": \"green\"}}, {\"type\": \"scatter\", \"x\": [600.0, 806], \"y\": [1000.0, 660], \"mode\": \"lines\", \"line\": {\"width\": 2, \"color\": \"green\"}}, {\"type\": \"scatter\", \"x\": [200.0, 524], \"y\": [600.0, 823], \"mode\": \"lines\", \"line\": {\"width\": 2, \"color\": \"green\"}}, {\"type\": \"scatter\", \"x\": [1000.0, 705], \"y\": [1400.0, 1572], \"mode\": \"lines\", \"line\": {\"width\": 2, \"color\": \"green\"}}, {\"type\": \"scatter\", \"x\": [1000.0, 1079], \"y\": [1000.0, 1152], \"mode\": \"lines\", \"line\": {\"width\": 2, \"color\": \"green\"}}, {\"type\": \"scatter\", \"x\": [1000.0, 892], \"y\": [200.0, 530], \"mode\": \"lines\", \"line\": {\"width\": 2, \"color\": \"green\"}}, {\"type\": \"scatter\", \"x\": [1000.0, 672], \"y\": [1400.0, 1458], \"mode\": \"lines\", \"line\": {\"width\": 2, \"color\": \"green\"}}, {\"type\": \"scatter\", \"x\": [600.0, 823], \"y\": [600.0, 940], \"mode\": \"lines\", \"line\": {\"width\": 2, \"color\": \"green\"}}, {\"type\": \"scatter\", \"x\": [200.0, 566], \"y\": [600.0, 664], \"mode\": \"lines\", \"line\": {\"width\": 2, \"color\": \"green\"}}, {\"type\": \"scatter\", \"x\": [1000.0, 1150], \"y\": [1400.0, 1220], \"mode\": \"lines\", \"line\": {\"width\": 2, \"color\": \"green\"}}, {\"type\": \"scatter\", \"x\": [1400.0, 1413], \"y\": [1000.0, 1207], \"mode\": \"lines\", \"line\": {\"width\": 2, \"color\": \"green\"}}, {\"type\": \"scatter\", \"x\": [200.0, 422], \"y\": [200.0, 292], \"mode\": \"lines\", \"line\": {\"width\": 2, \"color\": \"green\"}}, {\"type\": \"scatter\", \"x\": [1000.0, 1045], \"y\": [600.0, 655], \"mode\": \"lines\", \"line\": {\"width\": 2, \"color\": \"green\"}}, {\"type\": \"scatter\", \"x\": [1400.0, 1374], \"y\": [600.0, 695], \"mode\": \"lines\", \"line\": {\"width\": 2, \"color\": \"green\"}}, {\"type\": \"scatter\", \"x\": [200.0, 116], \"y\": [200.0, 418], \"mode\": \"lines\", \"line\": {\"width\": 2, \"color\": \"green\"}}, {\"type\": \"scatter\", \"x\": [200.0, 185], \"y\": [200.0, 310], \"mode\": \"lines\", \"line\": {\"width\": 2, \"color\": \"green\"}}, {\"type\": \"scatter\", \"x\": [1000.0, 856], \"y\": [600.0, 897], \"mode\": \"lines\", \"line\": {\"width\": 2, \"color\": \"green\"}}, {\"type\": \"scatter\", \"x\": [1400.0, 1499], \"y\": [600.0, 536], \"mode\": \"lines\", \"line\": {\"width\": 2, \"color\": \"green\"}}, {\"type\": \"scatter\", \"x\": [600.0, 899], \"y\": [600.0, 963], \"mode\": \"lines\", \"line\": {\"width\": 2, \"color\": \"green\"}}, {\"type\": \"scatter\", \"x\": [1000.0, 1012], \"y\": [600.0, 513], \"mode\": \"lines\", \"line\": {\"width\": 2, \"color\": \"green\"}}, {\"type\": \"scatter\", \"x\": [600.0, 720], \"y\": [200.0, 557], \"mode\": \"lines\", \"line\": {\"width\": 2, \"color\": \"green\"}}, {\"type\": \"scatter\", \"x\": [1000.0, 937], \"y\": [1000.0, 1088], \"mode\": \"lines\", \"line\": {\"width\": 2, \"color\": \"green\"}}, {\"type\": \"scatter\", \"x\": [600.0, 876], \"y\": [1400.0, 1069], \"mode\": \"lines\", \"line\": {\"width\": 2, \"color\": \"green\"}}, {\"type\": \"scatter\", \"x\": [1000.0, 1200], \"y\": [600.0, 617], \"mode\": \"lines\", \"line\": {\"width\": 2, \"color\": \"green\"}}, {\"type\": \"scatter\", \"x\": [200.0, 179], \"y\": [200.0, 88], \"mode\": \"lines\", \"line\": {\"width\": 2, \"color\": \"green\"}}, {\"type\": \"scatter\", \"x\": [1000.0, 929], \"y\": [600.0, 951], \"mode\": \"lines\", \"line\": {\"width\": 2, \"color\": \"green\"}}, {\"type\": \"scatter\", \"x\": [1000.0, 1088], \"y\": [1400.0, 1298], \"mode\": \"lines\", \"line\": {\"width\": 2, \"color\": \"green\"}}, {\"type\": \"scatter\", \"x\": [600.0, 854], \"y\": [600.0, 392], \"mode\": \"lines\", \"line\": {\"width\": 2, \"color\": \"green\"}}, {\"type\": \"scatter\", \"x\": [1000.0, 803], \"y\": [1000.0, 1057], \"mode\": \"lines\", \"line\": {\"width\": 2, \"color\": \"green\"}}, {\"type\": \"scatter\", \"x\": [1400.0, 1117], \"y\": [1400.0, 1528], \"mode\": \"lines\", \"line\": {\"width\": 2, \"color\": \"green\"}}, {\"type\": \"scatter\", \"x\": [600.0, 384], \"y\": [200.0, 538], \"mode\": \"lines\", \"line\": {\"width\": 2, \"color\": \"green\"}}, {\"type\": \"scatter\", \"x\": [600.0, 698], \"y\": [1000.0, 1057], \"mode\": \"lines\", \"line\": {\"width\": 2, \"color\": \"red\"}}, {\"type\": \"scatter\", \"x\": [600.0, 727], \"y\": [1400.0, 1056], \"mode\": \"lines\", \"line\": {\"width\": 2, \"color\": \"green\"}}, {\"type\": \"scatter\", \"x\": [600.0, 295], \"y\": [1400.0, 1307], \"mode\": \"lines\", \"line\": {\"width\": 2, \"color\": \"green\"}}, {\"type\": \"scatter\", \"x\": [600.0, 958], \"y\": [200.0, 375], \"mode\": \"lines\", \"line\": {\"width\": 2, \"color\": \"green\"}}, {\"type\": \"scatter\", \"x\": [200.0, 452], \"y\": [600.0, 493], \"mode\": \"lines\", \"line\": {\"width\": 2, \"color\": \"green\"}}, {\"type\": \"scatter\", \"x\": [600.0, 408], \"y\": [1400.0, 1466], \"mode\": \"lines\", \"line\": {\"width\": 2, \"color\": \"green\"}}, {\"type\": \"scatter\", \"x\": [600.0, 982], \"y\": [600.0, 520], \"mode\": \"lines\", \"line\": {\"width\": 2, \"color\": \"green\"}}, {\"type\": \"scatter\", \"x\": [600.0, 685], \"y\": [1000.0, 700], \"mode\": \"lines\", \"line\": {\"width\": 2, \"color\": \"green\"}}, {\"type\": \"scatter\", \"x\": [600.0, 918], \"y\": [600.0, 544], \"mode\": \"lines\", \"line\": {\"width\": 2, \"color\": \"red\"}}, {\"type\": \"scatter\", \"x\": [1000.0, 1239], \"y\": [200.0, 593], \"mode\": \"lines\", \"line\": {\"width\": 2, \"color\": \"green\"}}, {\"type\": \"scatter\", \"x\": [1400.0, 1496], \"y\": [1000.0, 1009], \"mode\": \"lines\", \"line\": {\"width\": 2, \"color\": \"green\"}}, {\"type\": \"scatter\", \"x\": [1000.0, 834], \"y\": [1400.0, 1411], \"mode\": \"lines\", \"line\": {\"width\": 2, \"color\": \"green\"}}, {\"type\": \"scatter\", \"x\": [1400.0, 1240], \"y\": [600.0, 588], \"mode\": \"lines\", \"line\": {\"width\": 2, \"color\": \"green\"}}, {\"type\": \"scatter\", \"x\": [200.0, 130], \"y\": [1400.0, 1437], \"mode\": \"lines\", \"line\": {\"width\": 2, \"color\": \"green\"}}, {\"type\": \"scatter\", \"x\": [1000.0, 1250], \"y\": [1400.0, 1091], \"mode\": \"lines\", \"line\": {\"width\": 2, \"color\": \"green\"}}, {\"type\": \"scatter\", \"x\": [1000.0, 1388], \"y\": [200.0, 398], \"mode\": \"lines\", \"line\": {\"width\": 2, \"color\": \"green\"}}, {\"type\": \"scatter\", \"x\": [1400.0, 1081], \"y\": [1400.0, 1139], \"mode\": \"lines\", \"line\": {\"width\": 2, \"color\": \"green\"}}, {\"type\": \"scatter\", \"x\": [1000.0, 705], \"y\": [600.0, 736], \"mode\": \"lines\", \"line\": {\"width\": 2, \"color\": \"red\"}}, {\"type\": \"scatter\", \"x\": [1400.0, 1008], \"y\": [1400.0, 1018], \"mode\": \"lines\", \"line\": {\"width\": 2, \"color\": \"green\"}}, {\"type\": \"scatter\", \"x\": [600.0, 572], \"y\": [200.0, 557], \"mode\": \"lines\", \"line\": {\"width\": 2, \"color\": \"green\"}}, {\"type\": \"scatter\", \"x\": [1000.0, 979], \"y\": [1000.0, 1077], \"mode\": \"lines\", \"line\": {\"width\": 2, \"color\": \"green\"}}, {\"type\": \"scatter\", \"x\": [200.0, 23], \"y\": [200.0, 316], \"mode\": \"lines\", \"line\": {\"width\": 2, \"color\": \"green\"}}, {\"type\": \"scatter\", \"x\": [600.0, 785], \"y\": [200.0, 114], \"mode\": \"lines\", \"line\": {\"width\": 2, \"color\": \"green\"}}, {\"type\": \"scatter\", \"x\": [1000.0, 702], \"y\": [1000.0, 944], \"mode\": \"lines\", \"line\": {\"width\": 2, \"color\": \"green\"}}, {\"type\": \"scatter\", \"x\": [200.0, 47], \"y\": [600.0, 482], \"mode\": \"lines\", \"line\": {\"width\": 2, \"color\": \"green\"}}, {\"type\": \"scatter\", \"x\": [1400.0, 1499], \"y\": [200.0, 49], \"mode\": \"lines\", \"line\": {\"width\": 2, \"color\": \"green\"}}, {\"type\": \"scatter\", \"x\": [1400.0, 1134], \"y\": [600.0, 935], \"mode\": \"lines\", \"line\": {\"width\": 2, \"color\": \"green\"}}, {\"type\": \"scatter\", \"x\": [600.0, 543], \"y\": [200.0, 485], \"mode\": \"lines\", \"line\": {\"width\": 2, \"color\": \"green\"}}, {\"type\": \"scatter\", \"x\": [1400.0, 1370], \"y\": [1400.0, 1453], \"mode\": \"lines\", \"line\": {\"width\": 2, \"color\": \"green\"}}, {\"type\": \"scatter\", \"x\": [200.0, 562], \"y\": [1000.0, 805], \"mode\": \"lines\", \"line\": {\"width\": 2, \"color\": \"green\"}}, {\"type\": \"scatter\", \"x\": [200.0, 549], \"y\": [1000.0, 758], \"mode\": \"lines\", \"line\": {\"width\": 2, \"color\": \"green\"}}, {\"type\": \"scatter\", \"x\": [1000.0, 1065], \"y\": [1000.0, 1089], \"mode\": \"lines\", \"line\": {\"width\": 2, \"color\": \"green\"}}, {\"type\": \"scatter\", \"x\": [1400.0, 1385], \"y\": [1400.0, 1442], \"mode\": \"lines\", \"line\": {\"width\": 2, \"color\": \"green\"}}, {\"type\": \"scatter\", \"x\": [600.0, 753], \"y\": [1000.0, 823], \"mode\": \"lines\", \"line\": {\"width\": 2, \"color\": \"red\"}}, {\"type\": \"scatter\", \"x\": [600.0, 973], \"y\": [1000.0, 1119], \"mode\": \"lines\", \"line\": {\"width\": 2, \"color\": \"green\"}}, {\"type\": \"scatter\", \"x\": [1000.0, 798], \"y\": [1000.0, 905], \"mode\": \"lines\", \"line\": {\"width\": 2, \"color\": \"green\"}}, {\"type\": \"scatter\", \"x\": [600.0, 873], \"y\": [200.0, 566], \"mode\": \"lines\", \"line\": {\"width\": 2, \"color\": \"green\"}}, {\"type\": \"scatter\", \"x\": [1400.0, 1185], \"y\": [1000.0, 1271], \"mode\": \"lines\", \"line\": {\"width\": 2, \"color\": \"green\"}}, {\"type\": \"scatter\", \"x\": [200.0, 597], \"y\": [1400.0, 1459], \"mode\": \"lines\", \"line\": {\"width\": 2, \"color\": \"green\"}}, {\"type\": \"scatter\", \"x\": [1000.0, 1031], \"y\": [600.0, 411], \"mode\": \"lines\", \"line\": {\"width\": 2, \"color\": \"green\"}}, {\"type\": \"scatter\", \"x\": [200.0, 182], \"y\": [1000.0, 903], \"mode\": \"lines\", \"line\": {\"width\": 2, \"color\": \"green\"}}, {\"type\": \"scatter\", \"x\": [1400.0, 1393], \"y\": [600.0, 631], \"mode\": \"lines\", \"line\": {\"width\": 2, \"color\": \"green\"}}, {\"type\": \"scatter\", \"x\": [200.0, 488], \"y\": [1400.0, 1429], \"mode\": \"lines\", \"line\": {\"width\": 2, \"color\": \"green\"}}, {\"type\": \"scatter\", \"x\": [1400.0, 1057], \"y\": [600.0, 969], \"mode\": \"lines\", \"line\": {\"width\": 2, \"color\": \"green\"}}, {\"type\": \"scatter\", \"x\": [200.0, 67], \"y\": [1000.0, 960], \"mode\": \"lines\", \"line\": {\"width\": 2, \"color\": \"green\"}}, {\"type\": \"scatter\", \"x\": [200.0, 80], \"y\": [1000.0, 647], \"mode\": \"lines\", \"line\": {\"width\": 2, \"color\": \"green\"}}, {\"type\": \"scatter\", \"x\": [200.0, 365], \"y\": [200.0, 587], \"mode\": \"lines\", \"line\": {\"width\": 2, \"color\": \"green\"}}, {\"type\": \"scatter\", \"x\": [200.0, 293], \"y\": [600.0, 489], \"mode\": \"lines\", \"line\": {\"width\": 2, \"color\": \"green\"}}, {\"type\": \"scatter\", \"x\": [200.0, 477], \"y\": [1000.0, 1385], \"mode\": \"lines\", \"line\": {\"width\": 2, \"color\": \"green\"}}, {\"type\": \"scatter\", \"x\": [1000.0, 739], \"y\": [1000.0, 692], \"mode\": \"lines\", \"line\": {\"width\": 2, \"color\": \"red\"}}, {\"type\": \"scatter\", \"x\": [600.0, 739], \"y\": [1400.0, 1009], \"mode\": \"lines\", \"line\": {\"width\": 2, \"color\": \"green\"}}, {\"type\": \"scatter\", \"x\": [600.0, 848], \"y\": [600.0, 781], \"mode\": \"lines\", \"line\": {\"width\": 2, \"color\": \"green\"}}, {\"type\": \"scatter\", \"x\": [1000.0, 1352], \"y\": [200.0, 568], \"mode\": \"lines\", \"line\": {\"width\": 2, \"color\": \"green\"}}, {\"type\": \"scatter\", \"x\": [200.0, 102], \"y\": [600.0, 415], \"mode\": \"lines\", \"line\": {\"width\": 2, \"color\": \"green\"}}, {\"type\": \"scatter\", \"x\": [1400.0, 1094], \"y\": [1400.0, 1026], \"mode\": \"lines\", \"line\": {\"width\": 2, \"color\": \"green\"}}, {\"type\": \"scatter\", \"x\": [600.0, 989], \"y\": [600.0, 819], \"mode\": \"lines\", \"line\": {\"width\": 2, \"color\": \"green\"}}, {\"type\": \"scatter\", \"x\": [200.0, 80], \"y\": [600.0, 770], \"mode\": \"lines\", \"line\": {\"width\": 2, \"color\": \"green\"}}, {\"type\": \"scatter\", \"x\": [200.0, 56], \"y\": [1000.0, 1143], \"mode\": \"lines\", \"line\": {\"width\": 2, \"color\": \"green\"}}, {\"type\": \"scatter\", \"x\": [1000.0, 793], \"y\": [600.0, 697], \"mode\": \"lines\", \"line\": {\"width\": 2, \"color\": \"red\"}}, {\"type\": \"scatter\", \"x\": [200.0, 558], \"y\": [200.0, 581], \"mode\": \"lines\", \"line\": {\"width\": 2, \"color\": \"green\"}}, {\"type\": \"scatter\", \"x\": [200.0, 189], \"y\": [200.0, 212], \"mode\": \"lines\", \"line\": {\"width\": 2, \"color\": \"green\"}}, {\"type\": \"scatter\", \"x\": [1000.0, 608], \"y\": [1000.0, 1323], \"mode\": \"lines\", \"line\": {\"width\": 2, \"color\": \"green\"}}, {\"type\": \"scatter\", \"x\": [1000.0, 1335], \"y\": [1400.0, 1403], \"mode\": \"lines\", \"line\": {\"width\": 2, \"color\": \"green\"}}, {\"type\": \"scatter\", \"x\": [1000.0, 1293], \"y\": [200.0, 27], \"mode\": \"lines\", \"line\": {\"width\": 2, \"color\": \"green\"}}, {\"type\": \"scatter\", \"x\": [1000.0, 1032], \"y\": [200.0, 471], \"mode\": \"lines\", \"line\": {\"width\": 2, \"color\": \"green\"}}, {\"type\": \"scatter\", \"x\": [1000.0, 1305], \"y\": [200.0, 264], \"mode\": \"lines\", \"line\": {\"width\": 2, \"color\": \"green\"}}, {\"type\": \"scatter\", \"x\": [600.0, 908], \"y\": [1000.0, 839], \"mode\": \"lines\", \"line\": {\"width\": 2, \"color\": \"red\"}}, {\"type\": \"scatter\", \"x\": [600.0, 926], \"y\": [600.0, 663], \"mode\": \"lines\", \"line\": {\"width\": 2, \"color\": \"red\"}}, {\"type\": \"scatter\", \"x\": [600.0, 590], \"y\": [200.0, 58], \"mode\": \"lines\", \"line\": {\"width\": 2, \"color\": \"green\"}}, {\"type\": \"scatter\", \"x\": [600.0, 863], \"y\": [600.0, 697], \"mode\": \"lines\", \"line\": {\"width\": 2, \"color\": \"green\"}}, {\"type\": \"scatter\", \"x\": [600.0, 753], \"y\": [600.0, 557], \"mode\": \"lines\", \"line\": {\"width\": 2, \"color\": \"green\"}}, {\"type\": \"scatter\", \"x\": [600.0, 694], \"y\": [1000.0, 815], \"mode\": \"lines\", \"line\": {\"width\": 2, \"color\": \"green\"}}, {\"type\": \"scatter\", \"x\": [600.0, 971], \"y\": [1000.0, 709], \"mode\": \"lines\", \"line\": {\"width\": 2, \"color\": \"green\"}}, {\"type\": \"scatter\", \"x\": [1000.0, 1034], \"y\": [200.0, 543], \"mode\": \"lines\", \"line\": {\"width\": 2, \"color\": \"green\"}}, {\"type\": \"scatter\", \"x\": [1000.0, 733], \"y\": [1000.0, 1020], \"mode\": \"lines\", \"line\": {\"width\": 2, \"color\": \"green\"}}, {\"type\": \"scatter\", \"x\": [600.0, 864], \"y\": [1000.0, 627], \"mode\": \"lines\", \"line\": {\"width\": 2, \"color\": \"green\"}}, {\"type\": \"scatter\", \"x\": [600.0, 946], \"y\": [600.0, 674], \"mode\": \"lines\", \"line\": {\"width\": 2, \"color\": \"green\"}}, {\"type\": \"scatter\", \"x\": [1000.0, 850], \"y\": [200.0, 248], \"mode\": \"lines\", \"line\": {\"width\": 2, \"color\": \"green\"}}, {\"type\": \"scatter\", \"x\": [1400.0, 1259], \"y\": [1000.0, 619], \"mode\": \"lines\", \"line\": {\"width\": 2, \"color\": \"green\"}}, {\"type\": \"scatter\", \"x\": [600.0, 715], \"y\": [600.0, 843], \"mode\": \"lines\", \"line\": {\"width\": 2, \"color\": \"green\"}}, {\"type\": \"scatter\", \"x\": [1000.0, 906], \"y\": [1000.0, 741], \"mode\": \"lines\", \"line\": {\"width\": 2, \"color\": \"green\"}}, {\"type\": \"scatter\", \"x\": [1400.0, 1029], \"y\": [600.0, 736], \"mode\": \"lines\", \"line\": {\"width\": 2, \"color\": \"green\"}}, {\"type\": \"scatter\", \"x\": [1000.0, 617], \"y\": [1400.0, 1089], \"mode\": \"lines\", \"line\": {\"width\": 2, \"color\": \"green\"}}, {\"type\": \"scatter\", \"x\": [600.0, 231], \"y\": [1000.0, 1338], \"mode\": \"lines\", \"line\": {\"width\": 2, \"color\": \"green\"}}, {\"type\": \"scatter\", \"x\": [1000.0, 864], \"y\": [1000.0, 938], \"mode\": \"lines\", \"line\": {\"width\": 2, \"color\": \"green\"}}, {\"type\": \"scatter\", \"x\": [1000.0, 979], \"y\": [200.0, 146], \"mode\": \"lines\", \"line\": {\"width\": 2, \"color\": \"green\"}}, {\"type\": \"scatter\", \"x\": [200.0, 276], \"y\": [1400.0, 1505], \"mode\": \"lines\", \"line\": {\"width\": 2, \"color\": \"green\"}}, {\"type\": \"scatter\", \"x\": [600.0, 669], \"y\": [200.0, 288], \"mode\": \"lines\", \"line\": {\"width\": 2, \"color\": \"green\"}}, {\"type\": \"scatter\", \"x\": [600.0, 806], \"y\": [200.0, 466], \"mode\": \"lines\", \"line\": {\"width\": 2, \"color\": \"green\"}}, {\"type\": \"scatter\", \"x\": [1400.0, 1567], \"y\": [600.0, 317], \"mode\": \"lines\", \"line\": {\"width\": 2, \"color\": \"green\"}}, {\"type\": \"scatter\", \"x\": [1400.0, 1073], \"y\": [200.0, 531], \"mode\": \"lines\", \"line\": {\"width\": 2, \"color\": \"green\"}}, {\"type\": \"scatter\", \"x\": [600.0, 791], \"y\": [1400.0, 1093], \"mode\": \"lines\", \"line\": {\"width\": 2, \"color\": \"green\"}}, {\"type\": \"scatter\", \"x\": [600.0, 921], \"y\": [1000.0, 875], \"mode\": \"lines\", \"line\": {\"width\": 2, \"color\": \"green\"}}, {\"type\": \"scatter\", \"x\": [600.0, 750], \"y\": [600.0, 888], \"mode\": \"lines\", \"line\": {\"width\": 2, \"color\": \"green\"}}, {\"type\": \"scatter\", \"x\": [1400.0, 1496], \"y\": [200.0, 269], \"mode\": \"lines\", \"line\": {\"width\": 2, \"color\": \"green\"}}, {\"type\": \"scatter\", \"x\": [200.0, 279], \"y\": [200.0, 155], \"mode\": \"lines\", \"line\": {\"width\": 2, \"color\": \"green\"}}, {\"type\": \"scatter\", \"x\": [600.0, 868], \"y\": [200.0, 51], \"mode\": \"lines\", \"line\": {\"width\": 2, \"color\": \"green\"}}, {\"type\": \"scatter\", \"x\": [200.0, 108], \"y\": [200.0, 117], \"mode\": \"lines\", \"line\": {\"width\": 2, \"color\": \"green\"}}, {\"type\": \"scatter\", \"x\": [1000.0, 915], \"y\": [200.0, 333], \"mode\": \"lines\", \"line\": {\"width\": 2, \"color\": \"green\"}}, {\"type\": \"scatter\", \"x\": [200.0, 533], \"y\": [1000.0, 954], \"mode\": \"lines\", \"line\": {\"width\": 2, \"color\": \"green\"}}, {\"type\": \"scatter\", \"x\": [200.0, 571], \"y\": [1000.0, 717], \"mode\": \"lines\", \"line\": {\"width\": 2, \"color\": \"green\"}}, {\"type\": \"scatter\", \"x\": [1000.0, 810], \"y\": [200.0, 143], \"mode\": \"lines\", \"line\": {\"width\": 2, \"color\": \"green\"}}, {\"type\": \"scatter\", \"x\": [1000.0, 753], \"y\": [1400.0, 1382], \"mode\": \"lines\", \"line\": {\"width\": 2, \"color\": \"green\"}}, {\"type\": \"scatter\", \"x\": [1400.0, 1151], \"y\": [600.0, 717], \"mode\": \"lines\", \"line\": {\"width\": 2, \"color\": \"green\"}}, {\"type\": \"scatter\", \"x\": [200.0, 503], \"y\": [600.0, 703], \"mode\": \"lines\", \"line\": {\"width\": 2, \"color\": \"green\"}}, {\"type\": \"scatter\", \"x\": [200.0, 565], \"y\": [1000.0, 899], \"mode\": \"lines\", \"line\": {\"width\": 2, \"color\": \"green\"}}, {\"type\": \"scatter\", \"x\": [1000.0, 1020], \"y\": [1400.0, 1062], \"mode\": \"lines\", \"line\": {\"width\": 2, \"color\": \"green\"}}, {\"type\": \"scatter\", \"x\": [1400.0, 1344], \"y\": [1000.0, 1378], \"mode\": \"lines\", \"line\": {\"width\": 2, \"color\": \"green\"}}, {\"type\": \"scatter\", \"x\": [600.0, 421], \"y\": [1400.0, 1553], \"mode\": \"lines\", \"line\": {\"width\": 2, \"color\": \"green\"}}, {\"type\": \"scatter\", \"x\": [200.0, 97], \"y\": [1000.0, 1067], \"mode\": \"lines\", \"line\": {\"width\": 2, \"color\": \"green\"}}, {\"type\": \"scatter\", \"x\": [1000.0, 1293], \"y\": [1400.0, 1488], \"mode\": \"lines\", \"line\": {\"width\": 2, \"color\": \"green\"}}, {\"type\": \"scatter\", \"x\": [1400.0, 1480], \"y\": [1000.0, 1179], \"mode\": \"lines\", \"line\": {\"width\": 2, \"color\": \"green\"}}, {\"type\": \"scatter\", \"x\": [200.0, 559], \"y\": [600.0, 677], \"mode\": \"lines\", \"line\": {\"width\": 2, \"color\": \"green\"}}, {\"type\": \"scatter\", \"x\": [200.0, 24], \"y\": [1000.0, 1016], \"mode\": \"lines\", \"line\": {\"width\": 2, \"color\": \"green\"}}, {\"type\": \"scatter\", \"x\": [1400.0, 1456], \"y\": [200.0, 556], \"mode\": \"lines\", \"line\": {\"width\": 2, \"color\": \"green\"}}, {\"type\": \"scatter\", \"x\": [1400.0, 1132], \"y\": [1000.0, 800], \"mode\": \"lines\", \"line\": {\"width\": 2, \"color\": \"green\"}}, {\"type\": \"scatter\", \"x\": [1000.0, 686], \"y\": [200.0, 523], \"mode\": \"lines\", \"line\": {\"width\": 2, \"color\": \"green\"}}, {\"type\": \"scatter\", \"x\": [1000.0, 1247], \"y\": [1400.0, 1535], \"mode\": \"lines\", \"line\": {\"width\": 2, \"color\": \"green\"}}, {\"type\": \"scatter\", \"x\": [1400.0, 1049], \"y\": [1000.0, 753], \"mode\": \"lines\", \"line\": {\"width\": 2, \"color\": \"green\"}}, {\"type\": \"scatter\", \"x\": [1000.0, 1258], \"y\": [200.0, 29], \"mode\": \"lines\", \"line\": {\"width\": 2, \"color\": \"green\"}}, {\"type\": \"scatter\", \"x\": [200.0, 490], \"y\": [1000.0, 871], \"mode\": \"lines\", \"line\": {\"width\": 2, \"color\": \"green\"}}, {\"type\": \"scatter\", \"x\": [200.0, 98], \"y\": [1400.0, 1414], \"mode\": \"lines\", \"line\": {\"width\": 2, \"color\": \"green\"}}, {\"type\": \"scatter\", \"x\": [1000.0, 716], \"y\": [1000.0, 937], \"mode\": \"lines\", \"line\": {\"width\": 2, \"color\": \"red\"}}, {\"type\": \"scatter\", \"x\": [1000.0, 715], \"y\": [1400.0, 1548], \"mode\": \"lines\", \"line\": {\"width\": 2, \"color\": \"green\"}}, {\"type\": \"scatter\", \"x\": [600.0, 473], \"y\": [600.0, 765], \"mode\": \"lines\", \"line\": {\"width\": 2, \"color\": \"green\"}}, {\"type\": \"scatter\", \"x\": [1000.0, 924], \"y\": [200.0, 575], \"mode\": \"lines\", \"line\": {\"width\": 2, \"color\": \"green\"}}, {\"type\": \"scatter\", \"x\": [1000.0, 718], \"y\": [1000.0, 851], \"mode\": \"lines\", \"line\": {\"width\": 2, \"color\": \"green\"}}, {\"type\": \"scatter\", \"x\": [1400.0, 1150], \"y\": [1000.0, 829], \"mode\": \"lines\", \"line\": {\"width\": 2, \"color\": \"green\"}}, {\"type\": \"scatter\", \"x\": [1400.0, 1075], \"y\": [600.0, 846], \"mode\": \"lines\", \"line\": {\"width\": 2, \"color\": \"green\"}}, {\"type\": \"scatter\", \"x\": [1400.0, 1462], \"y\": [1000.0, 756], \"mode\": \"lines\", \"line\": {\"width\": 2, \"color\": \"green\"}}, {\"type\": \"scatter\", \"x\": [600.0, 397], \"y\": [1000.0, 1131], \"mode\": \"lines\", \"line\": {\"width\": 2, \"color\": \"green\"}}, {\"type\": \"scatter\", \"x\": [1000.0, 791], \"y\": [600.0, 644], \"mode\": \"lines\", \"line\": {\"width\": 2, \"color\": \"red\"}}, {\"type\": \"scatter\", \"x\": [1400.0, 1250], \"y\": [1400.0, 1468], \"mode\": \"lines\", \"line\": {\"width\": 2, \"color\": \"green\"}}, {\"type\": \"scatter\", \"x\": [200.0, 286], \"y\": [1000.0, 854], \"mode\": \"lines\", \"line\": {\"width\": 2, \"color\": \"green\"}}, {\"type\": \"scatter\", \"x\": [200.0, 131], \"y\": [1400.0, 1565], \"mode\": \"lines\", \"line\": {\"width\": 2, \"color\": \"green\"}}, {\"type\": \"scatter\", \"x\": [1000.0, 1014], \"y\": [600.0, 802], \"mode\": \"lines\", \"line\": {\"width\": 2, \"color\": \"green\"}}, {\"type\": \"scatter\", \"x\": [200.0, 275], \"y\": [200.0, 157], \"mode\": \"lines\", \"line\": {\"width\": 2, \"color\": \"green\"}}, {\"type\": \"scatter\", \"x\": [600.0, 935], \"y\": [1000.0, 760], \"mode\": \"lines\", \"line\": {\"width\": 2, \"color\": \"green\"}}, {\"type\": \"scatter\", \"x\": [600.0, 402], \"y\": [600.0, 904], \"mode\": \"lines\", \"line\": {\"width\": 2, \"color\": \"green\"}}, {\"type\": \"scatter\", \"x\": [1000.0, 823], \"y\": [600.0, 808], \"mode\": \"lines\", \"line\": {\"width\": 2, \"color\": \"green\"}}, {\"type\": \"scatter\", \"x\": [1400.0, 1084], \"y\": [600.0, 948], \"mode\": \"lines\", \"line\": {\"width\": 2, \"color\": \"green\"}}, {\"type\": \"scatter\", \"x\": [600.0, 380], \"y\": [200.0, 104], \"mode\": \"lines\", \"line\": {\"width\": 2, \"color\": \"green\"}}, {\"type\": \"scatter\", \"x\": [1400.0, 1425], \"y\": [200.0, 285], \"mode\": \"lines\", \"line\": {\"width\": 2, \"color\": \"green\"}}, {\"type\": \"scatter\", \"x\": [1400.0, 1097], \"y\": [1000.0, 669], \"mode\": \"lines\", \"line\": {\"width\": 2, \"color\": \"green\"}}, {\"type\": \"scatter\", \"x\": [200.0, 523], \"y\": [600.0, 435], \"mode\": \"lines\", \"line\": {\"width\": 2, \"color\": \"green\"}}, {\"type\": \"scatter\", \"x\": [1000.0, 684], \"y\": [200.0, 147], \"mode\": \"lines\", \"line\": {\"width\": 2, \"color\": \"green\"}}, {\"type\": \"scatter\", \"x\": [1400.0, 1063], \"y\": [1400.0, 1032], \"mode\": \"lines\", \"line\": {\"width\": 2, \"color\": \"green\"}}, {\"type\": \"scatter\", \"x\": [1000.0, 1067], \"y\": [200.0, 34], \"mode\": \"lines\", \"line\": {\"width\": 2, \"color\": \"green\"}}, {\"type\": \"scatter\", \"x\": [600.0, 950], \"y\": [200.0, 548], \"mode\": \"lines\", \"line\": {\"width\": 2, \"color\": \"red\"}}, {\"type\": \"scatter\", \"x\": [1000.0, 891], \"y\": [600.0, 546], \"mode\": \"lines\", \"line\": {\"width\": 2, \"color\": \"green\"}}, {\"type\": \"scatter\", \"x\": [600.0, 540], \"y\": [1400.0, 1479], \"mode\": \"lines\", \"line\": {\"width\": 2, \"color\": \"green\"}}, {\"type\": \"scatter\", \"x\": [1000.0, 1149], \"y\": [200.0, 229], \"mode\": \"lines\", \"line\": {\"width\": 2, \"color\": \"green\"}}, {\"type\": \"scatter\", \"x\": [600.0, 790], \"y\": [600.0, 744], \"mode\": \"lines\", \"line\": {\"width\": 2, \"color\": \"green\"}}, {\"type\": \"scatter\", \"x\": [1400.0, 1515], \"y\": [200.0, 326], \"mode\": \"lines\", \"line\": {\"width\": 2, \"color\": \"green\"}}, {\"type\": \"scatter\", \"x\": [1000.0, 1048], \"y\": [200.0, 7], \"mode\": \"lines\", \"line\": {\"width\": 2, \"color\": \"green\"}}, {\"type\": \"scatter\", \"x\": [600.0, 215], \"y\": [1400.0, 1470], \"mode\": \"lines\", \"line\": {\"width\": 2, \"color\": \"green\"}}, {\"type\": \"scatter\", \"x\": [1000.0, 1241], \"y\": [600.0, 868], \"mode\": \"lines\", \"line\": {\"width\": 2, \"color\": \"green\"}}, {\"type\": \"scatter\", \"x\": [600.0, 924], \"y\": [200.0, 580], \"mode\": \"lines\", \"line\": {\"width\": 2, \"color\": \"green\"}}, {\"type\": \"scatter\", \"x\": [600.0, 858], \"y\": [600.0, 930], \"mode\": \"lines\", \"line\": {\"width\": 2, \"color\": \"red\"}}, {\"type\": \"scatter\", \"x\": [600.0, 778], \"y\": [200.0, 530], \"mode\": \"lines\", \"line\": {\"width\": 2, \"color\": \"green\"}}, {\"type\": \"scatter\", \"x\": [600.0, 814], \"y\": [1400.0, 1046], \"mode\": \"lines\", \"line\": {\"width\": 2, \"color\": \"green\"}}, {\"type\": \"scatter\", \"x\": [600.0, 767], \"y\": [200.0, 419], \"mode\": \"lines\", \"line\": {\"width\": 2, \"color\": \"green\"}}, {\"type\": \"scatter\", \"x\": [600.0, 310], \"y\": [1400.0, 1023], \"mode\": \"lines\", \"line\": {\"width\": 2, \"color\": \"green\"}}, {\"type\": \"scatter\", \"x\": [600.0, 743], \"y\": [600.0, 353], \"mode\": \"lines\", \"line\": {\"width\": 2, \"color\": \"green\"}}, {\"type\": \"scatter\", \"x\": [1400.0, 1014], \"y\": [1000.0, 637], \"mode\": \"lines\", \"line\": {\"width\": 2, \"color\": \"green\"}}, {\"type\": \"scatter\", \"x\": [1400.0, 1401], \"y\": [1000.0, 1313], \"mode\": \"lines\", \"line\": {\"width\": 2, \"color\": \"green\"}}, {\"type\": \"scatter\", \"x\": [1400.0, 1551], \"y\": [600.0, 617], \"mode\": \"lines\", \"line\": {\"width\": 2, \"color\": \"green\"}}, {\"type\": \"scatter\", \"x\": [1400.0, 1026], \"y\": [1000.0, 1194], \"mode\": \"lines\", \"line\": {\"width\": 2, \"color\": \"green\"}}, {\"type\": \"scatter\", \"x\": [200.0, 79], \"y\": [600.0, 864], \"mode\": \"lines\", \"line\": {\"width\": 2, \"color\": \"green\"}}, {\"type\": \"scatter\", \"x\": [200.0, 200.0, 200.0, 200.0, 600.0, 600.0, 600.0, 600.0, 1000.0, 1000.0, 1000.0, 1000.0, 1400.0, 1400.0, 1400.0, 1400.0, 768, 806, 524, 705, 1079, 892, 672, 823, 566, 1150, 1413, 422, 1045, 1374, 116, 185, 856, 1499, 899, 1012, 720, 937, 876, 1200, 179, 929, 1088, 854, 803, 1117, 384, 698, 727, 295, 958, 452, 408, 982, 685, 918, 1239, 1496, 834, 1240, 130, 1250, 1388, 1081, 705, 1008, 572, 979, 23, 785, 702, 47, 1499, 1134, 543, 1370, 562, 549, 1065, 1385, 753, 973, 798, 873, 1185, 597, 1031, 182, 1393, 488, 1057, 67, 80, 365, 293, 477, 739, 739, 848, 1352, 102, 1094, 989, 80, 56, 793, 558, 189, 608, 1335, 1293, 1032, 1305, 908, 926, 590, 863, 753, 694, 971, 1034, 733, 864, 946, 850, 1259, 715, 906, 1029, 617, 231, 864, 979, 276, 669, 806, 1567, 1073, 791, 921, 750, 1496, 279, 868, 108, 915, 533, 571, 810, 753, 1151, 503, 565, 1020, 1344, 421, 97, 1293, 1480, 559, 24, 1456, 1132, 686, 1247, 1049, 1258, 490, 98, 716, 715, 473, 924, 718, 1150, 1075, 1462, 397, 791, 1250, 286, 131, 1014, 275, 935, 402, 823, 1084, 380, 1425, 1097, 523, 684, 1063, 1067, 950, 891, 540, 1149, 790, 1515, 1048, 215, 1241, 924, 858, 778, 814, 767, 310, 743, 1014, 1401, 1551, 1026, 79], \"y\": [200.0, 600.0, 1000.0, 1400.0, 200.0, 600.0, 1000.0, 1400.0, 200.0, 600.0, 1000.0, 1400.0, 200.0, 600.0, 1000.0, 1400.0, 1037, 660, 823, 1572, 1152, 530, 1458, 940, 664, 1220, 1207, 292, 655, 695, 418, 310, 897, 536, 963, 513, 557, 1088, 1069, 617, 88, 951, 1298, 392, 1057, 1528, 538, 1057, 1056, 1307, 375, 493, 1466, 520, 700, 544, 593, 1009, 1411, 588, 1437, 1091, 398, 1139, 736, 1018, 557, 1077, 316, 114, 944, 482, 49, 935, 485, 1453, 805, 758, 1089, 1442, 823, 1119, 905, 566, 1271, 1459, 411, 903, 631, 1429, 969, 960, 647, 587, 489, 1385, 692, 1009, 781, 568, 415, 1026, 819, 770, 1143, 697, 581, 212, 1323, 1403, 27, 471, 264, 839, 663, 58, 697, 557, 815, 709, 543, 1020, 627, 674, 248, 619, 843, 741, 736, 1089, 1338, 938, 146, 1505, 288, 466, 317, 531, 1093, 875, 888, 269, 155, 51, 117, 333, 954, 717, 143, 1382, 717, 703, 899, 1062, 1378, 1553, 1067, 1488, 1179, 677, 1016, 556, 800, 523, 1535, 753, 29, 871, 1414, 937, 1548, 765, 575, 851, 829, 846, 756, 1131, 644, 1468, 854, 1565, 802, 157, 760, 904, 808, 948, 104, 285, 669, 435, 147, 1032, 34, 548, 546, 1479, 229, 744, 326, 7, 1470, 868, 580, 930, 530, 1046, 419, 1023, 353, 637, 1313, 617, 1194, 864], \"mode\": \"markers\", \"marker\": {\"size\": 8, \"color\": [\"orange\", \"orange\", \"orange\", \"orange\", \"orange\", \"orange\", \"orange\", \"orange\", \"orange\", \"orange\", \"orange\", \"orange\", \"orange\", \"orange\", \"orange\", \"orange\", \"blue\", \"magenta\", \"blue\", \"magenta\", \"magenta\", \"blue\", \"magenta\", \"blue\", \"blue\", \"magenta\", \"magenta\", \"magenta\", \"blue\", \"magenta\", \"magenta\", \"magenta\", \"magenta\", \"magenta\", \"magenta\", \"blue\", \"magenta\", \"blue\", \"blue\", \"magenta\", \"magenta\", \"blue\", \"magenta\", \"magenta\", \"blue\", \"magenta\", \"magenta\", \"blue\", \"magenta\", \"magenta\", \"magenta\", \"magenta\", \"magenta\", \"blue\", \"blue\", \"blue\", \"magenta\", \"magenta\", \"magenta\", \"magenta\", \"magenta\", \"magenta\", \"magenta\", \"magenta\", \"blue\", \"blue\", \"magenta\", \"blue\", \"magenta\", \"magenta\", \"blue\", \"magenta\", \"magenta\", \"magenta\", \"magenta\", \"magenta\", \"blue\", \"blue\", \"magenta\", \"magenta\", \"blue\", \"magenta\", \"blue\", \"magenta\", \"magenta\", \"magenta\", \"magenta\", \"magenta\", \"magenta\", \"magenta\", \"blue\", \"magenta\", \"magenta\", \"magenta\", \"magenta\", \"magenta\", \"blue\", \"blue\", \"magenta\", \"magenta\", \"magenta\", \"blue\", \"blue\", \"magenta\", \"magenta\", \"blue\", \"blue\", \"magenta\", \"magenta\", \"magenta\", \"magenta\", \"magenta\", \"magenta\", \"blue\", \"blue\", \"magenta\", \"blue\", \"magenta\", \"blue\", \"blue\", \"blue\", \"blue\", \"blue\", \"blue\", \"magenta\", \"magenta\", \"magenta\", \"magenta\", \"blue\", \"blue\", \"magenta\", \"blue\", \"magenta\", \"magenta\", \"magenta\", \"magenta\", \"magenta\", \"blue\", \"blue\", \"blue\", \"blue\", \"magenta\", \"magenta\", \"magenta\", \"magenta\", \"magenta\", \"magenta\", \"blue\", \"magenta\", \"magenta\", \"magenta\", \"blue\", \"blue\", \"magenta\", \"magenta\", \"magenta\", \"magenta\", \"magenta\", \"magenta\", \"blue\", \"magenta\", \"magenta\", \"magenta\", \"magenta\", \"magenta\", \"blue\", \"magenta\", \"magenta\", \"magenta\", \"blue\", \"magenta\", \"magenta\", \"magenta\", \"magenta\", \"magenta\", \"blue\", \"magenta\", \"magenta\", \"blue\", \"magenta\", \"magenta\", \"magenta\", \"magenta\", \"magenta\", \"blue\", \"magenta\", \"magenta\", \"blue\", \"magenta\", \"magenta\", \"blue\", \"magenta\", \"magenta\", \"blue\", \"magenta\", \"blue\", \"blue\", \"magenta\", \"magenta\", \"blue\", \"magenta\", \"magenta\", \"magenta\", \"magenta\", \"magenta\", \"blue\", \"blue\", \"blue\", \"magenta\", \"magenta\", \"magenta\", \"blue\", \"magenta\", \"magenta\", \"magenta\", \"magenta\"]}}], {\"xaxis\": {\"range\": [0, 1600], \"title\": \"x\"}, \"yaxis\": {\"range\": [0, 1600], \"title\": \"y\"}, \"title\": \"UE and AP Distribution in the grid\", \"height\": 600, \"width\": 800, \"showlegend\": false}, {\"showLink\": true, \"linkText\": \"Export to plot.ly\"})});</script>"
      ],
      "text/vnd.plotly.v1+html": [
       "<div id=\"f586175e-0033-432b-98fd-a1bdc59e3145\" style=\"height: 600px; width: 800px;\" class=\"plotly-graph-div\"></div><script type=\"text/javascript\">require([\"plotly\"], function(Plotly) { window.PLOTLYENV=window.PLOTLYENV || {};window.PLOTLYENV.BASE_URL=\"https://plot.ly\";Plotly.newPlot(\"f586175e-0033-432b-98fd-a1bdc59e3145\", [{\"type\": \"scatter\", \"x\": [600.0, 768], \"y\": [1400.0, 1037], \"mode\": \"lines\", \"line\": {\"width\": 2, \"color\": \"green\"}}, {\"type\": \"scatter\", \"x\": [600.0, 806], \"y\": [1000.0, 660], \"mode\": \"lines\", \"line\": {\"width\": 2, \"color\": \"green\"}}, {\"type\": \"scatter\", \"x\": [200.0, 524], \"y\": [600.0, 823], \"mode\": \"lines\", \"line\": {\"width\": 2, \"color\": \"green\"}}, {\"type\": \"scatter\", \"x\": [1000.0, 705], \"y\": [1400.0, 1572], \"mode\": \"lines\", \"line\": {\"width\": 2, \"color\": \"green\"}}, {\"type\": \"scatter\", \"x\": [1000.0, 1079], \"y\": [1000.0, 1152], \"mode\": \"lines\", \"line\": {\"width\": 2, \"color\": \"green\"}}, {\"type\": \"scatter\", \"x\": [1000.0, 892], \"y\": [200.0, 530], \"mode\": \"lines\", \"line\": {\"width\": 2, \"color\": \"green\"}}, {\"type\": \"scatter\", \"x\": [1000.0, 672], \"y\": [1400.0, 1458], \"mode\": \"lines\", \"line\": {\"width\": 2, \"color\": \"green\"}}, {\"type\": \"scatter\", \"x\": [600.0, 823], \"y\": [600.0, 940], \"mode\": \"lines\", \"line\": {\"width\": 2, \"color\": \"green\"}}, {\"type\": \"scatter\", \"x\": [200.0, 566], \"y\": [600.0, 664], \"mode\": \"lines\", \"line\": {\"width\": 2, \"color\": \"green\"}}, {\"type\": \"scatter\", \"x\": [1000.0, 1150], \"y\": [1400.0, 1220], \"mode\": \"lines\", \"line\": {\"width\": 2, \"color\": \"green\"}}, {\"type\": \"scatter\", \"x\": [1400.0, 1413], \"y\": [1000.0, 1207], \"mode\": \"lines\", \"line\": {\"width\": 2, \"color\": \"green\"}}, {\"type\": \"scatter\", \"x\": [200.0, 422], \"y\": [200.0, 292], \"mode\": \"lines\", \"line\": {\"width\": 2, \"color\": \"green\"}}, {\"type\": \"scatter\", \"x\": [1000.0, 1045], \"y\": [600.0, 655], \"mode\": \"lines\", \"line\": {\"width\": 2, \"color\": \"green\"}}, {\"type\": \"scatter\", \"x\": [1400.0, 1374], \"y\": [600.0, 695], \"mode\": \"lines\", \"line\": {\"width\": 2, \"color\": \"green\"}}, {\"type\": \"scatter\", \"x\": [200.0, 116], \"y\": [200.0, 418], \"mode\": \"lines\", \"line\": {\"width\": 2, \"color\": \"green\"}}, {\"type\": \"scatter\", \"x\": [200.0, 185], \"y\": [200.0, 310], \"mode\": \"lines\", \"line\": {\"width\": 2, \"color\": \"green\"}}, {\"type\": \"scatter\", \"x\": [1000.0, 856], \"y\": [600.0, 897], \"mode\": \"lines\", \"line\": {\"width\": 2, \"color\": \"green\"}}, {\"type\": \"scatter\", \"x\": [1400.0, 1499], \"y\": [600.0, 536], \"mode\": \"lines\", \"line\": {\"width\": 2, \"color\": \"green\"}}, {\"type\": \"scatter\", \"x\": [600.0, 899], \"y\": [600.0, 963], \"mode\": \"lines\", \"line\": {\"width\": 2, \"color\": \"green\"}}, {\"type\": \"scatter\", \"x\": [1000.0, 1012], \"y\": [600.0, 513], \"mode\": \"lines\", \"line\": {\"width\": 2, \"color\": \"green\"}}, {\"type\": \"scatter\", \"x\": [600.0, 720], \"y\": [200.0, 557], \"mode\": \"lines\", \"line\": {\"width\": 2, \"color\": \"green\"}}, {\"type\": \"scatter\", \"x\": [1000.0, 937], \"y\": [1000.0, 1088], \"mode\": \"lines\", \"line\": {\"width\": 2, \"color\": \"green\"}}, {\"type\": \"scatter\", \"x\": [600.0, 876], \"y\": [1400.0, 1069], \"mode\": \"lines\", \"line\": {\"width\": 2, \"color\": \"green\"}}, {\"type\": \"scatter\", \"x\": [1000.0, 1200], \"y\": [600.0, 617], \"mode\": \"lines\", \"line\": {\"width\": 2, \"color\": \"green\"}}, {\"type\": \"scatter\", \"x\": [200.0, 179], \"y\": [200.0, 88], \"mode\": \"lines\", \"line\": {\"width\": 2, \"color\": \"green\"}}, {\"type\": \"scatter\", \"x\": [1000.0, 929], \"y\": [600.0, 951], \"mode\": \"lines\", \"line\": {\"width\": 2, \"color\": \"green\"}}, {\"type\": \"scatter\", \"x\": [1000.0, 1088], \"y\": [1400.0, 1298], \"mode\": \"lines\", \"line\": {\"width\": 2, \"color\": \"green\"}}, {\"type\": \"scatter\", \"x\": [600.0, 854], \"y\": [600.0, 392], \"mode\": \"lines\", \"line\": {\"width\": 2, \"color\": \"green\"}}, {\"type\": \"scatter\", \"x\": [1000.0, 803], \"y\": [1000.0, 1057], \"mode\": \"lines\", \"line\": {\"width\": 2, \"color\": \"green\"}}, {\"type\": \"scatter\", \"x\": [1400.0, 1117], \"y\": [1400.0, 1528], \"mode\": \"lines\", \"line\": {\"width\": 2, \"color\": \"green\"}}, {\"type\": \"scatter\", \"x\": [600.0, 384], \"y\": [200.0, 538], \"mode\": \"lines\", \"line\": {\"width\": 2, \"color\": \"green\"}}, {\"type\": \"scatter\", \"x\": [600.0, 698], \"y\": [1000.0, 1057], \"mode\": \"lines\", \"line\": {\"width\": 2, \"color\": \"red\"}}, {\"type\": \"scatter\", \"x\": [600.0, 727], \"y\": [1400.0, 1056], \"mode\": \"lines\", \"line\": {\"width\": 2, \"color\": \"green\"}}, {\"type\": \"scatter\", \"x\": [600.0, 295], \"y\": [1400.0, 1307], \"mode\": \"lines\", \"line\": {\"width\": 2, \"color\": \"green\"}}, {\"type\": \"scatter\", \"x\": [600.0, 958], \"y\": [200.0, 375], \"mode\": \"lines\", \"line\": {\"width\": 2, \"color\": \"green\"}}, {\"type\": \"scatter\", \"x\": [200.0, 452], \"y\": [600.0, 493], \"mode\": \"lines\", \"line\": {\"width\": 2, \"color\": \"green\"}}, {\"type\": \"scatter\", \"x\": [600.0, 408], \"y\": [1400.0, 1466], \"mode\": \"lines\", \"line\": {\"width\": 2, \"color\": \"green\"}}, {\"type\": \"scatter\", \"x\": [600.0, 982], \"y\": [600.0, 520], \"mode\": \"lines\", \"line\": {\"width\": 2, \"color\": \"green\"}}, {\"type\": \"scatter\", \"x\": [600.0, 685], \"y\": [1000.0, 700], \"mode\": \"lines\", \"line\": {\"width\": 2, \"color\": \"green\"}}, {\"type\": \"scatter\", \"x\": [600.0, 918], \"y\": [600.0, 544], \"mode\": \"lines\", \"line\": {\"width\": 2, \"color\": \"red\"}}, {\"type\": \"scatter\", \"x\": [1000.0, 1239], \"y\": [200.0, 593], \"mode\": \"lines\", \"line\": {\"width\": 2, \"color\": \"green\"}}, {\"type\": \"scatter\", \"x\": [1400.0, 1496], \"y\": [1000.0, 1009], \"mode\": \"lines\", \"line\": {\"width\": 2, \"color\": \"green\"}}, {\"type\": \"scatter\", \"x\": [1000.0, 834], \"y\": [1400.0, 1411], \"mode\": \"lines\", \"line\": {\"width\": 2, \"color\": \"green\"}}, {\"type\": \"scatter\", \"x\": [1400.0, 1240], \"y\": [600.0, 588], \"mode\": \"lines\", \"line\": {\"width\": 2, \"color\": \"green\"}}, {\"type\": \"scatter\", \"x\": [200.0, 130], \"y\": [1400.0, 1437], \"mode\": \"lines\", \"line\": {\"width\": 2, \"color\": \"green\"}}, {\"type\": \"scatter\", \"x\": [1000.0, 1250], \"y\": [1400.0, 1091], \"mode\": \"lines\", \"line\": {\"width\": 2, \"color\": \"green\"}}, {\"type\": \"scatter\", \"x\": [1000.0, 1388], \"y\": [200.0, 398], \"mode\": \"lines\", \"line\": {\"width\": 2, \"color\": \"green\"}}, {\"type\": \"scatter\", \"x\": [1400.0, 1081], \"y\": [1400.0, 1139], \"mode\": \"lines\", \"line\": {\"width\": 2, \"color\": \"green\"}}, {\"type\": \"scatter\", \"x\": [1000.0, 705], \"y\": [600.0, 736], \"mode\": \"lines\", \"line\": {\"width\": 2, \"color\": \"red\"}}, {\"type\": \"scatter\", \"x\": [1400.0, 1008], \"y\": [1400.0, 1018], \"mode\": \"lines\", \"line\": {\"width\": 2, \"color\": \"green\"}}, {\"type\": \"scatter\", \"x\": [600.0, 572], \"y\": [200.0, 557], \"mode\": \"lines\", \"line\": {\"width\": 2, \"color\": \"green\"}}, {\"type\": \"scatter\", \"x\": [1000.0, 979], \"y\": [1000.0, 1077], \"mode\": \"lines\", \"line\": {\"width\": 2, \"color\": \"green\"}}, {\"type\": \"scatter\", \"x\": [200.0, 23], \"y\": [200.0, 316], \"mode\": \"lines\", \"line\": {\"width\": 2, \"color\": \"green\"}}, {\"type\": \"scatter\", \"x\": [600.0, 785], \"y\": [200.0, 114], \"mode\": \"lines\", \"line\": {\"width\": 2, \"color\": \"green\"}}, {\"type\": \"scatter\", \"x\": [1000.0, 702], \"y\": [1000.0, 944], \"mode\": \"lines\", \"line\": {\"width\": 2, \"color\": \"green\"}}, {\"type\": \"scatter\", \"x\": [200.0, 47], \"y\": [600.0, 482], \"mode\": \"lines\", \"line\": {\"width\": 2, \"color\": \"green\"}}, {\"type\": \"scatter\", \"x\": [1400.0, 1499], \"y\": [200.0, 49], \"mode\": \"lines\", \"line\": {\"width\": 2, \"color\": \"green\"}}, {\"type\": \"scatter\", \"x\": [1400.0, 1134], \"y\": [600.0, 935], \"mode\": \"lines\", \"line\": {\"width\": 2, \"color\": \"green\"}}, {\"type\": \"scatter\", \"x\": [600.0, 543], \"y\": [200.0, 485], \"mode\": \"lines\", \"line\": {\"width\": 2, \"color\": \"green\"}}, {\"type\": \"scatter\", \"x\": [1400.0, 1370], \"y\": [1400.0, 1453], \"mode\": \"lines\", \"line\": {\"width\": 2, \"color\": \"green\"}}, {\"type\": \"scatter\", \"x\": [200.0, 562], \"y\": [1000.0, 805], \"mode\": \"lines\", \"line\": {\"width\": 2, \"color\": \"green\"}}, {\"type\": \"scatter\", \"x\": [200.0, 549], \"y\": [1000.0, 758], \"mode\": \"lines\", \"line\": {\"width\": 2, \"color\": \"green\"}}, {\"type\": \"scatter\", \"x\": [1000.0, 1065], \"y\": [1000.0, 1089], \"mode\": \"lines\", \"line\": {\"width\": 2, \"color\": \"green\"}}, {\"type\": \"scatter\", \"x\": [1400.0, 1385], \"y\": [1400.0, 1442], \"mode\": \"lines\", \"line\": {\"width\": 2, \"color\": \"green\"}}, {\"type\": \"scatter\", \"x\": [600.0, 753], \"y\": [1000.0, 823], \"mode\": \"lines\", \"line\": {\"width\": 2, \"color\": \"red\"}}, {\"type\": \"scatter\", \"x\": [600.0, 973], \"y\": [1000.0, 1119], \"mode\": \"lines\", \"line\": {\"width\": 2, \"color\": \"green\"}}, {\"type\": \"scatter\", \"x\": [1000.0, 798], \"y\": [1000.0, 905], \"mode\": \"lines\", \"line\": {\"width\": 2, \"color\": \"green\"}}, {\"type\": \"scatter\", \"x\": [600.0, 873], \"y\": [200.0, 566], \"mode\": \"lines\", \"line\": {\"width\": 2, \"color\": \"green\"}}, {\"type\": \"scatter\", \"x\": [1400.0, 1185], \"y\": [1000.0, 1271], \"mode\": \"lines\", \"line\": {\"width\": 2, \"color\": \"green\"}}, {\"type\": \"scatter\", \"x\": [200.0, 597], \"y\": [1400.0, 1459], \"mode\": \"lines\", \"line\": {\"width\": 2, \"color\": \"green\"}}, {\"type\": \"scatter\", \"x\": [1000.0, 1031], \"y\": [600.0, 411], \"mode\": \"lines\", \"line\": {\"width\": 2, \"color\": \"green\"}}, {\"type\": \"scatter\", \"x\": [200.0, 182], \"y\": [1000.0, 903], \"mode\": \"lines\", \"line\": {\"width\": 2, \"color\": \"green\"}}, {\"type\": \"scatter\", \"x\": [1400.0, 1393], \"y\": [600.0, 631], \"mode\": \"lines\", \"line\": {\"width\": 2, \"color\": \"green\"}}, {\"type\": \"scatter\", \"x\": [200.0, 488], \"y\": [1400.0, 1429], \"mode\": \"lines\", \"line\": {\"width\": 2, \"color\": \"green\"}}, {\"type\": \"scatter\", \"x\": [1400.0, 1057], \"y\": [600.0, 969], \"mode\": \"lines\", \"line\": {\"width\": 2, \"color\": \"green\"}}, {\"type\": \"scatter\", \"x\": [200.0, 67], \"y\": [1000.0, 960], \"mode\": \"lines\", \"line\": {\"width\": 2, \"color\": \"green\"}}, {\"type\": \"scatter\", \"x\": [200.0, 80], \"y\": [1000.0, 647], \"mode\": \"lines\", \"line\": {\"width\": 2, \"color\": \"green\"}}, {\"type\": \"scatter\", \"x\": [200.0, 365], \"y\": [200.0, 587], \"mode\": \"lines\", \"line\": {\"width\": 2, \"color\": \"green\"}}, {\"type\": \"scatter\", \"x\": [200.0, 293], \"y\": [600.0, 489], \"mode\": \"lines\", \"line\": {\"width\": 2, \"color\": \"green\"}}, {\"type\": \"scatter\", \"x\": [200.0, 477], \"y\": [1000.0, 1385], \"mode\": \"lines\", \"line\": {\"width\": 2, \"color\": \"green\"}}, {\"type\": \"scatter\", \"x\": [1000.0, 739], \"y\": [1000.0, 692], \"mode\": \"lines\", \"line\": {\"width\": 2, \"color\": \"red\"}}, {\"type\": \"scatter\", \"x\": [600.0, 739], \"y\": [1400.0, 1009], \"mode\": \"lines\", \"line\": {\"width\": 2, \"color\": \"green\"}}, {\"type\": \"scatter\", \"x\": [600.0, 848], \"y\": [600.0, 781], \"mode\": \"lines\", \"line\": {\"width\": 2, \"color\": \"green\"}}, {\"type\": \"scatter\", \"x\": [1000.0, 1352], \"y\": [200.0, 568], \"mode\": \"lines\", \"line\": {\"width\": 2, \"color\": \"green\"}}, {\"type\": \"scatter\", \"x\": [200.0, 102], \"y\": [600.0, 415], \"mode\": \"lines\", \"line\": {\"width\": 2, \"color\": \"green\"}}, {\"type\": \"scatter\", \"x\": [1400.0, 1094], \"y\": [1400.0, 1026], \"mode\": \"lines\", \"line\": {\"width\": 2, \"color\": \"green\"}}, {\"type\": \"scatter\", \"x\": [600.0, 989], \"y\": [600.0, 819], \"mode\": \"lines\", \"line\": {\"width\": 2, \"color\": \"green\"}}, {\"type\": \"scatter\", \"x\": [200.0, 80], \"y\": [600.0, 770], \"mode\": \"lines\", \"line\": {\"width\": 2, \"color\": \"green\"}}, {\"type\": \"scatter\", \"x\": [200.0, 56], \"y\": [1000.0, 1143], \"mode\": \"lines\", \"line\": {\"width\": 2, \"color\": \"green\"}}, {\"type\": \"scatter\", \"x\": [1000.0, 793], \"y\": [600.0, 697], \"mode\": \"lines\", \"line\": {\"width\": 2, \"color\": \"red\"}}, {\"type\": \"scatter\", \"x\": [200.0, 558], \"y\": [200.0, 581], \"mode\": \"lines\", \"line\": {\"width\": 2, \"color\": \"green\"}}, {\"type\": \"scatter\", \"x\": [200.0, 189], \"y\": [200.0, 212], \"mode\": \"lines\", \"line\": {\"width\": 2, \"color\": \"green\"}}, {\"type\": \"scatter\", \"x\": [1000.0, 608], \"y\": [1000.0, 1323], \"mode\": \"lines\", \"line\": {\"width\": 2, \"color\": \"green\"}}, {\"type\": \"scatter\", \"x\": [1000.0, 1335], \"y\": [1400.0, 1403], \"mode\": \"lines\", \"line\": {\"width\": 2, \"color\": \"green\"}}, {\"type\": \"scatter\", \"x\": [1000.0, 1293], \"y\": [200.0, 27], \"mode\": \"lines\", \"line\": {\"width\": 2, \"color\": \"green\"}}, {\"type\": \"scatter\", \"x\": [1000.0, 1032], \"y\": [200.0, 471], \"mode\": \"lines\", \"line\": {\"width\": 2, \"color\": \"green\"}}, {\"type\": \"scatter\", \"x\": [1000.0, 1305], \"y\": [200.0, 264], \"mode\": \"lines\", \"line\": {\"width\": 2, \"color\": \"green\"}}, {\"type\": \"scatter\", \"x\": [600.0, 908], \"y\": [1000.0, 839], \"mode\": \"lines\", \"line\": {\"width\": 2, \"color\": \"red\"}}, {\"type\": \"scatter\", \"x\": [600.0, 926], \"y\": [600.0, 663], \"mode\": \"lines\", \"line\": {\"width\": 2, \"color\": \"red\"}}, {\"type\": \"scatter\", \"x\": [600.0, 590], \"y\": [200.0, 58], \"mode\": \"lines\", \"line\": {\"width\": 2, \"color\": \"green\"}}, {\"type\": \"scatter\", \"x\": [600.0, 863], \"y\": [600.0, 697], \"mode\": \"lines\", \"line\": {\"width\": 2, \"color\": \"green\"}}, {\"type\": \"scatter\", \"x\": [600.0, 753], \"y\": [600.0, 557], \"mode\": \"lines\", \"line\": {\"width\": 2, \"color\": \"green\"}}, {\"type\": \"scatter\", \"x\": [600.0, 694], \"y\": [1000.0, 815], \"mode\": \"lines\", \"line\": {\"width\": 2, \"color\": \"green\"}}, {\"type\": \"scatter\", \"x\": [600.0, 971], \"y\": [1000.0, 709], \"mode\": \"lines\", \"line\": {\"width\": 2, \"color\": \"green\"}}, {\"type\": \"scatter\", \"x\": [1000.0, 1034], \"y\": [200.0, 543], \"mode\": \"lines\", \"line\": {\"width\": 2, \"color\": \"green\"}}, {\"type\": \"scatter\", \"x\": [1000.0, 733], \"y\": [1000.0, 1020], \"mode\": \"lines\", \"line\": {\"width\": 2, \"color\": \"green\"}}, {\"type\": \"scatter\", \"x\": [600.0, 864], \"y\": [1000.0, 627], \"mode\": \"lines\", \"line\": {\"width\": 2, \"color\": \"green\"}}, {\"type\": \"scatter\", \"x\": [600.0, 946], \"y\": [600.0, 674], \"mode\": \"lines\", \"line\": {\"width\": 2, \"color\": \"green\"}}, {\"type\": \"scatter\", \"x\": [1000.0, 850], \"y\": [200.0, 248], \"mode\": \"lines\", \"line\": {\"width\": 2, \"color\": \"green\"}}, {\"type\": \"scatter\", \"x\": [1400.0, 1259], \"y\": [1000.0, 619], \"mode\": \"lines\", \"line\": {\"width\": 2, \"color\": \"green\"}}, {\"type\": \"scatter\", \"x\": [600.0, 715], \"y\": [600.0, 843], \"mode\": \"lines\", \"line\": {\"width\": 2, \"color\": \"green\"}}, {\"type\": \"scatter\", \"x\": [1000.0, 906], \"y\": [1000.0, 741], \"mode\": \"lines\", \"line\": {\"width\": 2, \"color\": \"green\"}}, {\"type\": \"scatter\", \"x\": [1400.0, 1029], \"y\": [600.0, 736], \"mode\": \"lines\", \"line\": {\"width\": 2, \"color\": \"green\"}}, {\"type\": \"scatter\", \"x\": [1000.0, 617], \"y\": [1400.0, 1089], \"mode\": \"lines\", \"line\": {\"width\": 2, \"color\": \"green\"}}, {\"type\": \"scatter\", \"x\": [600.0, 231], \"y\": [1000.0, 1338], \"mode\": \"lines\", \"line\": {\"width\": 2, \"color\": \"green\"}}, {\"type\": \"scatter\", \"x\": [1000.0, 864], \"y\": [1000.0, 938], \"mode\": \"lines\", \"line\": {\"width\": 2, \"color\": \"green\"}}, {\"type\": \"scatter\", \"x\": [1000.0, 979], \"y\": [200.0, 146], \"mode\": \"lines\", \"line\": {\"width\": 2, \"color\": \"green\"}}, {\"type\": \"scatter\", \"x\": [200.0, 276], \"y\": [1400.0, 1505], \"mode\": \"lines\", \"line\": {\"width\": 2, \"color\": \"green\"}}, {\"type\": \"scatter\", \"x\": [600.0, 669], \"y\": [200.0, 288], \"mode\": \"lines\", \"line\": {\"width\": 2, \"color\": \"green\"}}, {\"type\": \"scatter\", \"x\": [600.0, 806], \"y\": [200.0, 466], \"mode\": \"lines\", \"line\": {\"width\": 2, \"color\": \"green\"}}, {\"type\": \"scatter\", \"x\": [1400.0, 1567], \"y\": [600.0, 317], \"mode\": \"lines\", \"line\": {\"width\": 2, \"color\": \"green\"}}, {\"type\": \"scatter\", \"x\": [1400.0, 1073], \"y\": [200.0, 531], \"mode\": \"lines\", \"line\": {\"width\": 2, \"color\": \"green\"}}, {\"type\": \"scatter\", \"x\": [600.0, 791], \"y\": [1400.0, 1093], \"mode\": \"lines\", \"line\": {\"width\": 2, \"color\": \"green\"}}, {\"type\": \"scatter\", \"x\": [600.0, 921], \"y\": [1000.0, 875], \"mode\": \"lines\", \"line\": {\"width\": 2, \"color\": \"green\"}}, {\"type\": \"scatter\", \"x\": [600.0, 750], \"y\": [600.0, 888], \"mode\": \"lines\", \"line\": {\"width\": 2, \"color\": \"green\"}}, {\"type\": \"scatter\", \"x\": [1400.0, 1496], \"y\": [200.0, 269], \"mode\": \"lines\", \"line\": {\"width\": 2, \"color\": \"green\"}}, {\"type\": \"scatter\", \"x\": [200.0, 279], \"y\": [200.0, 155], \"mode\": \"lines\", \"line\": {\"width\": 2, \"color\": \"green\"}}, {\"type\": \"scatter\", \"x\": [600.0, 868], \"y\": [200.0, 51], \"mode\": \"lines\", \"line\": {\"width\": 2, \"color\": \"green\"}}, {\"type\": \"scatter\", \"x\": [200.0, 108], \"y\": [200.0, 117], \"mode\": \"lines\", \"line\": {\"width\": 2, \"color\": \"green\"}}, {\"type\": \"scatter\", \"x\": [1000.0, 915], \"y\": [200.0, 333], \"mode\": \"lines\", \"line\": {\"width\": 2, \"color\": \"green\"}}, {\"type\": \"scatter\", \"x\": [200.0, 533], \"y\": [1000.0, 954], \"mode\": \"lines\", \"line\": {\"width\": 2, \"color\": \"green\"}}, {\"type\": \"scatter\", \"x\": [200.0, 571], \"y\": [1000.0, 717], \"mode\": \"lines\", \"line\": {\"width\": 2, \"color\": \"green\"}}, {\"type\": \"scatter\", \"x\": [1000.0, 810], \"y\": [200.0, 143], \"mode\": \"lines\", \"line\": {\"width\": 2, \"color\": \"green\"}}, {\"type\": \"scatter\", \"x\": [1000.0, 753], \"y\": [1400.0, 1382], \"mode\": \"lines\", \"line\": {\"width\": 2, \"color\": \"green\"}}, {\"type\": \"scatter\", \"x\": [1400.0, 1151], \"y\": [600.0, 717], \"mode\": \"lines\", \"line\": {\"width\": 2, \"color\": \"green\"}}, {\"type\": \"scatter\", \"x\": [200.0, 503], \"y\": [600.0, 703], \"mode\": \"lines\", \"line\": {\"width\": 2, \"color\": \"green\"}}, {\"type\": \"scatter\", \"x\": [200.0, 565], \"y\": [1000.0, 899], \"mode\": \"lines\", \"line\": {\"width\": 2, \"color\": \"green\"}}, {\"type\": \"scatter\", \"x\": [1000.0, 1020], \"y\": [1400.0, 1062], \"mode\": \"lines\", \"line\": {\"width\": 2, \"color\": \"green\"}}, {\"type\": \"scatter\", \"x\": [1400.0, 1344], \"y\": [1000.0, 1378], \"mode\": \"lines\", \"line\": {\"width\": 2, \"color\": \"green\"}}, {\"type\": \"scatter\", \"x\": [600.0, 421], \"y\": [1400.0, 1553], \"mode\": \"lines\", \"line\": {\"width\": 2, \"color\": \"green\"}}, {\"type\": \"scatter\", \"x\": [200.0, 97], \"y\": [1000.0, 1067], \"mode\": \"lines\", \"line\": {\"width\": 2, \"color\": \"green\"}}, {\"type\": \"scatter\", \"x\": [1000.0, 1293], \"y\": [1400.0, 1488], \"mode\": \"lines\", \"line\": {\"width\": 2, \"color\": \"green\"}}, {\"type\": \"scatter\", \"x\": [1400.0, 1480], \"y\": [1000.0, 1179], \"mode\": \"lines\", \"line\": {\"width\": 2, \"color\": \"green\"}}, {\"type\": \"scatter\", \"x\": [200.0, 559], \"y\": [600.0, 677], \"mode\": \"lines\", \"line\": {\"width\": 2, \"color\": \"green\"}}, {\"type\": \"scatter\", \"x\": [200.0, 24], \"y\": [1000.0, 1016], \"mode\": \"lines\", \"line\": {\"width\": 2, \"color\": \"green\"}}, {\"type\": \"scatter\", \"x\": [1400.0, 1456], \"y\": [200.0, 556], \"mode\": \"lines\", \"line\": {\"width\": 2, \"color\": \"green\"}}, {\"type\": \"scatter\", \"x\": [1400.0, 1132], \"y\": [1000.0, 800], \"mode\": \"lines\", \"line\": {\"width\": 2, \"color\": \"green\"}}, {\"type\": \"scatter\", \"x\": [1000.0, 686], \"y\": [200.0, 523], \"mode\": \"lines\", \"line\": {\"width\": 2, \"color\": \"green\"}}, {\"type\": \"scatter\", \"x\": [1000.0, 1247], \"y\": [1400.0, 1535], \"mode\": \"lines\", \"line\": {\"width\": 2, \"color\": \"green\"}}, {\"type\": \"scatter\", \"x\": [1400.0, 1049], \"y\": [1000.0, 753], \"mode\": \"lines\", \"line\": {\"width\": 2, \"color\": \"green\"}}, {\"type\": \"scatter\", \"x\": [1000.0, 1258], \"y\": [200.0, 29], \"mode\": \"lines\", \"line\": {\"width\": 2, \"color\": \"green\"}}, {\"type\": \"scatter\", \"x\": [200.0, 490], \"y\": [1000.0, 871], \"mode\": \"lines\", \"line\": {\"width\": 2, \"color\": \"green\"}}, {\"type\": \"scatter\", \"x\": [200.0, 98], \"y\": [1400.0, 1414], \"mode\": \"lines\", \"line\": {\"width\": 2, \"color\": \"green\"}}, {\"type\": \"scatter\", \"x\": [1000.0, 716], \"y\": [1000.0, 937], \"mode\": \"lines\", \"line\": {\"width\": 2, \"color\": \"red\"}}, {\"type\": \"scatter\", \"x\": [1000.0, 715], \"y\": [1400.0, 1548], \"mode\": \"lines\", \"line\": {\"width\": 2, \"color\": \"green\"}}, {\"type\": \"scatter\", \"x\": [600.0, 473], \"y\": [600.0, 765], \"mode\": \"lines\", \"line\": {\"width\": 2, \"color\": \"green\"}}, {\"type\": \"scatter\", \"x\": [1000.0, 924], \"y\": [200.0, 575], \"mode\": \"lines\", \"line\": {\"width\": 2, \"color\": \"green\"}}, {\"type\": \"scatter\", \"x\": [1000.0, 718], \"y\": [1000.0, 851], \"mode\": \"lines\", \"line\": {\"width\": 2, \"color\": \"green\"}}, {\"type\": \"scatter\", \"x\": [1400.0, 1150], \"y\": [1000.0, 829], \"mode\": \"lines\", \"line\": {\"width\": 2, \"color\": \"green\"}}, {\"type\": \"scatter\", \"x\": [1400.0, 1075], \"y\": [600.0, 846], \"mode\": \"lines\", \"line\": {\"width\": 2, \"color\": \"green\"}}, {\"type\": \"scatter\", \"x\": [1400.0, 1462], \"y\": [1000.0, 756], \"mode\": \"lines\", \"line\": {\"width\": 2, \"color\": \"green\"}}, {\"type\": \"scatter\", \"x\": [600.0, 397], \"y\": [1000.0, 1131], \"mode\": \"lines\", \"line\": {\"width\": 2, \"color\": \"green\"}}, {\"type\": \"scatter\", \"x\": [1000.0, 791], \"y\": [600.0, 644], \"mode\": \"lines\", \"line\": {\"width\": 2, \"color\": \"red\"}}, {\"type\": \"scatter\", \"x\": [1400.0, 1250], \"y\": [1400.0, 1468], \"mode\": \"lines\", \"line\": {\"width\": 2, \"color\": \"green\"}}, {\"type\": \"scatter\", \"x\": [200.0, 286], \"y\": [1000.0, 854], \"mode\": \"lines\", \"line\": {\"width\": 2, \"color\": \"green\"}}, {\"type\": \"scatter\", \"x\": [200.0, 131], \"y\": [1400.0, 1565], \"mode\": \"lines\", \"line\": {\"width\": 2, \"color\": \"green\"}}, {\"type\": \"scatter\", \"x\": [1000.0, 1014], \"y\": [600.0, 802], \"mode\": \"lines\", \"line\": {\"width\": 2, \"color\": \"green\"}}, {\"type\": \"scatter\", \"x\": [200.0, 275], \"y\": [200.0, 157], \"mode\": \"lines\", \"line\": {\"width\": 2, \"color\": \"green\"}}, {\"type\": \"scatter\", \"x\": [600.0, 935], \"y\": [1000.0, 760], \"mode\": \"lines\", \"line\": {\"width\": 2, \"color\": \"green\"}}, {\"type\": \"scatter\", \"x\": [600.0, 402], \"y\": [600.0, 904], \"mode\": \"lines\", \"line\": {\"width\": 2, \"color\": \"green\"}}, {\"type\": \"scatter\", \"x\": [1000.0, 823], \"y\": [600.0, 808], \"mode\": \"lines\", \"line\": {\"width\": 2, \"color\": \"green\"}}, {\"type\": \"scatter\", \"x\": [1400.0, 1084], \"y\": [600.0, 948], \"mode\": \"lines\", \"line\": {\"width\": 2, \"color\": \"green\"}}, {\"type\": \"scatter\", \"x\": [600.0, 380], \"y\": [200.0, 104], \"mode\": \"lines\", \"line\": {\"width\": 2, \"color\": \"green\"}}, {\"type\": \"scatter\", \"x\": [1400.0, 1425], \"y\": [200.0, 285], \"mode\": \"lines\", \"line\": {\"width\": 2, \"color\": \"green\"}}, {\"type\": \"scatter\", \"x\": [1400.0, 1097], \"y\": [1000.0, 669], \"mode\": \"lines\", \"line\": {\"width\": 2, \"color\": \"green\"}}, {\"type\": \"scatter\", \"x\": [200.0, 523], \"y\": [600.0, 435], \"mode\": \"lines\", \"line\": {\"width\": 2, \"color\": \"green\"}}, {\"type\": \"scatter\", \"x\": [1000.0, 684], \"y\": [200.0, 147], \"mode\": \"lines\", \"line\": {\"width\": 2, \"color\": \"green\"}}, {\"type\": \"scatter\", \"x\": [1400.0, 1063], \"y\": [1400.0, 1032], \"mode\": \"lines\", \"line\": {\"width\": 2, \"color\": \"green\"}}, {\"type\": \"scatter\", \"x\": [1000.0, 1067], \"y\": [200.0, 34], \"mode\": \"lines\", \"line\": {\"width\": 2, \"color\": \"green\"}}, {\"type\": \"scatter\", \"x\": [600.0, 950], \"y\": [200.0, 548], \"mode\": \"lines\", \"line\": {\"width\": 2, \"color\": \"red\"}}, {\"type\": \"scatter\", \"x\": [1000.0, 891], \"y\": [600.0, 546], \"mode\": \"lines\", \"line\": {\"width\": 2, \"color\": \"green\"}}, {\"type\": \"scatter\", \"x\": [600.0, 540], \"y\": [1400.0, 1479], \"mode\": \"lines\", \"line\": {\"width\": 2, \"color\": \"green\"}}, {\"type\": \"scatter\", \"x\": [1000.0, 1149], \"y\": [200.0, 229], \"mode\": \"lines\", \"line\": {\"width\": 2, \"color\": \"green\"}}, {\"type\": \"scatter\", \"x\": [600.0, 790], \"y\": [600.0, 744], \"mode\": \"lines\", \"line\": {\"width\": 2, \"color\": \"green\"}}, {\"type\": \"scatter\", \"x\": [1400.0, 1515], \"y\": [200.0, 326], \"mode\": \"lines\", \"line\": {\"width\": 2, \"color\": \"green\"}}, {\"type\": \"scatter\", \"x\": [1000.0, 1048], \"y\": [200.0, 7], \"mode\": \"lines\", \"line\": {\"width\": 2, \"color\": \"green\"}}, {\"type\": \"scatter\", \"x\": [600.0, 215], \"y\": [1400.0, 1470], \"mode\": \"lines\", \"line\": {\"width\": 2, \"color\": \"green\"}}, {\"type\": \"scatter\", \"x\": [1000.0, 1241], \"y\": [600.0, 868], \"mode\": \"lines\", \"line\": {\"width\": 2, \"color\": \"green\"}}, {\"type\": \"scatter\", \"x\": [600.0, 924], \"y\": [200.0, 580], \"mode\": \"lines\", \"line\": {\"width\": 2, \"color\": \"green\"}}, {\"type\": \"scatter\", \"x\": [600.0, 858], \"y\": [600.0, 930], \"mode\": \"lines\", \"line\": {\"width\": 2, \"color\": \"red\"}}, {\"type\": \"scatter\", \"x\": [600.0, 778], \"y\": [200.0, 530], \"mode\": \"lines\", \"line\": {\"width\": 2, \"color\": \"green\"}}, {\"type\": \"scatter\", \"x\": [600.0, 814], \"y\": [1400.0, 1046], \"mode\": \"lines\", \"line\": {\"width\": 2, \"color\": \"green\"}}, {\"type\": \"scatter\", \"x\": [600.0, 767], \"y\": [200.0, 419], \"mode\": \"lines\", \"line\": {\"width\": 2, \"color\": \"green\"}}, {\"type\": \"scatter\", \"x\": [600.0, 310], \"y\": [1400.0, 1023], \"mode\": \"lines\", \"line\": {\"width\": 2, \"color\": \"green\"}}, {\"type\": \"scatter\", \"x\": [600.0, 743], \"y\": [600.0, 353], \"mode\": \"lines\", \"line\": {\"width\": 2, \"color\": \"green\"}}, {\"type\": \"scatter\", \"x\": [1400.0, 1014], \"y\": [1000.0, 637], \"mode\": \"lines\", \"line\": {\"width\": 2, \"color\": \"green\"}}, {\"type\": \"scatter\", \"x\": [1400.0, 1401], \"y\": [1000.0, 1313], \"mode\": \"lines\", \"line\": {\"width\": 2, \"color\": \"green\"}}, {\"type\": \"scatter\", \"x\": [1400.0, 1551], \"y\": [600.0, 617], \"mode\": \"lines\", \"line\": {\"width\": 2, \"color\": \"green\"}}, {\"type\": \"scatter\", \"x\": [1400.0, 1026], \"y\": [1000.0, 1194], \"mode\": \"lines\", \"line\": {\"width\": 2, \"color\": \"green\"}}, {\"type\": \"scatter\", \"x\": [200.0, 79], \"y\": [600.0, 864], \"mode\": \"lines\", \"line\": {\"width\": 2, \"color\": \"green\"}}, {\"type\": \"scatter\", \"x\": [200.0, 200.0, 200.0, 200.0, 600.0, 600.0, 600.0, 600.0, 1000.0, 1000.0, 1000.0, 1000.0, 1400.0, 1400.0, 1400.0, 1400.0, 768, 806, 524, 705, 1079, 892, 672, 823, 566, 1150, 1413, 422, 1045, 1374, 116, 185, 856, 1499, 899, 1012, 720, 937, 876, 1200, 179, 929, 1088, 854, 803, 1117, 384, 698, 727, 295, 958, 452, 408, 982, 685, 918, 1239, 1496, 834, 1240, 130, 1250, 1388, 1081, 705, 1008, 572, 979, 23, 785, 702, 47, 1499, 1134, 543, 1370, 562, 549, 1065, 1385, 753, 973, 798, 873, 1185, 597, 1031, 182, 1393, 488, 1057, 67, 80, 365, 293, 477, 739, 739, 848, 1352, 102, 1094, 989, 80, 56, 793, 558, 189, 608, 1335, 1293, 1032, 1305, 908, 926, 590, 863, 753, 694, 971, 1034, 733, 864, 946, 850, 1259, 715, 906, 1029, 617, 231, 864, 979, 276, 669, 806, 1567, 1073, 791, 921, 750, 1496, 279, 868, 108, 915, 533, 571, 810, 753, 1151, 503, 565, 1020, 1344, 421, 97, 1293, 1480, 559, 24, 1456, 1132, 686, 1247, 1049, 1258, 490, 98, 716, 715, 473, 924, 718, 1150, 1075, 1462, 397, 791, 1250, 286, 131, 1014, 275, 935, 402, 823, 1084, 380, 1425, 1097, 523, 684, 1063, 1067, 950, 891, 540, 1149, 790, 1515, 1048, 215, 1241, 924, 858, 778, 814, 767, 310, 743, 1014, 1401, 1551, 1026, 79], \"y\": [200.0, 600.0, 1000.0, 1400.0, 200.0, 600.0, 1000.0, 1400.0, 200.0, 600.0, 1000.0, 1400.0, 200.0, 600.0, 1000.0, 1400.0, 1037, 660, 823, 1572, 1152, 530, 1458, 940, 664, 1220, 1207, 292, 655, 695, 418, 310, 897, 536, 963, 513, 557, 1088, 1069, 617, 88, 951, 1298, 392, 1057, 1528, 538, 1057, 1056, 1307, 375, 493, 1466, 520, 700, 544, 593, 1009, 1411, 588, 1437, 1091, 398, 1139, 736, 1018, 557, 1077, 316, 114, 944, 482, 49, 935, 485, 1453, 805, 758, 1089, 1442, 823, 1119, 905, 566, 1271, 1459, 411, 903, 631, 1429, 969, 960, 647, 587, 489, 1385, 692, 1009, 781, 568, 415, 1026, 819, 770, 1143, 697, 581, 212, 1323, 1403, 27, 471, 264, 839, 663, 58, 697, 557, 815, 709, 543, 1020, 627, 674, 248, 619, 843, 741, 736, 1089, 1338, 938, 146, 1505, 288, 466, 317, 531, 1093, 875, 888, 269, 155, 51, 117, 333, 954, 717, 143, 1382, 717, 703, 899, 1062, 1378, 1553, 1067, 1488, 1179, 677, 1016, 556, 800, 523, 1535, 753, 29, 871, 1414, 937, 1548, 765, 575, 851, 829, 846, 756, 1131, 644, 1468, 854, 1565, 802, 157, 760, 904, 808, 948, 104, 285, 669, 435, 147, 1032, 34, 548, 546, 1479, 229, 744, 326, 7, 1470, 868, 580, 930, 530, 1046, 419, 1023, 353, 637, 1313, 617, 1194, 864], \"mode\": \"markers\", \"marker\": {\"size\": 8, \"color\": [\"orange\", \"orange\", \"orange\", \"orange\", \"orange\", \"orange\", \"orange\", \"orange\", \"orange\", \"orange\", \"orange\", \"orange\", \"orange\", \"orange\", \"orange\", \"orange\", \"blue\", \"magenta\", \"blue\", \"magenta\", \"magenta\", \"blue\", \"magenta\", \"blue\", \"blue\", \"magenta\", \"magenta\", \"magenta\", \"blue\", \"magenta\", \"magenta\", \"magenta\", \"magenta\", \"magenta\", \"magenta\", \"blue\", \"magenta\", \"blue\", \"blue\", \"magenta\", \"magenta\", \"blue\", \"magenta\", \"magenta\", \"blue\", \"magenta\", \"magenta\", \"blue\", \"magenta\", \"magenta\", \"magenta\", \"magenta\", \"magenta\", \"blue\", \"blue\", \"blue\", \"magenta\", \"magenta\", \"magenta\", \"magenta\", \"magenta\", \"magenta\", \"magenta\", \"magenta\", \"blue\", \"blue\", \"magenta\", \"blue\", \"magenta\", \"magenta\", \"blue\", \"magenta\", \"magenta\", \"magenta\", \"magenta\", \"magenta\", \"blue\", \"blue\", \"magenta\", \"magenta\", \"blue\", \"magenta\", \"blue\", \"magenta\", \"magenta\", \"magenta\", \"magenta\", \"magenta\", \"magenta\", \"magenta\", \"blue\", \"magenta\", \"magenta\", \"magenta\", \"magenta\", \"magenta\", \"blue\", \"blue\", \"magenta\", \"magenta\", \"magenta\", \"blue\", \"blue\", \"magenta\", \"magenta\", \"blue\", \"blue\", \"magenta\", \"magenta\", \"magenta\", \"magenta\", \"magenta\", \"magenta\", \"blue\", \"blue\", \"magenta\", \"blue\", \"magenta\", \"blue\", \"blue\", \"blue\", \"blue\", \"blue\", \"blue\", \"magenta\", \"magenta\", \"magenta\", \"magenta\", \"blue\", \"blue\", \"magenta\", \"blue\", \"magenta\", \"magenta\", \"magenta\", \"magenta\", \"magenta\", \"blue\", \"blue\", \"blue\", \"blue\", \"magenta\", \"magenta\", \"magenta\", \"magenta\", \"magenta\", \"magenta\", \"blue\", \"magenta\", \"magenta\", \"magenta\", \"blue\", \"blue\", \"magenta\", \"magenta\", \"magenta\", \"magenta\", \"magenta\", \"magenta\", \"blue\", \"magenta\", \"magenta\", \"magenta\", \"magenta\", \"magenta\", \"blue\", \"magenta\", \"magenta\", \"magenta\", \"blue\", \"magenta\", \"magenta\", \"magenta\", \"magenta\", \"magenta\", \"blue\", \"magenta\", \"magenta\", \"blue\", \"magenta\", \"magenta\", \"magenta\", \"magenta\", \"magenta\", \"blue\", \"magenta\", \"magenta\", \"blue\", \"magenta\", \"magenta\", \"blue\", \"magenta\", \"magenta\", \"blue\", \"magenta\", \"blue\", \"blue\", \"magenta\", \"magenta\", \"blue\", \"magenta\", \"magenta\", \"magenta\", \"magenta\", \"magenta\", \"blue\", \"blue\", \"blue\", \"magenta\", \"magenta\", \"magenta\", \"blue\", \"magenta\", \"magenta\", \"magenta\", \"magenta\"]}}], {\"xaxis\": {\"range\": [0, 1600], \"title\": \"x\"}, \"yaxis\": {\"range\": [0, 1600], \"title\": \"y\"}, \"title\": \"UE and AP Distribution in the grid\", \"height\": 600, \"width\": 800, \"showlegend\": false}, {\"showLink\": true, \"linkText\": \"Export to plot.ly\"})});</script>"
      ]
     },
     "metadata": {},
     "output_type": "display_data"
    }
   ],
   "source": [
    "# Show distribution of UEs and APs\n",
    "ue_ap_list = result.UE_AP_LIST[0]\n",
    "nodes = [(0, 0)]\n",
    "nodes += [tuple(x.location) for x in ue_ap_list]\n",
    "\n",
    "edges = []\n",
    "edge_color = []\n",
    "# edge_color = ['green'] * (len(edges))\n",
    "\n",
    "# add edges between UE and AP\n",
    "for i, ue in enumerate(ue_ap_list[16:]):\n",
    "    if ue.sla == 1:\n",
    "        color = \"green\"\n",
    "    else:\n",
    "        color = \"red\"\n",
    "    edges.append((ue.ap, i+17))\n",
    "    edge_color.append(color)\n",
    "\n",
    "    \n",
    "nodes_color = []\n",
    "nodes_color += ['orange'] * 16\n",
    "\n",
    "for ue in ue_ap_list[16:]:\n",
    "    if ue.app == 2:\n",
    "        # video UEs\n",
    "        color = 'blue'\n",
    "    else:\n",
    "        # Web UEs\n",
    "        color = 'magenta'\n",
    "    nodes_color.append(color)\n",
    "\n",
    "\n",
    "\n",
    "\n",
    "n_x, n_y = zip(*nodes[1:])\n",
    "nodes_dict=dict(type='scatter',\n",
    "           x=n_x,\n",
    "           y=n_y,\n",
    "           mode='markers',\n",
    "           marker=dict(size=8, color=nodes_color))\n",
    "\n",
    "edges_list = []\n",
    "for k, e in enumerate(edges):\n",
    "    info = dict(\n",
    "        type='scatter',\n",
    "        x=[nodes[e[0]][0], nodes[e[1]][0]],\n",
    "        y=[nodes[e[0]][1], nodes[e[1]][1]],\n",
    "        mode='lines',\n",
    "        line=dict(width=2, color=edge_color[k])\n",
    "    )\n",
    "    edges_list.append(info)\n",
    "\n",
    "data=edges_list+[nodes_dict]\n",
    "\n",
    "layout_dict = dict(xaxis={'range': [0, 1600], 'title': 'x'},\n",
    "              yaxis={'range': [0, 1600], 'title': 'y'},\n",
    "              title=\"UE and AP Distribution in the grid\",\n",
    "              height=600,\n",
    "              width=800,\n",
    "              showlegend=False\n",
    "              )\n",
    "layout = go.Layout(layout_dict)\n",
    "\n",
    "fig=dict(data=data, layout=layout)\n",
    "\n",
    "plotly.offline.iplot(fig)"
   ]
  },
  {
   "cell_type": "code",
   "execution_count": null,
   "metadata": {},
   "outputs": [],
   "source": []
  },
  {
   "cell_type": "code",
   "execution_count": null,
   "metadata": {},
   "outputs": [],
   "source": []
  },
  {
   "cell_type": "code",
   "execution_count": 11,
   "metadata": {},
   "outputs": [
    {
     "data": {
      "application/vnd.plotly.v1+json": {
       "data": [
        {
         "name": "Rewards",
         "type": "scatter",
         "x": 400,
         "y": [
          220.25,
          277.25,
          288.25,
          302.5,
          288.75,
          297,
          311.25,
          320,
          331.25,
          343.25,
          329.25,
          304.5,
          319.25,
          308.75,
          324,
          325,
          343,
          329.25,
          329,
          341,
          332.75,
          334,
          344.5,
          335.5,
          360.75,
          342,
          351,
          351,
          355.5,
          330.75,
          341.25,
          361.5,
          346.75,
          355.75,
          353.25,
          336.25,
          326.75,
          345.5,
          365.25,
          339.75,
          346.75,
          348.5,
          340.5,
          345.5,
          348.5,
          345.75,
          334.25,
          333.25,
          341,
          331.75,
          322.5,
          343.5,
          332.25,
          344.5,
          336.75,
          340.75,
          335.5,
          321,
          325.5,
          345.5,
          322.75,
          332,
          350,
          340.75,
          348.5,
          331.75,
          336,
          341.5,
          339.25,
          340,
          325,
          336.75,
          334.5,
          346.75,
          347,
          356,
          354.75,
          346.25,
          341.75,
          344.5,
          352.25,
          365.5,
          350,
          358,
          364.75,
          342.25,
          348.5,
          354.75,
          338.25,
          347,
          350,
          348.5,
          346.25,
          350,
          346.25,
          351.5,
          363,
          364.5,
          367.25,
          365.5,
          364.75,
          359.75,
          374,
          363.75,
          360,
          362.5,
          360.5,
          370.5,
          368,
          355.75,
          357.75,
          356.25,
          355.25,
          332,
          348.25,
          333.5,
          344,
          340.75,
          336.5,
          314.25,
          321,
          321,
          327.75,
          336.5,
          338.25,
          332,
          334.25,
          329.5,
          338.75,
          337.5,
          354,
          330.5,
          332.5,
          333.25,
          353.25,
          351.75,
          351.5,
          360.75,
          351.75,
          354.25,
          340.25,
          349.75,
          352.75,
          345.25,
          352,
          352.75,
          359,
          350,
          360.5,
          358.5,
          345.75,
          353.75,
          346.5,
          349.75,
          362.25,
          355.25,
          354.75,
          362.75,
          361.5,
          362,
          360.25,
          353.75,
          353.25,
          354.25,
          356,
          365.25,
          359.75,
          341,
          354,
          347,
          325.5,
          336.75,
          339.25,
          333.5,
          340.25,
          342.75,
          337.75,
          344.75,
          351.75,
          351.5,
          359.25,
          355.25,
          362.25,
          357.5,
          352.75,
          338.5,
          341,
          333.25,
          355,
          340.75,
          341,
          351.75,
          352.25,
          340,
          320,
          332.5,
          324,
          354,
          354.75,
          350.5,
          340.75,
          323.5,
          322.75,
          323.5,
          339.5,
          350.25,
          326.75,
          312.5,
          315.75,
          303,
          302.5,
          319.5,
          326,
          360.75,
          340.5,
          354,
          354,
          343.25,
          345,
          345,
          354.5,
          374.25,
          371,
          374,
          367.75,
          352,
          351.5,
          365.5,
          377.25,
          366.25,
          352.25,
          361.5,
          378.25,
          375.75,
          370.25,
          352.25,
          384.75,
          379,
          381.25,
          380.75,
          376.5,
          380.25,
          380.5,
          372.75,
          345,
          350.75,
          356.5,
          349.75,
          351.75,
          351.75,
          339.5,
          363.5,
          364.75,
          363.75,
          350.5,
          347.25,
          355.25,
          349,
          367.25,
          367.25,
          376,
          373.25,
          373.5,
          377.75,
          385,
          393.75,
          376.25,
          384,
          383.5,
          380.5,
          385.25,
          383,
          374.25,
          385.5,
          387,
          366.25,
          366.75,
          359.75,
          354.5,
          369.25,
          354.25,
          363.25,
          365,
          354.25,
          333.25,
          357,
          344,
          347.25,
          361.5,
          357.25,
          336.25,
          342.25,
          347.75,
          353.75,
          341.75,
          336.75,
          340.75,
          367.75,
          374.25,
          382.75,
          382.75,
          384.75,
          360.5,
          368,
          364.25,
          379.75,
          386.5,
          382.5,
          377.5,
          383,
          362.75,
          365.25,
          365.25,
          369,
          375.5,
          373.5,
          373,
          367.5,
          356,
          371,
          377.75,
          375.75,
          381.25,
          380,
          378.25,
          369.5,
          367,
          369.75,
          336.75,
          360.75,
          367,
          361.75,
          357,
          355.75,
          358.25,
          334.5,
          365.75,
          371.75,
          369.5,
          377.25,
          388.25,
          380.25,
          381.75,
          363.5,
          365.25,
          386,
          390,
          392,
          388.75,
          391.75,
          395,
          394.75,
          399.25,
          399.5,
          409.25,
          379.25,
          393.75,
          394,
          389.75,
          383,
          388,
          388,
          367,
          388.25,
          394.25,
          398.75,
          405.75,
          388.75,
          386.25,
          389.25,
          380.75,
          364.25,
          364.25,
          371.5,
          394.25,
          392.5,
          388.75,
          384,
          363,
          366.5,
          377.5,
          392.25,
          371.75,
          381.25,
          388,
          384.25,
          382.75,
          385.75,
          392.25,
          387,
          389.5,
          389.25,
          394,
          393.75,
          395.25,
          406,
          408.5,
          413,
          407.75,
          383
         ]
        }
       ],
       "layout": {
        "height": 500,
        "showlegend": true,
        "title": "Rewards over time",
        "width": 800,
        "xaxis": {
         "title": "Episodes"
        },
        "yaxis": {
         "title": "Rewards"
        }
       }
      },
      "text/html": [
       "<div id=\"d3d9c727-92a8-4c1a-8c94-81d6e673c966\" style=\"height: 500px; width: 800px;\" class=\"plotly-graph-div\"></div><script type=\"text/javascript\">require([\"plotly\"], function(Plotly) { window.PLOTLYENV=window.PLOTLYENV || {};window.PLOTLYENV.BASE_URL=\"https://plot.ly\";Plotly.newPlot(\"d3d9c727-92a8-4c1a-8c94-81d6e673c966\", [{\"type\": \"scatter\", \"x\": 400, \"y\": [220.25, 277.25, 288.25, 302.5, 288.75, 297.0, 311.25, 320.0, 331.25, 343.25, 329.25, 304.5, 319.25, 308.75, 324.0, 325.0, 343.0, 329.25, 329.0, 341.0, 332.75, 334.0, 344.5, 335.5, 360.75, 342.0, 351.0, 351.0, 355.5, 330.75, 341.25, 361.5, 346.75, 355.75, 353.25, 336.25, 326.75, 345.5, 365.25, 339.75, 346.75, 348.5, 340.5, 345.5, 348.5, 345.75, 334.25, 333.25, 341.0, 331.75, 322.5, 343.5, 332.25, 344.5, 336.75, 340.75, 335.5, 321.0, 325.5, 345.5, 322.75, 332.0, 350.0, 340.75, 348.5, 331.75, 336.0, 341.5, 339.25, 340.0, 325.0, 336.75, 334.5, 346.75, 347.0, 356.0, 354.75, 346.25, 341.75, 344.5, 352.25, 365.5, 350.0, 358.0, 364.75, 342.25, 348.5, 354.75, 338.25, 347.0, 350.0, 348.5, 346.25, 350.0, 346.25, 351.5, 363.0, 364.5, 367.25, 365.5, 364.75, 359.75, 374.0, 363.75, 360.0, 362.5, 360.5, 370.5, 368.0, 355.75, 357.75, 356.25, 355.25, 332.0, 348.25, 333.5, 344.0, 340.75, 336.5, 314.25, 321.0, 321.0, 327.75, 336.5, 338.25, 332.0, 334.25, 329.5, 338.75, 337.5, 354.0, 330.5, 332.5, 333.25, 353.25, 351.75, 351.5, 360.75, 351.75, 354.25, 340.25, 349.75, 352.75, 345.25, 352.0, 352.75, 359.0, 350.0, 360.5, 358.5, 345.75, 353.75, 346.5, 349.75, 362.25, 355.25, 354.75, 362.75, 361.5, 362.0, 360.25, 353.75, 353.25, 354.25, 356.0, 365.25, 359.75, 341.0, 354.0, 347.0, 325.5, 336.75, 339.25, 333.5, 340.25, 342.75, 337.75, 344.75, 351.75, 351.5, 359.25, 355.25, 362.25, 357.5, 352.75, 338.5, 341.0, 333.25, 355.0, 340.75, 341.0, 351.75, 352.25, 340.0, 320.0, 332.5, 324.0, 354.0, 354.75, 350.5, 340.75, 323.5, 322.75, 323.5, 339.5, 350.25, 326.75, 312.5, 315.75, 303.0, 302.5, 319.5, 326.0, 360.75, 340.5, 354.0, 354.0, 343.25, 345.0, 345.0, 354.5, 374.25, 371.0, 374.0, 367.75, 352.0, 351.5, 365.5, 377.25, 366.25, 352.25, 361.5, 378.25, 375.75, 370.25, 352.25, 384.75, 379.0, 381.25, 380.75, 376.5, 380.25, 380.5, 372.75, 345.0, 350.75, 356.5, 349.75, 351.75, 351.75, 339.5, 363.5, 364.75, 363.75, 350.5, 347.25, 355.25, 349.0, 367.25, 367.25, 376.0, 373.25, 373.5, 377.75, 385.0, 393.75, 376.25, 384.0, 383.5, 380.5, 385.25, 383.0, 374.25, 385.5, 387.0, 366.25, 366.75, 359.75, 354.5, 369.25, 354.25, 363.25, 365.0, 354.25, 333.25, 357.0, 344.0, 347.25, 361.5, 357.25, 336.25, 342.25, 347.75, 353.75, 341.75, 336.75, 340.75, 367.75, 374.25, 382.75, 382.75, 384.75, 360.5, 368.0, 364.25, 379.75, 386.5, 382.5, 377.5, 383.0, 362.75, 365.25, 365.25, 369.0, 375.5, 373.5, 373.0, 367.5, 356.0, 371.0, 377.75, 375.75, 381.25, 380.0, 378.25, 369.5, 367.0, 369.75, 336.75, 360.75, 367.0, 361.75, 357.0, 355.75, 358.25, 334.5, 365.75, 371.75, 369.5, 377.25, 388.25, 380.25, 381.75, 363.5, 365.25, 386.0, 390.0, 392.0, 388.75, 391.75, 395.0, 394.75, 399.25, 399.5, 409.25, 379.25, 393.75, 394.0, 389.75, 383.0, 388.0, 388.0, 367.0, 388.25, 394.25, 398.75, 405.75, 388.75, 386.25, 389.25, 380.75, 364.25, 364.25, 371.5, 394.25, 392.5, 388.75, 384.0, 363.0, 366.5, 377.5, 392.25, 371.75, 381.25, 388.0, 384.25, 382.75, 385.75, 392.25, 387.0, 389.5, 389.25, 394.0, 393.75, 395.25, 406.0, 408.5, 413.0, 407.75, 383.0], \"name\": \"Rewards\"}], {\"height\": 500, \"width\": 800, \"title\": \"Rewards over time\", \"xaxis\": {\"title\": \"Episodes\"}, \"yaxis\": {\"title\": \"Rewards\"}, \"showlegend\": true}, {\"showLink\": false, \"linkText\": null})});</script>"
      ],
      "text/vnd.plotly.v1+html": [
       "<div id=\"d3d9c727-92a8-4c1a-8c94-81d6e673c966\" style=\"height: 500px; width: 800px;\" class=\"plotly-graph-div\"></div><script type=\"text/javascript\">require([\"plotly\"], function(Plotly) { window.PLOTLYENV=window.PLOTLYENV || {};window.PLOTLYENV.BASE_URL=\"https://plot.ly\";Plotly.newPlot(\"d3d9c727-92a8-4c1a-8c94-81d6e673c966\", [{\"type\": \"scatter\", \"x\": 400, \"y\": [220.25, 277.25, 288.25, 302.5, 288.75, 297.0, 311.25, 320.0, 331.25, 343.25, 329.25, 304.5, 319.25, 308.75, 324.0, 325.0, 343.0, 329.25, 329.0, 341.0, 332.75, 334.0, 344.5, 335.5, 360.75, 342.0, 351.0, 351.0, 355.5, 330.75, 341.25, 361.5, 346.75, 355.75, 353.25, 336.25, 326.75, 345.5, 365.25, 339.75, 346.75, 348.5, 340.5, 345.5, 348.5, 345.75, 334.25, 333.25, 341.0, 331.75, 322.5, 343.5, 332.25, 344.5, 336.75, 340.75, 335.5, 321.0, 325.5, 345.5, 322.75, 332.0, 350.0, 340.75, 348.5, 331.75, 336.0, 341.5, 339.25, 340.0, 325.0, 336.75, 334.5, 346.75, 347.0, 356.0, 354.75, 346.25, 341.75, 344.5, 352.25, 365.5, 350.0, 358.0, 364.75, 342.25, 348.5, 354.75, 338.25, 347.0, 350.0, 348.5, 346.25, 350.0, 346.25, 351.5, 363.0, 364.5, 367.25, 365.5, 364.75, 359.75, 374.0, 363.75, 360.0, 362.5, 360.5, 370.5, 368.0, 355.75, 357.75, 356.25, 355.25, 332.0, 348.25, 333.5, 344.0, 340.75, 336.5, 314.25, 321.0, 321.0, 327.75, 336.5, 338.25, 332.0, 334.25, 329.5, 338.75, 337.5, 354.0, 330.5, 332.5, 333.25, 353.25, 351.75, 351.5, 360.75, 351.75, 354.25, 340.25, 349.75, 352.75, 345.25, 352.0, 352.75, 359.0, 350.0, 360.5, 358.5, 345.75, 353.75, 346.5, 349.75, 362.25, 355.25, 354.75, 362.75, 361.5, 362.0, 360.25, 353.75, 353.25, 354.25, 356.0, 365.25, 359.75, 341.0, 354.0, 347.0, 325.5, 336.75, 339.25, 333.5, 340.25, 342.75, 337.75, 344.75, 351.75, 351.5, 359.25, 355.25, 362.25, 357.5, 352.75, 338.5, 341.0, 333.25, 355.0, 340.75, 341.0, 351.75, 352.25, 340.0, 320.0, 332.5, 324.0, 354.0, 354.75, 350.5, 340.75, 323.5, 322.75, 323.5, 339.5, 350.25, 326.75, 312.5, 315.75, 303.0, 302.5, 319.5, 326.0, 360.75, 340.5, 354.0, 354.0, 343.25, 345.0, 345.0, 354.5, 374.25, 371.0, 374.0, 367.75, 352.0, 351.5, 365.5, 377.25, 366.25, 352.25, 361.5, 378.25, 375.75, 370.25, 352.25, 384.75, 379.0, 381.25, 380.75, 376.5, 380.25, 380.5, 372.75, 345.0, 350.75, 356.5, 349.75, 351.75, 351.75, 339.5, 363.5, 364.75, 363.75, 350.5, 347.25, 355.25, 349.0, 367.25, 367.25, 376.0, 373.25, 373.5, 377.75, 385.0, 393.75, 376.25, 384.0, 383.5, 380.5, 385.25, 383.0, 374.25, 385.5, 387.0, 366.25, 366.75, 359.75, 354.5, 369.25, 354.25, 363.25, 365.0, 354.25, 333.25, 357.0, 344.0, 347.25, 361.5, 357.25, 336.25, 342.25, 347.75, 353.75, 341.75, 336.75, 340.75, 367.75, 374.25, 382.75, 382.75, 384.75, 360.5, 368.0, 364.25, 379.75, 386.5, 382.5, 377.5, 383.0, 362.75, 365.25, 365.25, 369.0, 375.5, 373.5, 373.0, 367.5, 356.0, 371.0, 377.75, 375.75, 381.25, 380.0, 378.25, 369.5, 367.0, 369.75, 336.75, 360.75, 367.0, 361.75, 357.0, 355.75, 358.25, 334.5, 365.75, 371.75, 369.5, 377.25, 388.25, 380.25, 381.75, 363.5, 365.25, 386.0, 390.0, 392.0, 388.75, 391.75, 395.0, 394.75, 399.25, 399.5, 409.25, 379.25, 393.75, 394.0, 389.75, 383.0, 388.0, 388.0, 367.0, 388.25, 394.25, 398.75, 405.75, 388.75, 386.25, 389.25, 380.75, 364.25, 364.25, 371.5, 394.25, 392.5, 388.75, 384.0, 363.0, 366.5, 377.5, 392.25, 371.75, 381.25, 388.0, 384.25, 382.75, 385.75, 392.25, 387.0, 389.5, 389.25, 394.0, 393.75, 395.25, 406.0, 408.5, 413.0, 407.75, 383.0], \"name\": \"Rewards\"}], {\"height\": 500, \"width\": 800, \"title\": \"Rewards over time\", \"xaxis\": {\"title\": \"Episodes\"}, \"yaxis\": {\"title\": \"Rewards\"}, \"showlegend\": true}, {\"showLink\": false, \"linkText\": null})});</script>"
      ]
     },
     "metadata": {},
     "output_type": "display_data"
    }
   ],
   "source": [
    "# Create rewards graph\n",
    "rewards = go.Scatter(\n",
    "    x = len(result.Rewards),\n",
    "    y = result.Rewards,\n",
    "    name='Rewards'\n",
    ")\n",
    "\n",
    "data = [rewards]\n",
    "\n",
    "\n",
    "# Plot and embed in ipython notebook!\n",
    "plotly.offline.iplot(\n",
    "    {\"data\": data,\n",
    "     \"layout\": go.Layout(\n",
    "         height=500,\n",
    "         width=800,\n",
    "         title=\"Rewards over time\",\n",
    "         xaxis=dict(\n",
    "             title='Episodes',\n",
    "         ),\n",
    "         yaxis=dict(\n",
    "             title='Rewards',\n",
    "         ), \n",
    "         showlegend=True)},\n",
    "    show_link=False,\n",
    "    link_text=None)\n",
    "\n"
   ]
  },
  {
   "cell_type": "code",
   "execution_count": 12,
   "metadata": {},
   "outputs": [
    {
     "data": {
      "application/vnd.plotly.v1+json": {
       "data": [
        {
         "name": "Handoffs",
         "type": "scatter",
         "x": 400,
         "y": [
          25,
          9,
          13,
          10,
          13,
          8,
          7,
          8,
          5,
          1,
          7,
          10,
          5,
          11,
          8,
          4,
          2,
          5,
          6,
          4,
          3,
          10,
          6,
          12,
          3,
          8,
          6,
          8,
          6,
          7,
          5,
          6,
          7,
          3,
          5,
          9,
          7,
          6,
          5,
          7,
          5,
          6,
          6,
          6,
          2,
          3,
          9,
          7,
          6,
          7,
          10,
          6,
          7,
          4,
          7,
          3,
          6,
          8,
          6,
          2,
          7,
          6,
          4,
          3,
          6,
          7,
          6,
          8,
          5,
          4,
          4,
          7,
          8,
          7,
          6,
          4,
          3,
          7,
          3,
          4,
          9,
          2,
          6,
          4,
          3,
          7,
          4,
          3,
          5,
          4,
          4,
          4,
          5,
          4,
          5,
          4,
          4,
          6,
          5,
          6,
          5,
          7,
          4,
          7,
          8,
          10,
          6,
          6,
          4,
          5,
          5,
          7,
          5,
          10,
          3,
          8,
          2,
          5,
          6,
          7,
          4,
          8,
          7,
          6,
          5,
          6,
          5,
          6,
          3,
          6,
          4,
          6,
          4,
          9,
          5,
          5,
          6,
          3,
          5,
          5,
          9,
          7,
          7,
          7,
          6,
          5,
          4,
          6,
          2,
          2,
          7,
          5,
          6,
          7,
          1,
          5,
          7,
          3,
          2,
          4,
          5,
          7,
          7,
          5,
          10,
          5,
          3,
          8,
          4,
          8,
          6,
          7,
          5,
          6,
          5,
          3,
          5,
          3,
          3,
          4,
          5,
          5,
          5,
          6,
          7,
          6,
          4,
          5,
          0,
          7,
          6,
          7,
          5,
          4,
          8,
          6,
          8,
          8,
          3,
          4,
          5,
          6,
          7,
          6,
          6,
          9,
          7,
          6,
          7,
          6,
          6,
          6,
          10,
          3,
          6,
          4,
          4,
          7,
          4,
          4,
          6,
          5,
          4,
          2,
          7,
          8,
          6,
          6,
          1,
          5,
          7,
          8,
          1,
          3,
          5,
          7,
          3,
          4,
          5,
          3,
          6,
          5,
          4,
          7,
          10,
          7,
          6,
          3,
          3,
          3,
          4,
          2,
          3,
          3,
          6,
          5,
          1,
          6,
          5,
          7,
          4,
          3,
          2,
          7,
          4,
          3,
          9,
          4,
          6,
          6,
          5,
          4,
          5,
          2,
          4,
          9,
          5,
          7,
          8,
          3,
          11,
          5,
          2,
          5,
          13,
          4,
          8,
          5,
          6,
          5,
          7,
          3,
          7,
          3,
          7,
          7,
          5,
          11,
          5,
          3,
          5,
          3,
          6,
          4,
          5,
          7,
          2,
          2,
          2,
          4,
          7,
          7,
          5,
          4,
          2,
          2,
          4,
          6,
          4,
          4,
          5,
          5,
          5,
          4,
          5,
          4,
          4,
          3,
          7,
          3,
          4,
          3,
          6,
          3,
          1,
          6,
          3,
          3,
          2,
          3,
          9,
          5,
          3,
          6,
          5,
          6,
          4,
          4,
          3,
          5,
          4,
          7,
          5,
          6,
          1,
          5,
          7,
          4,
          3,
          4,
          4,
          4,
          4,
          5,
          5,
          7,
          3,
          9,
          5,
          5,
          1,
          5,
          5,
          4,
          5,
          6,
          5,
          4,
          4,
          2,
          2,
          1,
          7,
          5,
          2,
          3,
          5,
          3,
          1,
          4,
          4,
          3,
          4,
          1,
          1,
          4,
          2,
          0,
          3,
          4
         ]
        }
       ],
       "layout": {
        "height": 500,
        "showlegend": true,
        "title": "Handoffs over time",
        "width": 800,
        "xaxis": {
         "title": "Episodes"
        },
        "yaxis": {
         "title": "Handoffs"
        }
       }
      },
      "text/html": [
       "<div id=\"dda80dca-2030-4a88-a09c-abfbac68ab9e\" style=\"height: 500px; width: 800px;\" class=\"plotly-graph-div\"></div><script type=\"text/javascript\">require([\"plotly\"], function(Plotly) { window.PLOTLYENV=window.PLOTLYENV || {};window.PLOTLYENV.BASE_URL=\"https://plot.ly\";Plotly.newPlot(\"dda80dca-2030-4a88-a09c-abfbac68ab9e\", [{\"type\": \"scatter\", \"x\": 400, \"y\": [25.0, 9.0, 13.0, 10.0, 13.0, 8.0, 7.0, 8.0, 5.0, 1.0, 7.0, 10.0, 5.0, 11.0, 8.0, 4.0, 2.0, 5.0, 6.0, 4.0, 3.0, 10.0, 6.0, 12.0, 3.0, 8.0, 6.0, 8.0, 6.0, 7.0, 5.0, 6.0, 7.0, 3.0, 5.0, 9.0, 7.0, 6.0, 5.0, 7.0, 5.0, 6.0, 6.0, 6.0, 2.0, 3.0, 9.0, 7.0, 6.0, 7.0, 10.0, 6.0, 7.0, 4.0, 7.0, 3.0, 6.0, 8.0, 6.0, 2.0, 7.0, 6.0, 4.0, 3.0, 6.0, 7.0, 6.0, 8.0, 5.0, 4.0, 4.0, 7.0, 8.0, 7.0, 6.0, 4.0, 3.0, 7.0, 3.0, 4.0, 9.0, 2.0, 6.0, 4.0, 3.0, 7.0, 4.0, 3.0, 5.0, 4.0, 4.0, 4.0, 5.0, 4.0, 5.0, 4.0, 4.0, 6.0, 5.0, 6.0, 5.0, 7.0, 4.0, 7.0, 8.0, 10.0, 6.0, 6.0, 4.0, 5.0, 5.0, 7.0, 5.0, 10.0, 3.0, 8.0, 2.0, 5.0, 6.0, 7.0, 4.0, 8.0, 7.0, 6.0, 5.0, 6.0, 5.0, 6.0, 3.0, 6.0, 4.0, 6.0, 4.0, 9.0, 5.0, 5.0, 6.0, 3.0, 5.0, 5.0, 9.0, 7.0, 7.0, 7.0, 6.0, 5.0, 4.0, 6.0, 2.0, 2.0, 7.0, 5.0, 6.0, 7.0, 1.0, 5.0, 7.0, 3.0, 2.0, 4.0, 5.0, 7.0, 7.0, 5.0, 10.0, 5.0, 3.0, 8.0, 4.0, 8.0, 6.0, 7.0, 5.0, 6.0, 5.0, 3.0, 5.0, 3.0, 3.0, 4.0, 5.0, 5.0, 5.0, 6.0, 7.0, 6.0, 4.0, 5.0, 0.0, 7.0, 6.0, 7.0, 5.0, 4.0, 8.0, 6.0, 8.0, 8.0, 3.0, 4.0, 5.0, 6.0, 7.0, 6.0, 6.0, 9.0, 7.0, 6.0, 7.0, 6.0, 6.0, 6.0, 10.0, 3.0, 6.0, 4.0, 4.0, 7.0, 4.0, 4.0, 6.0, 5.0, 4.0, 2.0, 7.0, 8.0, 6.0, 6.0, 1.0, 5.0, 7.0, 8.0, 1.0, 3.0, 5.0, 7.0, 3.0, 4.0, 5.0, 3.0, 6.0, 5.0, 4.0, 7.0, 10.0, 7.0, 6.0, 3.0, 3.0, 3.0, 4.0, 2.0, 3.0, 3.0, 6.0, 5.0, 1.0, 6.0, 5.0, 7.0, 4.0, 3.0, 2.0, 7.0, 4.0, 3.0, 9.0, 4.0, 6.0, 6.0, 5.0, 4.0, 5.0, 2.0, 4.0, 9.0, 5.0, 7.0, 8.0, 3.0, 11.0, 5.0, 2.0, 5.0, 13.0, 4.0, 8.0, 5.0, 6.0, 5.0, 7.0, 3.0, 7.0, 3.0, 7.0, 7.0, 5.0, 11.0, 5.0, 3.0, 5.0, 3.0, 6.0, 4.0, 5.0, 7.0, 2.0, 2.0, 2.0, 4.0, 7.0, 7.0, 5.0, 4.0, 2.0, 2.0, 4.0, 6.0, 4.0, 4.0, 5.0, 5.0, 5.0, 4.0, 5.0, 4.0, 4.0, 3.0, 7.0, 3.0, 4.0, 3.0, 6.0, 3.0, 1.0, 6.0, 3.0, 3.0, 2.0, 3.0, 9.0, 5.0, 3.0, 6.0, 5.0, 6.0, 4.0, 4.0, 3.0, 5.0, 4.0, 7.0, 5.0, 6.0, 1.0, 5.0, 7.0, 4.0, 3.0, 4.0, 4.0, 4.0, 4.0, 5.0, 5.0, 7.0, 3.0, 9.0, 5.0, 5.0, 1.0, 5.0, 5.0, 4.0, 5.0, 6.0, 5.0, 4.0, 4.0, 2.0, 2.0, 1.0, 7.0, 5.0, 2.0, 3.0, 5.0, 3.0, 1.0, 4.0, 4.0, 3.0, 4.0, 1.0, 1.0, 4.0, 2.0, 0.0, 3.0, 4.0], \"name\": \"Handoffs\"}], {\"height\": 500, \"width\": 800, \"title\": \"Handoffs over time\", \"xaxis\": {\"title\": \"Episodes\"}, \"yaxis\": {\"title\": \"Handoffs\"}, \"showlegend\": true}, {\"showLink\": false, \"linkText\": null})});</script>"
      ],
      "text/vnd.plotly.v1+html": [
       "<div id=\"dda80dca-2030-4a88-a09c-abfbac68ab9e\" style=\"height: 500px; width: 800px;\" class=\"plotly-graph-div\"></div><script type=\"text/javascript\">require([\"plotly\"], function(Plotly) { window.PLOTLYENV=window.PLOTLYENV || {};window.PLOTLYENV.BASE_URL=\"https://plot.ly\";Plotly.newPlot(\"dda80dca-2030-4a88-a09c-abfbac68ab9e\", [{\"type\": \"scatter\", \"x\": 400, \"y\": [25.0, 9.0, 13.0, 10.0, 13.0, 8.0, 7.0, 8.0, 5.0, 1.0, 7.0, 10.0, 5.0, 11.0, 8.0, 4.0, 2.0, 5.0, 6.0, 4.0, 3.0, 10.0, 6.0, 12.0, 3.0, 8.0, 6.0, 8.0, 6.0, 7.0, 5.0, 6.0, 7.0, 3.0, 5.0, 9.0, 7.0, 6.0, 5.0, 7.0, 5.0, 6.0, 6.0, 6.0, 2.0, 3.0, 9.0, 7.0, 6.0, 7.0, 10.0, 6.0, 7.0, 4.0, 7.0, 3.0, 6.0, 8.0, 6.0, 2.0, 7.0, 6.0, 4.0, 3.0, 6.0, 7.0, 6.0, 8.0, 5.0, 4.0, 4.0, 7.0, 8.0, 7.0, 6.0, 4.0, 3.0, 7.0, 3.0, 4.0, 9.0, 2.0, 6.0, 4.0, 3.0, 7.0, 4.0, 3.0, 5.0, 4.0, 4.0, 4.0, 5.0, 4.0, 5.0, 4.0, 4.0, 6.0, 5.0, 6.0, 5.0, 7.0, 4.0, 7.0, 8.0, 10.0, 6.0, 6.0, 4.0, 5.0, 5.0, 7.0, 5.0, 10.0, 3.0, 8.0, 2.0, 5.0, 6.0, 7.0, 4.0, 8.0, 7.0, 6.0, 5.0, 6.0, 5.0, 6.0, 3.0, 6.0, 4.0, 6.0, 4.0, 9.0, 5.0, 5.0, 6.0, 3.0, 5.0, 5.0, 9.0, 7.0, 7.0, 7.0, 6.0, 5.0, 4.0, 6.0, 2.0, 2.0, 7.0, 5.0, 6.0, 7.0, 1.0, 5.0, 7.0, 3.0, 2.0, 4.0, 5.0, 7.0, 7.0, 5.0, 10.0, 5.0, 3.0, 8.0, 4.0, 8.0, 6.0, 7.0, 5.0, 6.0, 5.0, 3.0, 5.0, 3.0, 3.0, 4.0, 5.0, 5.0, 5.0, 6.0, 7.0, 6.0, 4.0, 5.0, 0.0, 7.0, 6.0, 7.0, 5.0, 4.0, 8.0, 6.0, 8.0, 8.0, 3.0, 4.0, 5.0, 6.0, 7.0, 6.0, 6.0, 9.0, 7.0, 6.0, 7.0, 6.0, 6.0, 6.0, 10.0, 3.0, 6.0, 4.0, 4.0, 7.0, 4.0, 4.0, 6.0, 5.0, 4.0, 2.0, 7.0, 8.0, 6.0, 6.0, 1.0, 5.0, 7.0, 8.0, 1.0, 3.0, 5.0, 7.0, 3.0, 4.0, 5.0, 3.0, 6.0, 5.0, 4.0, 7.0, 10.0, 7.0, 6.0, 3.0, 3.0, 3.0, 4.0, 2.0, 3.0, 3.0, 6.0, 5.0, 1.0, 6.0, 5.0, 7.0, 4.0, 3.0, 2.0, 7.0, 4.0, 3.0, 9.0, 4.0, 6.0, 6.0, 5.0, 4.0, 5.0, 2.0, 4.0, 9.0, 5.0, 7.0, 8.0, 3.0, 11.0, 5.0, 2.0, 5.0, 13.0, 4.0, 8.0, 5.0, 6.0, 5.0, 7.0, 3.0, 7.0, 3.0, 7.0, 7.0, 5.0, 11.0, 5.0, 3.0, 5.0, 3.0, 6.0, 4.0, 5.0, 7.0, 2.0, 2.0, 2.0, 4.0, 7.0, 7.0, 5.0, 4.0, 2.0, 2.0, 4.0, 6.0, 4.0, 4.0, 5.0, 5.0, 5.0, 4.0, 5.0, 4.0, 4.0, 3.0, 7.0, 3.0, 4.0, 3.0, 6.0, 3.0, 1.0, 6.0, 3.0, 3.0, 2.0, 3.0, 9.0, 5.0, 3.0, 6.0, 5.0, 6.0, 4.0, 4.0, 3.0, 5.0, 4.0, 7.0, 5.0, 6.0, 1.0, 5.0, 7.0, 4.0, 3.0, 4.0, 4.0, 4.0, 4.0, 5.0, 5.0, 7.0, 3.0, 9.0, 5.0, 5.0, 1.0, 5.0, 5.0, 4.0, 5.0, 6.0, 5.0, 4.0, 4.0, 2.0, 2.0, 1.0, 7.0, 5.0, 2.0, 3.0, 5.0, 3.0, 1.0, 4.0, 4.0, 3.0, 4.0, 1.0, 1.0, 4.0, 2.0, 0.0, 3.0, 4.0], \"name\": \"Handoffs\"}], {\"height\": 500, \"width\": 800, \"title\": \"Handoffs over time\", \"xaxis\": {\"title\": \"Episodes\"}, \"yaxis\": {\"title\": \"Handoffs\"}, \"showlegend\": true}, {\"showLink\": false, \"linkText\": null})});</script>"
      ]
     },
     "metadata": {},
     "output_type": "display_data"
    }
   ],
   "source": [
    "# Create handoff graph\n",
    "handoffs = go.Scatter(\n",
    "    x = len(result.Handoffs),\n",
    "    y = result.Handoffs,\n",
    "    name='Handoffs'\n",
    ")\n",
    "\n",
    "data = [handoffs]\n",
    "\n",
    "# Plot and embed in ipython notebook!\n",
    "plotly.offline.iplot(\n",
    "    {\"data\": data,\n",
    "     \"layout\": go.Layout(\n",
    "         height=500,\n",
    "         width=800,\n",
    "         title='Handoffs over time',\n",
    "         xaxis=dict(\n",
    "             title='Episodes',\n",
    "         ),\n",
    "         yaxis=dict(\n",
    "             title='Handoffs'\n",
    "         ), \n",
    "         showlegend=True)},\n",
    "    show_link=False,\n",
    "    link_text=None)\n"
   ]
  },
  {
   "cell_type": "code",
   "execution_count": 13,
   "metadata": {},
   "outputs": [
    {
     "data": {
      "application/vnd.plotly.v1+json": {
       "data": [
        {
         "name": "UE SLA",
         "type": "scatter",
         "x": 400,
         "y": [
          165,
          172,
          175,
          178,
          181,
          181,
          182,
          183,
          184,
          184,
          184,
          184,
          182,
          182,
          183,
          183,
          183,
          183,
          182,
          181,
          182,
          181,
          182,
          182,
          182,
          182,
          182,
          182,
          182,
          182,
          181,
          181,
          180,
          180,
          180,
          180,
          181,
          180,
          180,
          181,
          181,
          181,
          181,
          181,
          181,
          180,
          180,
          180,
          180,
          180,
          179,
          179,
          179,
          179,
          179,
          179,
          179,
          179,
          179,
          179,
          179,
          179,
          179,
          179,
          179,
          179,
          178,
          178,
          179,
          179,
          179,
          178,
          178,
          177,
          178,
          178,
          179,
          179,
          179,
          179,
          179,
          179,
          179,
          178,
          178,
          178,
          178,
          179,
          179,
          179,
          179,
          179,
          179,
          179,
          179,
          179,
          179,
          179,
          180,
          180,
          180,
          180,
          180,
          181,
          180,
          180,
          180,
          179,
          179,
          179,
          178,
          178,
          178,
          177,
          176,
          176,
          176,
          175,
          175,
          175,
          175,
          175,
          176,
          176,
          177,
          177,
          177,
          177,
          177,
          177,
          178,
          178,
          177,
          177,
          179,
          180,
          180,
          180,
          181,
          181,
          181,
          180,
          180,
          180,
          180,
          180,
          180,
          180,
          180,
          180,
          180,
          179,
          179,
          179,
          179,
          179,
          179,
          179,
          180,
          180,
          180,
          181,
          181,
          181,
          181,
          182,
          182,
          181,
          181,
          181,
          180,
          179,
          181,
          180,
          179,
          179,
          179,
          179,
          179,
          180,
          180,
          181,
          181,
          182,
          182,
          182,
          180,
          181,
          181,
          181,
          181,
          181,
          182,
          182,
          181,
          180,
          180,
          180,
          181,
          180,
          180,
          180,
          179,
          179,
          177,
          177,
          179,
          179,
          179,
          179,
          179,
          178,
          179,
          180,
          180,
          180,
          180,
          180,
          180,
          180,
          180,
          181,
          182,
          182,
          182,
          182,
          182,
          181,
          181,
          181,
          181,
          181,
          181,
          181,
          181,
          181,
          181,
          183,
          184,
          184,
          184,
          184,
          184,
          184,
          184,
          183,
          184,
          184,
          184,
          184,
          183,
          183,
          184,
          183,
          183,
          182,
          182,
          182,
          183,
          183,
          183,
          183,
          183,
          182,
          183,
          184,
          185,
          185,
          184,
          184,
          183,
          183,
          182,
          182,
          182,
          183,
          182,
          182,
          182,
          182,
          182,
          182,
          181,
          180,
          180,
          180,
          180,
          179,
          179,
          180,
          180,
          179,
          179,
          181,
          181,
          181,
          181,
          180,
          183,
          183,
          183,
          184,
          184,
          183,
          183,
          183,
          184,
          184,
          183,
          182,
          183,
          182,
          183,
          183,
          183,
          183,
          183,
          183,
          183,
          182,
          183,
          183,
          183,
          183,
          183,
          183,
          183,
          183,
          183,
          181,
          181,
          182,
          182,
          182,
          182,
          182,
          180,
          181,
          182,
          182,
          182,
          185,
          185,
          185,
          186,
          186,
          187,
          187,
          187,
          186,
          187,
          187,
          189,
          189,
          190,
          190,
          190,
          191,
          190,
          190,
          189,
          189,
          190,
          188,
          189,
          188,
          188,
          188,
          187,
          187,
          188,
          188,
          188,
          188,
          188,
          189,
          189,
          189,
          188,
          187,
          187,
          187,
          187,
          186,
          186,
          186,
          186,
          186,
          186,
          186,
          186,
          187,
          187,
          188,
          188,
          188,
          190,
          189,
          189,
          189
         ]
        }
       ],
       "layout": {
        "height": 500,
        "showlegend": true,
        "title": "UE's SLA over time",
        "width": 800,
        "xaxis": {
         "title": "Episodes"
        },
        "yaxis": {
         "title": "UE SLA"
        }
       }
      },
      "text/html": [
       "<div id=\"07c45e2d-1fac-49f4-a1e5-26f31ecb81a1\" style=\"height: 500px; width: 800px;\" class=\"plotly-graph-div\"></div><script type=\"text/javascript\">require([\"plotly\"], function(Plotly) { window.PLOTLYENV=window.PLOTLYENV || {};window.PLOTLYENV.BASE_URL=\"https://plot.ly\";Plotly.newPlot(\"07c45e2d-1fac-49f4-a1e5-26f31ecb81a1\", [{\"type\": \"scatter\", \"x\": 400, \"y\": [165.0, 172.0, 175.0, 178.0, 181.0, 181.0, 182.0, 183.0, 184.0, 184.0, 184.0, 184.0, 182.0, 182.0, 183.0, 183.0, 183.0, 183.0, 182.0, 181.0, 182.0, 181.0, 182.0, 182.0, 182.0, 182.0, 182.0, 182.0, 182.0, 182.0, 181.0, 181.0, 180.0, 180.0, 180.0, 180.0, 181.0, 180.0, 180.0, 181.0, 181.0, 181.0, 181.0, 181.0, 181.0, 180.0, 180.0, 180.0, 180.0, 180.0, 179.0, 179.0, 179.0, 179.0, 179.0, 179.0, 179.0, 179.0, 179.0, 179.0, 179.0, 179.0, 179.0, 179.0, 179.0, 179.0, 178.0, 178.0, 179.0, 179.0, 179.0, 178.0, 178.0, 177.0, 178.0, 178.0, 179.0, 179.0, 179.0, 179.0, 179.0, 179.0, 179.0, 178.0, 178.0, 178.0, 178.0, 179.0, 179.0, 179.0, 179.0, 179.0, 179.0, 179.0, 179.0, 179.0, 179.0, 179.0, 180.0, 180.0, 180.0, 180.0, 180.0, 181.0, 180.0, 180.0, 180.0, 179.0, 179.0, 179.0, 178.0, 178.0, 178.0, 177.0, 176.0, 176.0, 176.0, 175.0, 175.0, 175.0, 175.0, 175.0, 176.0, 176.0, 177.0, 177.0, 177.0, 177.0, 177.0, 177.0, 178.0, 178.0, 177.0, 177.0, 179.0, 180.0, 180.0, 180.0, 181.0, 181.0, 181.0, 180.0, 180.0, 180.0, 180.0, 180.0, 180.0, 180.0, 180.0, 180.0, 180.0, 179.0, 179.0, 179.0, 179.0, 179.0, 179.0, 179.0, 180.0, 180.0, 180.0, 181.0, 181.0, 181.0, 181.0, 182.0, 182.0, 181.0, 181.0, 181.0, 180.0, 179.0, 181.0, 180.0, 179.0, 179.0, 179.0, 179.0, 179.0, 180.0, 180.0, 181.0, 181.0, 182.0, 182.0, 182.0, 180.0, 181.0, 181.0, 181.0, 181.0, 181.0, 182.0, 182.0, 181.0, 180.0, 180.0, 180.0, 181.0, 180.0, 180.0, 180.0, 179.0, 179.0, 177.0, 177.0, 179.0, 179.0, 179.0, 179.0, 179.0, 178.0, 179.0, 180.0, 180.0, 180.0, 180.0, 180.0, 180.0, 180.0, 180.0, 181.0, 182.0, 182.0, 182.0, 182.0, 182.0, 181.0, 181.0, 181.0, 181.0, 181.0, 181.0, 181.0, 181.0, 181.0, 181.0, 183.0, 184.0, 184.0, 184.0, 184.0, 184.0, 184.0, 184.0, 183.0, 184.0, 184.0, 184.0, 184.0, 183.0, 183.0, 184.0, 183.0, 183.0, 182.0, 182.0, 182.0, 183.0, 183.0, 183.0, 183.0, 183.0, 182.0, 183.0, 184.0, 185.0, 185.0, 184.0, 184.0, 183.0, 183.0, 182.0, 182.0, 182.0, 183.0, 182.0, 182.0, 182.0, 182.0, 182.0, 182.0, 181.0, 180.0, 180.0, 180.0, 180.0, 179.0, 179.0, 180.0, 180.0, 179.0, 179.0, 181.0, 181.0, 181.0, 181.0, 180.0, 183.0, 183.0, 183.0, 184.0, 184.0, 183.0, 183.0, 183.0, 184.0, 184.0, 183.0, 182.0, 183.0, 182.0, 183.0, 183.0, 183.0, 183.0, 183.0, 183.0, 183.0, 182.0, 183.0, 183.0, 183.0, 183.0, 183.0, 183.0, 183.0, 183.0, 183.0, 181.0, 181.0, 182.0, 182.0, 182.0, 182.0, 182.0, 180.0, 181.0, 182.0, 182.0, 182.0, 185.0, 185.0, 185.0, 186.0, 186.0, 187.0, 187.0, 187.0, 186.0, 187.0, 187.0, 189.0, 189.0, 190.0, 190.0, 190.0, 191.0, 190.0, 190.0, 189.0, 189.0, 190.0, 188.0, 189.0, 188.0, 188.0, 188.0, 187.0, 187.0, 188.0, 188.0, 188.0, 188.0, 188.0, 189.0, 189.0, 189.0, 188.0, 187.0, 187.0, 187.0, 187.0, 186.0, 186.0, 186.0, 186.0, 186.0, 186.0, 186.0, 186.0, 187.0, 187.0, 188.0, 188.0, 188.0, 190.0, 189.0, 189.0, 189.0], \"name\": \"UE SLA\"}], {\"height\": 500, \"width\": 800, \"title\": \"UE's SLA over time\", \"xaxis\": {\"title\": \"Episodes\"}, \"yaxis\": {\"title\": \"UE SLA\"}, \"showlegend\": true}, {\"showLink\": false, \"linkText\": null})});</script>"
      ],
      "text/vnd.plotly.v1+html": [
       "<div id=\"07c45e2d-1fac-49f4-a1e5-26f31ecb81a1\" style=\"height: 500px; width: 800px;\" class=\"plotly-graph-div\"></div><script type=\"text/javascript\">require([\"plotly\"], function(Plotly) { window.PLOTLYENV=window.PLOTLYENV || {};window.PLOTLYENV.BASE_URL=\"https://plot.ly\";Plotly.newPlot(\"07c45e2d-1fac-49f4-a1e5-26f31ecb81a1\", [{\"type\": \"scatter\", \"x\": 400, \"y\": [165.0, 172.0, 175.0, 178.0, 181.0, 181.0, 182.0, 183.0, 184.0, 184.0, 184.0, 184.0, 182.0, 182.0, 183.0, 183.0, 183.0, 183.0, 182.0, 181.0, 182.0, 181.0, 182.0, 182.0, 182.0, 182.0, 182.0, 182.0, 182.0, 182.0, 181.0, 181.0, 180.0, 180.0, 180.0, 180.0, 181.0, 180.0, 180.0, 181.0, 181.0, 181.0, 181.0, 181.0, 181.0, 180.0, 180.0, 180.0, 180.0, 180.0, 179.0, 179.0, 179.0, 179.0, 179.0, 179.0, 179.0, 179.0, 179.0, 179.0, 179.0, 179.0, 179.0, 179.0, 179.0, 179.0, 178.0, 178.0, 179.0, 179.0, 179.0, 178.0, 178.0, 177.0, 178.0, 178.0, 179.0, 179.0, 179.0, 179.0, 179.0, 179.0, 179.0, 178.0, 178.0, 178.0, 178.0, 179.0, 179.0, 179.0, 179.0, 179.0, 179.0, 179.0, 179.0, 179.0, 179.0, 179.0, 180.0, 180.0, 180.0, 180.0, 180.0, 181.0, 180.0, 180.0, 180.0, 179.0, 179.0, 179.0, 178.0, 178.0, 178.0, 177.0, 176.0, 176.0, 176.0, 175.0, 175.0, 175.0, 175.0, 175.0, 176.0, 176.0, 177.0, 177.0, 177.0, 177.0, 177.0, 177.0, 178.0, 178.0, 177.0, 177.0, 179.0, 180.0, 180.0, 180.0, 181.0, 181.0, 181.0, 180.0, 180.0, 180.0, 180.0, 180.0, 180.0, 180.0, 180.0, 180.0, 180.0, 179.0, 179.0, 179.0, 179.0, 179.0, 179.0, 179.0, 180.0, 180.0, 180.0, 181.0, 181.0, 181.0, 181.0, 182.0, 182.0, 181.0, 181.0, 181.0, 180.0, 179.0, 181.0, 180.0, 179.0, 179.0, 179.0, 179.0, 179.0, 180.0, 180.0, 181.0, 181.0, 182.0, 182.0, 182.0, 180.0, 181.0, 181.0, 181.0, 181.0, 181.0, 182.0, 182.0, 181.0, 180.0, 180.0, 180.0, 181.0, 180.0, 180.0, 180.0, 179.0, 179.0, 177.0, 177.0, 179.0, 179.0, 179.0, 179.0, 179.0, 178.0, 179.0, 180.0, 180.0, 180.0, 180.0, 180.0, 180.0, 180.0, 180.0, 181.0, 182.0, 182.0, 182.0, 182.0, 182.0, 181.0, 181.0, 181.0, 181.0, 181.0, 181.0, 181.0, 181.0, 181.0, 181.0, 183.0, 184.0, 184.0, 184.0, 184.0, 184.0, 184.0, 184.0, 183.0, 184.0, 184.0, 184.0, 184.0, 183.0, 183.0, 184.0, 183.0, 183.0, 182.0, 182.0, 182.0, 183.0, 183.0, 183.0, 183.0, 183.0, 182.0, 183.0, 184.0, 185.0, 185.0, 184.0, 184.0, 183.0, 183.0, 182.0, 182.0, 182.0, 183.0, 182.0, 182.0, 182.0, 182.0, 182.0, 182.0, 181.0, 180.0, 180.0, 180.0, 180.0, 179.0, 179.0, 180.0, 180.0, 179.0, 179.0, 181.0, 181.0, 181.0, 181.0, 180.0, 183.0, 183.0, 183.0, 184.0, 184.0, 183.0, 183.0, 183.0, 184.0, 184.0, 183.0, 182.0, 183.0, 182.0, 183.0, 183.0, 183.0, 183.0, 183.0, 183.0, 183.0, 182.0, 183.0, 183.0, 183.0, 183.0, 183.0, 183.0, 183.0, 183.0, 183.0, 181.0, 181.0, 182.0, 182.0, 182.0, 182.0, 182.0, 180.0, 181.0, 182.0, 182.0, 182.0, 185.0, 185.0, 185.0, 186.0, 186.0, 187.0, 187.0, 187.0, 186.0, 187.0, 187.0, 189.0, 189.0, 190.0, 190.0, 190.0, 191.0, 190.0, 190.0, 189.0, 189.0, 190.0, 188.0, 189.0, 188.0, 188.0, 188.0, 187.0, 187.0, 188.0, 188.0, 188.0, 188.0, 188.0, 189.0, 189.0, 189.0, 188.0, 187.0, 187.0, 187.0, 187.0, 186.0, 186.0, 186.0, 186.0, 186.0, 186.0, 186.0, 186.0, 187.0, 187.0, 188.0, 188.0, 188.0, 190.0, 189.0, 189.0, 189.0], \"name\": \"UE SLA\"}], {\"height\": 500, \"width\": 800, \"title\": \"UE's SLA over time\", \"xaxis\": {\"title\": \"Episodes\"}, \"yaxis\": {\"title\": \"UE SLA\"}, \"showlegend\": true}, {\"showLink\": false, \"linkText\": null})});</script>"
      ]
     },
     "metadata": {},
     "output_type": "display_data"
    }
   ],
   "source": [
    "# Create UE graph\n",
    "ue_sla = go.Scatter(\n",
    "    x = len(result.Meets_SLA),\n",
    "    y = result.Meets_SLA,\n",
    "    name='UE SLA'\n",
    ")\n",
    "\n",
    "data = [ue_sla]\n",
    "\n",
    "# Plot and embed in ipython notebook!\n",
    "plotly.offline.iplot(\n",
    "    {\"data\": data,\n",
    "     \"layout\": go.Layout(\n",
    "         height=500,\n",
    "         width=800,\n",
    "         title=\"UE's SLA over time\",\n",
    "         xaxis=dict(\n",
    "             title='Episodes',\n",
    "         ),\n",
    "         yaxis=dict(\n",
    "             title='UE SLA'\n",
    "         ), \n",
    "         showlegend=True)},\n",
    "    show_link=False,\n",
    "    link_text=None)"
   ]
  },
  {
   "cell_type": "code",
   "execution_count": null,
   "metadata": {},
   "outputs": [],
   "source": []
  }
 ],
 "metadata": {
  "kernelspec": {
   "display_name": "Python 3",
   "language": "python",
   "name": "python3"
  },
  "language_info": {
   "codemirror_mode": {
    "name": "ipython",
    "version": 3
   },
   "file_extension": ".py",
   "mimetype": "text/x-python",
   "name": "python",
   "nbconvert_exporter": "python",
   "pygments_lexer": "ipython3",
   "version": "3.6.4"
  },
  "widgets": {
   "application/vnd.jupyter.widget-state+json": {
    "state": {},
    "version_major": 2,
    "version_minor": 0
   }
  }
 },
 "nbformat": 4,
 "nbformat_minor": 2
}
